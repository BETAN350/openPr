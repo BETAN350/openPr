{
 "cells": [
  {
   "cell_type": "markdown",
   "metadata": {
    "id": "sIfNaMOxgFyK"
   },
   "source": [
    "## Исследование данных о российском кинопрокате\n",
    "\n"
   ]
  },
  {
   "cell_type": "markdown",
   "metadata": {},
   "source": [
    "Заказчик этого исследования — Министерство культуры Российской Федерации. \n",
    "нужно изучить рынок российского кинопроката и выявить текущие тренды. \n",
    "Уделив внимание фильмам, которые получили государственную поддержку. "
   ]
  },
  {
   "cell_type": "markdown",
   "metadata": {
    "id": "3bSlkCsbgFyL"
   },
   "source": [
    "### Шаг 1. Откройте файлы с данными и объедините их в один датафрейм. \n",
    "\n",
    "Объедините данные таким образом, чтобы все объекты из датасета `mkrf_movies` обязательно вошли в получившийся датафрейм. \n",
    "\n",
    "<div id=\"accordion\">\n",
    "    <div class=\"card\">\n",
    "        <div class=\"card-header\" id=\"headingThree\">\n",
    "            <button class=\"btn btn-link collapsed\" data-toggle=\"collapse\" data-target=\"#collapseHint_0\" aria-expanded=\"false\" aria-controls=\"collapseHint_0\">Подсказка</button>\n",
    "        </div>\n",
    "        <div id=\"collapseHint_0\" class=\"collapse\" aria-labelledby=\"headingThree\" data-parent=\"#accordion\">\n",
    "            <div class=\"card-body\">\n",
    "Обратите внимание на тип данных столбца, по которому будете соединять датафреймы. Тип данных этих столбцов должен быть одинаковым в обоих датафреймах.\n",
    "            </div>\n",
    "        </div>\n",
    "    </div>\n",
    "</div>"
   ]
  },
  {
   "cell_type": "code",
   "execution_count": 1,
   "metadata": {
    "id": "dw87FlzMgFyM"
   },
   "outputs": [],
   "source": [
    "import pandas as pd\n",
    "\n",
    "data=pd.read_csv('/datasets/mkrf_movies.csv')"
   ]
  },
  {
   "cell_type": "code",
   "execution_count": 2,
   "metadata": {},
   "outputs": [
    {
     "data": {
      "text/html": [
       "<div>\n",
       "<style scoped>\n",
       "    .dataframe tbody tr th:only-of-type {\n",
       "        vertical-align: middle;\n",
       "    }\n",
       "\n",
       "    .dataframe tbody tr th {\n",
       "        vertical-align: top;\n",
       "    }\n",
       "\n",
       "    .dataframe thead th {\n",
       "        text-align: right;\n",
       "    }\n",
       "</style>\n",
       "<table border=\"1\" class=\"dataframe\">\n",
       "  <thead>\n",
       "    <tr style=\"text-align: right;\">\n",
       "      <th></th>\n",
       "      <th>title</th>\n",
       "      <th>puNumber</th>\n",
       "      <th>show_start_date</th>\n",
       "      <th>type</th>\n",
       "      <th>film_studio</th>\n",
       "      <th>production_country</th>\n",
       "      <th>director</th>\n",
       "      <th>producer</th>\n",
       "      <th>age_restriction</th>\n",
       "      <th>refundable_support</th>\n",
       "      <th>nonrefundable_support</th>\n",
       "      <th>budget</th>\n",
       "      <th>financing_source</th>\n",
       "      <th>ratings</th>\n",
       "      <th>genres</th>\n",
       "    </tr>\n",
       "  </thead>\n",
       "  <tbody>\n",
       "    <tr>\n",
       "      <th>0</th>\n",
       "      <td>Открытый простор</td>\n",
       "      <td>221048915</td>\n",
       "      <td>2015-11-27T12:00:00.000Z</td>\n",
       "      <td>Художественный</td>\n",
       "      <td>Тачстоун Пикчерз, Кобальт Пикчерз, Бикон Пикче...</td>\n",
       "      <td>США</td>\n",
       "      <td>Кевин Костнер</td>\n",
       "      <td>Дэвид Валдес, Кевин Костнер, Джейк Эбертс</td>\n",
       "      <td>«18+» - запрещено для детей</td>\n",
       "      <td>NaN</td>\n",
       "      <td>NaN</td>\n",
       "      <td>NaN</td>\n",
       "      <td>NaN</td>\n",
       "      <td>7.2</td>\n",
       "      <td>боевик,драма,мелодрама</td>\n",
       "    </tr>\n",
       "    <tr>\n",
       "      <th>1</th>\n",
       "      <td>Особо важное задание</td>\n",
       "      <td>111013716</td>\n",
       "      <td>2016-09-13T12:00:00.000Z</td>\n",
       "      <td>Художественный</td>\n",
       "      <td>Киностудия \"Мосфильм\"</td>\n",
       "      <td>СССР</td>\n",
       "      <td>Е.Матвеев</td>\n",
       "      <td>NaN</td>\n",
       "      <td>«6+» - для детей старше 6 лет</td>\n",
       "      <td>NaN</td>\n",
       "      <td>NaN</td>\n",
       "      <td>NaN</td>\n",
       "      <td>NaN</td>\n",
       "      <td>6.6</td>\n",
       "      <td>драма,военный</td>\n",
       "    </tr>\n",
       "    <tr>\n",
       "      <th>2</th>\n",
       "      <td>Особо опасен</td>\n",
       "      <td>221038416</td>\n",
       "      <td>2016-10-10T12:00:00.000Z</td>\n",
       "      <td>Художественный</td>\n",
       "      <td>Юниверсал Пикчерз, Кикстарт Продакшнз, Марк Пл...</td>\n",
       "      <td>США</td>\n",
       "      <td>Тимур Бекмамбетов</td>\n",
       "      <td>Джим Лемли, Джейсон Нетер, Марк Е.Платт, Яйн Смит</td>\n",
       "      <td>«18+» - запрещено для детей</td>\n",
       "      <td>NaN</td>\n",
       "      <td>NaN</td>\n",
       "      <td>NaN</td>\n",
       "      <td>NaN</td>\n",
       "      <td>6.8</td>\n",
       "      <td>фантастика,боевик,триллер</td>\n",
       "    </tr>\n",
       "    <tr>\n",
       "      <th>3</th>\n",
       "      <td>Особо опасен</td>\n",
       "      <td>221026916</td>\n",
       "      <td>2016-06-10T12:00:00.000Z</td>\n",
       "      <td>Художественный</td>\n",
       "      <td>Юниверсал Пикчерз, Кикстарт Продакшнз, Марк Пл...</td>\n",
       "      <td>США</td>\n",
       "      <td>Тимур Бекмамбетов</td>\n",
       "      <td>Джим Лемли, Джейсон Нетер, Марк Е.Платт, Яйн Смит</td>\n",
       "      <td>«18+» - запрещено для детей</td>\n",
       "      <td>NaN</td>\n",
       "      <td>NaN</td>\n",
       "      <td>NaN</td>\n",
       "      <td>NaN</td>\n",
       "      <td>6.8</td>\n",
       "      <td>фантастика,боевик,триллер</td>\n",
       "    </tr>\n",
       "    <tr>\n",
       "      <th>4</th>\n",
       "      <td>Особо опасен</td>\n",
       "      <td>221030815</td>\n",
       "      <td>2015-07-29T12:00:00.000Z</td>\n",
       "      <td>Художественный</td>\n",
       "      <td>Юниверсал Пикчерз, Кикстарт Продакшнз, Марк Пл...</td>\n",
       "      <td>США</td>\n",
       "      <td>Тимур Бекмамбетов</td>\n",
       "      <td>Джим Лемли, Джейсон Нетер, Марк Е.Платт, Яйн Смит</td>\n",
       "      <td>«18+» - запрещено для детей</td>\n",
       "      <td>NaN</td>\n",
       "      <td>NaN</td>\n",
       "      <td>NaN</td>\n",
       "      <td>NaN</td>\n",
       "      <td>6.8</td>\n",
       "      <td>фантастика,боевик,триллер</td>\n",
       "    </tr>\n",
       "  </tbody>\n",
       "</table>\n",
       "</div>"
      ],
      "text/plain": [
       "                  title   puNumber           show_start_date            type  \\\n",
       "0      Открытый простор  221048915  2015-11-27T12:00:00.000Z  Художественный   \n",
       "1  Особо важное задание  111013716  2016-09-13T12:00:00.000Z  Художественный   \n",
       "2          Особо опасен  221038416  2016-10-10T12:00:00.000Z  Художественный   \n",
       "3          Особо опасен  221026916  2016-06-10T12:00:00.000Z  Художественный   \n",
       "4          Особо опасен  221030815  2015-07-29T12:00:00.000Z  Художественный   \n",
       "\n",
       "                                         film_studio production_country  \\\n",
       "0  Тачстоун Пикчерз, Кобальт Пикчерз, Бикон Пикче...                США   \n",
       "1                              Киностудия \"Мосфильм\"               СССР   \n",
       "2  Юниверсал Пикчерз, Кикстарт Продакшнз, Марк Пл...                США   \n",
       "3  Юниверсал Пикчерз, Кикстарт Продакшнз, Марк Пл...                США   \n",
       "4  Юниверсал Пикчерз, Кикстарт Продакшнз, Марк Пл...                США   \n",
       "\n",
       "            director                                           producer  \\\n",
       "0      Кевин Костнер          Дэвид Валдес, Кевин Костнер, Джейк Эбертс   \n",
       "1          Е.Матвеев                                                NaN   \n",
       "2  Тимур Бекмамбетов  Джим Лемли, Джейсон Нетер, Марк Е.Платт, Яйн Смит   \n",
       "3  Тимур Бекмамбетов  Джим Лемли, Джейсон Нетер, Марк Е.Платт, Яйн Смит   \n",
       "4  Тимур Бекмамбетов  Джим Лемли, Джейсон Нетер, Марк Е.Платт, Яйн Смит   \n",
       "\n",
       "                 age_restriction  refundable_support  nonrefundable_support  \\\n",
       "0    «18+» - запрещено для детей                 NaN                    NaN   \n",
       "1  «6+» - для детей старше 6 лет                 NaN                    NaN   \n",
       "2    «18+» - запрещено для детей                 NaN                    NaN   \n",
       "3    «18+» - запрещено для детей                 NaN                    NaN   \n",
       "4    «18+» - запрещено для детей                 NaN                    NaN   \n",
       "\n",
       "   budget financing_source ratings                     genres  \n",
       "0     NaN              NaN     7.2     боевик,драма,мелодрама  \n",
       "1     NaN              NaN     6.6              драма,военный  \n",
       "2     NaN              NaN     6.8  фантастика,боевик,триллер  \n",
       "3     NaN              NaN     6.8  фантастика,боевик,триллер  \n",
       "4     NaN              NaN     6.8  фантастика,боевик,триллер  "
      ]
     },
     "execution_count": 2,
     "metadata": {},
     "output_type": "execute_result"
    }
   ],
   "source": [
    "data.head()"
   ]
  },
  {
   "cell_type": "code",
   "execution_count": 3,
   "metadata": {},
   "outputs": [
    {
     "name": "stdout",
     "output_type": "stream",
     "text": [
      "<class 'pandas.core.frame.DataFrame'>\n",
      "RangeIndex: 7486 entries, 0 to 7485\n",
      "Data columns (total 15 columns):\n",
      " #   Column                 Non-Null Count  Dtype  \n",
      "---  ------                 --------------  -----  \n",
      " 0   title                  7486 non-null   object \n",
      " 1   puNumber               7486 non-null   object \n",
      " 2   show_start_date        7486 non-null   object \n",
      " 3   type                   7486 non-null   object \n",
      " 4   film_studio            7468 non-null   object \n",
      " 5   production_country     7484 non-null   object \n",
      " 6   director               7477 non-null   object \n",
      " 7   producer               6918 non-null   object \n",
      " 8   age_restriction        7486 non-null   object \n",
      " 9   refundable_support     332 non-null    float64\n",
      " 10  nonrefundable_support  332 non-null    float64\n",
      " 11  budget                 332 non-null    float64\n",
      " 12  financing_source       332 non-null    object \n",
      " 13  ratings                6519 non-null   object \n",
      " 14  genres                 6510 non-null   object \n",
      "dtypes: float64(3), object(12)\n",
      "memory usage: 877.4+ KB\n"
     ]
    }
   ],
   "source": [
    "data.info()"
   ]
  },
  {
   "cell_type": "markdown",
   "metadata": {},
   "source": [
    "открыли датафрейм mkrf_movies и сохранили его в data_, узнали тип данных столбцов"
   ]
  },
  {
   "cell_type": "code",
   "execution_count": 4,
   "metadata": {},
   "outputs": [],
   "source": [
    "data_pr=pd.read_csv('/datasets/mkrf_shows.csv')"
   ]
  },
  {
   "cell_type": "code",
   "execution_count": 5,
   "metadata": {},
   "outputs": [
    {
     "data": {
      "text/html": [
       "<div>\n",
       "<style scoped>\n",
       "    .dataframe tbody tr th:only-of-type {\n",
       "        vertical-align: middle;\n",
       "    }\n",
       "\n",
       "    .dataframe tbody tr th {\n",
       "        vertical-align: top;\n",
       "    }\n",
       "\n",
       "    .dataframe thead th {\n",
       "        text-align: right;\n",
       "    }\n",
       "</style>\n",
       "<table border=\"1\" class=\"dataframe\">\n",
       "  <thead>\n",
       "    <tr style=\"text-align: right;\">\n",
       "      <th></th>\n",
       "      <th>puNumber</th>\n",
       "      <th>box_office</th>\n",
       "    </tr>\n",
       "  </thead>\n",
       "  <tbody>\n",
       "    <tr>\n",
       "      <th>0</th>\n",
       "      <td>111000113</td>\n",
       "      <td>2.450000e+03</td>\n",
       "    </tr>\n",
       "    <tr>\n",
       "      <th>1</th>\n",
       "      <td>111000115</td>\n",
       "      <td>6.104000e+04</td>\n",
       "    </tr>\n",
       "    <tr>\n",
       "      <th>2</th>\n",
       "      <td>111000116</td>\n",
       "      <td>1.530300e+08</td>\n",
       "    </tr>\n",
       "    <tr>\n",
       "      <th>3</th>\n",
       "      <td>111000117</td>\n",
       "      <td>1.226096e+07</td>\n",
       "    </tr>\n",
       "    <tr>\n",
       "      <th>4</th>\n",
       "      <td>111000118</td>\n",
       "      <td>1.636841e+08</td>\n",
       "    </tr>\n",
       "  </tbody>\n",
       "</table>\n",
       "</div>"
      ],
      "text/plain": [
       "    puNumber    box_office\n",
       "0  111000113  2.450000e+03\n",
       "1  111000115  6.104000e+04\n",
       "2  111000116  1.530300e+08\n",
       "3  111000117  1.226096e+07\n",
       "4  111000118  1.636841e+08"
      ]
     },
     "execution_count": 5,
     "metadata": {},
     "output_type": "execute_result"
    }
   ],
   "source": [
    "data_pr.head()"
   ]
  },
  {
   "cell_type": "code",
   "execution_count": 6,
   "metadata": {},
   "outputs": [
    {
     "name": "stdout",
     "output_type": "stream",
     "text": [
      "<class 'pandas.core.frame.DataFrame'>\n",
      "RangeIndex: 3158 entries, 0 to 3157\n",
      "Data columns (total 2 columns):\n",
      " #   Column      Non-Null Count  Dtype  \n",
      "---  ------      --------------  -----  \n",
      " 0   puNumber    3158 non-null   int64  \n",
      " 1   box_office  3158 non-null   float64\n",
      "dtypes: float64(1), int64(1)\n",
      "memory usage: 49.5 KB\n"
     ]
    }
   ],
   "source": [
    "data_pr.info()"
   ]
  },
  {
   "cell_type": "markdown",
   "metadata": {},
   "source": [
    "открыли датафрейм mkrf_shows.csv и сохранили его в data_pr, узнали тип данных столбцов"
   ]
  },
  {
   "cell_type": "code",
   "execution_count": 7,
   "metadata": {},
   "outputs": [],
   "source": [
    "data[data['puNumber'] == \"нет\"] =  0"
   ]
  },
  {
   "cell_type": "code",
   "execution_count": 8,
   "metadata": {},
   "outputs": [],
   "source": [
    "data['puNumber'] = data['puNumber'].astype('int')"
   ]
  },
  {
   "cell_type": "code",
   "execution_count": 9,
   "metadata": {},
   "outputs": [
    {
     "data": {
      "text/plain": [
       "puNumber      0\n",
       "box_office    0\n",
       "dtype: int64"
      ]
     },
     "execution_count": 9,
     "metadata": {},
     "output_type": "execute_result"
    }
   ],
   "source": [
    "data_pr.query('puNumber == 0').count()"
   ]
  },
  {
   "cell_type": "markdown",
   "metadata": {},
   "source": [
    " заменил значение в puNumber датафрейма data, равное \"нет\" на 0, для дальнейшего приведения типа puNumber в int. убедился что в data_pr нет puNumber == 0 "
   ]
  },
  {
   "cell_type": "code",
   "execution_count": 10,
   "metadata": {},
   "outputs": [],
   "source": [
    "data=data.merge(data_pr, on='puNumber', how='left')"
   ]
  },
  {
   "cell_type": "code",
   "execution_count": 11,
   "metadata": {},
   "outputs": [
    {
     "name": "stdout",
     "output_type": "stream",
     "text": [
      "<class 'pandas.core.frame.DataFrame'>\n",
      "Int64Index: 7486 entries, 0 to 7485\n",
      "Data columns (total 16 columns):\n",
      " #   Column                 Non-Null Count  Dtype  \n",
      "---  ------                 --------------  -----  \n",
      " 0   title                  7486 non-null   object \n",
      " 1   puNumber               7486 non-null   int64  \n",
      " 2   show_start_date        7486 non-null   object \n",
      " 3   type                   7486 non-null   object \n",
      " 4   film_studio            7468 non-null   object \n",
      " 5   production_country     7484 non-null   object \n",
      " 6   director               7477 non-null   object \n",
      " 7   producer               6918 non-null   object \n",
      " 8   age_restriction        7486 non-null   object \n",
      " 9   refundable_support     333 non-null    float64\n",
      " 10  nonrefundable_support  333 non-null    float64\n",
      " 11  budget                 333 non-null    float64\n",
      " 12  financing_source       333 non-null    object \n",
      " 13  ratings                6520 non-null   object \n",
      " 14  genres                 6511 non-null   object \n",
      " 15  box_office             3158 non-null   float64\n",
      "dtypes: float64(4), int64(1), object(11)\n",
      "memory usage: 994.2+ KB\n"
     ]
    }
   ],
   "source": [
    "data.info()"
   ]
  },
  {
   "cell_type": "code",
   "execution_count": 12,
   "metadata": {},
   "outputs": [
    {
     "data": {
      "text/html": [
       "<div>\n",
       "<style scoped>\n",
       "    .dataframe tbody tr th:only-of-type {\n",
       "        vertical-align: middle;\n",
       "    }\n",
       "\n",
       "    .dataframe tbody tr th {\n",
       "        vertical-align: top;\n",
       "    }\n",
       "\n",
       "    .dataframe thead th {\n",
       "        text-align: right;\n",
       "    }\n",
       "</style>\n",
       "<table border=\"1\" class=\"dataframe\">\n",
       "  <thead>\n",
       "    <tr style=\"text-align: right;\">\n",
       "      <th></th>\n",
       "      <th>title</th>\n",
       "      <th>puNumber</th>\n",
       "      <th>show_start_date</th>\n",
       "      <th>type</th>\n",
       "      <th>film_studio</th>\n",
       "      <th>production_country</th>\n",
       "      <th>director</th>\n",
       "      <th>producer</th>\n",
       "      <th>age_restriction</th>\n",
       "      <th>refundable_support</th>\n",
       "      <th>nonrefundable_support</th>\n",
       "      <th>budget</th>\n",
       "      <th>financing_source</th>\n",
       "      <th>ratings</th>\n",
       "      <th>genres</th>\n",
       "      <th>box_office</th>\n",
       "    </tr>\n",
       "  </thead>\n",
       "  <tbody>\n",
       "    <tr>\n",
       "      <th>0</th>\n",
       "      <td>Открытый простор</td>\n",
       "      <td>221048915</td>\n",
       "      <td>2015-11-27T12:00:00.000Z</td>\n",
       "      <td>Художественный</td>\n",
       "      <td>Тачстоун Пикчерз, Кобальт Пикчерз, Бикон Пикче...</td>\n",
       "      <td>США</td>\n",
       "      <td>Кевин Костнер</td>\n",
       "      <td>Дэвид Валдес, Кевин Костнер, Джейк Эбертс</td>\n",
       "      <td>«18+» - запрещено для детей</td>\n",
       "      <td>NaN</td>\n",
       "      <td>NaN</td>\n",
       "      <td>NaN</td>\n",
       "      <td>NaN</td>\n",
       "      <td>7.2</td>\n",
       "      <td>боевик,драма,мелодрама</td>\n",
       "      <td>NaN</td>\n",
       "    </tr>\n",
       "    <tr>\n",
       "      <th>1</th>\n",
       "      <td>Особо важное задание</td>\n",
       "      <td>111013716</td>\n",
       "      <td>2016-09-13T12:00:00.000Z</td>\n",
       "      <td>Художественный</td>\n",
       "      <td>Киностудия \"Мосфильм\"</td>\n",
       "      <td>СССР</td>\n",
       "      <td>Е.Матвеев</td>\n",
       "      <td>NaN</td>\n",
       "      <td>«6+» - для детей старше 6 лет</td>\n",
       "      <td>NaN</td>\n",
       "      <td>NaN</td>\n",
       "      <td>NaN</td>\n",
       "      <td>NaN</td>\n",
       "      <td>6.6</td>\n",
       "      <td>драма,военный</td>\n",
       "      <td>NaN</td>\n",
       "    </tr>\n",
       "    <tr>\n",
       "      <th>2</th>\n",
       "      <td>Особо опасен</td>\n",
       "      <td>221038416</td>\n",
       "      <td>2016-10-10T12:00:00.000Z</td>\n",
       "      <td>Художественный</td>\n",
       "      <td>Юниверсал Пикчерз, Кикстарт Продакшнз, Марк Пл...</td>\n",
       "      <td>США</td>\n",
       "      <td>Тимур Бекмамбетов</td>\n",
       "      <td>Джим Лемли, Джейсон Нетер, Марк Е.Платт, Яйн Смит</td>\n",
       "      <td>«18+» - запрещено для детей</td>\n",
       "      <td>NaN</td>\n",
       "      <td>NaN</td>\n",
       "      <td>NaN</td>\n",
       "      <td>NaN</td>\n",
       "      <td>6.8</td>\n",
       "      <td>фантастика,боевик,триллер</td>\n",
       "      <td>NaN</td>\n",
       "    </tr>\n",
       "    <tr>\n",
       "      <th>3</th>\n",
       "      <td>Особо опасен</td>\n",
       "      <td>221026916</td>\n",
       "      <td>2016-06-10T12:00:00.000Z</td>\n",
       "      <td>Художественный</td>\n",
       "      <td>Юниверсал Пикчерз, Кикстарт Продакшнз, Марк Пл...</td>\n",
       "      <td>США</td>\n",
       "      <td>Тимур Бекмамбетов</td>\n",
       "      <td>Джим Лемли, Джейсон Нетер, Марк Е.Платт, Яйн Смит</td>\n",
       "      <td>«18+» - запрещено для детей</td>\n",
       "      <td>NaN</td>\n",
       "      <td>NaN</td>\n",
       "      <td>NaN</td>\n",
       "      <td>NaN</td>\n",
       "      <td>6.8</td>\n",
       "      <td>фантастика,боевик,триллер</td>\n",
       "      <td>NaN</td>\n",
       "    </tr>\n",
       "    <tr>\n",
       "      <th>4</th>\n",
       "      <td>Особо опасен</td>\n",
       "      <td>221030815</td>\n",
       "      <td>2015-07-29T12:00:00.000Z</td>\n",
       "      <td>Художественный</td>\n",
       "      <td>Юниверсал Пикчерз, Кикстарт Продакшнз, Марк Пл...</td>\n",
       "      <td>США</td>\n",
       "      <td>Тимур Бекмамбетов</td>\n",
       "      <td>Джим Лемли, Джейсон Нетер, Марк Е.Платт, Яйн Смит</td>\n",
       "      <td>«18+» - запрещено для детей</td>\n",
       "      <td>NaN</td>\n",
       "      <td>NaN</td>\n",
       "      <td>NaN</td>\n",
       "      <td>NaN</td>\n",
       "      <td>6.8</td>\n",
       "      <td>фантастика,боевик,триллер</td>\n",
       "      <td>NaN</td>\n",
       "    </tr>\n",
       "  </tbody>\n",
       "</table>\n",
       "</div>"
      ],
      "text/plain": [
       "                  title   puNumber           show_start_date            type  \\\n",
       "0      Открытый простор  221048915  2015-11-27T12:00:00.000Z  Художественный   \n",
       "1  Особо важное задание  111013716  2016-09-13T12:00:00.000Z  Художественный   \n",
       "2          Особо опасен  221038416  2016-10-10T12:00:00.000Z  Художественный   \n",
       "3          Особо опасен  221026916  2016-06-10T12:00:00.000Z  Художественный   \n",
       "4          Особо опасен  221030815  2015-07-29T12:00:00.000Z  Художественный   \n",
       "\n",
       "                                         film_studio production_country  \\\n",
       "0  Тачстоун Пикчерз, Кобальт Пикчерз, Бикон Пикче...                США   \n",
       "1                              Киностудия \"Мосфильм\"               СССР   \n",
       "2  Юниверсал Пикчерз, Кикстарт Продакшнз, Марк Пл...                США   \n",
       "3  Юниверсал Пикчерз, Кикстарт Продакшнз, Марк Пл...                США   \n",
       "4  Юниверсал Пикчерз, Кикстарт Продакшнз, Марк Пл...                США   \n",
       "\n",
       "            director                                           producer  \\\n",
       "0      Кевин Костнер          Дэвид Валдес, Кевин Костнер, Джейк Эбертс   \n",
       "1          Е.Матвеев                                                NaN   \n",
       "2  Тимур Бекмамбетов  Джим Лемли, Джейсон Нетер, Марк Е.Платт, Яйн Смит   \n",
       "3  Тимур Бекмамбетов  Джим Лемли, Джейсон Нетер, Марк Е.Платт, Яйн Смит   \n",
       "4  Тимур Бекмамбетов  Джим Лемли, Джейсон Нетер, Марк Е.Платт, Яйн Смит   \n",
       "\n",
       "                 age_restriction  refundable_support  nonrefundable_support  \\\n",
       "0    «18+» - запрещено для детей                 NaN                    NaN   \n",
       "1  «6+» - для детей старше 6 лет                 NaN                    NaN   \n",
       "2    «18+» - запрещено для детей                 NaN                    NaN   \n",
       "3    «18+» - запрещено для детей                 NaN                    NaN   \n",
       "4    «18+» - запрещено для детей                 NaN                    NaN   \n",
       "\n",
       "   budget financing_source ratings                     genres  box_office  \n",
       "0     NaN              NaN     7.2     боевик,драма,мелодрама         NaN  \n",
       "1     NaN              NaN     6.6              драма,военный         NaN  \n",
       "2     NaN              NaN     6.8  фантастика,боевик,триллер         NaN  \n",
       "3     NaN              NaN     6.8  фантастика,боевик,триллер         NaN  \n",
       "4     NaN              NaN     6.8  фантастика,боевик,триллер         NaN  "
      ]
     },
     "execution_count": 12,
     "metadata": {},
     "output_type": "execute_result"
    }
   ],
   "source": [
    "data.head()"
   ]
  },
  {
   "cell_type": "markdown",
   "metadata": {},
   "source": [
    "Наша новая объединенная таблица"
   ]
  },
  {
   "cell_type": "markdown",
   "metadata": {
    "id": "KLDGpPG0gFyM"
   },
   "source": [
    "### Шаг 2. Предобработка данных"
   ]
  },
  {
   "cell_type": "markdown",
   "metadata": {
    "id": "ssWwKXsxgFyO"
   },
   "source": [
    "#### Шаг 2.1. Проверьте типы данных\n",
    "\n",
    "- Проверьте типы данных в датафрейме и преобразуйте их там, где это необходимо."
   ]
  },
  {
   "cell_type": "code",
   "execution_count": 13,
   "metadata": {
    "id": "kVGSplJOgFyO"
   },
   "outputs": [
    {
     "name": "stdout",
     "output_type": "stream",
     "text": [
      "<class 'pandas.core.frame.DataFrame'>\n",
      "Int64Index: 7486 entries, 0 to 7485\n",
      "Data columns (total 16 columns):\n",
      " #   Column                 Non-Null Count  Dtype  \n",
      "---  ------                 --------------  -----  \n",
      " 0   title                  7486 non-null   object \n",
      " 1   puNumber               7486 non-null   int64  \n",
      " 2   show_start_date        7486 non-null   object \n",
      " 3   type                   7486 non-null   object \n",
      " 4   film_studio            7468 non-null   object \n",
      " 5   production_country     7484 non-null   object \n",
      " 6   director               7477 non-null   object \n",
      " 7   producer               6918 non-null   object \n",
      " 8   age_restriction        7486 non-null   object \n",
      " 9   refundable_support     333 non-null    float64\n",
      " 10  nonrefundable_support  333 non-null    float64\n",
      " 11  budget                 333 non-null    float64\n",
      " 12  financing_source       333 non-null    object \n",
      " 13  ratings                6520 non-null   object \n",
      " 14  genres                 6511 non-null   object \n",
      " 15  box_office             3158 non-null   float64\n",
      "dtypes: float64(4), int64(1), object(11)\n",
      "memory usage: 994.2+ KB\n"
     ]
    }
   ],
   "source": [
    "data.info()"
   ]
  },
  {
   "cell_type": "code",
   "execution_count": 14,
   "metadata": {},
   "outputs": [
    {
     "data": {
      "text/plain": [
       "2010-12-17T12:00:00.000Z    96\n",
       "2014-12-01T12:00:00.000Z    71\n",
       "2014-12-24T12:00:00.000Z    61\n",
       "2016-06-07T12:00:00.000Z    41\n",
       "2013-12-19T12:00:00.000Z    39\n",
       "                            ..\n",
       "2010-10-21T12:00:00.000Z     1\n",
       "2019-02-18T12:00:00.000Z     1\n",
       "2015-07-02T12:00:00.000Z     1\n",
       "2018-12-14T12:00:00.000Z     1\n",
       "2014-07-23T12:00:00.000Z     1\n",
       "Name: show_start_date, Length: 1965, dtype: int64"
      ]
     },
     "execution_count": 14,
     "metadata": {},
     "output_type": "execute_result"
    }
   ],
   "source": [
    "data['show_start_date'].value_counts()"
   ]
  },
  {
   "cell_type": "markdown",
   "metadata": {},
   "source": [
    "Преобразуем show_start_date в формат даты, ratings - в float"
   ]
  },
  {
   "cell_type": "code",
   "execution_count": 15,
   "metadata": {},
   "outputs": [],
   "source": [
    "data.loc[data['show_start_date'] == \"Прочие\",'show_start_date'] = \"1800-1-1T12:00:00.000Z\""
   ]
  },
  {
   "cell_type": "code",
   "execution_count": null,
   "metadata": {},
   "outputs": [],
   "source": [
    "\n"
   ]
  },
  {
   "cell_type": "code",
   "execution_count": 16,
   "metadata": {},
   "outputs": [],
   "source": [
    "data['show_start_date'] = pd.to_datetime(data['show_start_date'], utc=True)"
   ]
  },
  {
   "cell_type": "code",
   "execution_count": 17,
   "metadata": {},
   "outputs": [
    {
     "name": "stdout",
     "output_type": "stream",
     "text": [
      "<class 'pandas.core.frame.DataFrame'>\n",
      "Int64Index: 7486 entries, 0 to 7485\n",
      "Data columns (total 16 columns):\n",
      " #   Column                 Non-Null Count  Dtype              \n",
      "---  ------                 --------------  -----              \n",
      " 0   title                  7486 non-null   object             \n",
      " 1   puNumber               7486 non-null   int64              \n",
      " 2   show_start_date        7486 non-null   datetime64[ns, UTC]\n",
      " 3   type                   7486 non-null   object             \n",
      " 4   film_studio            7468 non-null   object             \n",
      " 5   production_country     7484 non-null   object             \n",
      " 6   director               7477 non-null   object             \n",
      " 7   producer               6918 non-null   object             \n",
      " 8   age_restriction        7486 non-null   object             \n",
      " 9   refundable_support     333 non-null    float64            \n",
      " 10  nonrefundable_support  333 non-null    float64            \n",
      " 11  budget                 333 non-null    float64            \n",
      " 12  financing_source       333 non-null    object             \n",
      " 13  ratings                6520 non-null   object             \n",
      " 14  genres                 6511 non-null   object             \n",
      " 15  box_office             3158 non-null   float64            \n",
      "dtypes: datetime64[ns, UTC](1), float64(4), int64(1), object(10)\n",
      "memory usage: 994.2+ KB\n"
     ]
    }
   ],
   "source": [
    "data.info()"
   ]
  },
  {
   "cell_type": "code",
   "execution_count": 18,
   "metadata": {},
   "outputs": [
    {
     "data": {
      "text/plain": [
       "array(['7.2', '6.6', '6.8', '7.7', '8.3', '8.0', '7.8', '8.1', '7.1',\n",
       "       '6.0', '7.4', '5.8', '8.7', '6.3', '6.9', '5.0', '4.3', '7.3',\n",
       "       '7.0', '6.4', nan, '8.2', '7.5', '6.7', '7.9', '5.9', '6.2', '5.6',\n",
       "       '6.5', '2.4', '7.6', '6.1', '8.6', '8.5', '8.8', '5.5', '5.1',\n",
       "       '5.7', '5.4', '99%', '4.4', '4.5', '5.3', '4.1', '8.4', '2.6',\n",
       "       '3.8', '4.6', '4.8', '4.0', '3.0', '1.6', '4.2', '5.2', '4.7',\n",
       "       '4.9', '3.9', '2.7', '3.3', '2.9', '28%', '3.7', '1.4', '3.1',\n",
       "       '97%', '3.5', '3.2', '2.8', '1.5', '2.1', '2.5', '9.2', '3.4',\n",
       "       '1.1', 0, '3.6', '83%', '64%', '91%', '94%', '62%', '79%', '90%',\n",
       "       '19%', '88%', '1.0', '89%', '1.3', '1.9', '1.8', '1.2', '1.7',\n",
       "       '9.0', '98%', '8.9', '9.1'], dtype=object)"
      ]
     },
     "execution_count": 18,
     "metadata": {},
     "output_type": "execute_result"
    }
   ],
   "source": [
    "data['ratings'].unique()"
   ]
  },
  {
   "cell_type": "code",
   "execution_count": 19,
   "metadata": {},
   "outputs": [],
   "source": [
    "def rating_fix(row):\n",
    "    rating = row['ratings']\n",
    "    if pd.isna(rating):\n",
    "        return '0.0'\n",
    "    #функция isinstance возвращает true если первый аргумент равен типу данных из второго аргумента\n",
    "    if isinstance(rating, str) and '.' in rating:\n",
    "        return rating\n",
    "    \n",
    "    if isinstance(rating, str) and rating.endswith('%'):\n",
    "        percent = float(rating[:-1])  # убираем символ '%'\n",
    "        return f\"{percent / 10:.1f}\"  # преобразуем в формат\n",
    "    \n",
    "    if isinstance(rating,int) or isinstance(rating, float):\n",
    "        return rating\n",
    "    \n",
    "data['ratings'] = data.apply(rating_fix,axis = 1)"
   ]
  },
  {
   "cell_type": "code",
   "execution_count": 20,
   "metadata": {},
   "outputs": [],
   "source": [
    "data['ratings'] = data['ratings'].astype('float')"
   ]
  },
  {
   "cell_type": "code",
   "execution_count": 21,
   "metadata": {},
   "outputs": [
    {
     "data": {
      "text/plain": [
       "array([7.2, 6.6, 6.8, 7.7, 8.3, 8. , 7.8, 8.1, 7.1, 6. , 7.4, 5.8, 8.7,\n",
       "       6.3, 6.9, 5. , 4.3, 7.3, 7. , 6.4, 0. , 8.2, 7.5, 6.7, 7.9, 5.9,\n",
       "       6.2, 5.6, 6.5, 2.4, 7.6, 6.1, 8.6, 8.5, 8.8, 5.5, 5.1, 5.7, 5.4,\n",
       "       9.9, 4.4, 4.5, 5.3, 4.1, 8.4, 2.6, 3.8, 4.6, 4.8, 4. , 3. , 1.6,\n",
       "       4.2, 5.2, 4.7, 4.9, 3.9, 2.7, 3.3, 2.9, 2.8, 3.7, 1.4, 3.1, 9.7,\n",
       "       3.5, 3.2, 1.5, 2.1, 2.5, 9.2, 3.4, 1.1, 3.6, 9.1, 9.4, 9. , 1.9,\n",
       "       1. , 8.9, 1.3, 1.8, 1.2, 1.7, 9.8])"
      ]
     },
     "execution_count": 21,
     "metadata": {},
     "output_type": "execute_result"
    }
   ],
   "source": [
    "data['ratings'].unique()"
   ]
  },
  {
   "cell_type": "markdown",
   "metadata": {},
   "source": [
    "Поменял тип данных в ratings, предварительно преобразовав значения из процентного в формат десятибальной шкалы. также заполнил пропуск 0, т.к это не сильно повлияет на выборку"
   ]
  },
  {
   "cell_type": "markdown",
   "metadata": {
    "id": "i0MOLbF-gFyP"
   },
   "source": [
    "#### Шаг 2.2. Изучите пропуски в датафрейме\n",
    "\n",
    "- Объясните, почему заполнили пропуски определённым образом или почему не стали этого делать."
   ]
  },
  {
   "cell_type": "code",
   "execution_count": 22,
   "metadata": {
    "id": "8MJD_lkngFyP"
   },
   "outputs": [
    {
     "data": {
      "text/plain": [
       "title                       0\n",
       "puNumber                    0\n",
       "show_start_date             0\n",
       "type                        0\n",
       "film_studio                18\n",
       "production_country          2\n",
       "director                    9\n",
       "producer                  568\n",
       "age_restriction             0\n",
       "refundable_support       7153\n",
       "nonrefundable_support    7153\n",
       "budget                   7153\n",
       "financing_source         7153\n",
       "ratings                     0\n",
       "genres                    975\n",
       "box_office               4328\n",
       "dtype: int64"
      ]
     },
     "execution_count": 22,
     "metadata": {},
     "output_type": "execute_result"
    }
   ],
   "source": [
    "data.isna().sum()"
   ]
  },
  {
   "cell_type": "markdown",
   "metadata": {},
   "source": [
    "в прошлом шаге заполнил пропуск в ratings.\n",
    "                                                        "
   ]
  },
  {
   "cell_type": "markdown",
   "metadata": {},
   "source": [
    "в столбцах refundable_support nonrefundable_support budget  - есть информация только про фильмы с гос поддержкой\n",
    "стобец producer, genres, film_studio,production_country,director  мы не можем сами заполнить"
   ]
  },
  {
   "cell_type": "markdown",
   "metadata": {
    "id": "4c6k1t9ygFyQ"
   },
   "source": [
    "#### Шаг 2.3. Изучите дубликаты в датафрейме\n",
    "- Проверьте, есть ли в данных дубликаты. Опишите причины, которые могли повлиять на появление дублей."
   ]
  },
  {
   "cell_type": "code",
   "execution_count": 23,
   "metadata": {
    "id": "aKck8RIdgFyQ"
   },
   "outputs": [
    {
     "data": {
      "text/plain": [
       "0"
      ]
     },
     "execution_count": 23,
     "metadata": {},
     "output_type": "execute_result"
    }
   ],
   "source": [
    "duplicates_full = data.duplicated().sum()\n",
    "duplicates_full"
   ]
  },
  {
   "cell_type": "code",
   "execution_count": 24,
   "metadata": {},
   "outputs": [
    {
     "data": {
      "text/html": [
       "<div>\n",
       "<style scoped>\n",
       "    .dataframe tbody tr th:only-of-type {\n",
       "        vertical-align: middle;\n",
       "    }\n",
       "\n",
       "    .dataframe tbody tr th {\n",
       "        vertical-align: top;\n",
       "    }\n",
       "\n",
       "    .dataframe thead th {\n",
       "        text-align: right;\n",
       "    }\n",
       "</style>\n",
       "<table border=\"1\" class=\"dataframe\">\n",
       "  <thead>\n",
       "    <tr style=\"text-align: right;\">\n",
       "      <th></th>\n",
       "      <th>title</th>\n",
       "      <th>puNumber</th>\n",
       "      <th>show_start_date</th>\n",
       "      <th>type</th>\n",
       "      <th>film_studio</th>\n",
       "      <th>production_country</th>\n",
       "      <th>director</th>\n",
       "      <th>producer</th>\n",
       "      <th>age_restriction</th>\n",
       "      <th>refundable_support</th>\n",
       "      <th>nonrefundable_support</th>\n",
       "      <th>budget</th>\n",
       "      <th>financing_source</th>\n",
       "      <th>ratings</th>\n",
       "      <th>genres</th>\n",
       "      <th>box_office</th>\n",
       "    </tr>\n",
       "  </thead>\n",
       "  <tbody>\n",
       "    <tr>\n",
       "      <th>4638</th>\n",
       "      <td>Как жениться и остаться холостым</td>\n",
       "      <td>221154310</td>\n",
       "      <td>2010-12-17 12:00:00+00:00</td>\n",
       "      <td>Художественный</td>\n",
       "      <td>Ше Вам, Скрипт Ассосье, Тэ Фэ 1 Фильм Продюксь...</td>\n",
       "      <td>Франция</td>\n",
       "      <td>Эрик Лартиго</td>\n",
       "      <td>Амандин Било, Алан Шаба</td>\n",
       "      <td>«16+» - для детей старше 16 лет</td>\n",
       "      <td>NaN</td>\n",
       "      <td>NaN</td>\n",
       "      <td>NaN</td>\n",
       "      <td>NaN</td>\n",
       "      <td>7.0</td>\n",
       "      <td>мелодрама,комедия</td>\n",
       "      <td>NaN</td>\n",
       "    </tr>\n",
       "    <tr>\n",
       "      <th>4639</th>\n",
       "      <td>Иоанна - женщина на папском престоле /По роман...</td>\n",
       "      <td>221154310</td>\n",
       "      <td>2010-12-17 12:00:00+00:00</td>\n",
       "      <td>Художественный</td>\n",
       "      <td>Константин Фильм, А Эр Ди Дегето Фильм, Дюне ...</td>\n",
       "      <td>Германия - Великобритания - Италия - Испания</td>\n",
       "      <td>Зенке Вортманн</td>\n",
       "      <td>Оливер Бербен, Дорис Д.Хайнце, Фарук Элтан</td>\n",
       "      <td>«16+» - для детей старше 16 лет</td>\n",
       "      <td>NaN</td>\n",
       "      <td>NaN</td>\n",
       "      <td>NaN</td>\n",
       "      <td>NaN</td>\n",
       "      <td>7.6</td>\n",
       "      <td>драма,мелодрама,история</td>\n",
       "      <td>NaN</td>\n",
       "    </tr>\n",
       "    <tr>\n",
       "      <th>5067</th>\n",
       "      <td>Анализируй это!</td>\n",
       "      <td>221054410</td>\n",
       "      <td>2010-05-25 12:00:00+00:00</td>\n",
       "      <td>Художественный</td>\n",
       "      <td>Уорнер Бразерс, Вилладж Роудшоу Филмз ЛТД</td>\n",
       "      <td>США-Австралия</td>\n",
       "      <td>ХЭрольд Рэмис</td>\n",
       "      <td>Джейн Розенталь, Пола Уейнстейн</td>\n",
       "      <td>«16+» - для детей старше 16 лет</td>\n",
       "      <td>NaN</td>\n",
       "      <td>NaN</td>\n",
       "      <td>NaN</td>\n",
       "      <td>NaN</td>\n",
       "      <td>7.4</td>\n",
       "      <td>комедия,криминал</td>\n",
       "      <td>NaN</td>\n",
       "    </tr>\n",
       "    <tr>\n",
       "      <th>5068</th>\n",
       "      <td>Анализируй то!</td>\n",
       "      <td>221054410</td>\n",
       "      <td>2010-05-25 12:00:00+00:00</td>\n",
       "      <td>Художественный</td>\n",
       "      <td>Уорнер Бразерс, Виллидж Роадшоу Пикчерз, Эн-Пи...</td>\n",
       "      <td>США</td>\n",
       "      <td>Гарольд Реймис</td>\n",
       "      <td>Джейн Розенталь, Паул Уэйнстейн</td>\n",
       "      <td>«12+» - для детей старше 12 лет</td>\n",
       "      <td>NaN</td>\n",
       "      <td>NaN</td>\n",
       "      <td>NaN</td>\n",
       "      <td>NaN</td>\n",
       "      <td>6.8</td>\n",
       "      <td>комедия,криминал</td>\n",
       "      <td>NaN</td>\n",
       "    </tr>\n",
       "  </tbody>\n",
       "</table>\n",
       "</div>"
      ],
      "text/plain": [
       "                                                  title   puNumber  \\\n",
       "4638                   Как жениться и остаться холостым  221154310   \n",
       "4639  Иоанна - женщина на папском престоле /По роман...  221154310   \n",
       "5067                                    Анализируй это!  221054410   \n",
       "5068                                     Анализируй то!  221054410   \n",
       "\n",
       "               show_start_date            type  \\\n",
       "4638 2010-12-17 12:00:00+00:00  Художественный   \n",
       "4639 2010-12-17 12:00:00+00:00  Художественный   \n",
       "5067 2010-05-25 12:00:00+00:00  Художественный   \n",
       "5068 2010-05-25 12:00:00+00:00  Художественный   \n",
       "\n",
       "                                            film_studio  \\\n",
       "4638  Ше Вам, Скрипт Ассосье, Тэ Фэ 1 Фильм Продюксь...   \n",
       "4639   Константин Фильм, А Эр Ди Дегето Фильм, Дюне ...   \n",
       "5067          Уорнер Бразерс, Вилладж Роудшоу Филмз ЛТД   \n",
       "5068  Уорнер Бразерс, Виллидж Роадшоу Пикчерз, Эн-Пи...   \n",
       "\n",
       "                                production_country        director  \\\n",
       "4638                                       Франция    Эрик Лартиго   \n",
       "4639  Германия - Великобритания - Италия - Испания  Зенке Вортманн   \n",
       "5067                                 США-Австралия   ХЭрольд Рэмис   \n",
       "5068                                           США  Гарольд Реймис   \n",
       "\n",
       "                                        producer  \\\n",
       "4638                     Амандин Било, Алан Шаба   \n",
       "4639  Оливер Бербен, Дорис Д.Хайнце, Фарук Элтан   \n",
       "5067             Джейн Розенталь, Пола Уейнстейн   \n",
       "5068             Джейн Розенталь, Паул Уэйнстейн   \n",
       "\n",
       "                      age_restriction  refundable_support  \\\n",
       "4638  «16+» - для детей старше 16 лет                 NaN   \n",
       "4639  «16+» - для детей старше 16 лет                 NaN   \n",
       "5067  «16+» - для детей старше 16 лет                 NaN   \n",
       "5068  «12+» - для детей старше 12 лет                 NaN   \n",
       "\n",
       "      nonrefundable_support  budget financing_source  ratings  \\\n",
       "4638                    NaN     NaN              NaN      7.0   \n",
       "4639                    NaN     NaN              NaN      7.6   \n",
       "5067                    NaN     NaN              NaN      7.4   \n",
       "5068                    NaN     NaN              NaN      6.8   \n",
       "\n",
       "                       genres  box_office  \n",
       "4638        мелодрама,комедия         NaN  \n",
       "4639  драма,мелодрама,история         NaN  \n",
       "5067         комедия,криминал         NaN  \n",
       "5068         комедия,криминал         NaN  "
      ]
     },
     "execution_count": 24,
     "metadata": {},
     "output_type": "execute_result"
    }
   ],
   "source": [
    "duplicates_puNumber = data[data.duplicated(subset='puNumber', keep= False) ]\n",
    "duplicates_puNumber\n"
   ]
  },
  {
   "cell_type": "markdown",
   "metadata": {},
   "source": [
    "эти строки не являются дублями, два последних фильма - разные. видимо произошла ошибка при заполнении таблицы"
   ]
  },
  {
   "cell_type": "code",
   "execution_count": 25,
   "metadata": {},
   "outputs": [
    {
     "data": {
      "text/plain": [
       "714"
      ]
     },
     "execution_count": 25,
     "metadata": {},
     "output_type": "execute_result"
    }
   ],
   "source": [
    "duplicates_title = data.duplicated(subset='title').sum()\n",
    "duplicates_title"
   ]
  },
  {
   "cell_type": "code",
   "execution_count": null,
   "metadata": {},
   "outputs": [],
   "source": []
  },
  {
   "cell_type": "code",
   "execution_count": 26,
   "metadata": {},
   "outputs": [
    {
     "data": {
      "text/html": [
       "<div>\n",
       "<style scoped>\n",
       "    .dataframe tbody tr th:only-of-type {\n",
       "        vertical-align: middle;\n",
       "    }\n",
       "\n",
       "    .dataframe tbody tr th {\n",
       "        vertical-align: top;\n",
       "    }\n",
       "\n",
       "    .dataframe thead th {\n",
       "        text-align: right;\n",
       "    }\n",
       "</style>\n",
       "<table border=\"1\" class=\"dataframe\">\n",
       "  <thead>\n",
       "    <tr style=\"text-align: right;\">\n",
       "      <th></th>\n",
       "      <th>title</th>\n",
       "      <th>puNumber</th>\n",
       "      <th>show_start_date</th>\n",
       "      <th>type</th>\n",
       "      <th>film_studio</th>\n",
       "      <th>production_country</th>\n",
       "      <th>director</th>\n",
       "      <th>producer</th>\n",
       "      <th>age_restriction</th>\n",
       "      <th>refundable_support</th>\n",
       "      <th>nonrefundable_support</th>\n",
       "      <th>budget</th>\n",
       "      <th>financing_source</th>\n",
       "      <th>ratings</th>\n",
       "      <th>genres</th>\n",
       "      <th>box_office</th>\n",
       "    </tr>\n",
       "  </thead>\n",
       "  <tbody>\n",
       "    <tr>\n",
       "      <th>2</th>\n",
       "      <td>Особо опасен</td>\n",
       "      <td>221038416</td>\n",
       "      <td>2016-10-10 12:00:00+00:00</td>\n",
       "      <td>Художественный</td>\n",
       "      <td>Юниверсал Пикчерз, Кикстарт Продакшнз, Марк Пл...</td>\n",
       "      <td>США</td>\n",
       "      <td>Тимур Бекмамбетов</td>\n",
       "      <td>Джим Лемли, Джейсон Нетер, Марк Е.Платт, Яйн Смит</td>\n",
       "      <td>«18+» - запрещено для детей</td>\n",
       "      <td>NaN</td>\n",
       "      <td>NaN</td>\n",
       "      <td>NaN</td>\n",
       "      <td>NaN</td>\n",
       "      <td>6.8</td>\n",
       "      <td>фантастика,боевик,триллер</td>\n",
       "      <td>NaN</td>\n",
       "    </tr>\n",
       "    <tr>\n",
       "      <th>3</th>\n",
       "      <td>Особо опасен</td>\n",
       "      <td>221026916</td>\n",
       "      <td>2016-06-10 12:00:00+00:00</td>\n",
       "      <td>Художественный</td>\n",
       "      <td>Юниверсал Пикчерз, Кикстарт Продакшнз, Марк Пл...</td>\n",
       "      <td>США</td>\n",
       "      <td>Тимур Бекмамбетов</td>\n",
       "      <td>Джим Лемли, Джейсон Нетер, Марк Е.Платт, Яйн Смит</td>\n",
       "      <td>«18+» - запрещено для детей</td>\n",
       "      <td>NaN</td>\n",
       "      <td>NaN</td>\n",
       "      <td>NaN</td>\n",
       "      <td>NaN</td>\n",
       "      <td>6.8</td>\n",
       "      <td>фантастика,боевик,триллер</td>\n",
       "      <td>NaN</td>\n",
       "    </tr>\n",
       "    <tr>\n",
       "      <th>4</th>\n",
       "      <td>Особо опасен</td>\n",
       "      <td>221030815</td>\n",
       "      <td>2015-07-29 12:00:00+00:00</td>\n",
       "      <td>Художественный</td>\n",
       "      <td>Юниверсал Пикчерз, Кикстарт Продакшнз, Марк Пл...</td>\n",
       "      <td>США</td>\n",
       "      <td>Тимур Бекмамбетов</td>\n",
       "      <td>Джим Лемли, Джейсон Нетер, Марк Е.Платт, Яйн Смит</td>\n",
       "      <td>«18+» - запрещено для детей</td>\n",
       "      <td>NaN</td>\n",
       "      <td>NaN</td>\n",
       "      <td>NaN</td>\n",
       "      <td>NaN</td>\n",
       "      <td>6.8</td>\n",
       "      <td>фантастика,боевик,триллер</td>\n",
       "      <td>NaN</td>\n",
       "    </tr>\n",
       "    <tr>\n",
       "      <th>12</th>\n",
       "      <td>Малышка на миллион /По мотивам рассказов Ф.Х.Т...</td>\n",
       "      <td>221011415</td>\n",
       "      <td>2015-04-03 12:00:00+00:00</td>\n",
       "      <td>Художественный</td>\n",
       "      <td>Уорнер Бразерс, Лейкшор Интертейнмент, Малпасо...</td>\n",
       "      <td>США</td>\n",
       "      <td>Клинт Иствуд</td>\n",
       "      <td>Клинт Иствуд, Том Розенберг, Альберт С.Рудди, ...</td>\n",
       "      <td>«16+» - для детей старше 16 лет</td>\n",
       "      <td>NaN</td>\n",
       "      <td>NaN</td>\n",
       "      <td>NaN</td>\n",
       "      <td>NaN</td>\n",
       "      <td>8.1</td>\n",
       "      <td>драма,спорт</td>\n",
       "      <td>NaN</td>\n",
       "    </tr>\n",
       "    <tr>\n",
       "      <th>26</th>\n",
       "      <td>Оружейный барон</td>\n",
       "      <td>221012515</td>\n",
       "      <td>2015-04-03 12:00:00+00:00</td>\n",
       "      <td>Художественный</td>\n",
       "      <td>Вэ И Пэ Медиенфондс 3, Асендант Пикчерз, Сатур...</td>\n",
       "      <td>США - Франция - Турция</td>\n",
       "      <td>Эндрю Никкол</td>\n",
       "      <td>Норман Голуайтли, Энди Грош, Николас Кейдж, Эн...</td>\n",
       "      <td>«18+» - запрещено для детей</td>\n",
       "      <td>NaN</td>\n",
       "      <td>NaN</td>\n",
       "      <td>NaN</td>\n",
       "      <td>NaN</td>\n",
       "      <td>7.7</td>\n",
       "      <td>боевик,драма,криминал</td>\n",
       "      <td>NaN</td>\n",
       "    </tr>\n",
       "    <tr>\n",
       "      <th>...</th>\n",
       "      <td>...</td>\n",
       "      <td>...</td>\n",
       "      <td>...</td>\n",
       "      <td>...</td>\n",
       "      <td>...</td>\n",
       "      <td>...</td>\n",
       "      <td>...</td>\n",
       "      <td>...</td>\n",
       "      <td>...</td>\n",
       "      <td>...</td>\n",
       "      <td>...</td>\n",
       "      <td>...</td>\n",
       "      <td>...</td>\n",
       "      <td>...</td>\n",
       "      <td>...</td>\n",
       "      <td>...</td>\n",
       "    </tr>\n",
       "    <tr>\n",
       "      <th>7369</th>\n",
       "      <td>Невиновен</td>\n",
       "      <td>111019319</td>\n",
       "      <td>2019-11-07 12:00:00+00:00</td>\n",
       "      <td>Художественный</td>\n",
       "      <td>ООО \"Кавказфильм\"</td>\n",
       "      <td>Россия</td>\n",
       "      <td>А.Емкужев</td>\n",
       "      <td>А.Емкужев, А.Хуажева, ООО \"Корпорация Русская ...</td>\n",
       "      <td>«16+» - для детей старше 16 лет</td>\n",
       "      <td>NaN</td>\n",
       "      <td>NaN</td>\n",
       "      <td>NaN</td>\n",
       "      <td>NaN</td>\n",
       "      <td>7.5</td>\n",
       "      <td>триллер,детектив,криминал</td>\n",
       "      <td>NaN</td>\n",
       "    </tr>\n",
       "    <tr>\n",
       "      <th>7416</th>\n",
       "      <td>Отель \"Гранд Будапешт\"</td>\n",
       "      <td>121035119</td>\n",
       "      <td>2019-12-13 12:00:00+00:00</td>\n",
       "      <td>Художественный</td>\n",
       "      <td>Американ Эмпирикал, Индиан Пэинтбраш, Скотт Ру...</td>\n",
       "      <td>Германия, США</td>\n",
       "      <td>Уэс Андерсен</td>\n",
       "      <td>Уэс Андерсон, Джереми Доусон, Стивен Рейлс</td>\n",
       "      <td>«16+» - для детей старше 16 лет</td>\n",
       "      <td>NaN</td>\n",
       "      <td>NaN</td>\n",
       "      <td>NaN</td>\n",
       "      <td>NaN</td>\n",
       "      <td>7.9</td>\n",
       "      <td>комедия,приключения,детектив</td>\n",
       "      <td>NaN</td>\n",
       "    </tr>\n",
       "    <tr>\n",
       "      <th>7438</th>\n",
       "      <td>Зверь</td>\n",
       "      <td>121035919</td>\n",
       "      <td>2019-12-05 12:00:00+00:00</td>\n",
       "      <td>Художественный</td>\n",
       "      <td>Студио энд Нью</td>\n",
       "      <td>Южная Корея</td>\n",
       "      <td>Ли Джон-хо</td>\n",
       "      <td>Чан Гён-ик, Чон Джи-хун, Пэк Кён сук</td>\n",
       "      <td>«18+» - запрещено для детей</td>\n",
       "      <td>NaN</td>\n",
       "      <td>NaN</td>\n",
       "      <td>NaN</td>\n",
       "      <td>NaN</td>\n",
       "      <td>6.5</td>\n",
       "      <td>триллер,драма</td>\n",
       "      <td>175003.51</td>\n",
       "    </tr>\n",
       "    <tr>\n",
       "      <th>7450</th>\n",
       "      <td>В тихом омуте</td>\n",
       "      <td>121036919</td>\n",
       "      <td>2019-12-09 12:00:00+00:00</td>\n",
       "      <td>Художественный</td>\n",
       "      <td>Хэд Гир Филмз, Крео Филмз, Локал Хироу, Метрол...</td>\n",
       "      <td>США</td>\n",
       "      <td>Адам Рэндолл</td>\n",
       "      <td>Мэтт Уолдек</td>\n",
       "      <td>«18+» - запрещено для детей</td>\n",
       "      <td>NaN</td>\n",
       "      <td>NaN</td>\n",
       "      <td>NaN</td>\n",
       "      <td>NaN</td>\n",
       "      <td>6.8</td>\n",
       "      <td>триллер,криминал,детектив</td>\n",
       "      <td>NaN</td>\n",
       "    </tr>\n",
       "    <tr>\n",
       "      <th>7474</th>\n",
       "      <td>Вторжение</td>\n",
       "      <td>111022519</td>\n",
       "      <td>2019-12-23 12:00:00+00:00</td>\n",
       "      <td>Художественный</td>\n",
       "      <td>ООО \"Арт Пикчерс Студия\", ООО \"Водород 2011\"</td>\n",
       "      <td>Россия</td>\n",
       "      <td>Ф.Бондарчук</td>\n",
       "      <td>Ф.Бондарчук, М.Врубель, А.Андрющенко, Д.Рудовский</td>\n",
       "      <td>«12+» - для детей старше 12 лет</td>\n",
       "      <td>100000000.0</td>\n",
       "      <td>400000000.0</td>\n",
       "      <td>944000000.0</td>\n",
       "      <td>Фонд кино</td>\n",
       "      <td>5.7</td>\n",
       "      <td>фантастика,боевик</td>\n",
       "      <td>NaN</td>\n",
       "    </tr>\n",
       "  </tbody>\n",
       "</table>\n",
       "<p>1272 rows × 16 columns</p>\n",
       "</div>"
      ],
      "text/plain": [
       "                                                  title   puNumber  \\\n",
       "2                                          Особо опасен  221038416   \n",
       "3                                          Особо опасен  221026916   \n",
       "4                                          Особо опасен  221030815   \n",
       "12    Малышка на миллион /По мотивам рассказов Ф.Х.Т...  221011415   \n",
       "26                                      Оружейный барон  221012515   \n",
       "...                                                 ...        ...   \n",
       "7369                                          Невиновен  111019319   \n",
       "7416                             Отель \"Гранд Будапешт\"  121035119   \n",
       "7438                                              Зверь  121035919   \n",
       "7450                                      В тихом омуте  121036919   \n",
       "7474                                          Вторжение  111022519   \n",
       "\n",
       "               show_start_date             type  \\\n",
       "2    2016-10-10 12:00:00+00:00   Художественный   \n",
       "3    2016-06-10 12:00:00+00:00   Художественный   \n",
       "4    2015-07-29 12:00:00+00:00   Художественный   \n",
       "12   2015-04-03 12:00:00+00:00   Художественный   \n",
       "26   2015-04-03 12:00:00+00:00   Художественный   \n",
       "...                        ...              ...   \n",
       "7369 2019-11-07 12:00:00+00:00   Художественный   \n",
       "7416 2019-12-13 12:00:00+00:00   Художественный   \n",
       "7438 2019-12-05 12:00:00+00:00   Художественный   \n",
       "7450 2019-12-09 12:00:00+00:00   Художественный   \n",
       "7474 2019-12-23 12:00:00+00:00   Художественный   \n",
       "\n",
       "                                            film_studio  \\\n",
       "2     Юниверсал Пикчерз, Кикстарт Продакшнз, Марк Пл...   \n",
       "3     Юниверсал Пикчерз, Кикстарт Продакшнз, Марк Пл...   \n",
       "4     Юниверсал Пикчерз, Кикстарт Продакшнз, Марк Пл...   \n",
       "12    Уорнер Бразерс, Лейкшор Интертейнмент, Малпасо...   \n",
       "26    Вэ И Пэ Медиенфондс 3, Асендант Пикчерз, Сатур...   \n",
       "...                                                 ...   \n",
       "7369                                  ООО \"Кавказфильм\"   \n",
       "7416  Американ Эмпирикал, Индиан Пэинтбраш, Скотт Ру...   \n",
       "7438                                     Студио энд Нью   \n",
       "7450  Хэд Гир Филмз, Крео Филмз, Локал Хироу, Метрол...   \n",
       "7474       ООО \"Арт Пикчерс Студия\", ООО \"Водород 2011\"   \n",
       "\n",
       "          production_country           director  \\\n",
       "2                        США  Тимур Бекмамбетов   \n",
       "3                        США  Тимур Бекмамбетов   \n",
       "4                        США  Тимур Бекмамбетов   \n",
       "12                       США       Клинт Иствуд   \n",
       "26    США - Франция - Турция       Эндрю Никкол   \n",
       "...                      ...                ...   \n",
       "7369                  Россия          А.Емкужев   \n",
       "7416           Германия, США       Уэс Андерсен   \n",
       "7438             Южная Корея         Ли Джон-хо   \n",
       "7450                     США       Адам Рэндолл   \n",
       "7474                  Россия        Ф.Бондарчук   \n",
       "\n",
       "                                               producer  \\\n",
       "2     Джим Лемли, Джейсон Нетер, Марк Е.Платт, Яйн Смит   \n",
       "3     Джим Лемли, Джейсон Нетер, Марк Е.Платт, Яйн Смит   \n",
       "4     Джим Лемли, Джейсон Нетер, Марк Е.Платт, Яйн Смит   \n",
       "12    Клинт Иствуд, Том Розенберг, Альберт С.Рудди, ...   \n",
       "26    Норман Голуайтли, Энди Грош, Николас Кейдж, Эн...   \n",
       "...                                                 ...   \n",
       "7369  А.Емкужев, А.Хуажева, ООО \"Корпорация Русская ...   \n",
       "7416         Уэс Андерсон, Джереми Доусон, Стивен Рейлс   \n",
       "7438               Чан Гён-ик, Чон Джи-хун, Пэк Кён сук   \n",
       "7450                                        Мэтт Уолдек   \n",
       "7474  Ф.Бондарчук, М.Врубель, А.Андрющенко, Д.Рудовский   \n",
       "\n",
       "                      age_restriction  refundable_support  \\\n",
       "2         «18+» - запрещено для детей                 NaN   \n",
       "3         «18+» - запрещено для детей                 NaN   \n",
       "4         «18+» - запрещено для детей                 NaN   \n",
       "12    «16+» - для детей старше 16 лет                 NaN   \n",
       "26        «18+» - запрещено для детей                 NaN   \n",
       "...                               ...                 ...   \n",
       "7369  «16+» - для детей старше 16 лет                 NaN   \n",
       "7416  «16+» - для детей старше 16 лет                 NaN   \n",
       "7438      «18+» - запрещено для детей                 NaN   \n",
       "7450      «18+» - запрещено для детей                 NaN   \n",
       "7474  «12+» - для детей старше 12 лет         100000000.0   \n",
       "\n",
       "      nonrefundable_support       budget financing_source  ratings  \\\n",
       "2                       NaN          NaN              NaN      6.8   \n",
       "3                       NaN          NaN              NaN      6.8   \n",
       "4                       NaN          NaN              NaN      6.8   \n",
       "12                      NaN          NaN              NaN      8.1   \n",
       "26                      NaN          NaN              NaN      7.7   \n",
       "...                     ...          ...              ...      ...   \n",
       "7369                    NaN          NaN              NaN      7.5   \n",
       "7416                    NaN          NaN              NaN      7.9   \n",
       "7438                    NaN          NaN              NaN      6.5   \n",
       "7450                    NaN          NaN              NaN      6.8   \n",
       "7474            400000000.0  944000000.0        Фонд кино      5.7   \n",
       "\n",
       "                            genres  box_office  \n",
       "2        фантастика,боевик,триллер         NaN  \n",
       "3        фантастика,боевик,триллер         NaN  \n",
       "4        фантастика,боевик,триллер         NaN  \n",
       "12                     драма,спорт         NaN  \n",
       "26           боевик,драма,криминал         NaN  \n",
       "...                            ...         ...  \n",
       "7369     триллер,детектив,криминал         NaN  \n",
       "7416  комедия,приключения,детектив         NaN  \n",
       "7438                 триллер,драма   175003.51  \n",
       "7450     триллер,криминал,детектив         NaN  \n",
       "7474             фантастика,боевик         NaN  \n",
       "\n",
       "[1272 rows x 16 columns]"
      ]
     },
     "execution_count": 26,
     "metadata": {},
     "output_type": "execute_result"
    }
   ],
   "source": [
    "data[data.duplicated(subset='title', keep= False) ]"
   ]
  },
  {
   "cell_type": "code",
   "execution_count": 27,
   "metadata": {},
   "outputs": [],
   "source": [
    "data= data.drop_duplicates(subset='title').reset_index()"
   ]
  },
  {
   "cell_type": "code",
   "execution_count": 28,
   "metadata": {},
   "outputs": [
    {
     "data": {
      "text/plain": [
       "0"
      ]
     },
     "execution_count": 28,
     "metadata": {},
     "output_type": "execute_result"
    }
   ],
   "source": [
    "duplicates_title = data.duplicated(subset='title').sum()\n",
    "duplicates_title"
   ]
  },
  {
   "cell_type": "markdown",
   "metadata": {},
   "source": [
    "Удалены дубликаты с названиями фильмов"
   ]
  },
  {
   "cell_type": "markdown",
   "metadata": {
    "id": "52fOPrEBgFyQ"
   },
   "source": [
    "#### Шаг 2.4. Изучите категориальные значения\n",
    "\n",
    "- Посмотрите, какая общая проблема встречается почти во всех категориальных столбцах;\n",
    "- Исправьте проблемные значения в поле `type`.\n",
    "\n",
    "<div id=\"accordion\">\n",
    "    <div class=\"card\">\n",
    "        <div class=\"card-header\" id=\"headingThree\">\n",
    "            <button class=\"btn btn-link collapsed\" data-toggle=\"collapse\" data-target=\"#collapseHint_1\" aria-expanded=\"false\" aria-controls=\"collapseHint_1\">Подсказка</button>\n",
    "        </div>\n",
    "        <div id=\"collapseHint_1\" class=\"collapse\" aria-labelledby=\"headingThree\" data-parent=\"#accordion\">\n",
    "            <div class=\"card-body\">\n",
    "В поле <code>type</code> есть несколько значений, у которых появился пробел в начале строки. Самый простой способ их «починить» -- использовать метод <a href=\"https://pandas.pydata.org/docs/reference/api/pandas.Series.str.strip.html#pandas.Series.str.strip\">.str.strip</a>. Этот метод удаляет все пробелы, которые встречаются в начале и в конце строки. Применяют его таким образом:<br>\n",
    "<code>df['type'].str.strip()</code>\n",
    "            </div>\n",
    "        </div>\n",
    "    </div>\n",
    "</div>"
   ]
  },
  {
   "cell_type": "code",
   "execution_count": 29,
   "metadata": {
    "id": "PnXKIVdFgFyR"
   },
   "outputs": [
    {
     "data": {
      "text/plain": [
       "Художественный                3929\n",
       " Художественный               1350\n",
       "Анимационный                   766\n",
       "Прочие                         390\n",
       "Документальный                 282\n",
       "Научно-популярный               52\n",
       "0                                1\n",
       " Анимационный                    1\n",
       "Музыкально-развлекательный       1\n",
       "Name: type, dtype: int64"
      ]
     },
     "execution_count": 29,
     "metadata": {},
     "output_type": "execute_result"
    }
   ],
   "source": [
    "data['type'].value_counts()"
   ]
  },
  {
   "cell_type": "markdown",
   "metadata": {},
   "source": [
    "Встречаются пробелы в названии type и из-за этого появляются неявные дубликаты\n"
   ]
  },
  {
   "cell_type": "code",
   "execution_count": 30,
   "metadata": {},
   "outputs": [],
   "source": [
    "data['type'] = data['type'].str.strip() "
   ]
  },
  {
   "cell_type": "code",
   "execution_count": 31,
   "metadata": {},
   "outputs": [],
   "source": [
    "data.loc[data['type'] == 0, 'type'] = 'Прочие'"
   ]
  },
  {
   "cell_type": "code",
   "execution_count": 32,
   "metadata": {},
   "outputs": [
    {
     "data": {
      "text/plain": [
       "Художественный                5279\n",
       "Анимационный                   767\n",
       "Прочие                         390\n",
       "Документальный                 282\n",
       "Научно-популярный               52\n",
       "Музыкально-развлекательный       1\n",
       "Name: type, dtype: int64"
      ]
     },
     "execution_count": 32,
     "metadata": {},
     "output_type": "execute_result"
    }
   ],
   "source": [
    "data['type'].value_counts()"
   ]
  },
  {
   "cell_type": "markdown",
   "metadata": {},
   "source": [
    "Удалил все лишние пробелы из названий \"Художественный\" и \"Анимационный\", также в строке где жанр = 0 приравнял к \"Прочие"
   ]
  },
  {
   "cell_type": "code",
   "execution_count": 33,
   "metadata": {},
   "outputs": [
    {
     "data": {
      "text/plain": [
       "драма                         448\n",
       "комедия                       329\n",
       "мелодрама,комедия             181\n",
       "драма,мелодрама               170\n",
       "драма,мелодрама,комедия       167\n",
       "                             ... \n",
       "драма,фантастика,ужасы          1\n",
       "короткометражка,фантастика      1\n",
       "мелодрама,драма,музыка          1\n",
       "драма,мелодрама,триллер         1\n",
       "0                               1\n",
       "Name: genres, Length: 743, dtype: int64"
      ]
     },
     "execution_count": 33,
     "metadata": {},
     "output_type": "execute_result"
    }
   ],
   "source": [
    "data['genres'].value_counts()"
   ]
  },
  {
   "cell_type": "markdown",
   "metadata": {},
   "source": [
    "общая проблема - запись через запятую множества повторяющихся значений почти во всех категориальных столбцах. далее по заданию мы выберем первый из жанров и режиссера"
   ]
  },
  {
   "cell_type": "code",
   "execution_count": 34,
   "metadata": {},
   "outputs": [
    {
     "data": {
      "text/plain": [
       "«16+» - для детей старше 16 лет           2513\n",
       "«12+» - для детей старше 12 лет           1479\n",
       "«18+» - запрещено для детей               1427\n",
       "«0+» - для любой зрительской аудитории     749\n",
       "«6+» - для детей старше 6 лет              603\n",
       "0                                            1\n",
       "Name: age_restriction, dtype: int64"
      ]
     },
     "execution_count": 34,
     "metadata": {},
     "output_type": "execute_result"
    }
   ],
   "source": [
    "data['age_restriction'].value_counts()"
   ]
  },
  {
   "cell_type": "markdown",
   "metadata": {
    "id": "XFSN5lrEgFyR"
   },
   "source": [
    "#### Шаг 2.5. Проверьте количественные значения\n",
    "\n",
    "- Проверьте, обнаружились ли в таких столбцах подозрительные данные. Как с такими данными лучше поступить?\n",
    "\n",
    "<div id=\"accordion\">\n",
    "    <div class=\"card\">\n",
    "        <div class=\"card-header\" id=\"headingThree\">\n",
    "            <button class=\"btn btn-link collapsed\" data-toggle=\"collapse\" data-target=\"#collapseHint_budget\" aria-expanded=\"false\" aria-controls=\"collapseHint_budget\">Подсказка</button>\n",
    "        </div>\n",
    "        <div id=\"collapseHint_budget\" class=\"collapse\" aria-labelledby=\"headingThree\" data-parent=\"#accordion\">\n",
    "            <div class=\"card-body\">\n",
    "Обратите внимание на описание столбца <code>budget</code>. Как этот столбец соотносится с двумя другими: <code>refundable_support</code> и <code>nonrefundable_support</code>?\n",
    "            </div>\n",
    "        </div>\n",
    "    </div>\n",
    "</div>"
   ]
  },
  {
   "cell_type": "code",
   "execution_count": 35,
   "metadata": {},
   "outputs": [
    {
     "data": {
      "text/html": [
       "<div>\n",
       "<style scoped>\n",
       "    .dataframe tbody tr th:only-of-type {\n",
       "        vertical-align: middle;\n",
       "    }\n",
       "\n",
       "    .dataframe tbody tr th {\n",
       "        vertical-align: top;\n",
       "    }\n",
       "\n",
       "    .dataframe thead th {\n",
       "        text-align: right;\n",
       "    }\n",
       "</style>\n",
       "<table border=\"1\" class=\"dataframe\">\n",
       "  <thead>\n",
       "    <tr style=\"text-align: right;\">\n",
       "      <th></th>\n",
       "      <th>index</th>\n",
       "      <th>title</th>\n",
       "      <th>puNumber</th>\n",
       "      <th>show_start_date</th>\n",
       "      <th>type</th>\n",
       "      <th>film_studio</th>\n",
       "      <th>production_country</th>\n",
       "      <th>director</th>\n",
       "      <th>producer</th>\n",
       "      <th>age_restriction</th>\n",
       "      <th>refundable_support</th>\n",
       "      <th>nonrefundable_support</th>\n",
       "      <th>budget</th>\n",
       "      <th>financing_source</th>\n",
       "      <th>ratings</th>\n",
       "      <th>genres</th>\n",
       "      <th>box_office</th>\n",
       "    </tr>\n",
       "  </thead>\n",
       "  <tbody>\n",
       "    <tr>\n",
       "      <th>1872</th>\n",
       "      <td>2053</td>\n",
       "      <td>14+</td>\n",
       "      <td>111023614</td>\n",
       "      <td>2014-12-19 12:00:00+00:00</td>\n",
       "      <td>Художественный</td>\n",
       "      <td>ООО Киностудия  \"Сентябрь\"</td>\n",
       "      <td>Россия</td>\n",
       "      <td>А.Зайцев</td>\n",
       "      <td>О.Гранина, А.Зайцев</td>\n",
       "      <td>«16+» - для детей старше 16 лет</td>\n",
       "      <td>0.0</td>\n",
       "      <td>23000000.0</td>\n",
       "      <td>0.0</td>\n",
       "      <td>Министерство культуры, Фонд кино</td>\n",
       "      <td>6.6</td>\n",
       "      <td>мелодрама</td>\n",
       "      <td>1.023402e+07</td>\n",
       "    </tr>\n",
       "    <tr>\n",
       "      <th>1877</th>\n",
       "      <td>2058</td>\n",
       "      <td>Дуxless 2</td>\n",
       "      <td>111000415</td>\n",
       "      <td>2015-01-26 12:00:00+00:00</td>\n",
       "      <td>Художественный</td>\n",
       "      <td>ООО \"Киностудия \"Слово\", ООО \"Арт Пикчерс Студия\"</td>\n",
       "      <td>Россия</td>\n",
       "      <td>Р.Прыгунов</td>\n",
       "      <td>П.Ануров, Ф.Бондарчук, Д.Рудовский</td>\n",
       "      <td>«16+» - для детей старше 16 лет</td>\n",
       "      <td>0.0</td>\n",
       "      <td>75000000.0</td>\n",
       "      <td>0.0</td>\n",
       "      <td>Фонд кино</td>\n",
       "      <td>6.6</td>\n",
       "      <td>драма</td>\n",
       "      <td>4.461635e+08</td>\n",
       "    </tr>\n",
       "    <tr>\n",
       "      <th>2254</th>\n",
       "      <td>2472</td>\n",
       "      <td>Воин (2015)</td>\n",
       "      <td>111017315</td>\n",
       "      <td>2015-09-28 12:00:00+00:00</td>\n",
       "      <td>Художественный</td>\n",
       "      <td>ООО \"Форпост Продакшн\", ООО \"Арт Пикчерс Студия\"</td>\n",
       "      <td>Россия</td>\n",
       "      <td>А.Андрианов</td>\n",
       "      <td>ООО \"Арт Пикчерс Студия\"</td>\n",
       "      <td>«12+» - для детей старше 12 лет</td>\n",
       "      <td>10000000.0</td>\n",
       "      <td>70000000.0</td>\n",
       "      <td>0.0</td>\n",
       "      <td>Фонд кино</td>\n",
       "      <td>7.8</td>\n",
       "      <td>боевик,драма,криминал</td>\n",
       "      <td>1.965724e+08</td>\n",
       "    </tr>\n",
       "    <tr>\n",
       "      <th>2312</th>\n",
       "      <td>2532</td>\n",
       "      <td>Бармен.</td>\n",
       "      <td>111009615</td>\n",
       "      <td>2015-05-26 12:00:00+00:00</td>\n",
       "      <td>Художественный</td>\n",
       "      <td>АО \"ВайТ Медиа\", ООО \"Арт Пикчерс Студия\"</td>\n",
       "      <td>Россия</td>\n",
       "      <td>Д.Штурманова</td>\n",
       "      <td>Т.Вайнштейн</td>\n",
       "      <td>«16+» - для детей старше 16 лет</td>\n",
       "      <td>20000000.0</td>\n",
       "      <td>0.0</td>\n",
       "      <td>0.0</td>\n",
       "      <td>Фонд кино</td>\n",
       "      <td>6.2</td>\n",
       "      <td>комедия,фэнтези</td>\n",
       "      <td>6.741897e+07</td>\n",
       "    </tr>\n",
       "    <tr>\n",
       "      <th>2386</th>\n",
       "      <td>2615</td>\n",
       "      <td>Савва. Сердце воина</td>\n",
       "      <td>114001715</td>\n",
       "      <td>2015-07-21 12:00:00+00:00</td>\n",
       "      <td>Анимационный</td>\n",
       "      <td>ООО \"Глюкоза Продакшн\", ООО \"Арт Пикчерс Студия\"</td>\n",
       "      <td>Россия</td>\n",
       "      <td>М.Фадеев</td>\n",
       "      <td>А.Чистяков</td>\n",
       "      <td>«6+» - для детей старше 6 лет</td>\n",
       "      <td>60000000.0</td>\n",
       "      <td>100000000.0</td>\n",
       "      <td>0.0</td>\n",
       "      <td>Фонд кино</td>\n",
       "      <td>4.6</td>\n",
       "      <td>мультфильм,приключения,фэнтези</td>\n",
       "      <td>1.844876e+08</td>\n",
       "    </tr>\n",
       "    <tr>\n",
       "      <th>2448</th>\n",
       "      <td>2684</td>\n",
       "      <td>Тряпичный союз</td>\n",
       "      <td>111010215</td>\n",
       "      <td>2015-06-08 12:00:00+00:00</td>\n",
       "      <td>Художественный</td>\n",
       "      <td>ООО \"Кинокомпания \"КОКТЕБЕЛЬ\"</td>\n",
       "      <td>Россия</td>\n",
       "      <td>М.Местецкий</td>\n",
       "      <td>Р.Борисевич, А.Кушаев</td>\n",
       "      <td>«18+» - запрещено для детей</td>\n",
       "      <td>0.0</td>\n",
       "      <td>59000000.0</td>\n",
       "      <td>0.0</td>\n",
       "      <td>Фонд кино</td>\n",
       "      <td>6.3</td>\n",
       "      <td>комедия,драма</td>\n",
       "      <td>1.957739e+06</td>\n",
       "    </tr>\n",
       "    <tr>\n",
       "      <th>2544</th>\n",
       "      <td>2788</td>\n",
       "      <td>Срочно выйду замуж</td>\n",
       "      <td>111017115</td>\n",
       "      <td>2015-09-30 12:00:00+00:00</td>\n",
       "      <td>Художественный</td>\n",
       "      <td>АО \"ВайТ Медиа\", ООО \"Арт Пикчерс Студия\"</td>\n",
       "      <td>Россия</td>\n",
       "      <td>С Чекалов</td>\n",
       "      <td>Ф.Бондарчук, Т.Вайнштейн, Д.Рудовский</td>\n",
       "      <td>«16+» - для детей старше 16 лет</td>\n",
       "      <td>0.0</td>\n",
       "      <td>35000000.0</td>\n",
       "      <td>0.0</td>\n",
       "      <td>Фонд кино</td>\n",
       "      <td>5.1</td>\n",
       "      <td>комедия,мелодрама</td>\n",
       "      <td>7.293778e+07</td>\n",
       "    </tr>\n",
       "    <tr>\n",
       "      <th>2624</th>\n",
       "      <td>2874</td>\n",
       "      <td>Помню - не помню!</td>\n",
       "      <td>111004916</td>\n",
       "      <td>2016-03-01 12:00:00+00:00</td>\n",
       "      <td>Художественный</td>\n",
       "      <td>ООО \"КиноФирма\"</td>\n",
       "      <td>Россия</td>\n",
       "      <td>В.Ровенский</td>\n",
       "      <td>ООО \"КиноФирма\"</td>\n",
       "      <td>«12+» - для детей старше 12 лет</td>\n",
       "      <td>0.0</td>\n",
       "      <td>6000000.0</td>\n",
       "      <td>0.0</td>\n",
       "      <td>Министерство культуры</td>\n",
       "      <td>4.3</td>\n",
       "      <td>комедия</td>\n",
       "      <td>1.536293e+07</td>\n",
       "    </tr>\n",
       "    <tr>\n",
       "      <th>2789</th>\n",
       "      <td>3047</td>\n",
       "      <td>Любовь с ограничениями</td>\n",
       "      <td>111008216</td>\n",
       "      <td>2016-04-29 12:00:00+00:00</td>\n",
       "      <td>Художественный</td>\n",
       "      <td>АО \"ВайТ Медиа\", ООО \"Арт Пикчерс Студия\"</td>\n",
       "      <td>Россия</td>\n",
       "      <td>Д.Тюрин</td>\n",
       "      <td>Ф.Бондарчук, Т.Вайнштейн, Д.Рудовский</td>\n",
       "      <td>«16+» - для детей старше 16 лет</td>\n",
       "      <td>19000000.0</td>\n",
       "      <td>51000000.0</td>\n",
       "      <td>0.0</td>\n",
       "      <td>Фонд кино</td>\n",
       "      <td>6.3</td>\n",
       "      <td>комедия,мелодрама</td>\n",
       "      <td>7.029905e+07</td>\n",
       "    </tr>\n",
       "    <tr>\n",
       "      <th>3279</th>\n",
       "      <td>3565</td>\n",
       "      <td>Притяжение (2016)</td>\n",
       "      <td>111018116</td>\n",
       "      <td>2016-12-16 12:00:00+00:00</td>\n",
       "      <td>Художественный</td>\n",
       "      <td>ООО \"Водород 2011\",  ООО \"Арт Пикчерс Студия\"</td>\n",
       "      <td>Россия</td>\n",
       "      <td>Ф.Бондарчук</td>\n",
       "      <td>ООО \"Арт Пикчерс Студия\"</td>\n",
       "      <td>«12+» - для детей старше 12 лет</td>\n",
       "      <td>0.0</td>\n",
       "      <td>250000000.0</td>\n",
       "      <td>0.0</td>\n",
       "      <td>Фонд кино</td>\n",
       "      <td>5.6</td>\n",
       "      <td>фантастика</td>\n",
       "      <td>1.038321e+09</td>\n",
       "    </tr>\n",
       "    <tr>\n",
       "      <th>3388</th>\n",
       "      <td>3675</td>\n",
       "      <td>Чудо-юдо</td>\n",
       "      <td>114001817</td>\n",
       "      <td>2017-06-27 12:00:00+00:00</td>\n",
       "      <td>Анимационный</td>\n",
       "      <td>ООО \"КиноФирма\"</td>\n",
       "      <td>Россия</td>\n",
       "      <td>А.Лукичев</td>\n",
       "      <td>ООО \"КиноФирма\"</td>\n",
       "      <td>«6+» - для детей старше 6 лет</td>\n",
       "      <td>20000000.0</td>\n",
       "      <td>20000000.0</td>\n",
       "      <td>0.0</td>\n",
       "      <td>Фонд кино</td>\n",
       "      <td>5.2</td>\n",
       "      <td>мультфильм,фэнтези,семейный</td>\n",
       "      <td>5.510801e+07</td>\n",
       "    </tr>\n",
       "    <tr>\n",
       "      <th>3451</th>\n",
       "      <td>3739</td>\n",
       "      <td>Мифы</td>\n",
       "      <td>111004317</td>\n",
       "      <td>2017-06-07 12:00:00+00:00</td>\n",
       "      <td>Художественный</td>\n",
       "      <td>ООО \"ХАЙПФИЛМ\", ООО \"Арт Пикчерс Студия\"</td>\n",
       "      <td>Россия</td>\n",
       "      <td>А.Молочников</td>\n",
       "      <td>Ф.Бондарчук, Д.Рудовский, И.Стюарт, М.Османн, ...</td>\n",
       "      <td>«16+» - для детей старше 16 лет</td>\n",
       "      <td>25000000.0</td>\n",
       "      <td>20000000.0</td>\n",
       "      <td>0.0</td>\n",
       "      <td>Фонд кино</td>\n",
       "      <td>4.8</td>\n",
       "      <td>комедия</td>\n",
       "      <td>5.045195e+07</td>\n",
       "    </tr>\n",
       "    <tr>\n",
       "      <th>5014</th>\n",
       "      <td>5673</td>\n",
       "      <td>Селфи</td>\n",
       "      <td>111012117</td>\n",
       "      <td>2018-02-01 12:00:00+00:00</td>\n",
       "      <td>Художественный</td>\n",
       "      <td>ООО \"Киностудия \"Слово\", ООО \"Арт Пикчерс Студия\"</td>\n",
       "      <td>Россия</td>\n",
       "      <td>Н.Хомерики</td>\n",
       "      <td>П.Ануров, Ф.Бондарчук, Д.Рудовский</td>\n",
       "      <td>«16+» - для детей старше 16 лет</td>\n",
       "      <td>20000000.0</td>\n",
       "      <td>40000000.0</td>\n",
       "      <td>0.0</td>\n",
       "      <td>Фонд кино</td>\n",
       "      <td>5.8</td>\n",
       "      <td>триллер,драма</td>\n",
       "      <td>2.251964e+08</td>\n",
       "    </tr>\n",
       "    <tr>\n",
       "      <th>5146</th>\n",
       "      <td>5806</td>\n",
       "      <td>Два хвоста</td>\n",
       "      <td>114001018</td>\n",
       "      <td>2018-05-31 12:00:00+00:00</td>\n",
       "      <td>Анимационный</td>\n",
       "      <td>ООО \"ЛИЦЕНЗИОННЫЕ БРЕНДЫ\"</td>\n",
       "      <td>Россия</td>\n",
       "      <td>В.Ровенский, Н.Лопато, В.Азеев</td>\n",
       "      <td>ООО \"ЛИЦЕНЗИОННЫЕ БРЕНДЫ\"</td>\n",
       "      <td>«6+» - для детей старше 6 лет</td>\n",
       "      <td>10000000.0</td>\n",
       "      <td>60000000.0</td>\n",
       "      <td>0.0</td>\n",
       "      <td>Фонд кино</td>\n",
       "      <td>5.0</td>\n",
       "      <td>мультфильм,детский</td>\n",
       "      <td>1.065143e+08</td>\n",
       "    </tr>\n",
       "    <tr>\n",
       "      <th>5346</th>\n",
       "      <td>6008</td>\n",
       "      <td>Принцесса и дракон</td>\n",
       "      <td>114003018</td>\n",
       "      <td>2018-08-23 12:00:00+00:00</td>\n",
       "      <td>Анимационный</td>\n",
       "      <td>ООО \"ЛИЦЕНЗИОННЫЕ БРЕНДЫ\"</td>\n",
       "      <td>Россия</td>\n",
       "      <td>М.Нефедова</td>\n",
       "      <td>ООО \"ЛИЦЕНЗИОННЫЕ БРЕНДЫ\"</td>\n",
       "      <td>«6+» - для детей старше 6 лет</td>\n",
       "      <td>40000000.0</td>\n",
       "      <td>40000000.0</td>\n",
       "      <td>0.0</td>\n",
       "      <td>Фонд кино</td>\n",
       "      <td>5.2</td>\n",
       "      <td>мультфильм,фэнтези,детский</td>\n",
       "      <td>8.336633e+07</td>\n",
       "    </tr>\n",
       "    <tr>\n",
       "      <th>5654</th>\n",
       "      <td>6323</td>\n",
       "      <td>Баба Яга</td>\n",
       "      <td>114006518</td>\n",
       "      <td>2018-11-08 12:00:00+00:00</td>\n",
       "      <td>Анимационный</td>\n",
       "      <td>ООО \"Арт Пикчерс Студия\"</td>\n",
       "      <td>Россия</td>\n",
       "      <td>В.Саков</td>\n",
       "      <td>ООО \"Арт Пикчерс Студия\", ООО \"КРИЭЙТИВ АНИМЭЙ...</td>\n",
       "      <td>«6+» - для детей старше 6 лет</td>\n",
       "      <td>0.0</td>\n",
       "      <td>138969465.0</td>\n",
       "      <td>0.0</td>\n",
       "      <td>Фонд кино</td>\n",
       "      <td>0.0</td>\n",
       "      <td>NaN</td>\n",
       "      <td>1.334699e+06</td>\n",
       "    </tr>\n",
       "    <tr>\n",
       "      <th>6142</th>\n",
       "      <td>6823</td>\n",
       "      <td>Большое путешествие</td>\n",
       "      <td>114002419</td>\n",
       "      <td>2019-04-20 12:00:00+00:00</td>\n",
       "      <td>Анимационный</td>\n",
       "      <td>ООО \"ЛИЦЕНЗИОННЫЕ БРЕНДЫ\"</td>\n",
       "      <td>Россия</td>\n",
       "      <td>Н.Лопато, В.Ровенский</td>\n",
       "      <td>ООО \"ЛИЦЕНЗИОННЫЕ БРЕНДЫ\"</td>\n",
       "      <td>«6+» - для детей старше 6 лет</td>\n",
       "      <td>60000000.0</td>\n",
       "      <td>120000000.0</td>\n",
       "      <td>0.0</td>\n",
       "      <td>Фонд кино</td>\n",
       "      <td>6.2</td>\n",
       "      <td>мультфильм,комедия,приключения</td>\n",
       "      <td>1.476068e+08</td>\n",
       "    </tr>\n",
       "  </tbody>\n",
       "</table>\n",
       "</div>"
      ],
      "text/plain": [
       "      index                   title   puNumber           show_start_date  \\\n",
       "1872   2053                     14+  111023614 2014-12-19 12:00:00+00:00   \n",
       "1877   2058               Дуxless 2  111000415 2015-01-26 12:00:00+00:00   \n",
       "2254   2472             Воин (2015)  111017315 2015-09-28 12:00:00+00:00   \n",
       "2312   2532                 Бармен.  111009615 2015-05-26 12:00:00+00:00   \n",
       "2386   2615     Савва. Сердце воина  114001715 2015-07-21 12:00:00+00:00   \n",
       "2448   2684          Тряпичный союз  111010215 2015-06-08 12:00:00+00:00   \n",
       "2544   2788      Срочно выйду замуж  111017115 2015-09-30 12:00:00+00:00   \n",
       "2624   2874       Помню - не помню!  111004916 2016-03-01 12:00:00+00:00   \n",
       "2789   3047  Любовь с ограничениями  111008216 2016-04-29 12:00:00+00:00   \n",
       "3279   3565       Притяжение (2016)  111018116 2016-12-16 12:00:00+00:00   \n",
       "3388   3675                Чудо-юдо  114001817 2017-06-27 12:00:00+00:00   \n",
       "3451   3739                    Мифы  111004317 2017-06-07 12:00:00+00:00   \n",
       "5014   5673                   Селфи  111012117 2018-02-01 12:00:00+00:00   \n",
       "5146   5806              Два хвоста  114001018 2018-05-31 12:00:00+00:00   \n",
       "5346   6008      Принцесса и дракон  114003018 2018-08-23 12:00:00+00:00   \n",
       "5654   6323                Баба Яга  114006518 2018-11-08 12:00:00+00:00   \n",
       "6142   6823     Большое путешествие  114002419 2019-04-20 12:00:00+00:00   \n",
       "\n",
       "                type                                        film_studio  \\\n",
       "1872  Художественный                         ООО Киностудия  \"Сентябрь\"   \n",
       "1877  Художественный  ООО \"Киностудия \"Слово\", ООО \"Арт Пикчерс Студия\"   \n",
       "2254  Художественный   ООО \"Форпост Продакшн\", ООО \"Арт Пикчерс Студия\"   \n",
       "2312  Художественный          АО \"ВайТ Медиа\", ООО \"Арт Пикчерс Студия\"   \n",
       "2386    Анимационный   ООО \"Глюкоза Продакшн\", ООО \"Арт Пикчерс Студия\"   \n",
       "2448  Художественный                      ООО \"Кинокомпания \"КОКТЕБЕЛЬ\"   \n",
       "2544  Художественный          АО \"ВайТ Медиа\", ООО \"Арт Пикчерс Студия\"   \n",
       "2624  Художественный                                    ООО \"КиноФирма\"   \n",
       "2789  Художественный          АО \"ВайТ Медиа\", ООО \"Арт Пикчерс Студия\"   \n",
       "3279  Художественный      ООО \"Водород 2011\",  ООО \"Арт Пикчерс Студия\"   \n",
       "3388    Анимационный                                    ООО \"КиноФирма\"   \n",
       "3451  Художественный           ООО \"ХАЙПФИЛМ\", ООО \"Арт Пикчерс Студия\"   \n",
       "5014  Художественный  ООО \"Киностудия \"Слово\", ООО \"Арт Пикчерс Студия\"   \n",
       "5146    Анимационный                          ООО \"ЛИЦЕНЗИОННЫЕ БРЕНДЫ\"   \n",
       "5346    Анимационный                          ООО \"ЛИЦЕНЗИОННЫЕ БРЕНДЫ\"   \n",
       "5654    Анимационный                           ООО \"Арт Пикчерс Студия\"   \n",
       "6142    Анимационный                          ООО \"ЛИЦЕНЗИОННЫЕ БРЕНДЫ\"   \n",
       "\n",
       "     production_country                        director  \\\n",
       "1872             Россия                        А.Зайцев   \n",
       "1877             Россия                      Р.Прыгунов   \n",
       "2254             Россия                     А.Андрианов   \n",
       "2312             Россия                    Д.Штурманова   \n",
       "2386             Россия                        М.Фадеев   \n",
       "2448             Россия                     М.Местецкий   \n",
       "2544             Россия                       С Чекалов   \n",
       "2624             Россия                     В.Ровенский   \n",
       "2789             Россия                         Д.Тюрин   \n",
       "3279             Россия                     Ф.Бондарчук   \n",
       "3388             Россия                       А.Лукичев   \n",
       "3451             Россия                    А.Молочников   \n",
       "5014             Россия                      Н.Хомерики   \n",
       "5146             Россия  В.Ровенский, Н.Лопато, В.Азеев   \n",
       "5346             Россия                      М.Нефедова   \n",
       "5654             Россия                         В.Саков   \n",
       "6142             Россия           Н.Лопато, В.Ровенский   \n",
       "\n",
       "                                               producer  \\\n",
       "1872                                О.Гранина, А.Зайцев   \n",
       "1877                 П.Ануров, Ф.Бондарчук, Д.Рудовский   \n",
       "2254                           ООО \"Арт Пикчерс Студия\"   \n",
       "2312                                        Т.Вайнштейн   \n",
       "2386                                         А.Чистяков   \n",
       "2448                              Р.Борисевич, А.Кушаев   \n",
       "2544              Ф.Бондарчук, Т.Вайнштейн, Д.Рудовский   \n",
       "2624                                    ООО \"КиноФирма\"   \n",
       "2789              Ф.Бондарчук, Т.Вайнштейн, Д.Рудовский   \n",
       "3279                           ООО \"Арт Пикчерс Студия\"   \n",
       "3388                                    ООО \"КиноФирма\"   \n",
       "3451  Ф.Бондарчук, Д.Рудовский, И.Стюарт, М.Османн, ...   \n",
       "5014                 П.Ануров, Ф.Бондарчук, Д.Рудовский   \n",
       "5146                          ООО \"ЛИЦЕНЗИОННЫЕ БРЕНДЫ\"   \n",
       "5346                          ООО \"ЛИЦЕНЗИОННЫЕ БРЕНДЫ\"   \n",
       "5654  ООО \"Арт Пикчерс Студия\", ООО \"КРИЭЙТИВ АНИМЭЙ...   \n",
       "6142                          ООО \"ЛИЦЕНЗИОННЫЕ БРЕНДЫ\"   \n",
       "\n",
       "                      age_restriction  refundable_support  \\\n",
       "1872  «16+» - для детей старше 16 лет                 0.0   \n",
       "1877  «16+» - для детей старше 16 лет                 0.0   \n",
       "2254  «12+» - для детей старше 12 лет          10000000.0   \n",
       "2312  «16+» - для детей старше 16 лет          20000000.0   \n",
       "2386    «6+» - для детей старше 6 лет          60000000.0   \n",
       "2448      «18+» - запрещено для детей                 0.0   \n",
       "2544  «16+» - для детей старше 16 лет                 0.0   \n",
       "2624  «12+» - для детей старше 12 лет                 0.0   \n",
       "2789  «16+» - для детей старше 16 лет          19000000.0   \n",
       "3279  «12+» - для детей старше 12 лет                 0.0   \n",
       "3388    «6+» - для детей старше 6 лет          20000000.0   \n",
       "3451  «16+» - для детей старше 16 лет          25000000.0   \n",
       "5014  «16+» - для детей старше 16 лет          20000000.0   \n",
       "5146    «6+» - для детей старше 6 лет          10000000.0   \n",
       "5346    «6+» - для детей старше 6 лет          40000000.0   \n",
       "5654    «6+» - для детей старше 6 лет                 0.0   \n",
       "6142    «6+» - для детей старше 6 лет          60000000.0   \n",
       "\n",
       "      nonrefundable_support  budget                  financing_source  \\\n",
       "1872             23000000.0     0.0  Министерство культуры, Фонд кино   \n",
       "1877             75000000.0     0.0                         Фонд кино   \n",
       "2254             70000000.0     0.0                         Фонд кино   \n",
       "2312                    0.0     0.0                         Фонд кино   \n",
       "2386            100000000.0     0.0                         Фонд кино   \n",
       "2448             59000000.0     0.0                         Фонд кино   \n",
       "2544             35000000.0     0.0                         Фонд кино   \n",
       "2624              6000000.0     0.0             Министерство культуры   \n",
       "2789             51000000.0     0.0                         Фонд кино   \n",
       "3279            250000000.0     0.0                         Фонд кино   \n",
       "3388             20000000.0     0.0                         Фонд кино   \n",
       "3451             20000000.0     0.0                         Фонд кино   \n",
       "5014             40000000.0     0.0                         Фонд кино   \n",
       "5146             60000000.0     0.0                         Фонд кино   \n",
       "5346             40000000.0     0.0                         Фонд кино   \n",
       "5654            138969465.0     0.0                         Фонд кино   \n",
       "6142            120000000.0     0.0                         Фонд кино   \n",
       "\n",
       "      ratings                          genres    box_office  \n",
       "1872      6.6                       мелодрама  1.023402e+07  \n",
       "1877      6.6                           драма  4.461635e+08  \n",
       "2254      7.8           боевик,драма,криминал  1.965724e+08  \n",
       "2312      6.2                 комедия,фэнтези  6.741897e+07  \n",
       "2386      4.6  мультфильм,приключения,фэнтези  1.844876e+08  \n",
       "2448      6.3                   комедия,драма  1.957739e+06  \n",
       "2544      5.1               комедия,мелодрама  7.293778e+07  \n",
       "2624      4.3                         комедия  1.536293e+07  \n",
       "2789      6.3               комедия,мелодрама  7.029905e+07  \n",
       "3279      5.6                      фантастика  1.038321e+09  \n",
       "3388      5.2     мультфильм,фэнтези,семейный  5.510801e+07  \n",
       "3451      4.8                         комедия  5.045195e+07  \n",
       "5014      5.8                   триллер,драма  2.251964e+08  \n",
       "5146      5.0              мультфильм,детский  1.065143e+08  \n",
       "5346      5.2      мультфильм,фэнтези,детский  8.336633e+07  \n",
       "5654      0.0                             NaN  1.334699e+06  \n",
       "6142      6.2  мультфильм,комедия,приключения  1.476068e+08  "
      ]
     },
     "execution_count": 35,
     "metadata": {},
     "output_type": "execute_result"
    }
   ],
   "source": [
    "data.query('budget<(refundable_support+ nonrefundable_support )')"
   ]
  },
  {
   "cell_type": "code",
   "execution_count": 36,
   "metadata": {},
   "outputs": [],
   "source": [
    "data.loc[(data['budget']<data['refundable_support'] + data['nonrefundable_support']), 'budget'] = data['refundable_support'] + data['nonrefundable_support']"
   ]
  },
  {
   "cell_type": "code",
   "execution_count": 37,
   "metadata": {},
   "outputs": [
    {
     "data": {
      "text/html": [
       "<div>\n",
       "<style scoped>\n",
       "    .dataframe tbody tr th:only-of-type {\n",
       "        vertical-align: middle;\n",
       "    }\n",
       "\n",
       "    .dataframe tbody tr th {\n",
       "        vertical-align: top;\n",
       "    }\n",
       "\n",
       "    .dataframe thead th {\n",
       "        text-align: right;\n",
       "    }\n",
       "</style>\n",
       "<table border=\"1\" class=\"dataframe\">\n",
       "  <thead>\n",
       "    <tr style=\"text-align: right;\">\n",
       "      <th></th>\n",
       "      <th>index</th>\n",
       "      <th>title</th>\n",
       "      <th>puNumber</th>\n",
       "      <th>show_start_date</th>\n",
       "      <th>type</th>\n",
       "      <th>film_studio</th>\n",
       "      <th>production_country</th>\n",
       "      <th>director</th>\n",
       "      <th>producer</th>\n",
       "      <th>age_restriction</th>\n",
       "      <th>refundable_support</th>\n",
       "      <th>nonrefundable_support</th>\n",
       "      <th>budget</th>\n",
       "      <th>financing_source</th>\n",
       "      <th>ratings</th>\n",
       "      <th>genres</th>\n",
       "      <th>box_office</th>\n",
       "    </tr>\n",
       "  </thead>\n",
       "  <tbody>\n",
       "  </tbody>\n",
       "</table>\n",
       "</div>"
      ],
      "text/plain": [
       "Empty DataFrame\n",
       "Columns: [index, title, puNumber, show_start_date, type, film_studio, production_country, director, producer, age_restriction, refundable_support, nonrefundable_support, budget, financing_source, ratings, genres, box_office]\n",
       "Index: []"
      ]
     },
     "execution_count": 37,
     "metadata": {},
     "output_type": "execute_result"
    }
   ],
   "source": [
    "data.query('budget<(refundable_support+ nonrefundable_support )')"
   ]
  },
  {
   "cell_type": "markdown",
   "metadata": {},
   "source": [
    "добавили условие, при котором, если бюджет < суммы гос поддержки, бюджет приравнивался бы к сумме господдержки"
   ]
  },
  {
   "cell_type": "markdown",
   "metadata": {
    "id": "Eu6oWp2CgFyS"
   },
   "source": [
    "#### Шаг 2.6. Добавьте новые столбцы\n",
    "\n",
    "\n",
    "\n"
   ]
  },
  {
   "cell_type": "markdown",
   "metadata": {
    "id": "7GgW-UpAgFyS"
   },
   "source": [
    "- Создайте столбец с информацией о годе проката. Выделите год из даты премьеры фильма."
   ]
  },
  {
   "cell_type": "code",
   "execution_count": 38,
   "metadata": {},
   "outputs": [
    {
     "name": "stdout",
     "output_type": "stream",
     "text": [
      "<class 'pandas.core.frame.DataFrame'>\n",
      "RangeIndex: 6772 entries, 0 to 6771\n",
      "Data columns (total 17 columns):\n",
      " #   Column                 Non-Null Count  Dtype              \n",
      "---  ------                 --------------  -----              \n",
      " 0   index                  6772 non-null   int64              \n",
      " 1   title                  6772 non-null   object             \n",
      " 2   puNumber               6772 non-null   int64              \n",
      " 3   show_start_date        6772 non-null   datetime64[ns, UTC]\n",
      " 4   type                   6771 non-null   object             \n",
      " 5   film_studio            6755 non-null   object             \n",
      " 6   production_country     6770 non-null   object             \n",
      " 7   director               6763 non-null   object             \n",
      " 8   producer               6213 non-null   object             \n",
      " 9   age_restriction        6772 non-null   object             \n",
      " 10  refundable_support     330 non-null    float64            \n",
      " 11  nonrefundable_support  330 non-null    float64            \n",
      " 12  budget                 330 non-null    float64            \n",
      " 13  financing_source       330 non-null    object             \n",
      " 14  ratings                6772 non-null   float64            \n",
      " 15  genres                 5806 non-null   object             \n",
      " 16  box_office             3017 non-null   float64            \n",
      "dtypes: datetime64[ns, UTC](1), float64(5), int64(2), object(9)\n",
      "memory usage: 899.5+ KB\n"
     ]
    }
   ],
   "source": [
    "data.info()"
   ]
  },
  {
   "cell_type": "code",
   "execution_count": 39,
   "metadata": {},
   "outputs": [],
   "source": [
    "data['show_start_year'] = data['show_start_date'].dt.year"
   ]
  },
  {
   "cell_type": "markdown",
   "metadata": {
    "id": "nFTDLDYOgFyT"
   },
   "source": [
    "- Создайте два столбца: с именем и фамилией главного режиссёра и основным жанром фильма. В столбцы войдут первые значения из списка режиссёров и жанров соответственно.\n",
    "\n",
    "<div id=\"accordion\">\n",
    "    <div class=\"card\">\n",
    "        <div class=\"card-header\" id=\"headingThree\">\n",
    "            <button class=\"btn btn-link collapsed\" data-toggle=\"collapse\" data-target=\"#collapseHint_2\" aria-expanded=\"false\" aria-controls=\"collapseHint_2\">Подсказка</button>\n",
    "        </div>\n",
    "        <div id=\"collapseHint_2\" class=\"collapse\" aria-labelledby=\"headingThree\" data-parent=\"#accordion\">\n",
    "            <div class=\"card-body\">\n",
    "Чтобы создать такие столбцы, лучше всего использовать собственную функцию. Эту функцию можно применить к двум столбцам сразу. \n",
    "            </div>\n",
    "        </div>\n",
    "    </div>\n",
    "</div>"
   ]
  },
  {
   "cell_type": "code",
   "execution_count": 40,
   "metadata": {
    "id": "LSbRZKbMgFyU"
   },
   "outputs": [],
   "source": [
    "def main_director_value(row): # функция преобразует ячейку дф в список и возвращает первый элемент\n",
    "    if pd.isna(row['director']):\n",
    "        return None\n",
    "    directors = str(row['director']).split(',')\n",
    "    return directors[0]\n",
    "data['main_director'] = data.apply(main_director_value,axis = 1)"
   ]
  },
  {
   "cell_type": "code",
   "execution_count": 41,
   "metadata": {},
   "outputs": [],
   "source": [
    "def main_genre_value(row): # функция преобразует ячейку дф в список и возвращает первый элемент\n",
    "    if pd.isna(row['genres']):\n",
    "        return None\n",
    "    genres_list = str(row['genres']).split(',')\n",
    "    return genres_list[0]\n",
    "data['main_genre'] = data.apply(main_genre_value,axis = 1)"
   ]
  },
  {
   "cell_type": "code",
   "execution_count": 42,
   "metadata": {},
   "outputs": [
    {
     "data": {
      "text/html": [
       "<div>\n",
       "<style scoped>\n",
       "    .dataframe tbody tr th:only-of-type {\n",
       "        vertical-align: middle;\n",
       "    }\n",
       "\n",
       "    .dataframe tbody tr th {\n",
       "        vertical-align: top;\n",
       "    }\n",
       "\n",
       "    .dataframe thead th {\n",
       "        text-align: right;\n",
       "    }\n",
       "</style>\n",
       "<table border=\"1\" class=\"dataframe\">\n",
       "  <thead>\n",
       "    <tr style=\"text-align: right;\">\n",
       "      <th></th>\n",
       "      <th>index</th>\n",
       "      <th>title</th>\n",
       "      <th>puNumber</th>\n",
       "      <th>show_start_date</th>\n",
       "      <th>type</th>\n",
       "      <th>film_studio</th>\n",
       "      <th>production_country</th>\n",
       "      <th>director</th>\n",
       "      <th>producer</th>\n",
       "      <th>age_restriction</th>\n",
       "      <th>refundable_support</th>\n",
       "      <th>nonrefundable_support</th>\n",
       "      <th>budget</th>\n",
       "      <th>financing_source</th>\n",
       "      <th>ratings</th>\n",
       "      <th>genres</th>\n",
       "      <th>box_office</th>\n",
       "      <th>show_start_year</th>\n",
       "      <th>main_director</th>\n",
       "      <th>main_genre</th>\n",
       "    </tr>\n",
       "  </thead>\n",
       "  <tbody>\n",
       "    <tr>\n",
       "      <th>50</th>\n",
       "      <td>53</td>\n",
       "      <td>Алешкина любовь</td>\n",
       "      <td>111010813</td>\n",
       "      <td>2013-12-19 12:00:00+00:00</td>\n",
       "      <td>Художественный</td>\n",
       "      <td>Киностудия \"Мосфильм\"</td>\n",
       "      <td>СССР</td>\n",
       "      <td>Семен Туманов</td>\n",
       "      <td>NaN</td>\n",
       "      <td>«12+» - для детей старше 12 лет</td>\n",
       "      <td>NaN</td>\n",
       "      <td>NaN</td>\n",
       "      <td>NaN</td>\n",
       "      <td>NaN</td>\n",
       "      <td>8.1</td>\n",
       "      <td>драма,мелодрама,комедия</td>\n",
       "      <td>NaN</td>\n",
       "      <td>2013</td>\n",
       "      <td>Семен Туманов</td>\n",
       "      <td>драма</td>\n",
       "    </tr>\n",
       "    <tr>\n",
       "      <th>51</th>\n",
       "      <td>54</td>\n",
       "      <td>50 первых поцелуев</td>\n",
       "      <td>221004416</td>\n",
       "      <td>2016-02-09 12:00:00+00:00</td>\n",
       "      <td>Художественный</td>\n",
       "      <td>Коламбиа Пикчерз, Хэппи Медисон Продакшнз, Фла...</td>\n",
       "      <td>США</td>\n",
       "      <td>Питер Сигал</td>\n",
       "      <td>Бини Барнс, Джозеф Дрэйк, Джон Линсон</td>\n",
       "      <td>«18+» - запрещено для детей</td>\n",
       "      <td>NaN</td>\n",
       "      <td>NaN</td>\n",
       "      <td>NaN</td>\n",
       "      <td>NaN</td>\n",
       "      <td>7.3</td>\n",
       "      <td>комедия,мелодрама,драма</td>\n",
       "      <td>NaN</td>\n",
       "      <td>2016</td>\n",
       "      <td>Питер Сигал</td>\n",
       "      <td>комедия</td>\n",
       "    </tr>\n",
       "    <tr>\n",
       "      <th>52</th>\n",
       "      <td>55</td>\n",
       "      <td>Адмирал Ушаков</td>\n",
       "      <td>111010413</td>\n",
       "      <td>2013-12-19 12:00:00+00:00</td>\n",
       "      <td>Художественный</td>\n",
       "      <td>Киностудия \"Мосфильм\"</td>\n",
       "      <td>СССР</td>\n",
       "      <td>М.Ромм</td>\n",
       "      <td>NaN</td>\n",
       "      <td>«6+» - для детей старше 6 лет</td>\n",
       "      <td>NaN</td>\n",
       "      <td>NaN</td>\n",
       "      <td>NaN</td>\n",
       "      <td>NaN</td>\n",
       "      <td>7.9</td>\n",
       "      <td>драма,биография,история</td>\n",
       "      <td>NaN</td>\n",
       "      <td>2013</td>\n",
       "      <td>М.Ромм</td>\n",
       "      <td>драма</td>\n",
       "    </tr>\n",
       "    <tr>\n",
       "      <th>53</th>\n",
       "      <td>56</td>\n",
       "      <td>А был ли Каротин?</td>\n",
       "      <td>111029514</td>\n",
       "      <td>2014-12-24 12:00:00+00:00</td>\n",
       "      <td>Художественный</td>\n",
       "      <td>Киностудия \"Мосфильм\"</td>\n",
       "      <td>СССР</td>\n",
       "      <td>Г.Полока</td>\n",
       "      <td>NaN</td>\n",
       "      <td>«12+» - для детей старше 12 лет</td>\n",
       "      <td>NaN</td>\n",
       "      <td>NaN</td>\n",
       "      <td>NaN</td>\n",
       "      <td>NaN</td>\n",
       "      <td>6.8</td>\n",
       "      <td>комедия,криминал</td>\n",
       "      <td>NaN</td>\n",
       "      <td>2014</td>\n",
       "      <td>Г.Полока</td>\n",
       "      <td>комедия</td>\n",
       "    </tr>\n",
       "    <tr>\n",
       "      <th>54</th>\n",
       "      <td>57</td>\n",
       "      <td>А если это любовь?</td>\n",
       "      <td>111010213</td>\n",
       "      <td>2013-12-19 12:00:00+00:00</td>\n",
       "      <td>Художественный</td>\n",
       "      <td>Киностудия \"Мосфильм\"</td>\n",
       "      <td>СССР</td>\n",
       "      <td>Ю.Райзман</td>\n",
       "      <td>NaN</td>\n",
       "      <td>«12+» - для детей старше 12 лет</td>\n",
       "      <td>NaN</td>\n",
       "      <td>NaN</td>\n",
       "      <td>NaN</td>\n",
       "      <td>NaN</td>\n",
       "      <td>7.7</td>\n",
       "      <td>драма</td>\n",
       "      <td>NaN</td>\n",
       "      <td>2013</td>\n",
       "      <td>Ю.Райзман</td>\n",
       "      <td>драма</td>\n",
       "    </tr>\n",
       "    <tr>\n",
       "      <th>55</th>\n",
       "      <td>58</td>\n",
       "      <td>Бесшабашное ограбление</td>\n",
       "      <td>221072814</td>\n",
       "      <td>2014-12-29 12:00:00+00:00</td>\n",
       "      <td>Художественный</td>\n",
       "      <td>Нью Маркет, Саммит Интертейнмент, Рэйвинг Мэд ...</td>\n",
       "      <td>США</td>\n",
       "      <td>Дрю Дэйуолт, Дэвид Шнейдер</td>\n",
       "      <td>Джон Балдеччи, Лоуренс Бендер, Кристофер Болл</td>\n",
       "      <td>«18+» - запрещено для детей</td>\n",
       "      <td>NaN</td>\n",
       "      <td>NaN</td>\n",
       "      <td>NaN</td>\n",
       "      <td>NaN</td>\n",
       "      <td>7.1</td>\n",
       "      <td>боевик,комедия,криминал</td>\n",
       "      <td>NaN</td>\n",
       "      <td>2014</td>\n",
       "      <td>Дрю Дэйуолт</td>\n",
       "      <td>боевик</td>\n",
       "    </tr>\n",
       "    <tr>\n",
       "      <th>56</th>\n",
       "      <td>59</td>\n",
       "      <td>Бешеное золото</td>\n",
       "      <td>111011613</td>\n",
       "      <td>2013-12-19 12:00:00+00:00</td>\n",
       "      <td>Художественный</td>\n",
       "      <td>Киностудия \"Мосфильм\"</td>\n",
       "      <td>СССР</td>\n",
       "      <td>С.Самсонов</td>\n",
       "      <td>NaN</td>\n",
       "      <td>«12+» - для детей старше 12 лет</td>\n",
       "      <td>NaN</td>\n",
       "      <td>NaN</td>\n",
       "      <td>NaN</td>\n",
       "      <td>NaN</td>\n",
       "      <td>6.3</td>\n",
       "      <td>комедия,криминал</td>\n",
       "      <td>NaN</td>\n",
       "      <td>2013</td>\n",
       "      <td>С.Самсонов</td>\n",
       "      <td>комедия</td>\n",
       "    </tr>\n",
       "    <tr>\n",
       "      <th>57</th>\n",
       "      <td>60</td>\n",
       "      <td>Братец медвежонок /По одноименному произведени...</td>\n",
       "      <td>224029312</td>\n",
       "      <td>2012-11-19 12:00:00+00:00</td>\n",
       "      <td>Анимационный</td>\n",
       "      <td>Уолт Дисней Пикчерз, Буена Виста Интернэшнл</td>\n",
       "      <td>США</td>\n",
       "      <td>Айрон Блейз, Роберт Уокер</td>\n",
       "      <td>Чак Уильямс</td>\n",
       "      <td>«0+» - для любой зрительской аудитории</td>\n",
       "      <td>NaN</td>\n",
       "      <td>NaN</td>\n",
       "      <td>NaN</td>\n",
       "      <td>NaN</td>\n",
       "      <td>7.9</td>\n",
       "      <td>мультфильм,фэнтези,комедия</td>\n",
       "      <td>NaN</td>\n",
       "      <td>2012</td>\n",
       "      <td>Айрон Блейз</td>\n",
       "      <td>мультфильм</td>\n",
       "    </tr>\n",
       "    <tr>\n",
       "      <th>58</th>\n",
       "      <td>61</td>\n",
       "      <td>Американская дочь</td>\n",
       "      <td>111005515</td>\n",
       "      <td>2015-04-23 12:00:00+00:00</td>\n",
       "      <td>Художественный</td>\n",
       "      <td>АО \"Караван\", Компания \"Америкен Дистрибьюшн\",...</td>\n",
       "      <td>Россия, Казахстан, США</td>\n",
       "      <td>К.Шахназаров</td>\n",
       "      <td>NaN</td>\n",
       "      <td>«6+» - для детей старше 6 лет</td>\n",
       "      <td>NaN</td>\n",
       "      <td>NaN</td>\n",
       "      <td>NaN</td>\n",
       "      <td>NaN</td>\n",
       "      <td>7.0</td>\n",
       "      <td>драма,комедия</td>\n",
       "      <td>300.0</td>\n",
       "      <td>2015</td>\n",
       "      <td>К.Шахназаров</td>\n",
       "      <td>драма</td>\n",
       "    </tr>\n",
       "    <tr>\n",
       "      <th>59</th>\n",
       "      <td>62</td>\n",
       "      <td>Беспредел _</td>\n",
       "      <td>111006515</td>\n",
       "      <td>2015-04-23 12:00:00+00:00</td>\n",
       "      <td>Художественный</td>\n",
       "      <td>Киностудия \"Мосфильм\" , Студия \"Ритм\"</td>\n",
       "      <td>СССР</td>\n",
       "      <td>И.Гостев</td>\n",
       "      <td>NaN</td>\n",
       "      <td>«16+» - для детей старше 16 лет</td>\n",
       "      <td>NaN</td>\n",
       "      <td>NaN</td>\n",
       "      <td>NaN</td>\n",
       "      <td>NaN</td>\n",
       "      <td>7.8</td>\n",
       "      <td>драма,криминал</td>\n",
       "      <td>NaN</td>\n",
       "      <td>2015</td>\n",
       "      <td>И.Гостев</td>\n",
       "      <td>драма</td>\n",
       "    </tr>\n",
       "    <tr>\n",
       "      <th>60</th>\n",
       "      <td>63</td>\n",
       "      <td>Бешеные деньги.</td>\n",
       "      <td>111011713</td>\n",
       "      <td>2013-12-19 12:00:00+00:00</td>\n",
       "      <td>Художественный</td>\n",
       "      <td>Киностудия \"Мосфильм\"</td>\n",
       "      <td>СССР</td>\n",
       "      <td>Е.Матвеев</td>\n",
       "      <td>NaN</td>\n",
       "      <td>«6+» - для детей старше 6 лет</td>\n",
       "      <td>NaN</td>\n",
       "      <td>NaN</td>\n",
       "      <td>NaN</td>\n",
       "      <td>NaN</td>\n",
       "      <td>7.3</td>\n",
       "      <td>комедия,история</td>\n",
       "      <td>NaN</td>\n",
       "      <td>2013</td>\n",
       "      <td>Е.Матвеев</td>\n",
       "      <td>комедия</td>\n",
       "    </tr>\n",
       "    <tr>\n",
       "      <th>61</th>\n",
       "      <td>64</td>\n",
       "      <td>Аттестат зрелости</td>\n",
       "      <td>111005915</td>\n",
       "      <td>2015-04-23 12:00:00+00:00</td>\n",
       "      <td>Художественный</td>\n",
       "      <td>Киностудия \"Мосфильм\"</td>\n",
       "      <td>СССР</td>\n",
       "      <td>Т.Лукашевич</td>\n",
       "      <td>NaN</td>\n",
       "      <td>«12+» - для детей старше 12 лет</td>\n",
       "      <td>NaN</td>\n",
       "      <td>NaN</td>\n",
       "      <td>NaN</td>\n",
       "      <td>NaN</td>\n",
       "      <td>6.9</td>\n",
       "      <td>драма</td>\n",
       "      <td>67500.0</td>\n",
       "      <td>2015</td>\n",
       "      <td>Т.Лукашевич</td>\n",
       "      <td>драма</td>\n",
       "    </tr>\n",
       "    <tr>\n",
       "      <th>62</th>\n",
       "      <td>65</td>\n",
       "      <td>Бархатный сезон</td>\n",
       "      <td>111011113</td>\n",
       "      <td>2013-12-19 12:00:00+00:00</td>\n",
       "      <td>Художественный</td>\n",
       "      <td>Киностудия \"Мосфильм\", \"Про Дис Фильм\" АГ Цюри...</td>\n",
       "      <td>СССР, Швеция</td>\n",
       "      <td>В.Павлович</td>\n",
       "      <td>NaN</td>\n",
       "      <td>«6+» - для детей старше 6 лет</td>\n",
       "      <td>NaN</td>\n",
       "      <td>NaN</td>\n",
       "      <td>NaN</td>\n",
       "      <td>NaN</td>\n",
       "      <td>5.9</td>\n",
       "      <td>мелодрама</td>\n",
       "      <td>NaN</td>\n",
       "      <td>2013</td>\n",
       "      <td>В.Павлович</td>\n",
       "      <td>мелодрама</td>\n",
       "    </tr>\n",
       "    <tr>\n",
       "      <th>63</th>\n",
       "      <td>66</td>\n",
       "      <td>Анна Павлова</td>\n",
       "      <td>111011013</td>\n",
       "      <td>2013-12-19 12:00:00+00:00</td>\n",
       "      <td>Художественный</td>\n",
       "      <td>совместное производство Киностудия \"Мосфильм\",...</td>\n",
       "      <td>СССР, Франция, Англия, Куба, ГДР</td>\n",
       "      <td>Эмиль Лотяну</td>\n",
       "      <td>NaN</td>\n",
       "      <td>«6+» - для детей старше 6 лет</td>\n",
       "      <td>NaN</td>\n",
       "      <td>NaN</td>\n",
       "      <td>NaN</td>\n",
       "      <td>NaN</td>\n",
       "      <td>7.7</td>\n",
       "      <td>драма,биография,музыка</td>\n",
       "      <td>0.0</td>\n",
       "      <td>2013</td>\n",
       "      <td>Эмиль Лотяну</td>\n",
       "      <td>драма</td>\n",
       "    </tr>\n",
       "    <tr>\n",
       "      <th>64</th>\n",
       "      <td>67</td>\n",
       "      <td>Босиком по мостовой</td>\n",
       "      <td>221005215</td>\n",
       "      <td>2015-02-25 12:00:00+00:00</td>\n",
       "      <td>Художественный</td>\n",
       "      <td>Буена Виста Интернэшнл Филм Продакшн, Фильмшти...</td>\n",
       "      <td>Германия</td>\n",
       "      <td>Тиль Швайгер</td>\n",
       "      <td>Тиль Швайгер</td>\n",
       "      <td>«16+» - для детей старше 16 лет</td>\n",
       "      <td>NaN</td>\n",
       "      <td>NaN</td>\n",
       "      <td>NaN</td>\n",
       "      <td>NaN</td>\n",
       "      <td>7.9</td>\n",
       "      <td>драма,мелодрама,комедия</td>\n",
       "      <td>NaN</td>\n",
       "      <td>2015</td>\n",
       "      <td>Тиль Швайгер</td>\n",
       "      <td>драма</td>\n",
       "    </tr>\n",
       "    <tr>\n",
       "      <th>65</th>\n",
       "      <td>68</td>\n",
       "      <td>Алые паруса</td>\n",
       "      <td>111010913</td>\n",
       "      <td>2013-12-19 12:00:00+00:00</td>\n",
       "      <td>Художественный</td>\n",
       "      <td>Киностудия \"Мосфильм\"</td>\n",
       "      <td>СССР</td>\n",
       "      <td>А.Птушко</td>\n",
       "      <td>NaN</td>\n",
       "      <td>«6+» - для детей старше 6 лет</td>\n",
       "      <td>NaN</td>\n",
       "      <td>NaN</td>\n",
       "      <td>NaN</td>\n",
       "      <td>NaN</td>\n",
       "      <td>7.8</td>\n",
       "      <td>фэнтези,драма,мелодрама</td>\n",
       "      <td>1850.0</td>\n",
       "      <td>2013</td>\n",
       "      <td>А.Птушко</td>\n",
       "      <td>фэнтези</td>\n",
       "    </tr>\n",
       "    <tr>\n",
       "      <th>66</th>\n",
       "      <td>69</td>\n",
       "      <td>Аэлита, не приставай к мужчинам</td>\n",
       "      <td>111006015</td>\n",
       "      <td>2015-04-23 12:00:00+00:00</td>\n",
       "      <td>Художественный</td>\n",
       "      <td>Киностудия \"Мосфильм\"</td>\n",
       "      <td>СССР</td>\n",
       "      <td>Г.Натансон</td>\n",
       "      <td>NaN</td>\n",
       "      <td>«12+» - для детей старше 12 лет</td>\n",
       "      <td>NaN</td>\n",
       "      <td>NaN</td>\n",
       "      <td>NaN</td>\n",
       "      <td>NaN</td>\n",
       "      <td>6.6</td>\n",
       "      <td>мелодрама,комедия</td>\n",
       "      <td>NaN</td>\n",
       "      <td>2015</td>\n",
       "      <td>Г.Натансон</td>\n",
       "      <td>мелодрама</td>\n",
       "    </tr>\n",
       "    <tr>\n",
       "      <th>67</th>\n",
       "      <td>70</td>\n",
       "      <td>Бой после победы</td>\n",
       "      <td>111011813</td>\n",
       "      <td>2013-12-19 12:00:00+00:00</td>\n",
       "      <td>Художественный</td>\n",
       "      <td>Киностудия \"Мосфильм\"</td>\n",
       "      <td>СССР</td>\n",
       "      <td>В.Азаров</td>\n",
       "      <td>NaN</td>\n",
       "      <td>«6+» - для детей старше 6 лет</td>\n",
       "      <td>NaN</td>\n",
       "      <td>NaN</td>\n",
       "      <td>NaN</td>\n",
       "      <td>NaN</td>\n",
       "      <td>7.0</td>\n",
       "      <td>триллер,военный</td>\n",
       "      <td>NaN</td>\n",
       "      <td>2013</td>\n",
       "      <td>В.Азаров</td>\n",
       "      <td>триллер</td>\n",
       "    </tr>\n",
       "    <tr>\n",
       "      <th>68</th>\n",
       "      <td>71</td>\n",
       "      <td>Братья Карамазовы</td>\n",
       "      <td>111012313</td>\n",
       "      <td>2013-12-19 12:00:00+00:00</td>\n",
       "      <td>Художественный</td>\n",
       "      <td>Киностудия \"Мосфильм\"</td>\n",
       "      <td>СССР</td>\n",
       "      <td>И.Пырьев, М.Ульянов, К.Лавров</td>\n",
       "      <td>NaN</td>\n",
       "      <td>«6+» - для детей старше 6 лет</td>\n",
       "      <td>NaN</td>\n",
       "      <td>NaN</td>\n",
       "      <td>NaN</td>\n",
       "      <td>NaN</td>\n",
       "      <td>8.1</td>\n",
       "      <td>драма</td>\n",
       "      <td>NaN</td>\n",
       "      <td>2013</td>\n",
       "      <td>И.Пырьев</td>\n",
       "      <td>драма</td>\n",
       "    </tr>\n",
       "    <tr>\n",
       "      <th>69</th>\n",
       "      <td>72</td>\n",
       "      <td>Белая графиня</td>\n",
       "      <td>121006606</td>\n",
       "      <td>2015-12-15 12:00:00+00:00</td>\n",
       "      <td>Художественный</td>\n",
       "      <td>Мерчант Айвори Продакшнз, Микадо Филмз, Шанхай...</td>\n",
       "      <td>Великобритания-США-Германия-КНР</td>\n",
       "      <td>Джеймс Айвори</td>\n",
       "      <td>Исмаил Мерчант</td>\n",
       "      <td>«12+» - для детей старше 12 лет</td>\n",
       "      <td>NaN</td>\n",
       "      <td>NaN</td>\n",
       "      <td>NaN</td>\n",
       "      <td>NaN</td>\n",
       "      <td>6.8</td>\n",
       "      <td>драма,мелодрама,военный</td>\n",
       "      <td>NaN</td>\n",
       "      <td>2015</td>\n",
       "      <td>Джеймс Айвори</td>\n",
       "      <td>драма</td>\n",
       "    </tr>\n",
       "    <tr>\n",
       "      <th>70</th>\n",
       "      <td>73</td>\n",
       "      <td>В шесть часов вечера после войны</td>\n",
       "      <td>111006715</td>\n",
       "      <td>2015-04-23 12:00:00+00:00</td>\n",
       "      <td>Художественный</td>\n",
       "      <td>Киностудия \"Мосфильм\"</td>\n",
       "      <td>СССР</td>\n",
       "      <td>И.Пырьев</td>\n",
       "      <td>NaN</td>\n",
       "      <td>«6+» - для детей старше 6 лет</td>\n",
       "      <td>NaN</td>\n",
       "      <td>NaN</td>\n",
       "      <td>NaN</td>\n",
       "      <td>NaN</td>\n",
       "      <td>7.2</td>\n",
       "      <td>мюзикл,драма,мелодрама</td>\n",
       "      <td>NaN</td>\n",
       "      <td>2015</td>\n",
       "      <td>И.Пырьев</td>\n",
       "      <td>мюзикл</td>\n",
       "    </tr>\n",
       "    <tr>\n",
       "      <th>71</th>\n",
       "      <td>74</td>\n",
       "      <td>Борец и клоун</td>\n",
       "      <td>111012013</td>\n",
       "      <td>2013-12-19 12:00:00+00:00</td>\n",
       "      <td>Художественный</td>\n",
       "      <td>Киностудия \"Мосфильм\"</td>\n",
       "      <td>СССР</td>\n",
       "      <td>К.Юдин, Б.Барнет</td>\n",
       "      <td>NaN</td>\n",
       "      <td>«6+» - для детей старше 6 лет</td>\n",
       "      <td>NaN</td>\n",
       "      <td>NaN</td>\n",
       "      <td>NaN</td>\n",
       "      <td>NaN</td>\n",
       "      <td>7.1</td>\n",
       "      <td>драма,спорт</td>\n",
       "      <td>NaN</td>\n",
       "      <td>2013</td>\n",
       "      <td>К.Юдин</td>\n",
       "      <td>драма</td>\n",
       "    </tr>\n",
       "    <tr>\n",
       "      <th>72</th>\n",
       "      <td>75</td>\n",
       "      <td>Борис Годунов</td>\n",
       "      <td>111012213</td>\n",
       "      <td>2013-12-19 12:00:00+00:00</td>\n",
       "      <td>Художественный</td>\n",
       "      <td>Киностудия \"Мосфильм\",  \"Баррандов\" (ЧССР) при...</td>\n",
       "      <td>СССР, ЧССР, Западный Берлин, ПНР</td>\n",
       "      <td>С.Бондарчук</td>\n",
       "      <td>NaN</td>\n",
       "      <td>«6+» - для детей старше 6 лет</td>\n",
       "      <td>NaN</td>\n",
       "      <td>NaN</td>\n",
       "      <td>NaN</td>\n",
       "      <td>NaN</td>\n",
       "      <td>6.2</td>\n",
       "      <td>драма</td>\n",
       "      <td>420.0</td>\n",
       "      <td>2013</td>\n",
       "      <td>С.Бондарчук</td>\n",
       "      <td>драма</td>\n",
       "    </tr>\n",
       "    <tr>\n",
       "      <th>73</th>\n",
       "      <td>76</td>\n",
       "      <td>Большой аттракцион</td>\n",
       "      <td>111011913</td>\n",
       "      <td>2013-12-19 12:00:00+00:00</td>\n",
       "      <td>Художественный</td>\n",
       "      <td>Киностудия \"Мосфильм\"</td>\n",
       "      <td>СССР</td>\n",
       "      <td>В.Георгиев</td>\n",
       "      <td>NaN</td>\n",
       "      <td>«0+» - для любой зрительской аудитории</td>\n",
       "      <td>NaN</td>\n",
       "      <td>NaN</td>\n",
       "      <td>NaN</td>\n",
       "      <td>NaN</td>\n",
       "      <td>5.6</td>\n",
       "      <td>мюзикл,комедия</td>\n",
       "      <td>NaN</td>\n",
       "      <td>2013</td>\n",
       "      <td>В.Георгиев</td>\n",
       "      <td>мюзикл</td>\n",
       "    </tr>\n",
       "    <tr>\n",
       "      <th>74</th>\n",
       "      <td>77</td>\n",
       "      <td>Битва в пути</td>\n",
       "      <td>111026014</td>\n",
       "      <td>2014-12-24 12:00:00+00:00</td>\n",
       "      <td>Художественный</td>\n",
       "      <td>Киностудия \"Мосфильм\"</td>\n",
       "      <td>СССР</td>\n",
       "      <td>В.Басов</td>\n",
       "      <td>NaN</td>\n",
       "      <td>«12+» - для детей старше 12 лет</td>\n",
       "      <td>NaN</td>\n",
       "      <td>NaN</td>\n",
       "      <td>NaN</td>\n",
       "      <td>NaN</td>\n",
       "      <td>6.9</td>\n",
       "      <td>драма</td>\n",
       "      <td>NaN</td>\n",
       "      <td>2014</td>\n",
       "      <td>В.Басов</td>\n",
       "      <td>драма</td>\n",
       "    </tr>\n",
       "    <tr>\n",
       "      <th>75</th>\n",
       "      <td>78</td>\n",
       "      <td>Будьте моим мужем</td>\n",
       "      <td>111012413</td>\n",
       "      <td>2013-12-19 12:00:00+00:00</td>\n",
       "      <td>Художественный</td>\n",
       "      <td>Киностудия \"Мосфильм\"</td>\n",
       "      <td>СССР</td>\n",
       "      <td>А.Сурикова</td>\n",
       "      <td>NaN</td>\n",
       "      <td>«6+» - для детей старше 6 лет</td>\n",
       "      <td>NaN</td>\n",
       "      <td>NaN</td>\n",
       "      <td>NaN</td>\n",
       "      <td>NaN</td>\n",
       "      <td>6.4</td>\n",
       "      <td>комедия</td>\n",
       "      <td>200.0</td>\n",
       "      <td>2013</td>\n",
       "      <td>А.Сурикова</td>\n",
       "      <td>комедия</td>\n",
       "    </tr>\n",
       "    <tr>\n",
       "      <th>76</th>\n",
       "      <td>79</td>\n",
       "      <td>Букашки 3D</td>\n",
       "      <td>126003116</td>\n",
       "      <td>2016-07-01 12:00:00+00:00</td>\n",
       "      <td>Прочие</td>\n",
       "      <td>Принципал Лардж Формат, Си Кей Филмз, Филм Коу...</td>\n",
       "      <td>Великобритания</td>\n",
       "      <td>Майк Слии</td>\n",
       "      <td>Фил Срэйзер, Александра Фергюсон</td>\n",
       "      <td>«0+» - для любой зрительской аудитории</td>\n",
       "      <td>NaN</td>\n",
       "      <td>NaN</td>\n",
       "      <td>NaN</td>\n",
       "      <td>NaN</td>\n",
       "      <td>7.1</td>\n",
       "      <td>мультфильм,приключения,семейный</td>\n",
       "      <td>NaN</td>\n",
       "      <td>2016</td>\n",
       "      <td>Майк Слии</td>\n",
       "      <td>мультфильм</td>\n",
       "    </tr>\n",
       "    <tr>\n",
       "      <th>77</th>\n",
       "      <td>80</td>\n",
       "      <td>Вирус любви</td>\n",
       "      <td>221058214</td>\n",
       "      <td>2014-10-15 12:00:00+00:00</td>\n",
       "      <td>Художественный</td>\n",
       "      <td>Мирамакс, Игнит Интертейнмент, Морфеус Продакшн</td>\n",
       "      <td>США</td>\n",
       "      <td>Томми О'Хавер</td>\n",
       "      <td>Майкл Бёрнс, Марк Бутан</td>\n",
       "      <td>«16+» - для детей старше 16 лет</td>\n",
       "      <td>NaN</td>\n",
       "      <td>NaN</td>\n",
       "      <td>NaN</td>\n",
       "      <td>NaN</td>\n",
       "      <td>6.6</td>\n",
       "      <td>мелодрама,комедия</td>\n",
       "      <td>NaN</td>\n",
       "      <td>2014</td>\n",
       "      <td>Томми О'Хавер</td>\n",
       "      <td>мелодрама</td>\n",
       "    </tr>\n",
       "    <tr>\n",
       "      <th>78</th>\n",
       "      <td>81</td>\n",
       "      <td>Високосный год</td>\n",
       "      <td>111013113</td>\n",
       "      <td>2013-12-19 12:00:00+00:00</td>\n",
       "      <td>Художественный</td>\n",
       "      <td>Киностудия \"Мосфильм\"</td>\n",
       "      <td>СССР</td>\n",
       "      <td>А.Эфрос</td>\n",
       "      <td>NaN</td>\n",
       "      <td>«12+» - для детей старше 12 лет</td>\n",
       "      <td>NaN</td>\n",
       "      <td>NaN</td>\n",
       "      <td>NaN</td>\n",
       "      <td>NaN</td>\n",
       "      <td>5.8</td>\n",
       "      <td>драма,мелодрама</td>\n",
       "      <td>NaN</td>\n",
       "      <td>2013</td>\n",
       "      <td>А.Эфрос</td>\n",
       "      <td>драма</td>\n",
       "    </tr>\n",
       "    <tr>\n",
       "      <th>79</th>\n",
       "      <td>82</td>\n",
       "      <td>Вакансия</td>\n",
       "      <td>111012513</td>\n",
       "      <td>2013-12-19 12:00:00+00:00</td>\n",
       "      <td>Художественный</td>\n",
       "      <td>Киностудия \"Мосфильм\"</td>\n",
       "      <td>СССР</td>\n",
       "      <td>М.Микаэлян</td>\n",
       "      <td>NaN</td>\n",
       "      <td>«6+» - для детей старше 6 лет</td>\n",
       "      <td>NaN</td>\n",
       "      <td>NaN</td>\n",
       "      <td>NaN</td>\n",
       "      <td>NaN</td>\n",
       "      <td>6.5</td>\n",
       "      <td>ужасы,триллер</td>\n",
       "      <td>NaN</td>\n",
       "      <td>2013</td>\n",
       "      <td>М.Микаэлян</td>\n",
       "      <td>ужасы</td>\n",
       "    </tr>\n",
       "    <tr>\n",
       "      <th>80</th>\n",
       "      <td>83</td>\n",
       "      <td>Берегите мужчин!</td>\n",
       "      <td>111011513</td>\n",
       "      <td>2013-12-19 12:00:00+00:00</td>\n",
       "      <td>Художественный</td>\n",
       "      <td>Киностудия \"Мосфильм\"</td>\n",
       "      <td>СССР</td>\n",
       "      <td>А.Серый</td>\n",
       "      <td>NaN</td>\n",
       "      <td>«12+» - для детей старше 12 лет</td>\n",
       "      <td>NaN</td>\n",
       "      <td>NaN</td>\n",
       "      <td>NaN</td>\n",
       "      <td>NaN</td>\n",
       "      <td>6.2</td>\n",
       "      <td>комедия</td>\n",
       "      <td>NaN</td>\n",
       "      <td>2013</td>\n",
       "      <td>А.Серый</td>\n",
       "      <td>комедия</td>\n",
       "    </tr>\n",
       "    <tr>\n",
       "      <th>81</th>\n",
       "      <td>84</td>\n",
       "      <td>Блондинка и блондинка</td>\n",
       "      <td>221020115</td>\n",
       "      <td>2015-05-25 12:00:00+00:00</td>\n",
       "      <td>Художественный</td>\n",
       "      <td>Ригел Интертейнмент</td>\n",
       "      <td>США</td>\n",
       "      <td>Дин Хэмилтон</td>\n",
       "      <td>Джефри Бармаш, Кирк Шоу</td>\n",
       "      <td>«16+» - для детей старше 16 лет</td>\n",
       "      <td>NaN</td>\n",
       "      <td>NaN</td>\n",
       "      <td>NaN</td>\n",
       "      <td>NaN</td>\n",
       "      <td>2.4</td>\n",
       "      <td>комедия,криминал</td>\n",
       "      <td>NaN</td>\n",
       "      <td>2015</td>\n",
       "      <td>Дин Хэмилтон</td>\n",
       "      <td>комедия</td>\n",
       "    </tr>\n",
       "    <tr>\n",
       "      <th>82</th>\n",
       "      <td>85</td>\n",
       "      <td>Валентин и Валентина</td>\n",
       "      <td>111012613</td>\n",
       "      <td>2013-12-19 12:00:00+00:00</td>\n",
       "      <td>Художественный</td>\n",
       "      <td>Киностудия \"Мосфильм\"</td>\n",
       "      <td>СССР</td>\n",
       "      <td>Г.Натансон</td>\n",
       "      <td>NaN</td>\n",
       "      <td>«6+» - для детей старше 6 лет</td>\n",
       "      <td>NaN</td>\n",
       "      <td>NaN</td>\n",
       "      <td>NaN</td>\n",
       "      <td>NaN</td>\n",
       "      <td>7.3</td>\n",
       "      <td>драма,мелодрама</td>\n",
       "      <td>NaN</td>\n",
       "      <td>2013</td>\n",
       "      <td>Г.Натансон</td>\n",
       "      <td>драма</td>\n",
       "    </tr>\n",
       "    <tr>\n",
       "      <th>83</th>\n",
       "      <td>86</td>\n",
       "      <td>Валентина</td>\n",
       "      <td>111012713</td>\n",
       "      <td>2013-12-19 12:00:00+00:00</td>\n",
       "      <td>Художественный</td>\n",
       "      <td>Киностудия \"Мосфильм\"</td>\n",
       "      <td>СССР</td>\n",
       "      <td>Г.Панфилов</td>\n",
       "      <td>NaN</td>\n",
       "      <td>«6+» - для детей старше 6 лет</td>\n",
       "      <td>NaN</td>\n",
       "      <td>NaN</td>\n",
       "      <td>NaN</td>\n",
       "      <td>NaN</td>\n",
       "      <td>7.5</td>\n",
       "      <td>драма</td>\n",
       "      <td>NaN</td>\n",
       "      <td>2013</td>\n",
       "      <td>Г.Панфилов</td>\n",
       "      <td>драма</td>\n",
       "    </tr>\n",
       "    <tr>\n",
       "      <th>84</th>\n",
       "      <td>87</td>\n",
       "      <td>Взрослые дети.</td>\n",
       "      <td>111013013</td>\n",
       "      <td>2013-12-19 12:00:00+00:00</td>\n",
       "      <td>Художественный</td>\n",
       "      <td>Киностудия \"Мосфильм\"</td>\n",
       "      <td>СССР</td>\n",
       "      <td>В.Азаров</td>\n",
       "      <td>NaN</td>\n",
       "      <td>«6+» - для детей старше 6 лет</td>\n",
       "      <td>NaN</td>\n",
       "      <td>NaN</td>\n",
       "      <td>NaN</td>\n",
       "      <td>NaN</td>\n",
       "      <td>7.8</td>\n",
       "      <td>драма,комедия</td>\n",
       "      <td>NaN</td>\n",
       "      <td>2013</td>\n",
       "      <td>В.Азаров</td>\n",
       "      <td>драма</td>\n",
       "    </tr>\n",
       "    <tr>\n",
       "      <th>85</th>\n",
       "      <td>88</td>\n",
       "      <td>Ватерлоо</td>\n",
       "      <td>111003014</td>\n",
       "      <td>2014-03-14 12:00:00+00:00</td>\n",
       "      <td>Художественный</td>\n",
       "      <td>\"Дино де Лаурентиис\" (Италия) при участии Кино...</td>\n",
       "      <td>СССР, Италия</td>\n",
       "      <td>Сергей Бондарчук</td>\n",
       "      <td>NaN</td>\n",
       "      <td>«6+» - для детей старше 6 лет</td>\n",
       "      <td>NaN</td>\n",
       "      <td>NaN</td>\n",
       "      <td>NaN</td>\n",
       "      <td>NaN</td>\n",
       "      <td>7.7</td>\n",
       "      <td>боевик,драма,военный</td>\n",
       "      <td>NaN</td>\n",
       "      <td>2014</td>\n",
       "      <td>Сергей Бондарчук</td>\n",
       "      <td>боевик</td>\n",
       "    </tr>\n",
       "    <tr>\n",
       "      <th>86</th>\n",
       "      <td>89</td>\n",
       "      <td>Выстрел.</td>\n",
       "      <td>111013613</td>\n",
       "      <td>2013-12-19 12:00:00+00:00</td>\n",
       "      <td>Художественный</td>\n",
       "      <td>Киностудия \"Мосфильм\"</td>\n",
       "      <td>СССР</td>\n",
       "      <td>Н.Трахтенберг</td>\n",
       "      <td>NaN</td>\n",
       "      <td>«12+» - для детей старше 12 лет</td>\n",
       "      <td>NaN</td>\n",
       "      <td>NaN</td>\n",
       "      <td>NaN</td>\n",
       "      <td>NaN</td>\n",
       "      <td>7.4</td>\n",
       "      <td>триллер,драма,криминал</td>\n",
       "      <td>3040.0</td>\n",
       "      <td>2013</td>\n",
       "      <td>Н.Трахтенберг</td>\n",
       "      <td>триллер</td>\n",
       "    </tr>\n",
       "    <tr>\n",
       "      <th>87</th>\n",
       "      <td>90</td>\n",
       "      <td>Возмездие_</td>\n",
       "      <td>111013213</td>\n",
       "      <td>2013-12-19 12:00:00+00:00</td>\n",
       "      <td>Художественный</td>\n",
       "      <td>Киностудия \"Мосфильм\"</td>\n",
       "      <td>СССР</td>\n",
       "      <td>А.Столпер</td>\n",
       "      <td>NaN</td>\n",
       "      <td>«6+» - для детей старше 6 лет</td>\n",
       "      <td>NaN</td>\n",
       "      <td>NaN</td>\n",
       "      <td>NaN</td>\n",
       "      <td>NaN</td>\n",
       "      <td>6.7</td>\n",
       "      <td>драма,боевик</td>\n",
       "      <td>NaN</td>\n",
       "      <td>2013</td>\n",
       "      <td>А.Столпер</td>\n",
       "      <td>драма</td>\n",
       "    </tr>\n",
       "    <tr>\n",
       "      <th>88</th>\n",
       "      <td>91</td>\n",
       "      <td>Время, вперед!</td>\n",
       "      <td>111013513</td>\n",
       "      <td>2013-12-19 12:00:00+00:00</td>\n",
       "      <td>Художественный</td>\n",
       "      <td>Киностудия \"Мосфильм\"</td>\n",
       "      <td>СССР</td>\n",
       "      <td>М.Швейцер, С.Милькина</td>\n",
       "      <td>NaN</td>\n",
       "      <td>«6+» - для детей старше 6 лет</td>\n",
       "      <td>NaN</td>\n",
       "      <td>NaN</td>\n",
       "      <td>NaN</td>\n",
       "      <td>NaN</td>\n",
       "      <td>7.2</td>\n",
       "      <td>драма,история</td>\n",
       "      <td>NaN</td>\n",
       "      <td>2013</td>\n",
       "      <td>М.Швейцер</td>\n",
       "      <td>драма</td>\n",
       "    </tr>\n",
       "    <tr>\n",
       "      <th>89</th>\n",
       "      <td>92</td>\n",
       "      <td>Вас ожидает гражданка Никанорова</td>\n",
       "      <td>111012813</td>\n",
       "      <td>2013-12-19 12:00:00+00:00</td>\n",
       "      <td>Художественный</td>\n",
       "      <td>Киностудия \"Мосфильм\"</td>\n",
       "      <td>СССР</td>\n",
       "      <td>Л.Марягин</td>\n",
       "      <td>NaN</td>\n",
       "      <td>«12+» - для детей старше 12 лет</td>\n",
       "      <td>NaN</td>\n",
       "      <td>NaN</td>\n",
       "      <td>NaN</td>\n",
       "      <td>NaN</td>\n",
       "      <td>7.3</td>\n",
       "      <td>драма,мелодрама,комедия</td>\n",
       "      <td>NaN</td>\n",
       "      <td>2013</td>\n",
       "      <td>Л.Марягин</td>\n",
       "      <td>драма</td>\n",
       "    </tr>\n",
       "    <tr>\n",
       "      <th>90</th>\n",
       "      <td>93</td>\n",
       "      <td>Васса</td>\n",
       "      <td>111012913</td>\n",
       "      <td>2013-12-19 12:00:00+00:00</td>\n",
       "      <td>Художественный</td>\n",
       "      <td>Киностудия \"Мосфильм\"</td>\n",
       "      <td>СССР</td>\n",
       "      <td>Г.Панфилов</td>\n",
       "      <td>NaN</td>\n",
       "      <td>«6+» - для детей старше 6 лет</td>\n",
       "      <td>NaN</td>\n",
       "      <td>NaN</td>\n",
       "      <td>NaN</td>\n",
       "      <td>NaN</td>\n",
       "      <td>7.9</td>\n",
       "      <td>драма</td>\n",
       "      <td>NaN</td>\n",
       "      <td>2013</td>\n",
       "      <td>Г.Панфилов</td>\n",
       "      <td>драма</td>\n",
       "    </tr>\n",
       "    <tr>\n",
       "      <th>91</th>\n",
       "      <td>94</td>\n",
       "      <td>Вольт</td>\n",
       "      <td>224029412</td>\n",
       "      <td>2012-11-19 12:00:00+00:00</td>\n",
       "      <td>Анимационный</td>\n",
       "      <td>Уолт Дисней Анимейшн Студиос, Уолт Дисней Пикчерз</td>\n",
       "      <td>США</td>\n",
       "      <td>Крис Уильямс, Байрон Ховард</td>\n",
       "      <td>Кларк Спенсер</td>\n",
       "      <td>«0+» - для любой зрительской аудитории</td>\n",
       "      <td>NaN</td>\n",
       "      <td>NaN</td>\n",
       "      <td>NaN</td>\n",
       "      <td>NaN</td>\n",
       "      <td>7.3</td>\n",
       "      <td>мультфильм,драма,комедия</td>\n",
       "      <td>NaN</td>\n",
       "      <td>2012</td>\n",
       "      <td>Крис Уильямс</td>\n",
       "      <td>мультфильм</td>\n",
       "    </tr>\n",
       "    <tr>\n",
       "      <th>92</th>\n",
       "      <td>95</td>\n",
       "      <td>Горбатая гора</td>\n",
       "      <td>121004106</td>\n",
       "      <td>2013-12-02 12:00:00+00:00</td>\n",
       "      <td>Художественный</td>\n",
       "      <td>Альберта Филмуоркс Инк., Фокус Фичерз, Гуд Мэш...</td>\n",
       "      <td>США</td>\n",
       "      <td>Энг Ли</td>\n",
       "      <td>Диана Оссана, Джеймс Шеймас, Ларри МакМертри, ...</td>\n",
       "      <td>«16+» - для детей старше 16 лет</td>\n",
       "      <td>NaN</td>\n",
       "      <td>NaN</td>\n",
       "      <td>NaN</td>\n",
       "      <td>NaN</td>\n",
       "      <td>7.6</td>\n",
       "      <td>драма,мелодрама</td>\n",
       "      <td>NaN</td>\n",
       "      <td>2013</td>\n",
       "      <td>Энг Ли</td>\n",
       "      <td>драма</td>\n",
       "    </tr>\n",
       "    <tr>\n",
       "      <th>93</th>\n",
       "      <td>96</td>\n",
       "      <td>Дамы приглашают кавалеров</td>\n",
       "      <td>111010414</td>\n",
       "      <td>2014-10-01 12:00:00+00:00</td>\n",
       "      <td>Художественный</td>\n",
       "      <td>Киностудия \"Мосфильм\"</td>\n",
       "      <td>СССР</td>\n",
       "      <td>И.Киасашвили</td>\n",
       "      <td>NaN</td>\n",
       "      <td>«12+» - для детей старше 12 лет</td>\n",
       "      <td>NaN</td>\n",
       "      <td>NaN</td>\n",
       "      <td>NaN</td>\n",
       "      <td>NaN</td>\n",
       "      <td>7.2</td>\n",
       "      <td>мелодрама,комедия</td>\n",
       "      <td>2260.0</td>\n",
       "      <td>2014</td>\n",
       "      <td>И.Киасашвили</td>\n",
       "      <td>мелодрама</td>\n",
       "    </tr>\n",
       "    <tr>\n",
       "      <th>94</th>\n",
       "      <td>97</td>\n",
       "      <td>Возвращение Василия Бортникова</td>\n",
       "      <td>111007315</td>\n",
       "      <td>2015-04-23 12:00:00+00:00</td>\n",
       "      <td>Художественный</td>\n",
       "      <td>Киностудия \"Мосфильм\"</td>\n",
       "      <td>СССР</td>\n",
       "      <td>В.Пудовкин</td>\n",
       "      <td>NaN</td>\n",
       "      <td>«12+» - для детей старше 12 лет</td>\n",
       "      <td>NaN</td>\n",
       "      <td>NaN</td>\n",
       "      <td>NaN</td>\n",
       "      <td>NaN</td>\n",
       "      <td>5.8</td>\n",
       "      <td>драма</td>\n",
       "      <td>NaN</td>\n",
       "      <td>2015</td>\n",
       "      <td>В.Пудовкин</td>\n",
       "      <td>драма</td>\n",
       "    </tr>\n",
       "    <tr>\n",
       "      <th>95</th>\n",
       "      <td>98</td>\n",
       "      <td>Встречное расследование</td>\n",
       "      <td>221048514</td>\n",
       "      <td>2014-10-09 12:00:00+00:00</td>\n",
       "      <td>Художественный</td>\n",
       "      <td>Патэ Ренн Продюксьон</td>\n",
       "      <td>Франция</td>\n",
       "      <td>Франк Манкузо</td>\n",
       "      <td>Патрик Жимене, Эрик Хьюберт</td>\n",
       "      <td>«16+» - для детей старше 16 лет</td>\n",
       "      <td>NaN</td>\n",
       "      <td>NaN</td>\n",
       "      <td>NaN</td>\n",
       "      <td>NaN</td>\n",
       "      <td>6.9</td>\n",
       "      <td>триллер,криминал</td>\n",
       "      <td>NaN</td>\n",
       "      <td>2014</td>\n",
       "      <td>Франк Манкузо</td>\n",
       "      <td>триллер</td>\n",
       "    </tr>\n",
       "    <tr>\n",
       "      <th>96</th>\n",
       "      <td>99</td>\n",
       "      <td>Во имя чести</td>\n",
       "      <td>121013416</td>\n",
       "      <td>2016-05-30 12:00:00+00:00</td>\n",
       "      <td>Художественный</td>\n",
       "      <td>Чайна Филм Ко-Продакшн Корпорейшн, Хуай Бразер...</td>\n",
       "      <td>Гонконг, КНР</td>\n",
       "      <td>Фэн Сяоган</td>\n",
       "      <td>Фэн Сяоган, Джон Чонг</td>\n",
       "      <td>«16+» - для детей старше 16 лет</td>\n",
       "      <td>NaN</td>\n",
       "      <td>NaN</td>\n",
       "      <td>NaN</td>\n",
       "      <td>NaN</td>\n",
       "      <td>7.4</td>\n",
       "      <td>военный,биография,драма</td>\n",
       "      <td>NaN</td>\n",
       "      <td>2016</td>\n",
       "      <td>Фэн Сяоган</td>\n",
       "      <td>военный</td>\n",
       "    </tr>\n",
       "    <tr>\n",
       "      <th>97</th>\n",
       "      <td>100</td>\n",
       "      <td>Время желаний</td>\n",
       "      <td>111013313</td>\n",
       "      <td>2013-12-19 12:00:00+00:00</td>\n",
       "      <td>Художественный</td>\n",
       "      <td>Киностудия \"Мосфильм\"</td>\n",
       "      <td>СССР</td>\n",
       "      <td>Ю.Райзман</td>\n",
       "      <td>NaN</td>\n",
       "      <td>«12+» - для детей старше 12 лет</td>\n",
       "      <td>NaN</td>\n",
       "      <td>NaN</td>\n",
       "      <td>NaN</td>\n",
       "      <td>NaN</td>\n",
       "      <td>7.3</td>\n",
       "      <td>драма,мелодрама</td>\n",
       "      <td>2890.0</td>\n",
       "      <td>2013</td>\n",
       "      <td>Ю.Райзман</td>\n",
       "      <td>драма</td>\n",
       "    </tr>\n",
       "    <tr>\n",
       "      <th>98</th>\n",
       "      <td>101</td>\n",
       "      <td>Горе от ума.</td>\n",
       "      <td>111000915</td>\n",
       "      <td>2015-02-05 12:00:00+00:00</td>\n",
       "      <td>Художественный</td>\n",
       "      <td>Киностудия им. М.Горького</td>\n",
       "      <td>СССР</td>\n",
       "      <td>С.Алексеев, В.Войтецкий</td>\n",
       "      <td>NaN</td>\n",
       "      <td>«6+» - для детей старше 6 лет</td>\n",
       "      <td>NaN</td>\n",
       "      <td>NaN</td>\n",
       "      <td>NaN</td>\n",
       "      <td>NaN</td>\n",
       "      <td>6.0</td>\n",
       "      <td>драма</td>\n",
       "      <td>197464.5</td>\n",
       "      <td>2015</td>\n",
       "      <td>С.Алексеев</td>\n",
       "      <td>драма</td>\n",
       "    </tr>\n",
       "    <tr>\n",
       "      <th>99</th>\n",
       "      <td>102</td>\n",
       "      <td>Враг государства № 1</td>\n",
       "      <td>221065614</td>\n",
       "      <td>2014-10-07 12:00:00+00:00</td>\n",
       "      <td>Художественный</td>\n",
       "      <td>Реин Сейлес</td>\n",
       "      <td>Франция</td>\n",
       "      <td>Жан Франсуа Рише</td>\n",
       "      <td>Дэниел Дэлюм, Тома Лангманн</td>\n",
       "      <td>«18+» - запрещено для детей</td>\n",
       "      <td>NaN</td>\n",
       "      <td>NaN</td>\n",
       "      <td>NaN</td>\n",
       "      <td>NaN</td>\n",
       "      <td>7.3</td>\n",
       "      <td>триллер,драма,криминал</td>\n",
       "      <td>NaN</td>\n",
       "      <td>2014</td>\n",
       "      <td>Жан Франсуа Рише</td>\n",
       "      <td>триллер</td>\n",
       "    </tr>\n",
       "  </tbody>\n",
       "</table>\n",
       "</div>"
      ],
      "text/plain": [
       "    index                                              title   puNumber  \\\n",
       "50     53                                    Алешкина любовь  111010813   \n",
       "51     54                                 50 первых поцелуев  221004416   \n",
       "52     55                                     Адмирал Ушаков  111010413   \n",
       "53     56                                  А был ли Каротин?  111029514   \n",
       "54     57                                 А если это любовь?  111010213   \n",
       "55     58                             Бесшабашное ограбление  221072814   \n",
       "56     59                                     Бешеное золото  111011613   \n",
       "57     60  Братец медвежонок /По одноименному произведени...  224029312   \n",
       "58     61                                  Американская дочь  111005515   \n",
       "59     62                                        Беспредел _  111006515   \n",
       "60     63                                    Бешеные деньги.  111011713   \n",
       "61     64                                  Аттестат зрелости  111005915   \n",
       "62     65                                    Бархатный сезон  111011113   \n",
       "63     66                                       Анна Павлова  111011013   \n",
       "64     67                                Босиком по мостовой  221005215   \n",
       "65     68                                        Алые паруса  111010913   \n",
       "66     69                    Аэлита, не приставай к мужчинам  111006015   \n",
       "67     70                                   Бой после победы  111011813   \n",
       "68     71                                  Братья Карамазовы  111012313   \n",
       "69     72                                      Белая графиня  121006606   \n",
       "70     73                   В шесть часов вечера после войны  111006715   \n",
       "71     74                                      Борец и клоун  111012013   \n",
       "72     75                                      Борис Годунов  111012213   \n",
       "73     76                                 Большой аттракцион  111011913   \n",
       "74     77                                       Битва в пути  111026014   \n",
       "75     78                                  Будьте моим мужем  111012413   \n",
       "76     79                                         Букашки 3D  126003116   \n",
       "77     80                                        Вирус любви  221058214   \n",
       "78     81                                     Високосный год  111013113   \n",
       "79     82                                           Вакансия  111012513   \n",
       "80     83                                   Берегите мужчин!  111011513   \n",
       "81     84                              Блондинка и блондинка  221020115   \n",
       "82     85                               Валентин и Валентина  111012613   \n",
       "83     86                                          Валентина  111012713   \n",
       "84     87                                     Взрослые дети.  111013013   \n",
       "85     88                                           Ватерлоо  111003014   \n",
       "86     89                                           Выстрел.  111013613   \n",
       "87     90                                         Возмездие_  111013213   \n",
       "88     91                                     Время, вперед!  111013513   \n",
       "89     92                   Вас ожидает гражданка Никанорова  111012813   \n",
       "90     93                                              Васса  111012913   \n",
       "91     94                                              Вольт  224029412   \n",
       "92     95                                      Горбатая гора  121004106   \n",
       "93     96                          Дамы приглашают кавалеров  111010414   \n",
       "94     97                     Возвращение Василия Бортникова  111007315   \n",
       "95     98                            Встречное расследование  221048514   \n",
       "96     99                                       Во имя чести  121013416   \n",
       "97    100                                      Время желаний  111013313   \n",
       "98    101                                       Горе от ума.  111000915   \n",
       "99    102                               Враг государства № 1  221065614   \n",
       "\n",
       "             show_start_date            type  \\\n",
       "50 2013-12-19 12:00:00+00:00  Художественный   \n",
       "51 2016-02-09 12:00:00+00:00  Художественный   \n",
       "52 2013-12-19 12:00:00+00:00  Художественный   \n",
       "53 2014-12-24 12:00:00+00:00  Художественный   \n",
       "54 2013-12-19 12:00:00+00:00  Художественный   \n",
       "55 2014-12-29 12:00:00+00:00  Художественный   \n",
       "56 2013-12-19 12:00:00+00:00  Художественный   \n",
       "57 2012-11-19 12:00:00+00:00    Анимационный   \n",
       "58 2015-04-23 12:00:00+00:00  Художественный   \n",
       "59 2015-04-23 12:00:00+00:00  Художественный   \n",
       "60 2013-12-19 12:00:00+00:00  Художественный   \n",
       "61 2015-04-23 12:00:00+00:00  Художественный   \n",
       "62 2013-12-19 12:00:00+00:00  Художественный   \n",
       "63 2013-12-19 12:00:00+00:00  Художественный   \n",
       "64 2015-02-25 12:00:00+00:00  Художественный   \n",
       "65 2013-12-19 12:00:00+00:00  Художественный   \n",
       "66 2015-04-23 12:00:00+00:00  Художественный   \n",
       "67 2013-12-19 12:00:00+00:00  Художественный   \n",
       "68 2013-12-19 12:00:00+00:00  Художественный   \n",
       "69 2015-12-15 12:00:00+00:00  Художественный   \n",
       "70 2015-04-23 12:00:00+00:00  Художественный   \n",
       "71 2013-12-19 12:00:00+00:00  Художественный   \n",
       "72 2013-12-19 12:00:00+00:00  Художественный   \n",
       "73 2013-12-19 12:00:00+00:00  Художественный   \n",
       "74 2014-12-24 12:00:00+00:00  Художественный   \n",
       "75 2013-12-19 12:00:00+00:00  Художественный   \n",
       "76 2016-07-01 12:00:00+00:00          Прочие   \n",
       "77 2014-10-15 12:00:00+00:00  Художественный   \n",
       "78 2013-12-19 12:00:00+00:00  Художественный   \n",
       "79 2013-12-19 12:00:00+00:00  Художественный   \n",
       "80 2013-12-19 12:00:00+00:00  Художественный   \n",
       "81 2015-05-25 12:00:00+00:00  Художественный   \n",
       "82 2013-12-19 12:00:00+00:00  Художественный   \n",
       "83 2013-12-19 12:00:00+00:00  Художественный   \n",
       "84 2013-12-19 12:00:00+00:00  Художественный   \n",
       "85 2014-03-14 12:00:00+00:00  Художественный   \n",
       "86 2013-12-19 12:00:00+00:00  Художественный   \n",
       "87 2013-12-19 12:00:00+00:00  Художественный   \n",
       "88 2013-12-19 12:00:00+00:00  Художественный   \n",
       "89 2013-12-19 12:00:00+00:00  Художественный   \n",
       "90 2013-12-19 12:00:00+00:00  Художественный   \n",
       "91 2012-11-19 12:00:00+00:00    Анимационный   \n",
       "92 2013-12-02 12:00:00+00:00  Художественный   \n",
       "93 2014-10-01 12:00:00+00:00  Художественный   \n",
       "94 2015-04-23 12:00:00+00:00  Художественный   \n",
       "95 2014-10-09 12:00:00+00:00  Художественный   \n",
       "96 2016-05-30 12:00:00+00:00  Художественный   \n",
       "97 2013-12-19 12:00:00+00:00  Художественный   \n",
       "98 2015-02-05 12:00:00+00:00  Художественный   \n",
       "99 2014-10-07 12:00:00+00:00  Художественный   \n",
       "\n",
       "                                          film_studio  \\\n",
       "50                              Киностудия \"Мосфильм\"   \n",
       "51  Коламбиа Пикчерз, Хэппи Медисон Продакшнз, Фла...   \n",
       "52                              Киностудия \"Мосфильм\"   \n",
       "53                              Киностудия \"Мосфильм\"   \n",
       "54                              Киностудия \"Мосфильм\"   \n",
       "55  Нью Маркет, Саммит Интертейнмент, Рэйвинг Мэд ...   \n",
       "56                              Киностудия \"Мосфильм\"   \n",
       "57        Уолт Дисней Пикчерз, Буена Виста Интернэшнл   \n",
       "58  АО \"Караван\", Компания \"Америкен Дистрибьюшн\",...   \n",
       "59              Киностудия \"Мосфильм\" , Студия \"Ритм\"   \n",
       "60                              Киностудия \"Мосфильм\"   \n",
       "61                              Киностудия \"Мосфильм\"   \n",
       "62  Киностудия \"Мосфильм\", \"Про Дис Фильм\" АГ Цюри...   \n",
       "63  совместное производство Киностудия \"Мосфильм\",...   \n",
       "64  Буена Виста Интернэшнл Филм Продакшн, Фильмшти...   \n",
       "65                              Киностудия \"Мосфильм\"   \n",
       "66                              Киностудия \"Мосфильм\"   \n",
       "67                              Киностудия \"Мосфильм\"   \n",
       "68                              Киностудия \"Мосфильм\"   \n",
       "69  Мерчант Айвори Продакшнз, Микадо Филмз, Шанхай...   \n",
       "70                              Киностудия \"Мосфильм\"   \n",
       "71                              Киностудия \"Мосфильм\"   \n",
       "72  Киностудия \"Мосфильм\",  \"Баррандов\" (ЧССР) при...   \n",
       "73                              Киностудия \"Мосфильм\"   \n",
       "74                              Киностудия \"Мосфильм\"   \n",
       "75                              Киностудия \"Мосфильм\"   \n",
       "76  Принципал Лардж Формат, Си Кей Филмз, Филм Коу...   \n",
       "77    Мирамакс, Игнит Интертейнмент, Морфеус Продакшн   \n",
       "78                              Киностудия \"Мосфильм\"   \n",
       "79                              Киностудия \"Мосфильм\"   \n",
       "80                              Киностудия \"Мосфильм\"   \n",
       "81                                Ригел Интертейнмент   \n",
       "82                              Киностудия \"Мосфильм\"   \n",
       "83                              Киностудия \"Мосфильм\"   \n",
       "84                              Киностудия \"Мосфильм\"   \n",
       "85  \"Дино де Лаурентиис\" (Италия) при участии Кино...   \n",
       "86                              Киностудия \"Мосфильм\"   \n",
       "87                              Киностудия \"Мосфильм\"   \n",
       "88                              Киностудия \"Мосфильм\"   \n",
       "89                              Киностудия \"Мосфильм\"   \n",
       "90                              Киностудия \"Мосфильм\"   \n",
       "91  Уолт Дисней Анимейшн Студиос, Уолт Дисней Пикчерз   \n",
       "92  Альберта Филмуоркс Инк., Фокус Фичерз, Гуд Мэш...   \n",
       "93                              Киностудия \"Мосфильм\"   \n",
       "94                              Киностудия \"Мосфильм\"   \n",
       "95                               Патэ Ренн Продюксьон   \n",
       "96  Чайна Филм Ко-Продакшн Корпорейшн, Хуай Бразер...   \n",
       "97                              Киностудия \"Мосфильм\"   \n",
       "98                          Киностудия им. М.Горького   \n",
       "99                                        Реин Сейлес   \n",
       "\n",
       "                  production_country                       director  \\\n",
       "50                              СССР                  Семен Туманов   \n",
       "51                               США                    Питер Сигал   \n",
       "52                              СССР                         М.Ромм   \n",
       "53                              СССР                       Г.Полока   \n",
       "54                              СССР                      Ю.Райзман   \n",
       "55                               США     Дрю Дэйуолт, Дэвид Шнейдер   \n",
       "56                              СССР                     С.Самсонов   \n",
       "57                               США      Айрон Блейз, Роберт Уокер   \n",
       "58            Россия, Казахстан, США                   К.Шахназаров   \n",
       "59                              СССР                       И.Гостев   \n",
       "60                              СССР                      Е.Матвеев   \n",
       "61                              СССР                    Т.Лукашевич   \n",
       "62                      СССР, Швеция                     В.Павлович   \n",
       "63  СССР, Франция, Англия, Куба, ГДР                   Эмиль Лотяну   \n",
       "64                          Германия                   Тиль Швайгер   \n",
       "65                              СССР                       А.Птушко   \n",
       "66                              СССР                     Г.Натансон   \n",
       "67                              СССР                       В.Азаров   \n",
       "68                              СССР  И.Пырьев, М.Ульянов, К.Лавров   \n",
       "69   Великобритания-США-Германия-КНР                  Джеймс Айвори   \n",
       "70                              СССР                       И.Пырьев   \n",
       "71                              СССР               К.Юдин, Б.Барнет   \n",
       "72  СССР, ЧССР, Западный Берлин, ПНР                    С.Бондарчук   \n",
       "73                              СССР                     В.Георгиев   \n",
       "74                              СССР                        В.Басов   \n",
       "75                              СССР                     А.Сурикова   \n",
       "76                    Великобритания                      Майк Слии   \n",
       "77                               США                  Томми О'Хавер   \n",
       "78                              СССР                        А.Эфрос   \n",
       "79                              СССР                     М.Микаэлян   \n",
       "80                              СССР                        А.Серый   \n",
       "81                               США                   Дин Хэмилтон   \n",
       "82                              СССР                     Г.Натансон   \n",
       "83                              СССР                     Г.Панфилов   \n",
       "84                              СССР                       В.Азаров   \n",
       "85                      СССР, Италия               Сергей Бондарчук   \n",
       "86                              СССР                  Н.Трахтенберг   \n",
       "87                              СССР                      А.Столпер   \n",
       "88                              СССР          М.Швейцер, С.Милькина   \n",
       "89                              СССР                      Л.Марягин   \n",
       "90                              СССР                     Г.Панфилов   \n",
       "91                               США    Крис Уильямс, Байрон Ховард   \n",
       "92                               США                         Энг Ли   \n",
       "93                              СССР                   И.Киасашвили   \n",
       "94                              СССР                     В.Пудовкин   \n",
       "95                           Франция                  Франк Манкузо   \n",
       "96                      Гонконг, КНР                     Фэн Сяоган   \n",
       "97                              СССР                      Ю.Райзман   \n",
       "98                              СССР        С.Алексеев, В.Войтецкий   \n",
       "99                           Франция               Жан Франсуа Рише   \n",
       "\n",
       "                                             producer  \\\n",
       "50                                                NaN   \n",
       "51              Бини Барнс, Джозеф Дрэйк, Джон Линсон   \n",
       "52                                                NaN   \n",
       "53                                                NaN   \n",
       "54                                                NaN   \n",
       "55      Джон Балдеччи, Лоуренс Бендер, Кристофер Болл   \n",
       "56                                                NaN   \n",
       "57                                        Чак Уильямс   \n",
       "58                                                NaN   \n",
       "59                                                NaN   \n",
       "60                                                NaN   \n",
       "61                                                NaN   \n",
       "62                                                NaN   \n",
       "63                                                NaN   \n",
       "64                                       Тиль Швайгер   \n",
       "65                                                NaN   \n",
       "66                                                NaN   \n",
       "67                                                NaN   \n",
       "68                                                NaN   \n",
       "69                                     Исмаил Мерчант   \n",
       "70                                                NaN   \n",
       "71                                                NaN   \n",
       "72                                                NaN   \n",
       "73                                                NaN   \n",
       "74                                                NaN   \n",
       "75                                                NaN   \n",
       "76                   Фил Срэйзер, Александра Фергюсон   \n",
       "77                            Майкл Бёрнс, Марк Бутан   \n",
       "78                                                NaN   \n",
       "79                                                NaN   \n",
       "80                                                NaN   \n",
       "81                            Джефри Бармаш, Кирк Шоу   \n",
       "82                                                NaN   \n",
       "83                                                NaN   \n",
       "84                                                NaN   \n",
       "85                                                NaN   \n",
       "86                                                NaN   \n",
       "87                                                NaN   \n",
       "88                                                NaN   \n",
       "89                                                NaN   \n",
       "90                                                NaN   \n",
       "91                                      Кларк Спенсер   \n",
       "92  Диана Оссана, Джеймс Шеймас, Ларри МакМертри, ...   \n",
       "93                                                NaN   \n",
       "94                                                NaN   \n",
       "95                        Патрик Жимене, Эрик Хьюберт   \n",
       "96                              Фэн Сяоган, Джон Чонг   \n",
       "97                                                NaN   \n",
       "98                                                NaN   \n",
       "99                        Дэниел Дэлюм, Тома Лангманн   \n",
       "\n",
       "                           age_restriction  refundable_support  \\\n",
       "50         «12+» - для детей старше 12 лет                 NaN   \n",
       "51             «18+» - запрещено для детей                 NaN   \n",
       "52           «6+» - для детей старше 6 лет                 NaN   \n",
       "53         «12+» - для детей старше 12 лет                 NaN   \n",
       "54         «12+» - для детей старше 12 лет                 NaN   \n",
       "55             «18+» - запрещено для детей                 NaN   \n",
       "56         «12+» - для детей старше 12 лет                 NaN   \n",
       "57  «0+» - для любой зрительской аудитории                 NaN   \n",
       "58           «6+» - для детей старше 6 лет                 NaN   \n",
       "59         «16+» - для детей старше 16 лет                 NaN   \n",
       "60           «6+» - для детей старше 6 лет                 NaN   \n",
       "61         «12+» - для детей старше 12 лет                 NaN   \n",
       "62           «6+» - для детей старше 6 лет                 NaN   \n",
       "63           «6+» - для детей старше 6 лет                 NaN   \n",
       "64         «16+» - для детей старше 16 лет                 NaN   \n",
       "65           «6+» - для детей старше 6 лет                 NaN   \n",
       "66         «12+» - для детей старше 12 лет                 NaN   \n",
       "67           «6+» - для детей старше 6 лет                 NaN   \n",
       "68           «6+» - для детей старше 6 лет                 NaN   \n",
       "69         «12+» - для детей старше 12 лет                 NaN   \n",
       "70           «6+» - для детей старше 6 лет                 NaN   \n",
       "71           «6+» - для детей старше 6 лет                 NaN   \n",
       "72           «6+» - для детей старше 6 лет                 NaN   \n",
       "73  «0+» - для любой зрительской аудитории                 NaN   \n",
       "74         «12+» - для детей старше 12 лет                 NaN   \n",
       "75           «6+» - для детей старше 6 лет                 NaN   \n",
       "76  «0+» - для любой зрительской аудитории                 NaN   \n",
       "77         «16+» - для детей старше 16 лет                 NaN   \n",
       "78         «12+» - для детей старше 12 лет                 NaN   \n",
       "79           «6+» - для детей старше 6 лет                 NaN   \n",
       "80         «12+» - для детей старше 12 лет                 NaN   \n",
       "81         «16+» - для детей старше 16 лет                 NaN   \n",
       "82           «6+» - для детей старше 6 лет                 NaN   \n",
       "83           «6+» - для детей старше 6 лет                 NaN   \n",
       "84           «6+» - для детей старше 6 лет                 NaN   \n",
       "85           «6+» - для детей старше 6 лет                 NaN   \n",
       "86         «12+» - для детей старше 12 лет                 NaN   \n",
       "87           «6+» - для детей старше 6 лет                 NaN   \n",
       "88           «6+» - для детей старше 6 лет                 NaN   \n",
       "89         «12+» - для детей старше 12 лет                 NaN   \n",
       "90           «6+» - для детей старше 6 лет                 NaN   \n",
       "91  «0+» - для любой зрительской аудитории                 NaN   \n",
       "92         «16+» - для детей старше 16 лет                 NaN   \n",
       "93         «12+» - для детей старше 12 лет                 NaN   \n",
       "94         «12+» - для детей старше 12 лет                 NaN   \n",
       "95         «16+» - для детей старше 16 лет                 NaN   \n",
       "96         «16+» - для детей старше 16 лет                 NaN   \n",
       "97         «12+» - для детей старше 12 лет                 NaN   \n",
       "98           «6+» - для детей старше 6 лет                 NaN   \n",
       "99             «18+» - запрещено для детей                 NaN   \n",
       "\n",
       "    nonrefundable_support  budget financing_source  ratings  \\\n",
       "50                    NaN     NaN              NaN      8.1   \n",
       "51                    NaN     NaN              NaN      7.3   \n",
       "52                    NaN     NaN              NaN      7.9   \n",
       "53                    NaN     NaN              NaN      6.8   \n",
       "54                    NaN     NaN              NaN      7.7   \n",
       "55                    NaN     NaN              NaN      7.1   \n",
       "56                    NaN     NaN              NaN      6.3   \n",
       "57                    NaN     NaN              NaN      7.9   \n",
       "58                    NaN     NaN              NaN      7.0   \n",
       "59                    NaN     NaN              NaN      7.8   \n",
       "60                    NaN     NaN              NaN      7.3   \n",
       "61                    NaN     NaN              NaN      6.9   \n",
       "62                    NaN     NaN              NaN      5.9   \n",
       "63                    NaN     NaN              NaN      7.7   \n",
       "64                    NaN     NaN              NaN      7.9   \n",
       "65                    NaN     NaN              NaN      7.8   \n",
       "66                    NaN     NaN              NaN      6.6   \n",
       "67                    NaN     NaN              NaN      7.0   \n",
       "68                    NaN     NaN              NaN      8.1   \n",
       "69                    NaN     NaN              NaN      6.8   \n",
       "70                    NaN     NaN              NaN      7.2   \n",
       "71                    NaN     NaN              NaN      7.1   \n",
       "72                    NaN     NaN              NaN      6.2   \n",
       "73                    NaN     NaN              NaN      5.6   \n",
       "74                    NaN     NaN              NaN      6.9   \n",
       "75                    NaN     NaN              NaN      6.4   \n",
       "76                    NaN     NaN              NaN      7.1   \n",
       "77                    NaN     NaN              NaN      6.6   \n",
       "78                    NaN     NaN              NaN      5.8   \n",
       "79                    NaN     NaN              NaN      6.5   \n",
       "80                    NaN     NaN              NaN      6.2   \n",
       "81                    NaN     NaN              NaN      2.4   \n",
       "82                    NaN     NaN              NaN      7.3   \n",
       "83                    NaN     NaN              NaN      7.5   \n",
       "84                    NaN     NaN              NaN      7.8   \n",
       "85                    NaN     NaN              NaN      7.7   \n",
       "86                    NaN     NaN              NaN      7.4   \n",
       "87                    NaN     NaN              NaN      6.7   \n",
       "88                    NaN     NaN              NaN      7.2   \n",
       "89                    NaN     NaN              NaN      7.3   \n",
       "90                    NaN     NaN              NaN      7.9   \n",
       "91                    NaN     NaN              NaN      7.3   \n",
       "92                    NaN     NaN              NaN      7.6   \n",
       "93                    NaN     NaN              NaN      7.2   \n",
       "94                    NaN     NaN              NaN      5.8   \n",
       "95                    NaN     NaN              NaN      6.9   \n",
       "96                    NaN     NaN              NaN      7.4   \n",
       "97                    NaN     NaN              NaN      7.3   \n",
       "98                    NaN     NaN              NaN      6.0   \n",
       "99                    NaN     NaN              NaN      7.3   \n",
       "\n",
       "                             genres  box_office  show_start_year  \\\n",
       "50          драма,мелодрама,комедия         NaN             2013   \n",
       "51          комедия,мелодрама,драма         NaN             2016   \n",
       "52          драма,биография,история         NaN             2013   \n",
       "53                 комедия,криминал         NaN             2014   \n",
       "54                            драма         NaN             2013   \n",
       "55          боевик,комедия,криминал         NaN             2014   \n",
       "56                 комедия,криминал         NaN             2013   \n",
       "57       мультфильм,фэнтези,комедия         NaN             2012   \n",
       "58                    драма,комедия       300.0             2015   \n",
       "59                   драма,криминал         NaN             2015   \n",
       "60                  комедия,история         NaN             2013   \n",
       "61                            драма     67500.0             2015   \n",
       "62                        мелодрама         NaN             2013   \n",
       "63           драма,биография,музыка         0.0             2013   \n",
       "64          драма,мелодрама,комедия         NaN             2015   \n",
       "65          фэнтези,драма,мелодрама      1850.0             2013   \n",
       "66                мелодрама,комедия         NaN             2015   \n",
       "67                  триллер,военный         NaN             2013   \n",
       "68                            драма         NaN             2013   \n",
       "69          драма,мелодрама,военный         NaN             2015   \n",
       "70           мюзикл,драма,мелодрама         NaN             2015   \n",
       "71                      драма,спорт         NaN             2013   \n",
       "72                            драма       420.0             2013   \n",
       "73                   мюзикл,комедия         NaN             2013   \n",
       "74                            драма         NaN             2014   \n",
       "75                          комедия       200.0             2013   \n",
       "76  мультфильм,приключения,семейный         NaN             2016   \n",
       "77                мелодрама,комедия         NaN             2014   \n",
       "78                  драма,мелодрама         NaN             2013   \n",
       "79                    ужасы,триллер         NaN             2013   \n",
       "80                          комедия         NaN             2013   \n",
       "81                 комедия,криминал         NaN             2015   \n",
       "82                  драма,мелодрама         NaN             2013   \n",
       "83                            драма         NaN             2013   \n",
       "84                    драма,комедия         NaN             2013   \n",
       "85             боевик,драма,военный         NaN             2014   \n",
       "86           триллер,драма,криминал      3040.0             2013   \n",
       "87                     драма,боевик         NaN             2013   \n",
       "88                    драма,история         NaN             2013   \n",
       "89          драма,мелодрама,комедия         NaN             2013   \n",
       "90                            драма         NaN             2013   \n",
       "91         мультфильм,драма,комедия         NaN             2012   \n",
       "92                  драма,мелодрама         NaN             2013   \n",
       "93                мелодрама,комедия      2260.0             2014   \n",
       "94                            драма         NaN             2015   \n",
       "95                 триллер,криминал         NaN             2014   \n",
       "96          военный,биография,драма         NaN             2016   \n",
       "97                  драма,мелодрама      2890.0             2013   \n",
       "98                            драма    197464.5             2015   \n",
       "99           триллер,драма,криминал         NaN             2014   \n",
       "\n",
       "       main_director  main_genre  \n",
       "50     Семен Туманов       драма  \n",
       "51       Питер Сигал     комедия  \n",
       "52            М.Ромм       драма  \n",
       "53          Г.Полока     комедия  \n",
       "54         Ю.Райзман       драма  \n",
       "55       Дрю Дэйуолт      боевик  \n",
       "56        С.Самсонов     комедия  \n",
       "57       Айрон Блейз  мультфильм  \n",
       "58      К.Шахназаров       драма  \n",
       "59          И.Гостев       драма  \n",
       "60         Е.Матвеев     комедия  \n",
       "61       Т.Лукашевич       драма  \n",
       "62        В.Павлович   мелодрама  \n",
       "63      Эмиль Лотяну       драма  \n",
       "64      Тиль Швайгер       драма  \n",
       "65          А.Птушко     фэнтези  \n",
       "66        Г.Натансон   мелодрама  \n",
       "67          В.Азаров     триллер  \n",
       "68          И.Пырьев       драма  \n",
       "69     Джеймс Айвори       драма  \n",
       "70          И.Пырьев      мюзикл  \n",
       "71            К.Юдин       драма  \n",
       "72       С.Бондарчук       драма  \n",
       "73        В.Георгиев      мюзикл  \n",
       "74           В.Басов       драма  \n",
       "75        А.Сурикова     комедия  \n",
       "76         Майк Слии  мультфильм  \n",
       "77     Томми О'Хавер   мелодрама  \n",
       "78           А.Эфрос       драма  \n",
       "79        М.Микаэлян       ужасы  \n",
       "80           А.Серый     комедия  \n",
       "81      Дин Хэмилтон     комедия  \n",
       "82        Г.Натансон       драма  \n",
       "83        Г.Панфилов       драма  \n",
       "84          В.Азаров       драма  \n",
       "85  Сергей Бондарчук      боевик  \n",
       "86     Н.Трахтенберг     триллер  \n",
       "87         А.Столпер       драма  \n",
       "88         М.Швейцер       драма  \n",
       "89         Л.Марягин       драма  \n",
       "90        Г.Панфилов       драма  \n",
       "91      Крис Уильямс  мультфильм  \n",
       "92            Энг Ли       драма  \n",
       "93      И.Киасашвили   мелодрама  \n",
       "94        В.Пудовкин       драма  \n",
       "95     Франк Манкузо     триллер  \n",
       "96        Фэн Сяоган     военный  \n",
       "97         Ю.Райзман       драма  \n",
       "98        С.Алексеев       драма  \n",
       "99  Жан Франсуа Рише     триллер  "
      ]
     },
     "execution_count": 42,
     "metadata": {},
     "output_type": "execute_result"
    }
   ],
   "source": [
    "data[50:100]"
   ]
  },
  {
   "cell_type": "markdown",
   "metadata": {
    "id": "1FsCXHwdgFyU"
   },
   "source": [
    "- Посчитайте, какую долю от общего бюджета фильма составляет государственная поддержка."
   ]
  },
  {
   "cell_type": "code",
   "execution_count": 43,
   "metadata": {},
   "outputs": [],
   "source": [
    "data['gov_share'] = round((data['refundable_support']+ data['nonrefundable_support']) / data['budget'], 2) \n",
    "# добавил round для красивого формата вывода"
   ]
  },
  {
   "cell_type": "code",
   "execution_count": 44,
   "metadata": {},
   "outputs": [
    {
     "data": {
      "text/plain": [
       "0.65    26\n",
       "0.66    25\n",
       "0.70    22\n",
       "1.00    17\n",
       "0.67    17\n",
       "        ..\n",
       "0.07     1\n",
       "0.18     1\n",
       "0.08     1\n",
       "0.20     1\n",
       "0.09     1\n",
       "Name: gov_share, Length: 62, dtype: int64"
      ]
     },
     "execution_count": 44,
     "metadata": {},
     "output_type": "execute_result"
    }
   ],
   "source": [
    "data['gov_share'].value_counts()"
   ]
  },
  {
   "cell_type": "markdown",
   "metadata": {
    "id": "6t4EukPLgFyV"
   },
   "source": [
    "### Шаг 3. Проведите исследовательский анализ данных\n"
   ]
  },
  {
   "cell_type": "markdown",
   "metadata": {
    "id": "vAH8WCzugFyV"
   },
   "source": [
    "- Посмотрите, сколько фильмов выходило в прокат каждый год. Обратите внимание, что данные о прокате в кинотеатрах известны не для всех фильмов. Посчитайте, какую долю составляют фильмы с указанной информацией о прокате в кинотеатрах. Проанализируйте, как эта доля менялась по годам. Сделайте вывод о том, какой период полнее всего представлен в данных."
   ]
  },
  {
   "cell_type": "code",
   "execution_count": 45,
   "metadata": {},
   "outputs": [],
   "source": [
    "import matplotlib.pyplot as plt"
   ]
  },
  {
   "cell_type": "code",
   "execution_count": 46,
   "metadata": {},
   "outputs": [
    {
     "data": {
      "text/html": [
       "<div>\n",
       "<style scoped>\n",
       "    .dataframe tbody tr th:only-of-type {\n",
       "        vertical-align: middle;\n",
       "    }\n",
       "\n",
       "    .dataframe tbody tr th {\n",
       "        vertical-align: top;\n",
       "    }\n",
       "\n",
       "    .dataframe thead th {\n",
       "        text-align: right;\n",
       "    }\n",
       "</style>\n",
       "<table border=\"1\" class=\"dataframe\">\n",
       "  <thead>\n",
       "    <tr style=\"text-align: right;\">\n",
       "      <th></th>\n",
       "      <th>index</th>\n",
       "      <th>title</th>\n",
       "      <th>puNumber</th>\n",
       "      <th>show_start_date</th>\n",
       "      <th>type</th>\n",
       "      <th>film_studio</th>\n",
       "      <th>production_country</th>\n",
       "      <th>director</th>\n",
       "      <th>producer</th>\n",
       "      <th>age_restriction</th>\n",
       "      <th>...</th>\n",
       "      <th>nonrefundable_support</th>\n",
       "      <th>budget</th>\n",
       "      <th>financing_source</th>\n",
       "      <th>ratings</th>\n",
       "      <th>genres</th>\n",
       "      <th>box_office</th>\n",
       "      <th>show_start_year</th>\n",
       "      <th>main_director</th>\n",
       "      <th>main_genre</th>\n",
       "      <th>gov_share</th>\n",
       "    </tr>\n",
       "  </thead>\n",
       "  <tbody>\n",
       "    <tr>\n",
       "      <th>6771</th>\n",
       "      <td>7485</td>\n",
       "      <td>Машины песенки. Серия \"Когда цветут кактусы\"</td>\n",
       "      <td>124010719</td>\n",
       "      <td>2019-12-30 12:00:00+00:00</td>\n",
       "      <td>Анимационный</td>\n",
       "      <td>Анимаккорд Лтд., ООО Студия \"АНИМАККОРД\"</td>\n",
       "      <td>Республика Кипр, Россия</td>\n",
       "      <td>И.Трусов</td>\n",
       "      <td>Д.Ловейко</td>\n",
       "      <td>«0+» - для любой зрительской аудитории</td>\n",
       "      <td>...</td>\n",
       "      <td>NaN</td>\n",
       "      <td>NaN</td>\n",
       "      <td>NaN</td>\n",
       "      <td>6.3</td>\n",
       "      <td>комедия,вестерн</td>\n",
       "      <td>NaN</td>\n",
       "      <td>2019</td>\n",
       "      <td>И.Трусов</td>\n",
       "      <td>комедия</td>\n",
       "      <td>NaN</td>\n",
       "    </tr>\n",
       "    <tr>\n",
       "      <th>6770</th>\n",
       "      <td>7484</td>\n",
       "      <td>Машины песенки. Серия \"Испанские мотивы\"</td>\n",
       "      <td>124010619</td>\n",
       "      <td>2019-12-30 12:00:00+00:00</td>\n",
       "      <td>Анимационный</td>\n",
       "      <td>Анимаккорд Лтд., ООО Студия \"АНИМАККОРД\"</td>\n",
       "      <td>Республика Кипр, Россия</td>\n",
       "      <td>А.Беляев</td>\n",
       "      <td>Д.Ловейко</td>\n",
       "      <td>«0+» - для любой зрительской аудитории</td>\n",
       "      <td>...</td>\n",
       "      <td>NaN</td>\n",
       "      <td>NaN</td>\n",
       "      <td>NaN</td>\n",
       "      <td>0.0</td>\n",
       "      <td>NaN</td>\n",
       "      <td>NaN</td>\n",
       "      <td>2019</td>\n",
       "      <td>А.Беляев</td>\n",
       "      <td>None</td>\n",
       "      <td>NaN</td>\n",
       "    </tr>\n",
       "    <tr>\n",
       "      <th>6769</th>\n",
       "      <td>7483</td>\n",
       "      <td>Щенячий патруль: Скорей спешим на помощь!</td>\n",
       "      <td>124010819</td>\n",
       "      <td>2019-12-28 12:00:00+00:00</td>\n",
       "      <td>Художественный</td>\n",
       "      <td>Никелодеон Анимейшн Студиос, Спин Мастер</td>\n",
       "      <td>США - Канада</td>\n",
       "      <td>Чарльз Е.Бастьен</td>\n",
       "      <td>Дженнифер Додж</td>\n",
       "      <td>«0+» - для любой зрительской аудитории</td>\n",
       "      <td>...</td>\n",
       "      <td>NaN</td>\n",
       "      <td>NaN</td>\n",
       "      <td>NaN</td>\n",
       "      <td>0.0</td>\n",
       "      <td>NaN</td>\n",
       "      <td>NaN</td>\n",
       "      <td>2019</td>\n",
       "      <td>Чарльз Е.Бастьен</td>\n",
       "      <td>None</td>\n",
       "      <td>NaN</td>\n",
       "    </tr>\n",
       "    <tr>\n",
       "      <th>6754</th>\n",
       "      <td>7467</td>\n",
       "      <td>Жёлтый клевер</td>\n",
       "      <td>111022219</td>\n",
       "      <td>2019-12-27 12:00:00+00:00</td>\n",
       "      <td>Художественный</td>\n",
       "      <td>Соломатина Людмила Леонидовна</td>\n",
       "      <td>Россия</td>\n",
       "      <td>Л.Соломатина (Томилова)</td>\n",
       "      <td>Л.Соломатина (Томилова)</td>\n",
       "      <td>«12+» - для детей старше 12 лет</td>\n",
       "      <td>...</td>\n",
       "      <td>NaN</td>\n",
       "      <td>NaN</td>\n",
       "      <td>NaN</td>\n",
       "      <td>0.0</td>\n",
       "      <td>NaN</td>\n",
       "      <td>NaN</td>\n",
       "      <td>2019</td>\n",
       "      <td>Л.Соломатина (Томилова)</td>\n",
       "      <td>None</td>\n",
       "      <td>NaN</td>\n",
       "    </tr>\n",
       "    <tr>\n",
       "      <th>6765</th>\n",
       "      <td>7479</td>\n",
       "      <td>Эколав</td>\n",
       "      <td>111023219</td>\n",
       "      <td>2019-12-26 12:00:00+00:00</td>\n",
       "      <td>Художественный</td>\n",
       "      <td>ВГИК</td>\n",
       "      <td>Россия</td>\n",
       "      <td>Д.Григорьев</td>\n",
       "      <td>ВГИК</td>\n",
       "      <td>«18+» - запрещено для детей</td>\n",
       "      <td>...</td>\n",
       "      <td>NaN</td>\n",
       "      <td>NaN</td>\n",
       "      <td>NaN</td>\n",
       "      <td>0.0</td>\n",
       "      <td>NaN</td>\n",
       "      <td>NaN</td>\n",
       "      <td>2019</td>\n",
       "      <td>Д.Григорьев</td>\n",
       "      <td>None</td>\n",
       "      <td>NaN</td>\n",
       "    </tr>\n",
       "    <tr>\n",
       "      <th>...</th>\n",
       "      <td>...</td>\n",
       "      <td>...</td>\n",
       "      <td>...</td>\n",
       "      <td>...</td>\n",
       "      <td>...</td>\n",
       "      <td>...</td>\n",
       "      <td>...</td>\n",
       "      <td>...</td>\n",
       "      <td>...</td>\n",
       "      <td>...</td>\n",
       "      <td>...</td>\n",
       "      <td>...</td>\n",
       "      <td>...</td>\n",
       "      <td>...</td>\n",
       "      <td>...</td>\n",
       "      <td>...</td>\n",
       "      <td>...</td>\n",
       "      <td>...</td>\n",
       "      <td>...</td>\n",
       "      <td>...</td>\n",
       "      <td>...</td>\n",
       "    </tr>\n",
       "    <tr>\n",
       "      <th>3664</th>\n",
       "      <td>3962</td>\n",
       "      <td>Небесный тихоход (новая цветная версия)</td>\n",
       "      <td>111000110</td>\n",
       "      <td>2010-01-14 12:00:00+00:00</td>\n",
       "      <td>Художественный</td>\n",
       "      <td>Киностудия \"Ленфильм\", ЗАО \"Киновидеообъединен...</td>\n",
       "      <td>СССР, Россия</td>\n",
       "      <td>И.Цветов (режиссер ч/б фильма - С.Тимошенко)</td>\n",
       "      <td>ЗАО \"Киновидеообъединение \"Крупный план\"</td>\n",
       "      <td>«0+» - для любой зрительской аудитории</td>\n",
       "      <td>...</td>\n",
       "      <td>NaN</td>\n",
       "      <td>NaN</td>\n",
       "      <td>NaN</td>\n",
       "      <td>8.0</td>\n",
       "      <td>комедия,военный</td>\n",
       "      <td>NaN</td>\n",
       "      <td>2010</td>\n",
       "      <td>И.Цветов (режиссер ч/б фильма - С.Тимошенко)</td>\n",
       "      <td>комедия</td>\n",
       "      <td>NaN</td>\n",
       "    </tr>\n",
       "    <tr>\n",
       "      <th>4078</th>\n",
       "      <td>4466</td>\n",
       "      <td>Последний король Шотландии</td>\n",
       "      <td>221002410</td>\n",
       "      <td>2010-01-13 12:00:00+00:00</td>\n",
       "      <td>Художественный</td>\n",
       "      <td>Дэ Эн А Филмз, Фокс Серчлайт Пикчерз, Филм Фо,...</td>\n",
       "      <td>Великобритания - США</td>\n",
       "      <td>Кевин МакДональд</td>\n",
       "      <td>Лиза Брайер, Андреа Колдервуд, Кристин Рупперт...</td>\n",
       "      <td>«16+» - для детей старше 16 лет</td>\n",
       "      <td>...</td>\n",
       "      <td>NaN</td>\n",
       "      <td>NaN</td>\n",
       "      <td>NaN</td>\n",
       "      <td>7.7</td>\n",
       "      <td>триллер,драма,биография</td>\n",
       "      <td>NaN</td>\n",
       "      <td>2010</td>\n",
       "      <td>Кевин МакДональд</td>\n",
       "      <td>триллер</td>\n",
       "      <td>NaN</td>\n",
       "    </tr>\n",
       "    <tr>\n",
       "      <th>3975</th>\n",
       "      <td>4332</td>\n",
       "      <td>Вечный зов.</td>\n",
       "      <td>213000210</td>\n",
       "      <td>2010-01-13 12:00:00+00:00</td>\n",
       "      <td>Художественный</td>\n",
       "      <td>ОАО \"Леннаучфильм\"</td>\n",
       "      <td>Россия</td>\n",
       "      <td>В.Ефремов, И.Ефремова, В.Лопач</td>\n",
       "      <td>В.Бажин</td>\n",
       "      <td>«0+» - для любой зрительской аудитории</td>\n",
       "      <td>...</td>\n",
       "      <td>NaN</td>\n",
       "      <td>NaN</td>\n",
       "      <td>NaN</td>\n",
       "      <td>8.3</td>\n",
       "      <td>драма</td>\n",
       "      <td>NaN</td>\n",
       "      <td>2010</td>\n",
       "      <td>В.Ефремов</td>\n",
       "      <td>драма</td>\n",
       "      <td>NaN</td>\n",
       "    </tr>\n",
       "    <tr>\n",
       "      <th>4068</th>\n",
       "      <td>4456</td>\n",
       "      <td>Книга Илая</td>\n",
       "      <td>121000210</td>\n",
       "      <td>2010-01-11 12:00:00+00:00</td>\n",
       "      <td>Художественный</td>\n",
       "      <td>Элкон Интертейнмент, Силвер Пикчерз</td>\n",
       "      <td>США</td>\n",
       "      <td>Алберт Хьюз, Эллен Хьюз</td>\n",
       "      <td>Бродерик Джонсон, Джоэл Силвер</td>\n",
       "      <td>«16+» - для детей старше 16 лет</td>\n",
       "      <td>...</td>\n",
       "      <td>NaN</td>\n",
       "      <td>NaN</td>\n",
       "      <td>NaN</td>\n",
       "      <td>7.1</td>\n",
       "      <td>фантастика,боевик,драма</td>\n",
       "      <td>NaN</td>\n",
       "      <td>2010</td>\n",
       "      <td>Алберт Хьюз</td>\n",
       "      <td>фантастика</td>\n",
       "      <td>NaN</td>\n",
       "    </tr>\n",
       "    <tr>\n",
       "      <th>1634</th>\n",
       "      <td>1797</td>\n",
       "      <td>0</td>\n",
       "      <td>0</td>\n",
       "      <td>1970-01-01 00:00:00+00:00</td>\n",
       "      <td>NaN</td>\n",
       "      <td>0</td>\n",
       "      <td>0</td>\n",
       "      <td>0</td>\n",
       "      <td>0</td>\n",
       "      <td>0</td>\n",
       "      <td>...</td>\n",
       "      <td>0.0</td>\n",
       "      <td>0.0</td>\n",
       "      <td>0</td>\n",
       "      <td>0.0</td>\n",
       "      <td>0</td>\n",
       "      <td>NaN</td>\n",
       "      <td>1970</td>\n",
       "      <td>0</td>\n",
       "      <td>0</td>\n",
       "      <td>NaN</td>\n",
       "    </tr>\n",
       "  </tbody>\n",
       "</table>\n",
       "<p>6772 rows × 21 columns</p>\n",
       "</div>"
      ],
      "text/plain": [
       "      index                                         title   puNumber  \\\n",
       "6771   7485  Машины песенки. Серия \"Когда цветут кактусы\"  124010719   \n",
       "6770   7484      Машины песенки. Серия \"Испанские мотивы\"  124010619   \n",
       "6769   7483     Щенячий патруль: Скорей спешим на помощь!  124010819   \n",
       "6754   7467                                 Жёлтый клевер  111022219   \n",
       "6765   7479                                        Эколав  111023219   \n",
       "...     ...                                           ...        ...   \n",
       "3664   3962       Небесный тихоход (новая цветная версия)  111000110   \n",
       "4078   4466                    Последний король Шотландии  221002410   \n",
       "3975   4332                                   Вечный зов.  213000210   \n",
       "4068   4456                                    Книга Илая  121000210   \n",
       "1634   1797                                             0          0   \n",
       "\n",
       "               show_start_date            type  \\\n",
       "6771 2019-12-30 12:00:00+00:00    Анимационный   \n",
       "6770 2019-12-30 12:00:00+00:00    Анимационный   \n",
       "6769 2019-12-28 12:00:00+00:00  Художественный   \n",
       "6754 2019-12-27 12:00:00+00:00  Художественный   \n",
       "6765 2019-12-26 12:00:00+00:00  Художественный   \n",
       "...                        ...             ...   \n",
       "3664 2010-01-14 12:00:00+00:00  Художественный   \n",
       "4078 2010-01-13 12:00:00+00:00  Художественный   \n",
       "3975 2010-01-13 12:00:00+00:00  Художественный   \n",
       "4068 2010-01-11 12:00:00+00:00  Художественный   \n",
       "1634 1970-01-01 00:00:00+00:00             NaN   \n",
       "\n",
       "                                            film_studio  \\\n",
       "6771           Анимаккорд Лтд., ООО Студия \"АНИМАККОРД\"   \n",
       "6770           Анимаккорд Лтд., ООО Студия \"АНИМАККОРД\"   \n",
       "6769           Никелодеон Анимейшн Студиос, Спин Мастер   \n",
       "6754                      Соломатина Людмила Леонидовна   \n",
       "6765                                               ВГИК   \n",
       "...                                                 ...   \n",
       "3664  Киностудия \"Ленфильм\", ЗАО \"Киновидеообъединен...   \n",
       "4078  Дэ Эн А Филмз, Фокс Серчлайт Пикчерз, Филм Фо,...   \n",
       "3975                                 ОАО \"Леннаучфильм\"   \n",
       "4068                Элкон Интертейнмент, Силвер Пикчерз   \n",
       "1634                                                  0   \n",
       "\n",
       "           production_country                                      director  \\\n",
       "6771  Республика Кипр, Россия                                      И.Трусов   \n",
       "6770  Республика Кипр, Россия                                      А.Беляев   \n",
       "6769             США - Канада                              Чарльз Е.Бастьен   \n",
       "6754                   Россия                       Л.Соломатина (Томилова)   \n",
       "6765                   Россия                                   Д.Григорьев   \n",
       "...                       ...                                           ...   \n",
       "3664             СССР, Россия  И.Цветов (режиссер ч/б фильма - С.Тимошенко)   \n",
       "4078     Великобритания - США                              Кевин МакДональд   \n",
       "3975                   Россия                В.Ефремов, И.Ефремова, В.Лопач   \n",
       "4068                      США                       Алберт Хьюз, Эллен Хьюз   \n",
       "1634                        0                                             0   \n",
       "\n",
       "                                               producer  \\\n",
       "6771                                          Д.Ловейко   \n",
       "6770                                          Д.Ловейко   \n",
       "6769                                     Дженнифер Додж   \n",
       "6754                            Л.Соломатина (Томилова)   \n",
       "6765                                               ВГИК   \n",
       "...                                                 ...   \n",
       "3664           ЗАО \"Киновидеообъединение \"Крупный план\"   \n",
       "4078  Лиза Брайер, Андреа Колдервуд, Кристин Рупперт...   \n",
       "3975                                            В.Бажин   \n",
       "4068                     Бродерик Джонсон, Джоэл Силвер   \n",
       "1634                                                  0   \n",
       "\n",
       "                             age_restriction  ...  nonrefundable_support  \\\n",
       "6771  «0+» - для любой зрительской аудитории  ...                    NaN   \n",
       "6770  «0+» - для любой зрительской аудитории  ...                    NaN   \n",
       "6769  «0+» - для любой зрительской аудитории  ...                    NaN   \n",
       "6754         «12+» - для детей старше 12 лет  ...                    NaN   \n",
       "6765             «18+» - запрещено для детей  ...                    NaN   \n",
       "...                                      ...  ...                    ...   \n",
       "3664  «0+» - для любой зрительской аудитории  ...                    NaN   \n",
       "4078         «16+» - для детей старше 16 лет  ...                    NaN   \n",
       "3975  «0+» - для любой зрительской аудитории  ...                    NaN   \n",
       "4068         «16+» - для детей старше 16 лет  ...                    NaN   \n",
       "1634                                       0  ...                    0.0   \n",
       "\n",
       "      budget  financing_source ratings                   genres box_office  \\\n",
       "6771     NaN               NaN     6.3          комедия,вестерн        NaN   \n",
       "6770     NaN               NaN     0.0                      NaN        NaN   \n",
       "6769     NaN               NaN     0.0                      NaN        NaN   \n",
       "6754     NaN               NaN     0.0                      NaN        NaN   \n",
       "6765     NaN               NaN     0.0                      NaN        NaN   \n",
       "...      ...               ...     ...                      ...        ...   \n",
       "3664     NaN               NaN     8.0          комедия,военный        NaN   \n",
       "4078     NaN               NaN     7.7  триллер,драма,биография        NaN   \n",
       "3975     NaN               NaN     8.3                    драма        NaN   \n",
       "4068     NaN               NaN     7.1  фантастика,боевик,драма        NaN   \n",
       "1634     0.0                 0     0.0                        0        NaN   \n",
       "\n",
       "      show_start_year                                 main_director  \\\n",
       "6771             2019                                      И.Трусов   \n",
       "6770             2019                                      А.Беляев   \n",
       "6769             2019                              Чарльз Е.Бастьен   \n",
       "6754             2019                       Л.Соломатина (Томилова)   \n",
       "6765             2019                                   Д.Григорьев   \n",
       "...               ...                                           ...   \n",
       "3664             2010  И.Цветов (режиссер ч/б фильма - С.Тимошенко)   \n",
       "4078             2010                              Кевин МакДональд   \n",
       "3975             2010                                     В.Ефремов   \n",
       "4068             2010                                   Алберт Хьюз   \n",
       "1634             1970                                             0   \n",
       "\n",
       "      main_genre gov_share  \n",
       "6771     комедия       NaN  \n",
       "6770        None       NaN  \n",
       "6769        None       NaN  \n",
       "6754        None       NaN  \n",
       "6765        None       NaN  \n",
       "...          ...       ...  \n",
       "3664     комедия       NaN  \n",
       "4078     триллер       NaN  \n",
       "3975       драма       NaN  \n",
       "4068  фантастика       NaN  \n",
       "1634           0       NaN  \n",
       "\n",
       "[6772 rows x 21 columns]"
      ]
     },
     "execution_count": 46,
     "metadata": {},
     "output_type": "execute_result"
    }
   ],
   "source": [
    "data.sort_values(by='show_start_date',ascending = False)"
   ]
  },
  {
   "cell_type": "code",
   "execution_count": 47,
   "metadata": {
    "id": "ABeV47y7gFyW"
   },
   "outputs": [
    {
     "data": {
      "text/plain": [
       "<AxesSubplot:>"
      ]
     },
     "execution_count": 47,
     "metadata": {},
     "output_type": "execute_result"
    },
    {
     "data": {
      "image/png": "[encoded data removed]",
      "text/plain": [
       "<Figure size 432x288 with 1 Axes>"
      ]
     },
     "metadata": {
      "needs_background": "light"
     },
     "output_type": "display_data"
    }
   ],
   "source": [
    "data['show_start_date'].hist(\n",
    "    bins=50,\n",
    "    range=(\n",
    "        pd.to_datetime('2010-01-11 12:00:00+00:00'),\n",
    "        pd.to_datetime('2019-12-30 12:00:00+00:00')\n",
    "    )\n",
    ")"
   ]
  },
  {
   "cell_type": "markdown",
   "metadata": {},
   "source": [
    "сделали выборку с 2010 и 2019 года, по резултатам сортировки выше.\n",
    "наиболее \n",
    "наблюдаем пик в 2011 году, 2015 и 2019 году"
   ]
  },
  {
   "cell_type": "code",
   "execution_count": 48,
   "metadata": {},
   "outputs": [
    {
     "data": {
      "text/plain": [
       "0.44551092734790315"
      ]
     },
     "execution_count": 48,
     "metadata": {},
     "output_type": "execute_result"
    }
   ],
   "source": [
    "data['box_office'].notna().sum()/data['title'].count()"
   ]
  },
  {
   "cell_type": "markdown",
   "metadata": {},
   "source": [
    "отношение фильмов с данными о прокате к общему числу фильмов"
   ]
  },
  {
   "cell_type": "code",
   "execution_count": 59,
   "metadata": {},
   "outputs": [
    {
     "data": {
      "text/plain": [
       "<pandas.core.groupby.generic.DataFrameGroupBy object at 0x7f419e5e9520>"
      ]
     },
     "execution_count": 59,
     "metadata": {},
     "output_type": "execute_result"
    }
   ],
   "source": [
    "data.groupby('show_start_year')["
   ]
  },
  {
   "cell_type": "markdown",
   "metadata": {
    "id": "BEOdcIrIgFyW"
   },
   "source": [
    "- Изучите, как менялась динамика проката по годам. В каком году сумма сборов была минимальной? А максимальной?"
   ]
  },
  {
   "cell_type": "code",
   "execution_count": 73,
   "metadata": {},
   "outputs": [
    {
     "data": {
      "text/html": [
       "<div>\n",
       "<style scoped>\n",
       "    .dataframe tbody tr th:only-of-type {\n",
       "        vertical-align: middle;\n",
       "    }\n",
       "\n",
       "    .dataframe tbody tr th {\n",
       "        vertical-align: top;\n",
       "    }\n",
       "\n",
       "    .dataframe thead th {\n",
       "        text-align: right;\n",
       "    }\n",
       "</style>\n",
       "<table border=\"1\" class=\"dataframe\">\n",
       "  <thead>\n",
       "    <tr style=\"text-align: right;\">\n",
       "      <th></th>\n",
       "      <th>total</th>\n",
       "      <th>with_sup</th>\n",
       "    </tr>\n",
       "    <tr>\n",
       "      <th>show_start_year</th>\n",
       "      <th></th>\n",
       "      <th></th>\n",
       "    </tr>\n",
       "  </thead>\n",
       "  <tbody>\n",
       "    <tr>\n",
       "      <th>1970</th>\n",
       "      <td>1</td>\n",
       "      <td>0</td>\n",
       "    </tr>\n",
       "    <tr>\n",
       "      <th>2010</th>\n",
       "      <td>762</td>\n",
       "      <td>0</td>\n",
       "    </tr>\n",
       "    <tr>\n",
       "      <th>2011</th>\n",
       "      <td>477</td>\n",
       "      <td>0</td>\n",
       "    </tr>\n",
       "    <tr>\n",
       "      <th>2012</th>\n",
       "      <td>517</td>\n",
       "      <td>0</td>\n",
       "    </tr>\n",
       "    <tr>\n",
       "      <th>2013</th>\n",
       "      <td>590</td>\n",
       "      <td>2</td>\n",
       "    </tr>\n",
       "    <tr>\n",
       "      <th>2014</th>\n",
       "      <td>729</td>\n",
       "      <td>16</td>\n",
       "    </tr>\n",
       "    <tr>\n",
       "      <th>2015</th>\n",
       "      <td>661</td>\n",
       "      <td>86</td>\n",
       "    </tr>\n",
       "    <tr>\n",
       "      <th>2016</th>\n",
       "      <td>771</td>\n",
       "      <td>61</td>\n",
       "    </tr>\n",
       "    <tr>\n",
       "      <th>2017</th>\n",
       "      <td>498</td>\n",
       "      <td>41</td>\n",
       "    </tr>\n",
       "    <tr>\n",
       "      <th>2018</th>\n",
       "      <td>875</td>\n",
       "      <td>56</td>\n",
       "    </tr>\n",
       "    <tr>\n",
       "      <th>2019</th>\n",
       "      <td>891</td>\n",
       "      <td>67</td>\n",
       "    </tr>\n",
       "  </tbody>\n",
       "</table>\n",
       "</div>"
      ],
      "text/plain": [
       "                 total  with_sup\n",
       "show_start_year                 \n",
       "1970                 1         0\n",
       "2010               762         0\n",
       "2011               477         0\n",
       "2012               517         0\n",
       "2013               590         2\n",
       "2014               729        16\n",
       "2015               661        86\n",
       "2016               771        61\n",
       "2017               498        41\n",
       "2018               875        56\n",
       "2019               891        67"
      ]
     },
     "execution_count": 73,
     "metadata": {},
     "output_type": "execute_result"
    }
   ],
   "source": [
    "data['has_sup'] = data['nonrefundable_support'] + data['refundable_support']>0\n",
    "support_by_year = data.groupby('show_start_year')['has_sup'].agg(['count', 'sum'])\n",
    "support_by_year = support_by_year.rename(columns={ \"count\":\"total\", \"sum\" : \"with_sup\"})\n",
    "support_by_year"
   ]
  },
  {
   "cell_type": "code",
   "execution_count": 74,
   "metadata": {},
   "outputs": [
    {
     "data": {
      "text/plain": [
       "<AxesSubplot:xlabel='show_start_year'>"
      ]
     },
     "execution_count": 74,
     "metadata": {},
     "output_type": "execute_result"
    },
    {
     "data": {
      "image/png": "[encoded data removed]",
      "text/plain": [
       "<Figure size 864x288 with 1 Axes>"
      ]
     },
     "metadata": {
      "needs_background": "light"
     },
     "output_type": "display_data"
    }
   ],
   "source": [
    "support_by_year.plot(kind = 'bar', figsize = (12,4))"
   ]
  },
  {
   "cell_type": "markdown",
   "metadata": {},
   "source": [
    "наблюдаем рост фильмов с гос поддержкой с 2013 по2015 год, коррекцию с 2015 до 2017 и последущий рост"
   ]
  },
  {
   "cell_type": "markdown",
   "metadata": {
    "id": "tfEhofYvgFyX"
   },
   "source": [
    "максимальной сумма сборов была в 2018 году, а минимальной в 2010 среди выборки с 2010 по 2020 год "
   ]
  },
  {
   "cell_type": "markdown",
   "metadata": {},
   "source": [
    "ниже представлен график кассовых сборов по годам, сначала общий, далее с 2010 по 2013 и с 2014 по 2020"
   ]
  },
  {
   "cell_type": "code",
   "execution_count": 76,
   "metadata": {},
   "outputs": [
    {
     "data": {
      "text/plain": [
       "(2010.0, 2020.0)"
      ]
     },
     "execution_count": 76,
     "metadata": {},
     "output_type": "execute_result"
    },
    {
     "data": {
      "image/png": "[encoded data removed]",
      "text/plain": [
       "<Figure size 864x360 with 1 Axes>"
      ]
     },
     "metadata": {
      "needs_background": "light"
     },
     "output_type": "display_data"
    }
   ],
   "source": [
    "data.pivot_table(index='show_start_year', values='box_office', aggfunc='sum').plot(grid=True, figsize=(12, 5))\n",
    "plt.xlim(2010,2020)"
   ]
  },
  {
   "cell_type": "code",
   "execution_count": 80,
   "metadata": {},
   "outputs": [
    {
     "data": {
      "text/plain": [
       "(0.0, 100000000.0)"
      ]
     },
     "execution_count": 80,
     "metadata": {},
     "output_type": "execute_result"
    },
    {
     "data": {
      "image/png": "[encoded data removed]",
      "text/plain": [
       "<Figure size 864x360 with 1 Axes>"
      ]
     },
     "metadata": {
      "needs_background": "light"
     },
     "output_type": "display_data"
    }
   ],
   "source": [
    "data.pivot_table(index='show_start_year', values='box_office', aggfunc='sum').plot(grid=True, figsize=(12, 5))\n",
    "plt.xlim(2010,2013)\n",
    "plt.ylim(0,100000000)"
   ]
  },
  {
   "cell_type": "code",
   "execution_count": 81,
   "metadata": {},
   "outputs": [
    {
     "data": {
      "text/plain": [
       "(2014.0, 2020.0)"
      ]
     },
     "execution_count": 81,
     "metadata": {},
     "output_type": "execute_result"
    },
    {
     "data": {
      "image/png": "[encoded data removed]",
      "text/plain": [
       "<Figure size 864x360 with 1 Axes>"
      ]
     },
     "metadata": {
      "needs_background": "light"
     },
     "output_type": "display_data"
    }
   ],
   "source": [
    "data.pivot_table(index='show_start_year', values='box_office', aggfunc='sum').plot(grid=True, figsize=(12, 5))\n",
    "plt.xlim(2014,2020)\n"
   ]
  },
  {
   "cell_type": "code",
   "execution_count": null,
   "metadata": {},
   "outputs": [],
   "source": [
    "По общей сумме сборов мы видим постоянную тенденцию к росту кассовых сборов"
   ]
  },
  {
   "cell_type": "markdown",
   "metadata": {
    "id": "G-7qS-N-gFyY"
   },
   "source": [
    "- С помощью сводной таблицы посчитайте среднюю и медианную сумму сборов для каждого года."
   ]
  },
  {
   "cell_type": "code",
   "execution_count": 50,
   "metadata": {
    "id": "jmp-rgg9gFyY"
   },
   "outputs": [
    {
     "data": {
      "image/png": "[encoded data removed]",
      "text/plain": [
       "<Figure size 864x360 with 1 Axes>"
      ]
     },
     "metadata": {
      "needs_background": "light"
     },
     "output_type": "display_data"
    }
   ],
   "source": [
    "data.pivot_table(index='show_start_year', values='box_office', aggfunc='mean').plot(grid=True, figsize=(12, 5))\n",
    "plt.xlim(2010, 2013)\n",
    "plt.ylim(0,1000000)\n",
    "plt.show()"
   ]
  },
  {
   "cell_type": "code",
   "execution_count": 51,
   "metadata": {},
   "outputs": [
    {
     "data": {
      "image/png": "[encoded data removed]",
      "text/plain": [
       "<Figure size 864x360 with 1 Axes>"
      ]
     },
     "metadata": {
      "needs_background": "light"
     },
     "output_type": "display_data"
    }
   ],
   "source": [
    "data.pivot_table(index='show_start_year', values='box_office', aggfunc='mean').plot(grid=True, figsize=(12, 5))\n",
    "plt.xlim(2014, 2020)\n",
    "plt.show()"
   ]
  },
  {
   "cell_type": "markdown",
   "metadata": {},
   "source": [
    "средняя сумма сборов по годам"
   ]
  },
  {
   "cell_type": "code",
   "execution_count": 52,
   "metadata": {},
   "outputs": [
    {
     "data": {
      "image/png": "[encoded data removed]",
      "text/plain": [
       "<Figure size 864x360 with 1 Axes>"
      ]
     },
     "metadata": {
      "needs_background": "light"
     },
     "output_type": "display_data"
    }
   ],
   "source": [
    "data.pivot_table(index='show_start_year', values='box_office', aggfunc='median').plot(grid=True, figsize=(12, 5)) \n",
    "plt.xlim(2010, 2013)\n",
    "plt.ylim(0,10000)\n",
    "plt.show()"
   ]
  },
  {
   "cell_type": "code",
   "execution_count": 53,
   "metadata": {},
   "outputs": [
    {
     "data": {
      "image/png": "[encoded data removed]",
      "text/plain": [
       "<Figure size 864x360 with 1 Axes>"
      ]
     },
     "metadata": {
      "needs_background": "light"
     },
     "output_type": "display_data"
    }
   ],
   "source": [
    "data.pivot_table(index='show_start_year', values='box_office', aggfunc='median').plot(grid=True, figsize=(12, 5))\n",
    "plt.xlim(2014, 2020)\n",
    "plt.show()"
   ]
  },
  {
   "cell_type": "markdown",
   "metadata": {},
   "source": [
    "медианная сумма сборов "
   ]
  },
  {
   "cell_type": "markdown",
   "metadata": {},
   "source": [
    "и медианная и средняя сумма была разбита на 2 выборки с 2010 по 2013 и 2014 по 2020"
   ]
  },
  {
   "cell_type": "markdown",
   "metadata": {},
   "source": [
    "Прослеживается рост у медианной и у средней суммы с 2010 по 2017, далее наблюдается коррекция, но общая сумма сборов не упала, из чего можно сделать вывод, что в кинотаетры стало ходить больше "
   ]
  },
  {
   "cell_type": "markdown",
   "metadata": {
    "id": "Ok89WFwJgFyZ"
   },
   "source": [
    "- Определите, влияет ли возрастное ограничение аудитории («6+», «12+», «16+», «18+» и т. д.) на сборы фильма в прокате в период с 2015 по 2019 год? Фильмы с каким возрастным ограничением собрали больше всего денег в прокате? Меняется ли картина в зависимости от года? Если да, предположите, с чем это может быть связано."
   ]
  },
  {
   "cell_type": "code",
   "execution_count": 54,
   "metadata": {},
   "outputs": [
    {
     "data": {
      "text/plain": [
       "<AxesSubplot:xlabel='show_start_year'>"
      ]
     },
     "execution_count": 54,
     "metadata": {},
     "output_type": "execute_result"
    },
    {
     "data": {
      "image/png": "[encoded data removed]",
      "text/plain": [
       "<Figure size 720x432 with 1 Axes>"
      ]
     },
     "metadata": {
      "needs_background": "light"
     },
     "output_type": "display_data"
    }
   ],
   "source": [
    "data.query('show_start_year >= 2015').pivot_table(index='show_start_year',columns='age_restriction', values='box_office', aggfunc='sum').plot(kind='bar', figsize=(10, 6))"
   ]
  },
  {
   "cell_type": "markdown",
   "metadata": {},
   "source": [
    "возрастное ограничение - влияет. самым непопулярным является 0+, самым успешным 16+. \n",
    "картина существенно меняется в 2019 году, когда практически все ограничения сравнялись(кроме 0+). "
   ]
  },
  {
   "cell_type": "markdown",
   "metadata": {
    "id": "l_Kg6Ku4gFya"
   },
   "source": [
    "### Шаг 4. Исследуйте фильмы, которые получили государственную поддержку\n",
    "\n",
    "На этом этапе нет конкретных инструкций и заданий — поищите интересные закономерности в данных. Посмотрите, сколько выделяют средств на поддержку кино. Проверьте, хорошо ли окупаются такие фильмы, какой у них рейтинг."
   ]
  },
  {
   "cell_type": "code",
   "execution_count": 55,
   "metadata": {},
   "outputs": [
    {
     "data": {
      "text/plain": [
       "<AxesSubplot:xlabel='show_start_year'>"
      ]
     },
     "execution_count": 55,
     "metadata": {},
     "output_type": "execute_result"
    },
    {
     "data": {
      "image/png": "[encoded data removed]",
      "text/plain": [
       "<Figure size 720x432 with 1 Axes>"
      ]
     },
     "metadata": {
      "needs_background": "light"
     },
     "output_type": "display_data"
    }
   ],
   "source": [
    "data[data['financing_source'].isna() == False].pivot_table(\n",
    "    index='show_start_year',values=('refundable_support', 'nonrefundable_support'), aggfunc='sum').plot(\n",
    "    kind='bar', figsize=(10, 6))"
   ]
  },
  {
   "cell_type": "markdown",
   "metadata": {},
   "source": [
    "сумма денег выделяемая государством на поддержку"
   ]
  },
  {
   "cell_type": "code",
   "execution_count": 56,
   "metadata": {
    "scrolled": true
   },
   "outputs": [
    {
     "data": {
      "text/plain": [
       "<AxesSubplot:xlabel='show_start_year'>"
      ]
     },
     "execution_count": 56,
     "metadata": {},
     "output_type": "execute_result"
    },
    {
     "data": {
      "image/png": "[encoded data removed]",
      "text/plain": [
       "<Figure size 720x432 with 1 Axes>"
      ]
     },
     "metadata": {
      "needs_background": "light"
     },
     "output_type": "display_data"
    }
   ],
   "source": [
    "data[data['financing_source'].isna() == False].pivot_table(\n",
    "    index='show_start_year',values=('box_office', 'budget'), aggfunc='sum').plot(\n",
    "    kind='bar', figsize=(10, 6))"
   ]
  },
  {
   "cell_type": "markdown",
   "metadata": {},
   "source": [
    "окупаемость фильмов учитвая всю поддержку"
   ]
  },
  {
   "cell_type": "code",
   "execution_count": 57,
   "metadata": {
    "id": "W9QKpjUdgFyb"
   },
   "outputs": [
    {
     "data": {
      "text/plain": [
       "<AxesSubplot:xlabel='show_start_year'>"
      ]
     },
     "execution_count": 57,
     "metadata": {},
     "output_type": "execute_result"
    },
    {
     "data": {
      "image/png": "[encoded data removed]",
      "text/plain": [
       "<Figure size 720x432 with 1 Axes>"
      ]
     },
     "metadata": {
      "needs_background": "light"
     },
     "output_type": "display_data"
    }
   ],
   "source": [
    "data[data['financing_source'].isna() == False].pivot_table(\n",
    "    index='show_start_year',values=('box_office', 'refundable_support'), aggfunc='sum').plot(\n",
    "    kind='bar', figsize=(10, 6))"
   ]
  },
  {
   "cell_type": "markdown",
   "metadata": {},
   "source": [
    "окупаемсоть учитывая только возвратную поддержку"
   ]
  },
  {
   "cell_type": "code",
   "execution_count": 58,
   "metadata": {},
   "outputs": [
    {
     "data": {
      "text/plain": [
       "<AxesSubplot:xlabel='show_start_year'>"
      ]
     },
     "execution_count": 58,
     "metadata": {},
     "output_type": "execute_result"
    },
    {
     "data": {
      "image/png": "[encoded data removed]",
      "text/plain": [
       "<Figure size 720x432 with 1 Axes>"
      ]
     },
     "metadata": {
      "needs_background": "light"
     },
     "output_type": "display_data"
    }
   ],
   "source": [
    "data[data['financing_source'].isna() == False].pivot_table(\n",
    "    index='show_start_year',values=('ratings'), aggfunc='mean').plot(\n",
    "    kind='bar', figsize=(10, 6))"
   ]
  },
  {
   "cell_type": "markdown",
   "metadata": {},
   "source": [
    "средний рейтинг по фильмам с поддержкой"
   ]
  },
  {
   "cell_type": "markdown",
   "metadata": {
    "id": "V2gYwMcPgFyd"
   },
   "source": [
    "### Шаг 5. Напишите общий вывод"
   ]
  },
  {
   "cell_type": "markdown",
   "metadata": {
    "id": "AYRg3dzXgFye"
   },
   "source": [
    "Сборный аналитический кейс решен.\n",
    "Я проверил типы данных в датафрейме и преобразовал их там, где это было необходимо.\n",
    "\n",
    "Я изучил пропуски в датафрейме и объяснил, почему заполнил их определённым образом или почему решил не делать этого.\n",
    "\n",
    "Я проверил, есть ли в данных дубликаты, и описал возможные причины их появления.\n",
    "\n",
    "Я изучил столбцы с категориальными значениями:\n",
    "\n",
    "Определил общую проблему, которая встречалась почти во всех категориальных столбцах;\n",
    "\n",
    "Исправил проблемные значения в поле type.\n",
    "\n",
    "Я проанализировал столбцы с количественными значениями и проверил, есть ли в них подозрительные данные. Затем я решил, как лучше поступить с такими данными.\n",
    "\n",
    "Я добавил новые столбцы:\n",
    "\n",
    "Создал столбец с годом проката, выделив его из даты премьеры фильма;\n",
    "\n",
    "Добавил два столбца: с именем и фамилией главного режиссёра и основным жанром фильма (взял первые значения из списков);\n",
    "\n",
    "Посчитал долю государственной поддержки от общего бюджета фильма.\n",
    "\n",
    "Я посмотрел, сколько фильмов выходило в прокат каждый год. Учёл, что данные о прокате известны не для всех фильмов, и посчитал долю фильмов с указанной информацией. Затем я проанализировал, как эта доля менялась по годам, и сделал вывод о том, какой период представлен наиболее полно.\n",
    "\n",
    "Я изучил динамику проката по годам и определил, в каком году сумма сборов была минимальной, а в каком — максимальной.\n",
    "\n",
    "С помощью сводной таблицы я посчитал среднюю и медианную сумму сборов для каждого года, сравнил значения и сделал выводы.\n",
    "\n",
    "Я проверил, влияет ли возрастное ограничение («6+», «12+», «16+», «18+» и т. д.) на сборы фильмов в период с 2015 по 2019 год. Определил, фильмы с каким рейтингом собрали больше всего денег, и выяснил, меняется ли картина в зависимости от года. Если да, то предположил возможные причины.\n",
    "\n",
    "Проверил, сколько средств выделяется на поддержку кино;\n",
    "\n",
    "Оценил, насколько хорошо окупаются такие фильмы и какой у них рейтинг."
   ]
  },
  {
   "cell_type": "code",
   "execution_count": null,
   "metadata": {},
   "outputs": [],
   "source": []
  }
 ],
 "metadata": {
  "ExecuteTimeLog": [
   {
    "duration": 537,
    "start_time": "2021-07-07T10:12:08.634Z"
   },
   {
    "duration": 206,
    "start_time": "2021-07-07T10:12:30.191Z"
   },
   {
    "duration": 227,
    "start_time": "2021-07-07T10:12:33.078Z"
   },
   {
    "duration": 153,
    "start_time": "2021-07-07T10:13:42.146Z"
   },
   {
    "duration": 233,
    "start_time": "2021-07-07T10:30:09.252Z"
   },
   {
    "duration": 19,
    "start_time": "2021-07-07T10:30:15.577Z"
   },
   {
    "duration": 18,
    "start_time": "2021-07-07T10:30:57.348Z"
   },
   {
    "duration": 19,
    "start_time": "2021-07-07T10:31:17.452Z"
   },
   {
    "duration": 21,
    "start_time": "2021-07-07T10:31:32.227Z"
   },
   {
    "duration": 27,
    "start_time": "2021-07-07T10:32:06.588Z"
   },
   {
    "duration": 23,
    "start_time": "2021-07-07T10:32:43.645Z"
   },
   {
    "duration": 24,
    "start_time": "2021-07-07T10:33:06.948Z"
   },
   {
    "duration": 7,
    "start_time": "2021-07-07T10:33:28.558Z"
   },
   {
    "duration": 23,
    "start_time": "2021-07-07T10:33:43.761Z"
   },
   {
    "duration": 28,
    "start_time": "2021-07-07T10:34:13.466Z"
   },
   {
    "duration": 23,
    "start_time": "2021-07-07T10:35:56.187Z"
   },
   {
    "duration": 6,
    "start_time": "2021-07-07T10:36:48.182Z"
   },
   {
    "duration": 14,
    "start_time": "2021-07-07T10:37:49.641Z"
   },
   {
    "duration": 6,
    "start_time": "2021-07-07T10:38:06.694Z"
   },
   {
    "duration": 6,
    "start_time": "2021-07-07T10:38:13.493Z"
   },
   {
    "duration": 19,
    "start_time": "2021-07-07T10:38:44.056Z"
   },
   {
    "duration": 186,
    "start_time": "2021-07-07T10:48:35.618Z"
   },
   {
    "duration": 24,
    "start_time": "2021-07-07T10:48:51.498Z"
   },
   {
    "duration": 20,
    "start_time": "2021-07-07T10:48:59.415Z"
   },
   {
    "duration": 20,
    "start_time": "2021-07-07T10:53:02.195Z"
   },
   {
    "duration": 188,
    "start_time": "2021-07-07T10:54:40.486Z"
   },
   {
    "duration": 115,
    "start_time": "2021-07-07T10:54:52.552Z"
   },
   {
    "duration": 214,
    "start_time": "2021-07-07T10:54:56.354Z"
   },
   {
    "duration": 47,
    "start_time": "2021-07-07T10:54:58.282Z"
   },
   {
    "duration": 217,
    "start_time": "2021-07-07T10:59:16.075Z"
   },
   {
    "duration": 51,
    "start_time": "2021-07-07T10:59:16.243Z"
   },
   {
    "duration": 578,
    "start_time": "2021-07-07T10:59:18.774Z"
   },
   {
    "duration": 161,
    "start_time": "2021-07-07T10:59:21.238Z"
   },
   {
    "duration": 59,
    "start_time": "2021-07-07T10:59:21.453Z"
   },
   {
    "duration": 3,
    "start_time": "2021-07-07T11:02:10.786Z"
   },
   {
    "duration": 13,
    "start_time": "2021-07-07T11:07:07.722Z"
   },
   {
    "duration": 26,
    "start_time": "2021-07-07T11:07:17.958Z"
   },
   {
    "duration": 22,
    "start_time": "2021-07-07T11:08:17.939Z"
   },
   {
    "duration": 212,
    "start_time": "2021-07-07T11:08:19.665Z"
   },
   {
    "duration": 21,
    "start_time": "2021-07-07T11:08:29.945Z"
   },
   {
    "duration": 31,
    "start_time": "2021-07-07T11:08:38.899Z"
   },
   {
    "duration": 23,
    "start_time": "2021-07-07T11:08:54.527Z"
   },
   {
    "duration": 8,
    "start_time": "2021-07-07T11:18:55.974Z"
   },
   {
    "duration": 7,
    "start_time": "2021-07-07T11:19:03.639Z"
   },
   {
    "duration": 7,
    "start_time": "2021-07-07T11:19:06.444Z"
   },
   {
    "duration": 578,
    "start_time": "2021-07-07T12:09:59.576Z"
   },
   {
    "duration": 195,
    "start_time": "2021-07-07T12:10:00.156Z"
   },
   {
    "duration": 115,
    "start_time": "2021-07-07T12:10:00.353Z"
   },
   {
    "duration": 3,
    "start_time": "2021-07-07T12:10:00.470Z"
   },
   {
    "duration": 32,
    "start_time": "2021-07-07T12:10:00.474Z"
   },
   {
    "duration": 23,
    "start_time": "2021-07-07T12:10:00.508Z"
   },
   {
    "duration": 19,
    "start_time": "2021-07-07T12:10:00.533Z"
   },
   {
    "duration": 44,
    "start_time": "2021-07-07T12:10:00.553Z"
   },
   {
    "duration": 7,
    "start_time": "2021-07-07T12:10:00.600Z"
   },
   {
    "duration": 7,
    "start_time": "2021-07-07T12:19:45.761Z"
   },
   {
    "duration": 21,
    "start_time": "2021-07-07T12:21:35.482Z"
   },
   {
    "duration": 21,
    "start_time": "2021-07-07T12:29:23.569Z"
   },
   {
    "duration": 525,
    "start_time": "2021-07-07T12:29:44.542Z"
   },
   {
    "duration": 214,
    "start_time": "2021-07-07T12:29:45.069Z"
   },
   {
    "duration": 92,
    "start_time": "2021-07-07T12:29:45.285Z"
   },
   {
    "duration": 3,
    "start_time": "2021-07-07T12:29:45.379Z"
   },
   {
    "duration": 28,
    "start_time": "2021-07-07T12:29:45.384Z"
   },
   {
    "duration": 23,
    "start_time": "2021-07-07T12:29:45.413Z"
   },
   {
    "duration": 21,
    "start_time": "2021-07-07T12:29:45.437Z"
   },
   {
    "duration": 41,
    "start_time": "2021-07-07T12:29:45.460Z"
   },
   {
    "duration": 7,
    "start_time": "2021-07-07T12:29:45.502Z"
   },
   {
    "duration": 20,
    "start_time": "2021-07-07T12:29:45.511Z"
   },
   {
    "duration": 12,
    "start_time": "2021-07-07T12:34:02.800Z"
   },
   {
    "duration": 7,
    "start_time": "2021-07-07T12:35:10.479Z"
   },
   {
    "duration": 8,
    "start_time": "2021-07-07T12:35:22.440Z"
   },
   {
    "duration": 6,
    "start_time": "2021-07-07T12:35:35.649Z"
   },
   {
    "duration": 6,
    "start_time": "2021-07-07T12:35:43.107Z"
   },
   {
    "duration": 22,
    "start_time": "2021-07-07T12:38:03.029Z"
   },
   {
    "duration": 10,
    "start_time": "2021-07-07T12:38:06.592Z"
   },
   {
    "duration": 563,
    "start_time": "2021-07-07T12:38:46.493Z"
   },
   {
    "duration": 265,
    "start_time": "2021-07-07T12:38:47.058Z"
   },
   {
    "duration": 94,
    "start_time": "2021-07-07T12:38:47.325Z"
   },
   {
    "duration": 3,
    "start_time": "2021-07-07T12:38:47.422Z"
   },
   {
    "duration": 30,
    "start_time": "2021-07-07T12:38:47.427Z"
   },
   {
    "duration": 16,
    "start_time": "2021-07-07T12:38:53.305Z"
   },
   {
    "duration": 10,
    "start_time": "2021-07-07T12:38:53.499Z"
   },
   {
    "duration": 8,
    "start_time": "2021-07-07T12:39:48.161Z"
   },
   {
    "duration": 27,
    "start_time": "2021-07-07T12:41:17.629Z"
   },
   {
    "duration": 17,
    "start_time": "2021-07-07T12:41:17.867Z"
   },
   {
    "duration": 21,
    "start_time": "2021-07-07T12:41:19.310Z"
   },
   {
    "duration": 7,
    "start_time": "2021-07-07T12:41:19.544Z"
   },
   {
    "duration": 20,
    "start_time": "2021-07-07T12:41:20.504Z"
   },
   {
    "duration": 554,
    "start_time": "2021-07-07T12:56:23.696Z"
   },
   {
    "duration": 200,
    "start_time": "2021-07-07T12:56:25.234Z"
   },
   {
    "duration": 119,
    "start_time": "2021-07-07T12:56:25.480Z"
   },
   {
    "duration": 4,
    "start_time": "2021-07-07T12:56:25.762Z"
   },
   {
    "duration": 26,
    "start_time": "2021-07-07T12:56:27.172Z"
   },
   {
    "duration": 12,
    "start_time": "2021-07-07T12:56:29.051Z"
   },
   {
    "duration": 10,
    "start_time": "2021-07-07T12:56:29.291Z"
   },
   {
    "duration": 8,
    "start_time": "2021-07-07T12:56:29.623Z"
   },
   {
    "duration": 28,
    "start_time": "2021-07-07T12:56:32.137Z"
   },
   {
    "duration": 19,
    "start_time": "2021-07-07T12:56:39.785Z"
   },
   {
    "duration": 20,
    "start_time": "2021-07-07T12:56:44.297Z"
   },
   {
    "duration": 7,
    "start_time": "2021-07-07T12:56:45.392Z"
   },
   {
    "duration": 23,
    "start_time": "2021-07-07T12:56:46.615Z"
   },
   {
    "duration": 4,
    "start_time": "2021-07-07T12:57:06.625Z"
   },
   {
    "duration": 32,
    "start_time": "2021-07-07T12:57:36.690Z"
   },
   {
    "duration": 18,
    "start_time": "2021-07-07T12:58:00.149Z"
   },
   {
    "duration": 15,
    "start_time": "2021-07-07T12:59:16.793Z"
   },
   {
    "duration": 7,
    "start_time": "2021-07-07T13:19:22.624Z"
   },
   {
    "duration": 6,
    "start_time": "2021-07-07T14:17:33.527Z"
   },
   {
    "duration": 9,
    "start_time": "2021-07-07T14:17:48.409Z"
   },
   {
    "duration": 8,
    "start_time": "2021-07-07T14:20:13.060Z"
   },
   {
    "duration": 8,
    "start_time": "2021-07-07T14:20:37.957Z"
   },
   {
    "duration": 8,
    "start_time": "2021-07-07T14:20:47.470Z"
   },
   {
    "duration": 9,
    "start_time": "2021-07-07T14:20:54.503Z"
   },
   {
    "duration": 10,
    "start_time": "2021-07-07T14:28:57.763Z"
   },
   {
    "duration": 3,
    "start_time": "2021-07-07T14:30:23.377Z"
   },
   {
    "duration": 3,
    "start_time": "2021-07-07T14:30:36.489Z"
   },
   {
    "duration": 103,
    "start_time": "2021-07-07T14:30:52.351Z"
   },
   {
    "duration": 8,
    "start_time": "2021-07-07T14:30:54.763Z"
   },
   {
    "duration": 8,
    "start_time": "2021-07-07T14:31:29.301Z"
   },
   {
    "duration": 13,
    "start_time": "2021-07-07T14:31:44.516Z"
   },
   {
    "duration": 7,
    "start_time": "2021-07-07T14:33:10.972Z"
   },
   {
    "duration": 11,
    "start_time": "2021-07-07T14:33:27.780Z"
   },
   {
    "duration": 8,
    "start_time": "2021-07-07T14:34:44.588Z"
   },
   {
    "duration": 57,
    "start_time": "2021-07-07T14:35:59.042Z"
   },
   {
    "duration": 3,
    "start_time": "2021-07-07T14:36:28.168Z"
   },
   {
    "duration": 5,
    "start_time": "2021-07-07T14:36:46.254Z"
   },
   {
    "duration": 4,
    "start_time": "2021-07-07T14:36:52.714Z"
   },
   {
    "duration": 3,
    "start_time": "2021-07-07T14:36:56.612Z"
   },
   {
    "duration": 4,
    "start_time": "2021-07-07T14:36:57.049Z"
   },
   {
    "duration": 3,
    "start_time": "2021-07-07T14:39:21.214Z"
   },
   {
    "duration": 7,
    "start_time": "2021-07-07T14:39:52.406Z"
   },
   {
    "duration": 11,
    "start_time": "2021-07-07T14:39:58.576Z"
   },
   {
    "duration": 9,
    "start_time": "2021-07-07T14:40:26.301Z"
   },
   {
    "duration": 10,
    "start_time": "2021-07-07T14:40:31.704Z"
   },
   {
    "duration": 11,
    "start_time": "2021-07-07T14:40:36.249Z"
   },
   {
    "duration": 10,
    "start_time": "2021-07-07T14:40:39.783Z"
   },
   {
    "duration": 9,
    "start_time": "2021-07-07T14:40:48.558Z"
   },
   {
    "duration": 10,
    "start_time": "2021-07-07T14:40:57.143Z"
   },
   {
    "duration": 9,
    "start_time": "2021-07-07T14:41:06.074Z"
   },
   {
    "duration": 4324,
    "start_time": "2021-07-07T14:41:22.004Z"
   },
   {
    "duration": 11,
    "start_time": "2021-07-07T14:41:33.392Z"
   },
   {
    "duration": 9,
    "start_time": "2021-07-07T14:41:39.288Z"
   },
   {
    "duration": 569,
    "start_time": "2021-07-07T14:42:14.387Z"
   },
   {
    "duration": 197,
    "start_time": "2021-07-07T14:42:14.959Z"
   },
   {
    "duration": 84,
    "start_time": "2021-07-07T14:42:16.052Z"
   },
   {
    "duration": 4,
    "start_time": "2021-07-07T14:42:16.900Z"
   },
   {
    "duration": 27,
    "start_time": "2021-07-07T14:42:19.898Z"
   },
   {
    "duration": 12,
    "start_time": "2021-07-07T14:42:21.577Z"
   },
   {
    "duration": 9,
    "start_time": "2021-07-07T14:42:21.813Z"
   },
   {
    "duration": 9,
    "start_time": "2021-07-07T14:42:22.569Z"
   },
   {
    "duration": 29,
    "start_time": "2021-07-07T14:42:25.837Z"
   },
   {
    "duration": 20,
    "start_time": "2021-07-07T14:42:27.003Z"
   },
   {
    "duration": 21,
    "start_time": "2021-07-07T14:42:28.767Z"
   },
   {
    "duration": 7,
    "start_time": "2021-07-07T14:42:29.838Z"
   },
   {
    "duration": 4,
    "start_time": "2021-07-07T14:43:25.493Z"
   },
   {
    "duration": 7,
    "start_time": "2021-07-07T14:43:26.573Z"
   },
   {
    "duration": 10,
    "start_time": "2021-07-07T14:43:31.639Z"
   },
   {
    "duration": 9,
    "start_time": "2021-07-07T14:43:32.046Z"
   },
   {
    "duration": 10,
    "start_time": "2021-07-07T14:43:33.301Z"
   },
   {
    "duration": 12,
    "start_time": "2021-07-07T14:43:33.658Z"
   },
   {
    "duration": 8,
    "start_time": "2021-07-07T14:43:34.552Z"
   },
   {
    "duration": 9,
    "start_time": "2021-07-07T14:43:35.058Z"
   },
   {
    "duration": 12,
    "start_time": "2021-07-07T14:43:35.914Z"
   },
   {
    "duration": 17,
    "start_time": "2021-07-07T14:45:34.368Z"
   },
   {
    "duration": 512,
    "start_time": "2021-07-07T14:51:58.236Z"
   },
   {
    "duration": 223,
    "start_time": "2021-07-07T14:51:58.750Z"
   },
   {
    "duration": 93,
    "start_time": "2021-07-07T14:51:58.977Z"
   },
   {
    "duration": 4,
    "start_time": "2021-07-07T14:51:59.071Z"
   },
   {
    "duration": 37,
    "start_time": "2021-07-07T14:51:59.077Z"
   },
   {
    "duration": 18,
    "start_time": "2021-07-07T14:51:59.116Z"
   },
   {
    "duration": 10,
    "start_time": "2021-07-07T14:51:59.137Z"
   },
   {
    "duration": 8,
    "start_time": "2021-07-07T14:51:59.149Z"
   },
   {
    "duration": 54,
    "start_time": "2021-07-07T14:51:59.158Z"
   },
   {
    "duration": 18,
    "start_time": "2021-07-07T14:51:59.213Z"
   },
   {
    "duration": 22,
    "start_time": "2021-07-07T14:51:59.232Z"
   },
   {
    "duration": 36,
    "start_time": "2021-07-07T14:51:59.255Z"
   },
   {
    "duration": 7,
    "start_time": "2021-07-07T14:51:59.293Z"
   },
   {
    "duration": 10,
    "start_time": "2021-07-07T14:51:59.302Z"
   },
   {
    "duration": 9,
    "start_time": "2021-07-07T14:51:59.313Z"
   },
   {
    "duration": 11,
    "start_time": "2021-07-07T14:51:59.324Z"
   },
   {
    "duration": 8,
    "start_time": "2021-07-07T14:51:59.337Z"
   },
   {
    "duration": 46,
    "start_time": "2021-07-07T14:51:59.347Z"
   },
   {
    "duration": 22,
    "start_time": "2021-07-07T14:51:59.395Z"
   },
   {
    "duration": 24,
    "start_time": "2021-07-07T14:57:32.911Z"
   },
   {
    "duration": 7,
    "start_time": "2021-07-07T14:58:22.070Z"
   },
   {
    "duration": 4,
    "start_time": "2021-07-07T14:59:11.239Z"
   },
   {
    "duration": 25,
    "start_time": "2021-07-07T15:07:22.208Z"
   },
   {
    "duration": 16,
    "start_time": "2021-07-07T15:08:25.560Z"
   },
   {
    "duration": 15,
    "start_time": "2021-07-07T15:08:40.647Z"
   },
   {
    "duration": 14,
    "start_time": "2021-07-07T15:08:46.669Z"
   },
   {
    "duration": 533,
    "start_time": "2021-07-07T15:18:07.440Z"
   },
   {
    "duration": 173,
    "start_time": "2021-07-07T15:18:07.974Z"
   },
   {
    "duration": 84,
    "start_time": "2021-07-07T15:18:08.149Z"
   },
   {
    "duration": 3,
    "start_time": "2021-07-07T15:18:08.235Z"
   },
   {
    "duration": 30,
    "start_time": "2021-07-07T15:18:08.240Z"
   },
   {
    "duration": 22,
    "start_time": "2021-07-07T15:18:08.272Z"
   },
   {
    "duration": 11,
    "start_time": "2021-07-07T15:18:08.295Z"
   },
   {
    "duration": 11,
    "start_time": "2021-07-07T15:18:08.309Z"
   },
   {
    "duration": 40,
    "start_time": "2021-07-07T15:18:08.322Z"
   },
   {
    "duration": 42,
    "start_time": "2021-07-07T15:18:08.364Z"
   },
   {
    "duration": 22,
    "start_time": "2021-07-07T15:18:08.408Z"
   },
   {
    "duration": 5,
    "start_time": "2021-07-07T15:18:08.432Z"
   },
   {
    "duration": 13,
    "start_time": "2021-07-07T15:18:08.439Z"
   },
   {
    "duration": 9,
    "start_time": "2021-07-07T15:18:08.454Z"
   },
   {
    "duration": 32,
    "start_time": "2021-07-07T15:18:08.465Z"
   },
   {
    "duration": 10,
    "start_time": "2021-07-07T15:18:08.501Z"
   },
   {
    "duration": 7,
    "start_time": "2021-07-07T15:18:08.513Z"
   },
   {
    "duration": 11,
    "start_time": "2021-07-07T15:18:08.521Z"
   },
   {
    "duration": 17,
    "start_time": "2021-07-07T15:18:08.534Z"
   },
   {
    "duration": 44,
    "start_time": "2021-07-07T15:18:08.553Z"
   },
   {
    "duration": 22,
    "start_time": "2021-07-07T15:18:08.599Z"
   },
   {
    "duration": 61,
    "start_time": "2021-07-07T15:18:08.622Z"
   },
   {
    "duration": 7,
    "start_time": "2021-07-07T15:18:39.457Z"
   },
   {
    "duration": 5,
    "start_time": "2021-07-07T16:05:17.020Z"
   },
   {
    "duration": 5,
    "start_time": "2021-07-07T16:51:28.794Z"
   },
   {
    "duration": 546,
    "start_time": "2021-07-07T16:52:26.306Z"
   },
   {
    "duration": 203,
    "start_time": "2021-07-07T16:52:27.523Z"
   },
   {
    "duration": 85,
    "start_time": "2021-07-07T16:52:27.736Z"
   },
   {
    "duration": 4,
    "start_time": "2021-07-07T16:52:27.899Z"
   },
   {
    "duration": 25,
    "start_time": "2021-07-07T16:52:28.674Z"
   },
   {
    "duration": 8,
    "start_time": "2021-07-07T16:52:32.956Z"
   },
   {
    "duration": 18,
    "start_time": "2021-07-07T16:52:35.616Z"
   },
   {
    "duration": 6,
    "start_time": "2021-07-07T16:52:36.913Z"
   },
   {
    "duration": 11,
    "start_time": "2021-07-07T16:52:40.258Z"
   },
   {
    "duration": 10,
    "start_time": "2021-07-07T16:52:46.251Z"
   },
   {
    "duration": 8,
    "start_time": "2021-07-07T16:52:47.182Z"
   },
   {
    "duration": 27,
    "start_time": "2021-07-07T16:53:20.391Z"
   },
   {
    "duration": 20,
    "start_time": "2021-07-07T16:53:22.022Z"
   },
   {
    "duration": 23,
    "start_time": "2021-07-07T16:53:23.690Z"
   },
   {
    "duration": 8,
    "start_time": "2021-07-07T16:53:24.261Z"
   },
   {
    "duration": 4,
    "start_time": "2021-07-07T16:53:38.733Z"
   },
   {
    "duration": 7,
    "start_time": "2021-07-07T16:53:40.445Z"
   },
   {
    "duration": 11,
    "start_time": "2021-07-07T16:53:41.348Z"
   },
   {
    "duration": 13,
    "start_time": "2021-07-07T16:53:45.250Z"
   },
   {
    "duration": 12,
    "start_time": "2021-07-07T16:53:45.467Z"
   },
   {
    "duration": 4,
    "start_time": "2021-07-07T16:55:32.704Z"
   },
   {
    "duration": 12,
    "start_time": "2021-07-07T16:55:49.012Z"
   },
   {
    "duration": 18,
    "start_time": "2021-07-07T16:55:49.547Z"
   },
   {
    "duration": 611,
    "start_time": "2021-07-07T16:58:35.156Z"
   },
   {
    "duration": 200,
    "start_time": "2021-07-07T16:58:35.770Z"
   },
   {
    "duration": 86,
    "start_time": "2021-07-07T16:58:35.972Z"
   },
   {
    "duration": 3,
    "start_time": "2021-07-07T16:58:36.060Z"
   },
   {
    "duration": 27,
    "start_time": "2021-07-07T16:58:36.065Z"
   },
   {
    "duration": 8,
    "start_time": "2021-07-07T16:58:36.094Z"
   },
   {
    "duration": 17,
    "start_time": "2021-07-07T16:58:36.103Z"
   },
   {
    "duration": 5,
    "start_time": "2021-07-07T16:58:36.123Z"
   },
   {
    "duration": 11,
    "start_time": "2021-07-07T16:58:36.130Z"
   },
   {
    "duration": 7,
    "start_time": "2021-07-07T16:58:36.143Z"
   },
   {
    "duration": 37,
    "start_time": "2021-07-07T16:58:36.152Z"
   },
   {
    "duration": 27,
    "start_time": "2021-07-07T16:58:36.191Z"
   },
   {
    "duration": 19,
    "start_time": "2021-07-07T16:58:36.219Z"
   },
   {
    "duration": 49,
    "start_time": "2021-07-07T16:58:36.240Z"
   },
   {
    "duration": 6,
    "start_time": "2021-07-07T16:58:36.291Z"
   },
   {
    "duration": 3,
    "start_time": "2021-07-07T16:58:36.299Z"
   },
   {
    "duration": 13,
    "start_time": "2021-07-07T16:58:36.304Z"
   },
   {
    "duration": 10,
    "start_time": "2021-07-07T16:58:36.319Z"
   },
   {
    "duration": 10,
    "start_time": "2021-07-07T16:58:36.331Z"
   },
   {
    "duration": 44,
    "start_time": "2021-07-07T16:58:36.343Z"
   },
   {
    "duration": 4,
    "start_time": "2021-07-07T16:58:36.388Z"
   },
   {
    "duration": 13,
    "start_time": "2021-07-07T16:58:36.394Z"
   },
   {
    "duration": 16,
    "start_time": "2021-07-07T16:58:36.410Z"
   },
   {
    "duration": 8,
    "start_time": "2021-07-07T17:02:31.629Z"
   },
   {
    "duration": 8,
    "start_time": "2021-07-07T17:02:34.308Z"
   },
   {
    "duration": 6,
    "start_time": "2021-07-07T17:05:13.483Z"
   },
   {
    "duration": 17,
    "start_time": "2021-07-07T17:05:20.606Z"
   },
   {
    "duration": 7,
    "start_time": "2021-07-07T17:05:34.638Z"
   },
   {
    "duration": 3,
    "start_time": "2021-07-07T17:06:31.883Z"
   },
   {
    "duration": 570,
    "start_time": "2021-07-07T17:06:37.165Z"
   },
   {
    "duration": 174,
    "start_time": "2021-07-07T17:06:37.737Z"
   },
   {
    "duration": 47,
    "start_time": "2021-07-07T17:06:37.913Z"
   },
   {
    "duration": 3,
    "start_time": "2021-07-07T17:06:37.962Z"
   },
   {
    "duration": 27,
    "start_time": "2021-07-07T17:06:37.967Z"
   },
   {
    "duration": 7,
    "start_time": "2021-07-07T17:06:37.996Z"
   },
   {
    "duration": 16,
    "start_time": "2021-07-07T17:06:38.005Z"
   },
   {
    "duration": 6,
    "start_time": "2021-07-07T17:06:38.024Z"
   },
   {
    "duration": 12,
    "start_time": "2021-07-07T17:06:38.031Z"
   },
   {
    "duration": 41,
    "start_time": "2021-07-07T17:06:38.045Z"
   },
   {
    "duration": 8,
    "start_time": "2021-07-07T17:06:38.088Z"
   },
   {
    "duration": 26,
    "start_time": "2021-07-07T17:06:38.098Z"
   },
   {
    "duration": 17,
    "start_time": "2021-07-07T17:06:38.126Z"
   },
   {
    "duration": 43,
    "start_time": "2021-07-07T17:06:38.144Z"
   },
   {
    "duration": 6,
    "start_time": "2021-07-07T17:06:38.188Z"
   },
   {
    "duration": 5,
    "start_time": "2021-07-07T17:06:38.195Z"
   },
   {
    "duration": 9,
    "start_time": "2021-07-07T17:06:38.201Z"
   },
   {
    "duration": 12,
    "start_time": "2021-07-07T17:06:38.212Z"
   },
   {
    "duration": 11,
    "start_time": "2021-07-07T17:06:38.226Z"
   },
   {
    "duration": 47,
    "start_time": "2021-07-07T17:06:38.239Z"
   },
   {
    "duration": 4,
    "start_time": "2021-07-07T17:06:38.288Z"
   },
   {
    "duration": 13,
    "start_time": "2021-07-07T17:06:38.293Z"
   },
   {
    "duration": 5,
    "start_time": "2021-07-07T17:06:38.309Z"
   },
   {
    "duration": 18,
    "start_time": "2021-07-07T17:06:38.325Z"
   },
   {
    "duration": 20,
    "start_time": "2021-07-07T17:07:02.805Z"
   },
   {
    "duration": 19,
    "start_time": "2021-07-07T17:07:08.527Z"
   },
   {
    "duration": 19,
    "start_time": "2021-07-07T17:07:12.758Z"
   },
   {
    "duration": 22,
    "start_time": "2021-07-07T17:07:17.497Z"
   },
   {
    "duration": 19,
    "start_time": "2021-07-07T17:07:19.645Z"
   },
   {
    "duration": 10,
    "start_time": "2021-07-07T17:07:34.239Z"
   },
   {
    "duration": 17,
    "start_time": "2021-07-07T17:07:54.144Z"
   },
   {
    "duration": 14,
    "start_time": "2021-07-07T17:08:14.357Z"
   },
   {
    "duration": 616,
    "start_time": "2021-07-07T17:08:45.254Z"
   },
   {
    "duration": 178,
    "start_time": "2021-07-07T17:08:45.872Z"
   },
   {
    "duration": 60,
    "start_time": "2021-07-07T17:08:46.054Z"
   },
   {
    "duration": 3,
    "start_time": "2021-07-07T17:08:46.116Z"
   },
   {
    "duration": 26,
    "start_time": "2021-07-07T17:08:46.121Z"
   },
   {
    "duration": 7,
    "start_time": "2021-07-07T17:08:46.149Z"
   },
   {
    "duration": 17,
    "start_time": "2021-07-07T17:08:46.158Z"
   },
   {
    "duration": 14,
    "start_time": "2021-07-07T17:08:46.176Z"
   },
   {
    "duration": 17,
    "start_time": "2021-07-07T17:08:46.193Z"
   },
   {
    "duration": 9,
    "start_time": "2021-07-07T17:08:46.211Z"
   },
   {
    "duration": 21,
    "start_time": "2021-07-07T17:08:46.221Z"
   },
   {
    "duration": 49,
    "start_time": "2021-07-07T17:08:46.244Z"
   },
   {
    "duration": 24,
    "start_time": "2021-07-07T17:08:46.295Z"
   },
   {
    "duration": 22,
    "start_time": "2021-07-07T17:08:46.321Z"
   },
   {
    "duration": 6,
    "start_time": "2021-07-07T17:08:46.345Z"
   },
   {
    "duration": 5,
    "start_time": "2021-07-07T17:08:46.353Z"
   },
   {
    "duration": 13,
    "start_time": "2021-07-07T17:08:46.386Z"
   },
   {
    "duration": 12,
    "start_time": "2021-07-07T17:08:46.402Z"
   },
   {
    "duration": 10,
    "start_time": "2021-07-07T17:08:46.415Z"
   },
   {
    "duration": 7,
    "start_time": "2021-07-07T17:08:46.427Z"
   },
   {
    "duration": 8,
    "start_time": "2021-07-07T17:08:46.435Z"
   },
   {
    "duration": 68,
    "start_time": "2021-07-07T17:08:46.446Z"
   },
   {
    "duration": 13,
    "start_time": "2021-07-07T17:08:46.516Z"
   },
   {
    "duration": 78,
    "start_time": "2021-07-07T17:08:46.530Z"
   },
   {
    "duration": 40,
    "start_time": "2021-07-07T17:09:08.185Z"
   },
   {
    "duration": 16,
    "start_time": "2021-07-07T17:09:19.324Z"
   },
   {
    "duration": 21,
    "start_time": "2021-07-07T17:09:23.290Z"
   },
   {
    "duration": 13,
    "start_time": "2021-07-07T17:09:54.812Z"
   },
   {
    "duration": 13,
    "start_time": "2021-07-07T17:10:02.039Z"
   },
   {
    "duration": 10,
    "start_time": "2021-07-07T17:10:29.632Z"
   },
   {
    "duration": 13,
    "start_time": "2021-07-07T17:10:52.372Z"
   },
   {
    "duration": 13,
    "start_time": "2021-07-07T17:11:17.270Z"
   },
   {
    "duration": 13,
    "start_time": "2021-07-07T17:14:59.284Z"
   },
   {
    "duration": 547,
    "start_time": "2021-07-07T17:18:52.403Z"
   },
   {
    "duration": 163,
    "start_time": "2021-07-07T17:18:52.952Z"
   },
   {
    "duration": 44,
    "start_time": "2021-07-07T17:18:53.117Z"
   },
   {
    "duration": 3,
    "start_time": "2021-07-07T17:18:53.162Z"
   },
   {
    "duration": 26,
    "start_time": "2021-07-07T17:18:53.167Z"
   },
   {
    "duration": 6,
    "start_time": "2021-07-07T17:18:53.195Z"
   },
   {
    "duration": 15,
    "start_time": "2021-07-07T17:18:53.203Z"
   },
   {
    "duration": 5,
    "start_time": "2021-07-07T17:18:53.220Z"
   },
   {
    "duration": 11,
    "start_time": "2021-07-07T17:18:53.228Z"
   },
   {
    "duration": 9,
    "start_time": "2021-07-07T17:18:53.241Z"
   },
   {
    "duration": 41,
    "start_time": "2021-07-07T17:18:53.252Z"
   },
   {
    "duration": 33,
    "start_time": "2021-07-07T17:18:53.295Z"
   },
   {
    "duration": 19,
    "start_time": "2021-07-07T17:18:53.330Z"
   },
   {
    "duration": 49,
    "start_time": "2021-07-07T17:18:53.350Z"
   },
   {
    "duration": 5,
    "start_time": "2021-07-07T17:18:53.401Z"
   },
   {
    "duration": 5,
    "start_time": "2021-07-07T17:18:53.408Z"
   },
   {
    "duration": 11,
    "start_time": "2021-07-07T17:18:53.414Z"
   },
   {
    "duration": 9,
    "start_time": "2021-07-07T17:18:53.427Z"
   },
   {
    "duration": 10,
    "start_time": "2021-07-07T17:18:53.437Z"
   },
   {
    "duration": 39,
    "start_time": "2021-07-07T17:18:53.448Z"
   },
   {
    "duration": 26,
    "start_time": "2021-07-07T17:18:55.799Z"
   },
   {
    "duration": 598,
    "start_time": "2021-07-07T17:20:17.862Z"
   },
   {
    "duration": 161,
    "start_time": "2021-07-07T17:20:18.462Z"
   },
   {
    "duration": 45,
    "start_time": "2021-07-07T17:20:18.626Z"
   },
   {
    "duration": 4,
    "start_time": "2021-07-07T17:20:18.673Z"
   },
   {
    "duration": 38,
    "start_time": "2021-07-07T17:20:26.877Z"
   },
   {
    "duration": 7,
    "start_time": "2021-07-07T17:20:37.405Z"
   },
   {
    "duration": 19,
    "start_time": "2021-07-07T17:20:51.534Z"
   },
   {
    "duration": 5,
    "start_time": "2021-07-07T17:20:57.228Z"
   },
   {
    "duration": 7,
    "start_time": "2021-07-07T17:21:08.235Z"
   },
   {
    "duration": 19,
    "start_time": "2021-07-07T17:21:42.158Z"
   },
   {
    "duration": 14,
    "start_time": "2021-07-07T17:21:50.225Z"
   },
   {
    "duration": 22,
    "start_time": "2021-07-07T17:22:54.104Z"
   },
   {
    "duration": 5,
    "start_time": "2021-07-07T17:22:56.371Z"
   },
   {
    "duration": 14,
    "start_time": "2021-07-07T17:22:58.316Z"
   },
   {
    "duration": 5,
    "start_time": "2021-07-07T17:22:58.493Z"
   },
   {
    "duration": 35,
    "start_time": "2021-07-07T17:22:59.666Z"
   },
   {
    "duration": 6,
    "start_time": "2021-07-07T17:23:02.410Z"
   },
   {
    "duration": 611,
    "start_time": "2021-07-07T17:24:59.664Z"
   },
   {
    "duration": 178,
    "start_time": "2021-07-07T17:25:01.945Z"
   },
   {
    "duration": 47,
    "start_time": "2021-07-07T17:25:02.125Z"
   },
   {
    "duration": 2,
    "start_time": "2021-07-07T17:25:07.903Z"
   },
   {
    "duration": 254,
    "start_time": "2021-07-07T17:25:08.232Z"
   },
   {
    "duration": 182,
    "start_time": "2021-07-07T17:25:08.671Z"
   },
   {
    "duration": 6,
    "start_time": "2021-07-07T17:25:13.104Z"
   },
   {
    "duration": 36,
    "start_time": "2021-07-07T17:25:13.662Z"
   },
   {
    "duration": 7,
    "start_time": "2021-07-07T17:25:14.528Z"
   },
   {
    "duration": 24,
    "start_time": "2021-07-07T17:25:27.982Z"
   },
   {
    "duration": 3,
    "start_time": "2021-07-07T17:25:48.982Z"
   },
   {
    "duration": 165,
    "start_time": "2021-07-07T17:25:48.987Z"
   },
   {
    "duration": 50,
    "start_time": "2021-07-07T17:25:49.154Z"
   },
   {
    "duration": 4,
    "start_time": "2021-07-07T17:25:49.206Z"
   },
   {
    "duration": 26,
    "start_time": "2021-07-07T17:25:49.212Z"
   },
   {
    "duration": 7,
    "start_time": "2021-07-07T17:25:49.240Z"
   },
   {
    "duration": 16,
    "start_time": "2021-07-07T17:25:49.249Z"
   },
   {
    "duration": 22,
    "start_time": "2021-07-07T17:25:49.266Z"
   },
   {
    "duration": 16,
    "start_time": "2021-07-07T17:25:49.291Z"
   },
   {
    "duration": 9,
    "start_time": "2021-07-07T17:25:49.309Z"
   },
   {
    "duration": 7,
    "start_time": "2021-07-07T17:25:49.319Z"
   },
   {
    "duration": 28,
    "start_time": "2021-07-07T17:25:49.328Z"
   },
   {
    "duration": 44,
    "start_time": "2021-07-07T17:25:49.357Z"
   },
   {
    "duration": 22,
    "start_time": "2021-07-07T17:25:49.403Z"
   },
   {
    "duration": 7,
    "start_time": "2021-07-07T17:25:49.427Z"
   },
   {
    "duration": 3,
    "start_time": "2021-07-07T17:25:49.436Z"
   },
   {
    "duration": 44,
    "start_time": "2021-07-07T17:25:49.441Z"
   },
   {
    "duration": 12,
    "start_time": "2021-07-07T17:25:49.488Z"
   },
   {
    "duration": 13,
    "start_time": "2021-07-07T17:25:49.502Z"
   },
   {
    "duration": 10,
    "start_time": "2021-07-07T17:25:49.516Z"
   },
   {
    "duration": 62,
    "start_time": "2021-07-07T17:25:49.527Z"
   },
   {
    "duration": 26,
    "start_time": "2021-07-07T17:26:51.809Z"
   },
   {
    "duration": 26,
    "start_time": "2021-07-07T17:26:55.759Z"
   },
   {
    "duration": 26,
    "start_time": "2021-07-07T17:27:04.501Z"
   },
   {
    "duration": 25,
    "start_time": "2021-07-07T17:28:24.859Z"
   },
   {
    "duration": 21,
    "start_time": "2021-07-07T17:28:55.250Z"
   },
   {
    "duration": 21,
    "start_time": "2021-07-07T17:28:58.885Z"
   },
   {
    "duration": 7,
    "start_time": "2021-07-07T17:45:40.972Z"
   },
   {
    "duration": 13,
    "start_time": "2021-07-07T17:45:42.529Z"
   },
   {
    "duration": 27,
    "start_time": "2021-07-07T17:45:51.026Z"
   },
   {
    "duration": 518,
    "start_time": "2021-07-07T17:46:15.532Z"
   },
   {
    "duration": 235,
    "start_time": "2021-07-07T17:46:16.053Z"
   },
   {
    "duration": 80,
    "start_time": "2021-07-07T17:46:16.292Z"
   },
   {
    "duration": 5,
    "start_time": "2021-07-07T17:46:16.373Z"
   },
   {
    "duration": 26,
    "start_time": "2021-07-07T17:46:16.380Z"
   },
   {
    "duration": 7,
    "start_time": "2021-07-07T17:46:16.408Z"
   },
   {
    "duration": 16,
    "start_time": "2021-07-07T17:46:16.418Z"
   },
   {
    "duration": 5,
    "start_time": "2021-07-07T17:46:16.436Z"
   },
   {
    "duration": 13,
    "start_time": "2021-07-07T17:46:16.442Z"
   },
   {
    "duration": 35,
    "start_time": "2021-07-07T17:46:16.456Z"
   },
   {
    "duration": 8,
    "start_time": "2021-07-07T17:46:16.493Z"
   },
   {
    "duration": 28,
    "start_time": "2021-07-07T17:46:16.502Z"
   },
   {
    "duration": 17,
    "start_time": "2021-07-07T17:46:16.532Z"
   },
   {
    "duration": 44,
    "start_time": "2021-07-07T17:46:16.551Z"
   },
   {
    "duration": 6,
    "start_time": "2021-07-07T17:46:16.597Z"
   },
   {
    "duration": 4,
    "start_time": "2021-07-07T17:46:16.605Z"
   },
   {
    "duration": 9,
    "start_time": "2021-07-07T17:46:16.610Z"
   },
   {
    "duration": 9,
    "start_time": "2021-07-07T17:46:16.621Z"
   },
   {
    "duration": 10,
    "start_time": "2021-07-07T17:46:16.632Z"
   },
   {
    "duration": 43,
    "start_time": "2021-07-07T17:46:16.644Z"
   },
   {
    "duration": 26,
    "start_time": "2021-07-07T17:46:16.689Z"
   },
   {
    "duration": 19,
    "start_time": "2021-07-07T17:46:16.718Z"
   },
   {
    "duration": 8,
    "start_time": "2021-07-07T17:46:16.738Z"
   },
   {
    "duration": 43,
    "start_time": "2021-07-07T17:46:16.747Z"
   },
   {
    "duration": 19,
    "start_time": "2021-07-07T17:46:16.791Z"
   },
   {
    "duration": 9,
    "start_time": "2021-07-07T17:46:16.812Z"
   },
   {
    "duration": 60,
    "start_time": "2021-07-07T17:46:16.822Z"
   },
   {
    "duration": -8,
    "start_time": "2021-07-07T17:46:16.892Z"
   },
   {
    "duration": 12,
    "start_time": "2021-07-07T17:48:47.707Z"
   },
   {
    "duration": 553,
    "start_time": "2021-07-07T18:10:09.350Z"
   },
   {
    "duration": 230,
    "start_time": "2021-07-07T18:10:09.905Z"
   },
   {
    "duration": 97,
    "start_time": "2021-07-07T18:10:10.137Z"
   },
   {
    "duration": 5,
    "start_time": "2021-07-07T18:10:10.236Z"
   },
   {
    "duration": 29,
    "start_time": "2021-07-07T18:10:10.242Z"
   },
   {
    "duration": 7,
    "start_time": "2021-07-07T18:10:10.272Z"
   },
   {
    "duration": 15,
    "start_time": "2021-07-07T18:10:10.281Z"
   },
   {
    "duration": 4,
    "start_time": "2021-07-07T18:10:10.299Z"
   },
   {
    "duration": 14,
    "start_time": "2021-07-07T18:10:10.305Z"
   },
   {
    "duration": 8,
    "start_time": "2021-07-07T18:10:10.321Z"
   },
   {
    "duration": 8,
    "start_time": "2021-07-07T18:10:10.331Z"
   },
   {
    "duration": 56,
    "start_time": "2021-07-07T18:10:10.341Z"
   },
   {
    "duration": 19,
    "start_time": "2021-07-07T18:10:10.399Z"
   },
   {
    "duration": 23,
    "start_time": "2021-07-07T18:10:10.419Z"
   },
   {
    "duration": 6,
    "start_time": "2021-07-07T18:10:10.444Z"
   },
   {
    "duration": 9,
    "start_time": "2021-07-07T18:10:10.451Z"
   },
   {
    "duration": 30,
    "start_time": "2021-07-07T18:10:10.462Z"
   },
   {
    "duration": 9,
    "start_time": "2021-07-07T18:10:10.494Z"
   },
   {
    "duration": 14,
    "start_time": "2021-07-07T18:10:10.505Z"
   },
   {
    "duration": 7,
    "start_time": "2021-07-07T18:10:10.521Z"
   },
   {
    "duration": 26,
    "start_time": "2021-07-07T18:10:10.530Z"
   },
   {
    "duration": 44,
    "start_time": "2021-07-07T18:10:10.558Z"
   },
   {
    "duration": 7,
    "start_time": "2021-07-07T18:10:10.605Z"
   },
   {
    "duration": 11,
    "start_time": "2021-07-07T18:10:10.614Z"
   },
   {
    "duration": 19,
    "start_time": "2021-07-07T18:10:10.626Z"
   },
   {
    "duration": 44,
    "start_time": "2021-07-07T18:10:10.646Z"
   },
   {
    "duration": 516,
    "start_time": "2021-07-07T18:14:00.826Z"
   },
   {
    "duration": 230,
    "start_time": "2021-07-07T18:14:01.344Z"
   },
   {
    "duration": 105,
    "start_time": "2021-07-07T18:14:01.576Z"
   },
   {
    "duration": 5,
    "start_time": "2021-07-07T18:14:01.683Z"
   },
   {
    "duration": 46,
    "start_time": "2021-07-07T18:14:01.690Z"
   },
   {
    "duration": 7,
    "start_time": "2021-07-07T18:14:01.738Z"
   },
   {
    "duration": 20,
    "start_time": "2021-07-07T18:14:01.747Z"
   },
   {
    "duration": 16,
    "start_time": "2021-07-07T18:14:01.769Z"
   },
   {
    "duration": 14,
    "start_time": "2021-07-07T18:14:01.787Z"
   },
   {
    "duration": 15,
    "start_time": "2021-07-07T18:14:01.803Z"
   },
   {
    "duration": 12,
    "start_time": "2021-07-07T18:14:01.820Z"
   },
   {
    "duration": 35,
    "start_time": "2021-07-07T18:14:01.833Z"
   },
   {
    "duration": 31,
    "start_time": "2021-07-07T18:14:01.869Z"
   },
   {
    "duration": 37,
    "start_time": "2021-07-07T18:14:01.902Z"
   },
   {
    "duration": 8,
    "start_time": "2021-07-07T18:14:01.942Z"
   },
   {
    "duration": 16,
    "start_time": "2021-07-07T18:14:01.952Z"
   },
   {
    "duration": 13,
    "start_time": "2021-07-07T18:14:01.970Z"
   },
   {
    "duration": 32,
    "start_time": "2021-07-07T18:14:01.985Z"
   },
   {
    "duration": 11,
    "start_time": "2021-07-07T18:14:02.019Z"
   },
   {
    "duration": 22,
    "start_time": "2021-07-07T18:14:02.031Z"
   },
   {
    "duration": 27,
    "start_time": "2021-07-07T18:14:02.055Z"
   },
   {
    "duration": 18,
    "start_time": "2021-07-07T18:14:02.084Z"
   },
   {
    "duration": 18,
    "start_time": "2021-07-07T18:14:02.106Z"
   },
   {
    "duration": 11,
    "start_time": "2021-07-07T18:14:02.126Z"
   },
   {
    "duration": 21,
    "start_time": "2021-07-07T18:14:02.138Z"
   },
   {
    "duration": 32,
    "start_time": "2021-07-07T18:14:02.161Z"
   },
   {
    "duration": 28,
    "start_time": "2021-07-07T18:14:44.295Z"
   },
   {
    "duration": 6,
    "start_time": "2021-07-07T18:15:05.834Z"
   },
   {
    "duration": 511,
    "start_time": "2021-07-07T18:15:41.541Z"
   },
   {
    "duration": 183,
    "start_time": "2021-07-07T18:15:42.054Z"
   },
   {
    "duration": 50,
    "start_time": "2021-07-07T18:15:42.239Z"
   },
   {
    "duration": 5,
    "start_time": "2021-07-07T18:15:42.291Z"
   },
   {
    "duration": 48,
    "start_time": "2021-07-07T18:15:42.297Z"
   },
   {
    "duration": 8,
    "start_time": "2021-07-07T18:15:42.346Z"
   },
   {
    "duration": 17,
    "start_time": "2021-07-07T18:15:42.356Z"
   },
   {
    "duration": 15,
    "start_time": "2021-07-07T18:15:42.375Z"
   },
   {
    "duration": 12,
    "start_time": "2021-07-07T18:15:42.392Z"
   },
   {
    "duration": 7,
    "start_time": "2021-07-07T18:15:42.406Z"
   },
   {
    "duration": 7,
    "start_time": "2021-07-07T18:15:42.415Z"
   },
   {
    "duration": 29,
    "start_time": "2021-07-07T18:15:42.423Z"
   },
   {
    "duration": 43,
    "start_time": "2021-07-07T18:15:42.453Z"
   },
   {
    "duration": 18,
    "start_time": "2021-07-07T18:15:42.497Z"
   },
   {
    "duration": 6,
    "start_time": "2021-07-07T18:15:42.516Z"
   },
   {
    "duration": 3,
    "start_time": "2021-07-07T18:15:42.523Z"
   },
   {
    "duration": 18,
    "start_time": "2021-07-07T18:15:42.528Z"
   },
   {
    "duration": 10,
    "start_time": "2021-07-07T18:15:42.547Z"
   },
   {
    "duration": 36,
    "start_time": "2021-07-07T18:15:42.559Z"
   },
   {
    "duration": 8,
    "start_time": "2021-07-07T18:15:42.597Z"
   },
   {
    "duration": 28,
    "start_time": "2021-07-07T18:15:42.606Z"
   },
   {
    "duration": 52,
    "start_time": "2021-07-07T18:15:42.635Z"
   },
   {
    "duration": 7,
    "start_time": "2021-07-07T18:15:42.690Z"
   },
   {
    "duration": 10,
    "start_time": "2021-07-07T18:15:42.699Z"
   },
   {
    "duration": 19,
    "start_time": "2021-07-07T18:15:42.711Z"
   },
   {
    "duration": 9,
    "start_time": "2021-07-07T18:15:42.732Z"
   },
   {
    "duration": 5,
    "start_time": "2021-07-07T18:15:42.743Z"
   },
   {
    "duration": 1450,
    "start_time": "2021-07-07T18:15:51.984Z"
   },
   {
    "duration": 161,
    "start_time": "2021-07-07T18:15:53.435Z"
   },
   {
    "duration": 124,
    "start_time": "2021-07-07T18:15:53.598Z"
   },
   {
    "duration": 5,
    "start_time": "2021-07-07T18:15:53.724Z"
   },
   {
    "duration": 34,
    "start_time": "2021-07-07T18:15:53.730Z"
   },
   {
    "duration": 7,
    "start_time": "2021-07-07T18:15:53.765Z"
   },
   {
    "duration": 15,
    "start_time": "2021-07-07T18:15:53.773Z"
   },
   {
    "duration": 5,
    "start_time": "2021-07-07T18:15:53.791Z"
   },
   {
    "duration": 19,
    "start_time": "2021-07-07T18:15:53.798Z"
   },
   {
    "duration": 9,
    "start_time": "2021-07-07T18:15:53.818Z"
   },
   {
    "duration": 19,
    "start_time": "2021-07-07T18:15:53.828Z"
   },
   {
    "duration": 27,
    "start_time": "2021-07-07T18:15:53.848Z"
   },
   {
    "duration": 16,
    "start_time": "2021-07-07T18:15:53.884Z"
   },
   {
    "duration": 29,
    "start_time": "2021-07-07T18:15:53.901Z"
   },
   {
    "duration": 5,
    "start_time": "2021-07-07T18:15:53.932Z"
   },
   {
    "duration": 15,
    "start_time": "2021-07-07T18:15:53.939Z"
   },
   {
    "duration": 13,
    "start_time": "2021-07-07T18:15:53.956Z"
   },
   {
    "duration": 20,
    "start_time": "2021-07-07T18:15:53.971Z"
   },
   {
    "duration": 14,
    "start_time": "2021-07-07T18:15:53.992Z"
   },
   {
    "duration": 9,
    "start_time": "2021-07-07T18:15:54.009Z"
   },
   {
    "duration": 28,
    "start_time": "2021-07-07T18:15:54.020Z"
   },
   {
    "duration": 50,
    "start_time": "2021-07-07T18:15:54.051Z"
   },
   {
    "duration": 8,
    "start_time": "2021-07-07T18:15:54.105Z"
   },
   {
    "duration": 11,
    "start_time": "2021-07-07T18:15:54.115Z"
   },
   {
    "duration": 20,
    "start_time": "2021-07-07T18:15:54.128Z"
   },
   {
    "duration": 13,
    "start_time": "2021-07-07T18:15:54.184Z"
   },
   {
    "duration": 7,
    "start_time": "2021-07-07T18:15:54.199Z"
   },
   {
    "duration": 7,
    "start_time": "2021-07-07T18:17:08.042Z"
   },
   {
    "duration": 8,
    "start_time": "2021-07-07T18:17:21.008Z"
   },
   {
    "duration": 7,
    "start_time": "2021-07-07T18:17:29.003Z"
   },
   {
    "duration": 8,
    "start_time": "2021-07-07T18:17:32.492Z"
   },
   {
    "duration": 9,
    "start_time": "2021-07-07T18:17:41.758Z"
   },
   {
    "duration": 255,
    "start_time": "2021-07-07T18:20:20.897Z"
   },
   {
    "duration": 173,
    "start_time": "2021-07-07T18:20:26.636Z"
   },
   {
    "duration": 7,
    "start_time": "2021-07-07T18:21:47.164Z"
   },
   {
    "duration": 254,
    "start_time": "2021-07-07T18:23:08.703Z"
   },
   {
    "duration": 21,
    "start_time": "2021-07-07T18:23:22.506Z"
   },
   {
    "duration": 315,
    "start_time": "2021-07-07T18:25:54.801Z"
   },
   {
    "duration": 34,
    "start_time": "2021-07-07T18:26:51.817Z"
   },
   {
    "duration": 327,
    "start_time": "2021-07-07T18:26:56.147Z"
   },
   {
    "duration": 342,
    "start_time": "2021-07-07T18:27:15.887Z"
   },
   {
    "duration": 302,
    "start_time": "2021-07-07T18:28:18.569Z"
   },
   {
    "duration": 226,
    "start_time": "2021-07-07T18:29:20.879Z"
   },
   {
    "duration": 207,
    "start_time": "2021-07-07T18:29:58.114Z"
   },
   {
    "duration": 140,
    "start_time": "2021-07-07T18:32:04.372Z"
   },
   {
    "duration": 158,
    "start_time": "2021-07-07T18:32:32.508Z"
   },
   {
    "duration": 145,
    "start_time": "2021-07-07T18:32:41.365Z"
   },
   {
    "duration": 132,
    "start_time": "2021-07-07T18:32:45.199Z"
   },
   {
    "duration": 11,
    "start_time": "2021-07-07T18:35:24.679Z"
   },
   {
    "duration": 268,
    "start_time": "2021-07-07T18:36:16.145Z"
   },
   {
    "duration": 227,
    "start_time": "2021-07-07T18:37:04.918Z"
   },
   {
    "duration": 3,
    "start_time": "2021-07-07T18:37:33.012Z"
   },
   {
    "duration": 671,
    "start_time": "2021-07-07T18:37:38.295Z"
   },
   {
    "duration": 54,
    "start_time": "2021-07-07T18:37:53.406Z"
   },
   {
    "duration": 631,
    "start_time": "2021-07-07T18:37:56.463Z"
   },
   {
    "duration": 19,
    "start_time": "2021-07-07T18:39:40.535Z"
   },
   {
    "duration": 20,
    "start_time": "2021-07-07T18:40:12.236Z"
   },
   {
    "duration": 633,
    "start_time": "2021-07-07T18:42:00.398Z"
   },
   {
    "duration": 218,
    "start_time": "2021-07-07T18:42:01.033Z"
   },
   {
    "duration": 49,
    "start_time": "2021-07-07T18:42:01.253Z"
   },
   {
    "duration": 5,
    "start_time": "2021-07-07T18:42:01.303Z"
   },
   {
    "duration": 27,
    "start_time": "2021-07-07T18:42:01.310Z"
   },
   {
    "duration": 8,
    "start_time": "2021-07-07T18:42:01.339Z"
   },
   {
    "duration": 20,
    "start_time": "2021-07-07T18:42:01.348Z"
   },
   {
    "duration": 6,
    "start_time": "2021-07-07T18:42:01.386Z"
   },
   {
    "duration": 16,
    "start_time": "2021-07-07T18:42:01.394Z"
   },
   {
    "duration": 9,
    "start_time": "2021-07-07T18:42:01.411Z"
   },
   {
    "duration": 11,
    "start_time": "2021-07-07T18:42:01.421Z"
   },
   {
    "duration": 31,
    "start_time": "2021-07-07T18:42:01.434Z"
   },
   {
    "duration": 18,
    "start_time": "2021-07-07T18:42:01.485Z"
   },
   {
    "duration": 23,
    "start_time": "2021-07-07T18:42:01.505Z"
   },
   {
    "duration": 6,
    "start_time": "2021-07-07T18:42:01.530Z"
   },
   {
    "duration": 10,
    "start_time": "2021-07-07T18:42:01.538Z"
   },
   {
    "duration": 13,
    "start_time": "2021-07-07T18:42:01.550Z"
   },
   {
    "duration": 24,
    "start_time": "2021-07-07T18:42:01.564Z"
   },
   {
    "duration": 20,
    "start_time": "2021-07-07T18:42:01.590Z"
   },
   {
    "duration": 8,
    "start_time": "2021-07-07T18:42:01.611Z"
   },
   {
    "duration": 31,
    "start_time": "2021-07-07T18:42:01.620Z"
   },
   {
    "duration": 39,
    "start_time": "2021-07-07T18:42:01.653Z"
   },
   {
    "duration": 8,
    "start_time": "2021-07-07T18:42:01.696Z"
   },
   {
    "duration": 13,
    "start_time": "2021-07-07T18:42:01.705Z"
   },
   {
    "duration": 20,
    "start_time": "2021-07-07T18:42:01.720Z"
   },
   {
    "duration": 12,
    "start_time": "2021-07-07T18:42:01.741Z"
   },
   {
    "duration": 35,
    "start_time": "2021-07-07T18:42:01.755Z"
   },
   {
    "duration": 14,
    "start_time": "2021-07-07T18:42:01.792Z"
   },
   {
    "duration": 188,
    "start_time": "2021-07-07T18:42:01.808Z"
   },
   {
    "duration": 19,
    "start_time": "2021-07-07T18:42:01.998Z"
   },
   {
    "duration": 175,
    "start_time": "2021-07-07T18:42:02.019Z"
   },
   {
    "duration": 134,
    "start_time": "2021-07-07T18:42:02.196Z"
   },
   {
    "duration": 10,
    "start_time": "2021-07-07T18:42:02.331Z"
   },
   {
    "duration": 19,
    "start_time": "2021-07-07T18:42:02.343Z"
   },
   {
    "duration": 628,
    "start_time": "2021-07-07T18:46:30.701Z"
   },
   {
    "duration": 183,
    "start_time": "2021-07-07T18:46:31.331Z"
   },
   {
    "duration": 48,
    "start_time": "2021-07-07T18:46:31.516Z"
   },
   {
    "duration": 5,
    "start_time": "2021-07-07T18:46:31.566Z"
   },
   {
    "duration": 28,
    "start_time": "2021-07-07T18:46:31.572Z"
   },
   {
    "duration": 8,
    "start_time": "2021-07-07T18:46:31.602Z"
   },
   {
    "duration": 19,
    "start_time": "2021-07-07T18:46:31.611Z"
   },
   {
    "duration": 6,
    "start_time": "2021-07-07T18:46:31.633Z"
   },
   {
    "duration": 17,
    "start_time": "2021-07-07T18:46:31.642Z"
   },
   {
    "duration": 10,
    "start_time": "2021-07-07T18:46:31.684Z"
   },
   {
    "duration": 9,
    "start_time": "2021-07-07T18:46:31.695Z"
   },
   {
    "duration": 28,
    "start_time": "2021-07-07T18:46:31.705Z"
   },
   {
    "duration": 18,
    "start_time": "2021-07-07T18:46:31.735Z"
   },
   {
    "duration": 48,
    "start_time": "2021-07-07T18:46:31.755Z"
   },
   {
    "duration": 6,
    "start_time": "2021-07-07T18:46:31.804Z"
   },
   {
    "duration": 4,
    "start_time": "2021-07-07T18:46:31.812Z"
   },
   {
    "duration": 9,
    "start_time": "2021-07-07T18:46:31.817Z"
   },
   {
    "duration": 10,
    "start_time": "2021-07-07T18:46:31.827Z"
   },
   {
    "duration": 12,
    "start_time": "2021-07-07T18:46:31.838Z"
   },
   {
    "duration": 39,
    "start_time": "2021-07-07T18:46:31.851Z"
   },
   {
    "duration": 24,
    "start_time": "2021-07-07T18:46:31.892Z"
   },
   {
    "duration": 15,
    "start_time": "2021-07-07T18:46:31.918Z"
   },
   {
    "duration": 7,
    "start_time": "2021-07-07T18:46:31.936Z"
   },
   {
    "duration": 8,
    "start_time": "2021-07-07T18:46:31.944Z"
   },
   {
    "duration": 19,
    "start_time": "2021-07-07T18:46:31.984Z"
   },
   {
    "duration": 10,
    "start_time": "2021-07-07T18:46:32.004Z"
   },
   {
    "duration": 5,
    "start_time": "2021-07-07T18:46:32.016Z"
   },
   {
    "duration": 9,
    "start_time": "2021-07-07T18:46:32.023Z"
   },
   {
    "duration": 199,
    "start_time": "2021-07-07T18:46:32.033Z"
   },
   {
    "duration": 19,
    "start_time": "2021-07-07T18:46:32.234Z"
   },
   {
    "duration": 159,
    "start_time": "2021-07-07T18:46:32.255Z"
   },
   {
    "duration": 134,
    "start_time": "2021-07-07T18:46:32.416Z"
   },
   {
    "duration": 10,
    "start_time": "2021-07-07T18:46:32.552Z"
   },
   {
    "duration": 34,
    "start_time": "2021-07-07T18:46:32.563Z"
   },
   {
    "duration": 1039,
    "start_time": "2021-07-08T08:41:09.419Z"
   },
   {
    "duration": 333,
    "start_time": "2021-07-08T08:41:10.459Z"
   },
   {
    "duration": 173,
    "start_time": "2021-07-08T08:41:10.794Z"
   },
   {
    "duration": 5,
    "start_time": "2021-07-08T08:41:10.968Z"
   },
   {
    "duration": 25,
    "start_time": "2021-07-08T08:41:10.975Z"
   },
   {
    "duration": 9,
    "start_time": "2021-07-08T08:41:11.002Z"
   },
   {
    "duration": 18,
    "start_time": "2021-07-08T08:41:11.013Z"
   },
   {
    "duration": 6,
    "start_time": "2021-07-08T08:41:11.033Z"
   },
   {
    "duration": 44,
    "start_time": "2021-07-08T08:41:11.042Z"
   },
   {
    "duration": 10,
    "start_time": "2021-07-08T08:41:11.088Z"
   },
   {
    "duration": 9,
    "start_time": "2021-07-08T08:41:11.100Z"
   },
   {
    "duration": 27,
    "start_time": "2021-07-08T08:41:11.111Z"
   },
   {
    "duration": 46,
    "start_time": "2021-07-08T08:41:11.140Z"
   },
   {
    "duration": 17,
    "start_time": "2021-07-08T08:41:11.187Z"
   },
   {
    "duration": 6,
    "start_time": "2021-07-08T08:41:11.206Z"
   },
   {
    "duration": 5,
    "start_time": "2021-07-08T08:41:11.213Z"
   },
   {
    "duration": 10,
    "start_time": "2021-07-08T08:41:11.219Z"
   },
   {
    "duration": 9,
    "start_time": "2021-07-08T08:41:11.230Z"
   },
   {
    "duration": 45,
    "start_time": "2021-07-08T08:41:11.241Z"
   },
   {
    "duration": 7,
    "start_time": "2021-07-08T08:41:11.287Z"
   },
   {
    "duration": 24,
    "start_time": "2021-07-08T08:41:11.296Z"
   },
   {
    "duration": 16,
    "start_time": "2021-07-08T08:41:11.322Z"
   },
   {
    "duration": 7,
    "start_time": "2021-07-08T08:41:11.341Z"
   },
   {
    "duration": 41,
    "start_time": "2021-07-08T08:41:11.349Z"
   },
   {
    "duration": 17,
    "start_time": "2021-07-08T08:41:11.391Z"
   },
   {
    "duration": 9,
    "start_time": "2021-07-08T08:41:11.410Z"
   },
   {
    "duration": 5,
    "start_time": "2021-07-08T08:41:11.421Z"
   },
   {
    "duration": 6,
    "start_time": "2021-07-08T08:41:11.428Z"
   },
   {
    "duration": 198,
    "start_time": "2021-07-08T08:41:11.435Z"
   },
   {
    "duration": 18,
    "start_time": "2021-07-08T08:41:11.635Z"
   },
   {
    "duration": 155,
    "start_time": "2021-07-08T08:41:11.655Z"
   },
   {
    "duration": 138,
    "start_time": "2021-07-08T08:41:11.811Z"
   },
   {
    "duration": 10,
    "start_time": "2021-07-08T08:41:11.950Z"
   },
   {
    "duration": 29,
    "start_time": "2021-07-08T08:41:11.961Z"
   },
   {
    "duration": 171,
    "start_time": "2021-07-08T08:47:44.522Z"
   },
   {
    "duration": 124,
    "start_time": "2021-07-08T08:47:46.872Z"
   },
   {
    "duration": 191,
    "start_time": "2021-07-08T08:47:58.148Z"
   },
   {
    "duration": 191,
    "start_time": "2021-07-08T08:48:07.412Z"
   },
   {
    "duration": 261,
    "start_time": "2021-07-08T08:48:10.385Z"
   },
   {
    "duration": 255,
    "start_time": "2021-07-08T08:48:14.494Z"
   },
   {
    "duration": 219,
    "start_time": "2021-07-08T08:48:22.752Z"
   },
   {
    "duration": 173,
    "start_time": "2021-07-08T08:49:06.395Z"
   },
   {
    "duration": 180,
    "start_time": "2021-07-08T08:49:21.011Z"
   },
   {
    "duration": 6,
    "start_time": "2021-07-08T08:50:31.697Z"
   },
   {
    "duration": 10,
    "start_time": "2021-07-08T08:50:47.394Z"
   },
   {
    "duration": 11,
    "start_time": "2021-07-08T08:53:49.332Z"
   },
   {
    "duration": 171,
    "start_time": "2021-07-08T08:54:28.408Z"
   },
   {
    "duration": 636,
    "start_time": "2021-07-08T09:02:48.385Z"
   },
   {
    "duration": 227,
    "start_time": "2021-07-08T09:02:49.023Z"
   },
   {
    "duration": 104,
    "start_time": "2021-07-08T09:02:49.252Z"
   },
   {
    "duration": 5,
    "start_time": "2021-07-08T09:02:49.358Z"
   },
   {
    "duration": 27,
    "start_time": "2021-07-08T09:02:49.365Z"
   },
   {
    "duration": 8,
    "start_time": "2021-07-08T09:02:49.394Z"
   },
   {
    "duration": 18,
    "start_time": "2021-07-08T09:02:49.404Z"
   },
   {
    "duration": 6,
    "start_time": "2021-07-08T09:02:49.424Z"
   },
   {
    "duration": 11,
    "start_time": "2021-07-08T09:02:49.433Z"
   },
   {
    "duration": 13,
    "start_time": "2021-07-08T09:02:49.485Z"
   },
   {
    "duration": 9,
    "start_time": "2021-07-08T09:02:49.500Z"
   },
   {
    "duration": 38,
    "start_time": "2021-07-08T09:02:49.511Z"
   },
   {
    "duration": 42,
    "start_time": "2021-07-08T09:02:49.551Z"
   },
   {
    "duration": 21,
    "start_time": "2021-07-08T09:02:49.594Z"
   },
   {
    "duration": 6,
    "start_time": "2021-07-08T09:02:49.616Z"
   },
   {
    "duration": 3,
    "start_time": "2021-07-08T09:02:49.623Z"
   },
   {
    "duration": 9,
    "start_time": "2021-07-08T09:02:49.628Z"
   },
   {
    "duration": 52,
    "start_time": "2021-07-08T09:02:49.638Z"
   },
   {
    "duration": 11,
    "start_time": "2021-07-08T09:02:49.692Z"
   },
   {
    "duration": 8,
    "start_time": "2021-07-08T09:02:49.704Z"
   },
   {
    "duration": 27,
    "start_time": "2021-07-08T09:02:49.713Z"
   },
   {
    "duration": 59,
    "start_time": "2021-07-08T09:02:49.741Z"
   },
   {
    "duration": 8,
    "start_time": "2021-07-08T09:02:49.803Z"
   },
   {
    "duration": 14,
    "start_time": "2021-07-08T09:02:49.813Z"
   },
   {
    "duration": 20,
    "start_time": "2021-07-08T09:02:49.829Z"
   },
   {
    "duration": 44,
    "start_time": "2021-07-08T09:02:49.851Z"
   },
   {
    "duration": 14,
    "start_time": "2021-07-08T09:02:49.896Z"
   },
   {
    "duration": 221,
    "start_time": "2021-07-08T09:02:49.912Z"
   },
   {
    "duration": 6,
    "start_time": "2021-07-08T09:02:50.134Z"
   },
   {
    "duration": 206,
    "start_time": "2021-07-08T09:02:50.142Z"
   },
   {
    "duration": 19,
    "start_time": "2021-07-08T09:02:50.350Z"
   },
   {
    "duration": 21,
    "start_time": "2021-07-08T09:02:50.370Z"
   },
   {
    "duration": 20,
    "start_time": "2021-07-08T09:02:50.393Z"
   },
   {
    "duration": 5,
    "start_time": "2021-07-08T09:02:50.414Z"
   },
   {
    "duration": 5,
    "start_time": "2021-07-08T09:03:34.173Z"
   },
   {
    "duration": 6,
    "start_time": "2021-07-08T09:04:49.062Z"
   },
   {
    "duration": 9,
    "start_time": "2021-07-08T09:04:50.118Z"
   },
   {
    "duration": 14,
    "start_time": "2021-07-08T09:04:58.512Z"
   },
   {
    "duration": 9,
    "start_time": "2021-07-08T09:05:10.988Z"
   },
   {
    "duration": 11,
    "start_time": "2021-07-08T09:05:11.743Z"
   },
   {
    "duration": 7,
    "start_time": "2021-07-08T09:05:25.677Z"
   },
   {
    "duration": 13,
    "start_time": "2021-07-08T09:05:47.189Z"
   },
   {
    "duration": 13,
    "start_time": "2021-07-08T09:05:54.755Z"
   },
   {
    "duration": 4,
    "start_time": "2021-07-08T09:06:29.189Z"
   },
   {
    "duration": 244,
    "start_time": "2021-07-08T09:06:29.195Z"
   },
   {
    "duration": 91,
    "start_time": "2021-07-08T09:06:29.441Z"
   },
   {
    "duration": 4,
    "start_time": "2021-07-08T09:06:29.534Z"
   },
   {
    "duration": 28,
    "start_time": "2021-07-08T09:06:29.540Z"
   },
   {
    "duration": 6,
    "start_time": "2021-07-08T09:06:29.570Z"
   },
   {
    "duration": 18,
    "start_time": "2021-07-08T09:06:29.578Z"
   },
   {
    "duration": 5,
    "start_time": "2021-07-08T09:06:29.597Z"
   },
   {
    "duration": 13,
    "start_time": "2021-07-08T09:06:29.605Z"
   },
   {
    "duration": 8,
    "start_time": "2021-07-08T09:06:29.620Z"
   },
   {
    "duration": 7,
    "start_time": "2021-07-08T09:06:29.630Z"
   },
   {
    "duration": 63,
    "start_time": "2021-07-08T09:06:29.639Z"
   },
   {
    "duration": 17,
    "start_time": "2021-07-08T09:06:29.704Z"
   },
   {
    "duration": 20,
    "start_time": "2021-07-08T09:06:29.723Z"
   },
   {
    "duration": 6,
    "start_time": "2021-07-08T09:06:29.745Z"
   },
   {
    "duration": 3,
    "start_time": "2021-07-08T09:06:29.752Z"
   },
   {
    "duration": 7,
    "start_time": "2021-07-08T09:06:29.785Z"
   },
   {
    "duration": 11,
    "start_time": "2021-07-08T09:06:29.794Z"
   },
   {
    "duration": 15,
    "start_time": "2021-07-08T09:06:29.807Z"
   },
   {
    "duration": 8,
    "start_time": "2021-07-08T09:06:29.823Z"
   },
   {
    "duration": 70,
    "start_time": "2021-07-08T09:06:29.832Z"
   },
   {
    "duration": 17,
    "start_time": "2021-07-08T09:06:29.903Z"
   },
   {
    "duration": 9,
    "start_time": "2021-07-08T09:06:29.921Z"
   },
   {
    "duration": 9,
    "start_time": "2021-07-08T09:06:29.932Z"
   },
   {
    "duration": 57,
    "start_time": "2021-07-08T09:06:29.942Z"
   },
   {
    "duration": 11,
    "start_time": "2021-07-08T09:06:30.001Z"
   },
   {
    "duration": 19,
    "start_time": "2021-07-08T09:06:30.016Z"
   },
   {
    "duration": 217,
    "start_time": "2021-07-08T09:06:30.037Z"
   },
   {
    "duration": 6,
    "start_time": "2021-07-08T09:06:30.255Z"
   },
   {
    "duration": 205,
    "start_time": "2021-07-08T09:06:30.263Z"
   },
   {
    "duration": 27,
    "start_time": "2021-07-08T09:06:30.470Z"
   },
   {
    "duration": 11,
    "start_time": "2021-07-08T09:06:30.500Z"
   },
   {
    "duration": 31,
    "start_time": "2021-07-08T09:06:30.513Z"
   },
   {
    "duration": 18,
    "start_time": "2021-07-08T09:06:30.546Z"
   },
   {
    "duration": 11,
    "start_time": "2021-07-08T09:06:30.566Z"
   },
   {
    "duration": 19,
    "start_time": "2021-07-08T09:06:30.579Z"
   },
   {
    "duration": 20,
    "start_time": "2021-07-08T09:06:49.466Z"
   },
   {
    "duration": 9,
    "start_time": "2021-07-08T09:06:51.994Z"
   },
   {
    "duration": 20,
    "start_time": "2021-07-08T09:06:52.273Z"
   },
   {
    "duration": 246,
    "start_time": "2021-07-08T09:10:21.272Z"
   },
   {
    "duration": 84,
    "start_time": "2021-07-08T09:10:21.436Z"
   },
   {
    "duration": 7,
    "start_time": "2021-07-08T09:10:37.608Z"
   },
   {
    "duration": 189,
    "start_time": "2021-07-08T09:10:38.573Z"
   },
   {
    "duration": 185,
    "start_time": "2021-07-08T09:10:53.181Z"
   },
   {
    "duration": 11,
    "start_time": "2021-07-08T09:10:59.549Z"
   },
   {
    "duration": 42,
    "start_time": "2021-07-08T09:10:59.709Z"
   },
   {
    "duration": 12,
    "start_time": "2021-07-08T09:11:02.857Z"
   },
   {
    "duration": 28,
    "start_time": "2021-07-08T09:11:10.062Z"
   },
   {
    "duration": 249,
    "start_time": "2021-07-08T09:11:37.388Z"
   },
   {
    "duration": 232,
    "start_time": "2021-07-08T09:11:49.485Z"
   },
   {
    "duration": 453,
    "start_time": "2021-07-08T09:12:01.546Z"
   },
   {
    "duration": 440,
    "start_time": "2021-07-08T09:12:12.347Z"
   },
   {
    "duration": 213,
    "start_time": "2021-07-08T09:13:32.196Z"
   },
   {
    "duration": 172,
    "start_time": "2021-07-08T09:14:07.400Z"
   },
   {
    "duration": 185,
    "start_time": "2021-07-08T09:14:14.905Z"
   },
   {
    "duration": 209,
    "start_time": "2021-07-08T09:14:40.109Z"
   },
   {
    "duration": 201,
    "start_time": "2021-07-08T09:14:54.506Z"
   },
   {
    "duration": 622,
    "start_time": "2021-07-08T09:18:14.497Z"
   },
   {
    "duration": 220,
    "start_time": "2021-07-08T09:18:15.121Z"
   },
   {
    "duration": 79,
    "start_time": "2021-07-08T09:18:15.343Z"
   },
   {
    "duration": 4,
    "start_time": "2021-07-08T09:18:15.425Z"
   },
   {
    "duration": 24,
    "start_time": "2021-07-08T09:18:15.431Z"
   },
   {
    "duration": 8,
    "start_time": "2021-07-08T09:18:15.457Z"
   },
   {
    "duration": 16,
    "start_time": "2021-07-08T09:18:15.466Z"
   },
   {
    "duration": 5,
    "start_time": "2021-07-08T09:18:15.484Z"
   },
   {
    "duration": 10,
    "start_time": "2021-07-08T09:18:15.493Z"
   },
   {
    "duration": 8,
    "start_time": "2021-07-08T09:18:15.504Z"
   },
   {
    "duration": 7,
    "start_time": "2021-07-08T09:18:15.513Z"
   },
   {
    "duration": 26,
    "start_time": "2021-07-08T09:18:15.522Z"
   },
   {
    "duration": 49,
    "start_time": "2021-07-08T09:18:15.550Z"
   },
   {
    "duration": 21,
    "start_time": "2021-07-08T09:18:15.601Z"
   },
   {
    "duration": 8,
    "start_time": "2021-07-08T09:18:15.624Z"
   },
   {
    "duration": 3,
    "start_time": "2021-07-08T09:18:15.634Z"
   },
   {
    "duration": 8,
    "start_time": "2021-07-08T09:18:15.639Z"
   },
   {
    "duration": 45,
    "start_time": "2021-07-08T09:18:15.649Z"
   },
   {
    "duration": 13,
    "start_time": "2021-07-08T09:18:15.696Z"
   },
   {
    "duration": 10,
    "start_time": "2021-07-08T09:18:15.711Z"
   },
   {
    "duration": 64,
    "start_time": "2021-07-08T09:18:15.722Z"
   },
   {
    "duration": 19,
    "start_time": "2021-07-08T09:18:15.788Z"
   },
   {
    "duration": 9,
    "start_time": "2021-07-08T09:18:15.809Z"
   },
   {
    "duration": 9,
    "start_time": "2021-07-08T09:18:15.820Z"
   },
   {
    "duration": 18,
    "start_time": "2021-07-08T09:18:15.831Z"
   },
   {
    "duration": 43,
    "start_time": "2021-07-08T09:18:15.851Z"
   },
   {
    "duration": 12,
    "start_time": "2021-07-08T09:18:15.897Z"
   },
   {
    "duration": 219,
    "start_time": "2021-07-08T09:18:15.911Z"
   },
   {
    "duration": 8,
    "start_time": "2021-07-08T09:18:16.132Z"
   },
   {
    "duration": 199,
    "start_time": "2021-07-08T09:18:16.141Z"
   },
   {
    "duration": 18,
    "start_time": "2021-07-08T09:18:16.341Z"
   },
   {
    "duration": 24,
    "start_time": "2021-07-08T09:18:16.361Z"
   },
   {
    "duration": 24,
    "start_time": "2021-07-08T09:18:16.387Z"
   },
   {
    "duration": 211,
    "start_time": "2021-07-08T09:18:16.413Z"
   },
   {
    "duration": 18,
    "start_time": "2021-07-08T09:18:16.626Z"
   },
   {
    "duration": 596,
    "start_time": "2021-07-08T10:06:33.623Z"
   },
   {
    "duration": 181,
    "start_time": "2021-07-08T10:06:34.221Z"
   },
   {
    "duration": 176,
    "start_time": "2021-07-08T10:06:34.635Z"
   },
   {
    "duration": 239,
    "start_time": "2021-07-08T10:06:55.572Z"
   },
   {
    "duration": 6,
    "start_time": "2021-07-08T10:06:57.687Z"
   },
   {
    "duration": 4,
    "start_time": "2021-07-08T10:07:03.956Z"
   },
   {
    "duration": 4,
    "start_time": "2021-07-08T10:07:10.376Z"
   },
   {
    "duration": 4,
    "start_time": "2021-07-08T10:17:19.889Z"
   },
   {
    "duration": 3,
    "start_time": "2021-07-08T10:19:19.407Z"
   },
   {
    "duration": 197,
    "start_time": "2021-07-08T10:19:19.412Z"
   },
   {
    "duration": 127,
    "start_time": "2021-07-08T10:19:19.611Z"
   },
   {
    "duration": 4,
    "start_time": "2021-07-08T10:19:19.740Z"
   },
   {
    "duration": 27,
    "start_time": "2021-07-08T10:19:19.746Z"
   },
   {
    "duration": 7,
    "start_time": "2021-07-08T10:19:19.775Z"
   },
   {
    "duration": 30,
    "start_time": "2021-07-08T10:19:19.784Z"
   },
   {
    "duration": 7,
    "start_time": "2021-07-08T10:19:19.817Z"
   },
   {
    "duration": 26,
    "start_time": "2021-07-08T10:19:19.826Z"
   },
   {
    "duration": 18,
    "start_time": "2021-07-08T10:19:19.854Z"
   },
   {
    "duration": 14,
    "start_time": "2021-07-08T10:19:19.874Z"
   },
   {
    "duration": 48,
    "start_time": "2021-07-08T10:19:19.890Z"
   },
   {
    "duration": 17,
    "start_time": "2021-07-08T10:19:19.940Z"
   },
   {
    "duration": 38,
    "start_time": "2021-07-08T10:19:19.959Z"
   },
   {
    "duration": 8,
    "start_time": "2021-07-08T10:19:19.999Z"
   },
   {
    "duration": 15,
    "start_time": "2021-07-08T10:19:20.009Z"
   },
   {
    "duration": 22,
    "start_time": "2021-07-08T10:19:20.026Z"
   },
   {
    "duration": 10,
    "start_time": "2021-07-08T10:19:20.050Z"
   },
   {
    "duration": 10,
    "start_time": "2021-07-08T10:19:20.062Z"
   },
   {
    "duration": 20,
    "start_time": "2021-07-08T10:19:20.073Z"
   },
   {
    "duration": 29,
    "start_time": "2021-07-08T10:19:20.095Z"
   },
   {
    "duration": 17,
    "start_time": "2021-07-08T10:19:20.126Z"
   },
   {
    "duration": 40,
    "start_time": "2021-07-08T10:19:20.146Z"
   },
   {
    "duration": 15,
    "start_time": "2021-07-08T10:19:20.189Z"
   },
   {
    "duration": 19,
    "start_time": "2021-07-08T10:19:20.206Z"
   },
   {
    "duration": 10,
    "start_time": "2021-07-08T10:19:20.226Z"
   },
   {
    "duration": 11,
    "start_time": "2021-07-08T10:19:20.238Z"
   },
   {
    "duration": 297,
    "start_time": "2021-07-08T10:19:20.250Z"
   },
   {
    "duration": 6,
    "start_time": "2021-07-08T10:19:20.549Z"
   },
   {
    "duration": 191,
    "start_time": "2021-07-08T10:19:20.557Z"
   },
   {
    "duration": 19,
    "start_time": "2021-07-08T10:19:20.750Z"
   },
   {
    "duration": 20,
    "start_time": "2021-07-08T10:19:20.771Z"
   },
   {
    "duration": 15,
    "start_time": "2021-07-08T10:19:20.793Z"
   },
   {
    "duration": 222,
    "start_time": "2021-07-08T10:19:20.809Z"
   },
   {
    "duration": 20,
    "start_time": "2021-07-08T10:19:21.033Z"
   },
   {
    "duration": 27,
    "start_time": "2021-07-08T10:45:04.055Z"
   },
   {
    "duration": 8,
    "start_time": "2021-07-08T10:45:08.478Z"
   },
   {
    "duration": 8,
    "start_time": "2021-07-08T10:45:31.982Z"
   },
   {
    "duration": 10,
    "start_time": "2021-07-08T10:46:01.221Z"
   },
   {
    "duration": 17,
    "start_time": "2021-07-08T10:46:40.011Z"
   },
   {
    "duration": 193,
    "start_time": "2021-07-08T10:48:19.471Z"
   },
   {
    "duration": 225,
    "start_time": "2021-07-08T10:49:26.480Z"
   },
   {
    "duration": 204,
    "start_time": "2021-07-08T10:49:59.992Z"
   },
   {
    "duration": 435,
    "start_time": "2021-07-08T10:50:06.779Z"
   },
   {
    "duration": 199,
    "start_time": "2021-07-08T10:50:14.891Z"
   },
   {
    "duration": 204,
    "start_time": "2021-07-08T10:50:18.501Z"
   },
   {
    "duration": 244,
    "start_time": "2021-07-08T10:50:23.359Z"
   },
   {
    "duration": 192,
    "start_time": "2021-07-08T10:50:29.135Z"
   },
   {
    "duration": 218,
    "start_time": "2021-07-08T10:50:33.092Z"
   },
   {
    "duration": 207,
    "start_time": "2021-07-08T10:52:45.381Z"
   },
   {
    "duration": 5,
    "start_time": "2021-07-08T10:53:34.641Z"
   },
   {
    "duration": 196,
    "start_time": "2021-07-08T10:53:41.478Z"
   },
   {
    "duration": 43,
    "start_time": "2021-07-08T10:53:50.335Z"
   },
   {
    "duration": 32,
    "start_time": "2021-07-08T10:53:55.294Z"
   },
   {
    "duration": 55,
    "start_time": "2021-07-08T10:54:09.675Z"
   },
   {
    "duration": 16,
    "start_time": "2021-07-08T10:54:12.260Z"
   },
   {
    "duration": 15,
    "start_time": "2021-07-08T10:54:49.150Z"
   },
   {
    "duration": 20,
    "start_time": "2021-07-08T10:56:07.596Z"
   },
   {
    "duration": 16,
    "start_time": "2021-07-08T10:58:26.276Z"
   },
   {
    "duration": 22,
    "start_time": "2021-07-08T10:59:00.486Z"
   },
   {
    "duration": 18,
    "start_time": "2021-07-08T11:02:09.653Z"
   },
   {
    "duration": 10,
    "start_time": "2021-07-08T11:03:44.331Z"
   },
   {
    "duration": 10,
    "start_time": "2021-07-08T11:03:54.055Z"
   },
   {
    "duration": 12,
    "start_time": "2021-07-08T11:04:41.967Z"
   },
   {
    "duration": 24,
    "start_time": "2021-07-08T11:07:30.732Z"
   },
   {
    "duration": 6,
    "start_time": "2021-07-08T11:07:37.364Z"
   },
   {
    "duration": 16,
    "start_time": "2021-07-08T11:08:01.819Z"
   },
   {
    "duration": 17,
    "start_time": "2021-07-08T11:09:47.488Z"
   },
   {
    "duration": 246,
    "start_time": "2021-07-08T11:10:00.830Z"
   },
   {
    "duration": 18,
    "start_time": "2021-07-08T11:13:55.195Z"
   },
   {
    "duration": 204,
    "start_time": "2021-07-08T11:14:04.951Z"
   },
   {
    "duration": 19,
    "start_time": "2021-07-08T11:15:10.613Z"
   },
   {
    "duration": 680,
    "start_time": "2021-07-08T11:16:25.793Z"
   },
   {
    "duration": 451,
    "start_time": "2021-07-08T11:16:40.313Z"
   },
   {
    "duration": 469,
    "start_time": "2021-07-08T11:17:21.286Z"
   },
   {
    "duration": 20,
    "start_time": "2021-07-08T11:19:12.554Z"
   },
   {
    "duration": 35,
    "start_time": "2021-07-08T11:20:05.484Z"
   },
   {
    "duration": 53,
    "start_time": "2021-07-08T11:21:40.050Z"
   },
   {
    "duration": 13,
    "start_time": "2021-07-08T11:22:26.059Z"
   },
   {
    "duration": 19,
    "start_time": "2021-07-08T11:22:47.419Z"
   },
   {
    "duration": 25,
    "start_time": "2021-07-08T11:23:19.958Z"
   },
   {
    "duration": 29,
    "start_time": "2021-07-08T11:23:25.415Z"
   },
   {
    "duration": 10,
    "start_time": "2021-07-08T11:24:45.138Z"
   },
   {
    "duration": 19,
    "start_time": "2021-07-08T11:24:54.498Z"
   },
   {
    "duration": 12,
    "start_time": "2021-07-08T11:25:32.225Z"
   },
   {
    "duration": 19,
    "start_time": "2021-07-08T11:25:37.092Z"
   },
   {
    "duration": 17,
    "start_time": "2021-07-08T11:25:58.116Z"
   },
   {
    "duration": 15,
    "start_time": "2021-07-08T11:26:02.258Z"
   },
   {
    "duration": 8,
    "start_time": "2021-07-08T11:26:59.682Z"
   },
   {
    "duration": 184,
    "start_time": "2021-07-08T11:27:21.894Z"
   },
   {
    "duration": 8,
    "start_time": "2021-07-08T11:27:23.824Z"
   },
   {
    "duration": 202,
    "start_time": "2021-07-08T11:27:23.962Z"
   },
   {
    "duration": 360,
    "start_time": "2021-07-08T11:28:33.215Z"
   },
   {
    "duration": 231,
    "start_time": "2021-07-08T11:32:05.542Z"
   },
   {
    "duration": 607,
    "start_time": "2021-07-08T11:36:27.854Z"
   },
   {
    "duration": 241,
    "start_time": "2021-07-08T11:36:28.463Z"
   },
   {
    "duration": 67,
    "start_time": "2021-07-08T11:36:28.709Z"
   },
   {
    "duration": 5,
    "start_time": "2021-07-08T11:36:28.778Z"
   },
   {
    "duration": 32,
    "start_time": "2021-07-08T11:36:28.784Z"
   },
   {
    "duration": 11,
    "start_time": "2021-07-08T11:36:28.819Z"
   },
   {
    "duration": 20,
    "start_time": "2021-07-08T11:36:28.834Z"
   },
   {
    "duration": 36,
    "start_time": "2021-07-08T11:36:28.857Z"
   },
   {
    "duration": 16,
    "start_time": "2021-07-08T11:36:28.895Z"
   },
   {
    "duration": 14,
    "start_time": "2021-07-08T11:36:28.913Z"
   },
   {
    "duration": 9,
    "start_time": "2021-07-08T11:36:28.930Z"
   },
   {
    "duration": 55,
    "start_time": "2021-07-08T11:36:28.941Z"
   },
   {
    "duration": 27,
    "start_time": "2021-07-08T11:36:28.999Z"
   },
   {
    "duration": 30,
    "start_time": "2021-07-08T11:36:29.028Z"
   },
   {
    "duration": 31,
    "start_time": "2021-07-08T11:36:29.060Z"
   },
   {
    "duration": 3,
    "start_time": "2021-07-08T11:36:29.093Z"
   },
   {
    "duration": 12,
    "start_time": "2021-07-08T11:36:29.099Z"
   },
   {
    "duration": 11,
    "start_time": "2021-07-08T11:36:29.112Z"
   },
   {
    "duration": 12,
    "start_time": "2021-07-08T11:36:29.125Z"
   },
   {
    "duration": 9,
    "start_time": "2021-07-08T11:36:29.139Z"
   },
   {
    "duration": 31,
    "start_time": "2021-07-08T11:36:29.191Z"
   },
   {
    "duration": 17,
    "start_time": "2021-07-08T11:36:29.226Z"
   },
   {
    "duration": 7,
    "start_time": "2021-07-08T11:36:29.245Z"
   },
   {
    "duration": 10,
    "start_time": "2021-07-08T11:36:29.254Z"
   },
   {
    "duration": 30,
    "start_time": "2021-07-08T11:36:29.292Z"
   },
   {
    "duration": 11,
    "start_time": "2021-07-08T11:36:29.324Z"
   },
   {
    "duration": 11,
    "start_time": "2021-07-08T11:36:29.337Z"
   },
   {
    "duration": 230,
    "start_time": "2021-07-08T11:36:29.349Z"
   },
   {
    "duration": 13,
    "start_time": "2021-07-08T11:36:29.588Z"
   },
   {
    "duration": 205,
    "start_time": "2021-07-08T11:36:29.603Z"
   },
   {
    "duration": 20,
    "start_time": "2021-07-08T11:36:29.810Z"
   },
   {
    "duration": 9,
    "start_time": "2021-07-08T11:36:29.832Z"
   },
   {
    "duration": 16,
    "start_time": "2021-07-08T11:36:29.843Z"
   },
   {
    "duration": 283,
    "start_time": "2021-07-08T11:36:29.861Z"
   },
   {
    "duration": 50,
    "start_time": "2021-07-08T11:36:30.146Z"
   },
   {
    "duration": 14,
    "start_time": "2021-07-08T11:36:30.198Z"
   },
   {
    "duration": 11,
    "start_time": "2021-07-08T11:36:30.214Z"
   },
   {
    "duration": 245,
    "start_time": "2021-07-08T11:36:30.227Z"
   },
   {
    "duration": 439,
    "start_time": "2021-07-08T11:36:30.474Z"
   },
   {
    "duration": 210,
    "start_time": "2021-07-08T11:36:30.915Z"
   },
   {
    "duration": 15,
    "start_time": "2021-07-08T11:36:31.127Z"
   },
   {
    "duration": 17,
    "start_time": "2021-07-08T11:38:20.451Z"
   },
   {
    "duration": 642,
    "start_time": "2021-07-08T11:46:17.881Z"
   },
   {
    "duration": 210,
    "start_time": "2021-07-08T11:46:18.525Z"
   },
   {
    "duration": 104,
    "start_time": "2021-07-08T11:46:18.741Z"
   },
   {
    "duration": 8,
    "start_time": "2021-07-08T11:46:18.847Z"
   },
   {
    "duration": 25,
    "start_time": "2021-07-08T11:46:18.857Z"
   },
   {
    "duration": 14,
    "start_time": "2021-07-08T11:46:18.884Z"
   },
   {
    "duration": 22,
    "start_time": "2021-07-08T11:46:18.900Z"
   },
   {
    "duration": 5,
    "start_time": "2021-07-08T11:46:18.924Z"
   },
   {
    "duration": 13,
    "start_time": "2021-07-08T11:46:18.931Z"
   },
   {
    "duration": 45,
    "start_time": "2021-07-08T11:46:18.946Z"
   },
   {
    "duration": 12,
    "start_time": "2021-07-08T11:46:18.993Z"
   },
   {
    "duration": 38,
    "start_time": "2021-07-08T11:46:19.006Z"
   },
   {
    "duration": 50,
    "start_time": "2021-07-08T11:46:19.046Z"
   },
   {
    "duration": 29,
    "start_time": "2021-07-08T11:46:19.099Z"
   },
   {
    "duration": 7,
    "start_time": "2021-07-08T11:46:19.130Z"
   },
   {
    "duration": 3,
    "start_time": "2021-07-08T11:46:19.139Z"
   },
   {
    "duration": 11,
    "start_time": "2021-07-08T11:46:19.144Z"
   },
   {
    "duration": 40,
    "start_time": "2021-07-08T11:46:19.157Z"
   },
   {
    "duration": 15,
    "start_time": "2021-07-08T11:46:19.199Z"
   },
   {
    "duration": 10,
    "start_time": "2021-07-08T11:46:19.217Z"
   },
   {
    "duration": 68,
    "start_time": "2021-07-08T11:46:19.230Z"
   },
   {
    "duration": 17,
    "start_time": "2021-07-08T11:46:19.301Z"
   },
   {
    "duration": 7,
    "start_time": "2021-07-08T11:46:19.321Z"
   },
   {
    "duration": 11,
    "start_time": "2021-07-08T11:46:19.330Z"
   },
   {
    "duration": 59,
    "start_time": "2021-07-08T11:46:19.343Z"
   },
   {
    "duration": 17,
    "start_time": "2021-07-08T11:46:19.405Z"
   },
   {
    "duration": 16,
    "start_time": "2021-07-08T11:46:19.424Z"
   },
   {
    "duration": 252,
    "start_time": "2021-07-08T11:46:19.443Z"
   },
   {
    "duration": 9,
    "start_time": "2021-07-08T11:46:19.697Z"
   },
   {
    "duration": 224,
    "start_time": "2021-07-08T11:46:19.708Z"
   },
   {
    "duration": 21,
    "start_time": "2021-07-08T11:46:19.934Z"
   },
   {
    "duration": 9,
    "start_time": "2021-07-08T11:46:19.956Z"
   },
   {
    "duration": 32,
    "start_time": "2021-07-08T11:46:19.967Z"
   },
   {
    "duration": 288,
    "start_time": "2021-07-08T11:46:20.004Z"
   },
   {
    "duration": 23,
    "start_time": "2021-07-08T11:46:20.300Z"
   },
   {
    "duration": 11,
    "start_time": "2021-07-08T11:46:20.325Z"
   },
   {
    "duration": 11,
    "start_time": "2021-07-08T11:46:20.339Z"
   },
   {
    "duration": 259,
    "start_time": "2021-07-08T11:46:20.352Z"
   },
   {
    "duration": 438,
    "start_time": "2021-07-08T11:46:20.613Z"
   },
   {
    "duration": 207,
    "start_time": "2021-07-08T11:46:21.054Z"
   },
   {
    "duration": 27,
    "start_time": "2021-07-08T11:46:21.262Z"
   },
   {
    "duration": 19,
    "start_time": "2021-07-08T11:46:21.291Z"
   },
   {
    "duration": 820,
    "start_time": "2021-07-08T11:49:01.655Z"
   },
   {
    "duration": 372,
    "start_time": "2021-07-08T11:49:02.478Z"
   },
   {
    "duration": 98,
    "start_time": "2021-07-08T11:49:02.853Z"
   },
   {
    "duration": 6,
    "start_time": "2021-07-08T11:49:02.953Z"
   },
   {
    "duration": 39,
    "start_time": "2021-07-08T11:49:02.960Z"
   },
   {
    "duration": 9,
    "start_time": "2021-07-08T11:49:03.003Z"
   },
   {
    "duration": 23,
    "start_time": "2021-07-08T11:49:03.014Z"
   },
   {
    "duration": 6,
    "start_time": "2021-07-08T11:49:03.041Z"
   },
   {
    "duration": 20,
    "start_time": "2021-07-08T11:49:03.049Z"
   },
   {
    "duration": 18,
    "start_time": "2021-07-08T11:49:03.084Z"
   },
   {
    "duration": 14,
    "start_time": "2021-07-08T11:49:03.104Z"
   },
   {
    "duration": 39,
    "start_time": "2021-07-08T11:49:03.119Z"
   },
   {
    "duration": 38,
    "start_time": "2021-07-08T11:49:03.160Z"
   },
   {
    "duration": 26,
    "start_time": "2021-07-08T11:49:03.200Z"
   },
   {
    "duration": 7,
    "start_time": "2021-07-08T11:49:03.227Z"
   },
   {
    "duration": 4,
    "start_time": "2021-07-08T11:49:03.236Z"
   },
   {
    "duration": 15,
    "start_time": "2021-07-08T11:49:03.243Z"
   },
   {
    "duration": 21,
    "start_time": "2021-07-08T11:49:03.285Z"
   },
   {
    "duration": 17,
    "start_time": "2021-07-08T11:49:03.309Z"
   },
   {
    "duration": 10,
    "start_time": "2021-07-08T11:49:03.328Z"
   },
   {
    "duration": 65,
    "start_time": "2021-07-08T11:49:03.340Z"
   },
   {
    "duration": 18,
    "start_time": "2021-07-08T11:49:03.407Z"
   },
   {
    "duration": 8,
    "start_time": "2021-07-08T11:49:03.428Z"
   },
   {
    "duration": 15,
    "start_time": "2021-07-08T11:49:03.438Z"
   },
   {
    "duration": 40,
    "start_time": "2021-07-08T11:49:03.455Z"
   },
   {
    "duration": 12,
    "start_time": "2021-07-08T11:49:03.497Z"
   },
   {
    "duration": 29,
    "start_time": "2021-07-08T11:49:03.511Z"
   },
   {
    "duration": 285,
    "start_time": "2021-07-08T11:49:03.542Z"
   },
   {
    "duration": 8,
    "start_time": "2021-07-08T11:49:03.829Z"
   },
   {
    "duration": 227,
    "start_time": "2021-07-08T11:49:03.838Z"
   },
   {
    "duration": 40,
    "start_time": "2021-07-08T11:49:04.066Z"
   },
   {
    "duration": 10,
    "start_time": "2021-07-08T11:49:04.108Z"
   },
   {
    "duration": 26,
    "start_time": "2021-07-08T11:49:04.121Z"
   },
   {
    "duration": 290,
    "start_time": "2021-07-08T11:49:04.149Z"
   },
   {
    "duration": 26,
    "start_time": "2021-07-08T11:49:04.441Z"
   },
   {
    "duration": 31,
    "start_time": "2021-07-08T11:49:04.470Z"
   },
   {
    "duration": 14,
    "start_time": "2021-07-08T11:49:04.503Z"
   },
   {
    "duration": 259,
    "start_time": "2021-07-08T11:49:04.521Z"
   },
   {
    "duration": 480,
    "start_time": "2021-07-08T11:49:04.782Z"
   },
   {
    "duration": 225,
    "start_time": "2021-07-08T11:49:05.264Z"
   },
   {
    "duration": 22,
    "start_time": "2021-07-08T11:49:05.491Z"
   },
   {
    "duration": 24,
    "start_time": "2021-07-08T11:49:05.515Z"
   },
   {
    "duration": 634,
    "start_time": "2021-07-08T11:52:24.960Z"
   },
   {
    "duration": 199,
    "start_time": "2021-07-08T11:52:25.599Z"
   },
   {
    "duration": 106,
    "start_time": "2021-07-08T11:52:25.803Z"
   },
   {
    "duration": 7,
    "start_time": "2021-07-08T11:52:25.911Z"
   },
   {
    "duration": 29,
    "start_time": "2021-07-08T11:52:25.920Z"
   },
   {
    "duration": 7,
    "start_time": "2021-07-08T11:52:25.951Z"
   },
   {
    "duration": 26,
    "start_time": "2021-07-08T11:52:25.961Z"
   },
   {
    "duration": 11,
    "start_time": "2021-07-08T11:52:25.990Z"
   },
   {
    "duration": 29,
    "start_time": "2021-07-08T11:52:26.005Z"
   },
   {
    "duration": 9,
    "start_time": "2021-07-08T11:52:26.036Z"
   },
   {
    "duration": 8,
    "start_time": "2021-07-08T11:52:26.047Z"
   },
   {
    "duration": 63,
    "start_time": "2021-07-08T11:52:26.057Z"
   },
   {
    "duration": 17,
    "start_time": "2021-07-08T11:52:26.122Z"
   },
   {
    "duration": 43,
    "start_time": "2021-07-08T11:52:26.142Z"
   },
   {
    "duration": 17,
    "start_time": "2021-07-08T11:52:26.187Z"
   },
   {
    "duration": 5,
    "start_time": "2021-07-08T11:52:26.206Z"
   },
   {
    "duration": 12,
    "start_time": "2021-07-08T11:52:26.212Z"
   },
   {
    "duration": 11,
    "start_time": "2021-07-08T11:52:26.226Z"
   },
   {
    "duration": 12,
    "start_time": "2021-07-08T11:52:26.238Z"
   },
   {
    "duration": 38,
    "start_time": "2021-07-08T11:52:26.252Z"
   },
   {
    "duration": 40,
    "start_time": "2021-07-08T11:52:26.292Z"
   },
   {
    "duration": 17,
    "start_time": "2021-07-08T11:52:26.336Z"
   },
   {
    "duration": 39,
    "start_time": "2021-07-08T11:52:26.355Z"
   },
   {
    "duration": 11,
    "start_time": "2021-07-08T11:52:26.395Z"
   },
   {
    "duration": 23,
    "start_time": "2021-07-08T11:52:26.408Z"
   },
   {
    "duration": 12,
    "start_time": "2021-07-08T11:52:26.432Z"
   },
   {
    "duration": 41,
    "start_time": "2021-07-08T11:52:26.446Z"
   },
   {
    "duration": 215,
    "start_time": "2021-07-08T11:52:26.493Z"
   },
   {
    "duration": 8,
    "start_time": "2021-07-08T11:52:26.710Z"
   },
   {
    "duration": 228,
    "start_time": "2021-07-08T11:52:26.720Z"
   },
   {
    "duration": 18,
    "start_time": "2021-07-08T11:52:26.950Z"
   },
   {
    "duration": 35,
    "start_time": "2021-07-08T11:52:26.969Z"
   },
   {
    "duration": 23,
    "start_time": "2021-07-08T11:52:27.006Z"
   },
   {
    "duration": 258,
    "start_time": "2021-07-08T11:52:27.030Z"
   },
   {
    "duration": 24,
    "start_time": "2021-07-08T11:52:27.290Z"
   },
   {
    "duration": 12,
    "start_time": "2021-07-08T11:52:27.316Z"
   },
   {
    "duration": 10,
    "start_time": "2021-07-08T11:52:27.329Z"
   },
   {
    "duration": 298,
    "start_time": "2021-07-08T11:52:27.341Z"
   },
   {
    "duration": 436,
    "start_time": "2021-07-08T11:52:27.641Z"
   },
   {
    "duration": 216,
    "start_time": "2021-07-08T11:52:28.079Z"
   },
   {
    "duration": 20,
    "start_time": "2021-07-08T11:52:28.297Z"
   },
   {
    "duration": 17,
    "start_time": "2021-07-08T11:52:28.319Z"
   },
   {
    "duration": 508,
    "start_time": "2025-02-07T00:01:17.792Z"
   },
   {
    "duration": 37,
    "start_time": "2025-02-07T00:01:22.303Z"
   },
   {
    "duration": 13,
    "start_time": "2025-02-07T00:01:28.169Z"
   },
   {
    "duration": 38,
    "start_time": "2025-02-07T00:02:08.006Z"
   },
   {
    "duration": 37,
    "start_time": "2025-02-07T00:02:29.781Z"
   },
   {
    "duration": 7,
    "start_time": "2025-02-07T00:02:39.067Z"
   },
   {
    "duration": 16,
    "start_time": "2025-02-07T00:02:54.234Z"
   },
   {
    "duration": 9,
    "start_time": "2025-02-07T00:03:11.066Z"
   },
   {
    "duration": 309,
    "start_time": "2025-02-07T00:04:16.481Z"
   },
   {
    "duration": 5,
    "start_time": "2025-02-07T00:04:41.179Z"
   },
   {
    "duration": 9,
    "start_time": "2025-02-07T00:04:45.493Z"
   },
   {
    "duration": 5,
    "start_time": "2025-02-07T00:04:53.734Z"
   },
   {
    "duration": 279,
    "start_time": "2025-02-07T00:05:04.099Z"
   },
   {
    "duration": 5,
    "start_time": "2025-02-07T00:06:37.205Z"
   },
   {
    "duration": 8,
    "start_time": "2025-02-07T00:06:53.218Z"
   },
   {
    "duration": 359,
    "start_time": "2025-02-07T00:07:01.156Z"
   },
   {
    "duration": 246,
    "start_time": "2025-02-07T00:10:04.909Z"
   },
   {
    "duration": 3,
    "start_time": "2025-02-07T00:12:11.573Z"
   },
   {
    "duration": 13,
    "start_time": "2025-02-07T00:19:23.381Z"
   },
   {
    "duration": 15,
    "start_time": "2025-02-07T00:19:32.941Z"
   },
   {
    "duration": 11,
    "start_time": "2025-02-07T00:20:22.145Z"
   },
   {
    "duration": 18,
    "start_time": "2025-02-07T00:20:22.538Z"
   },
   {
    "duration": 494,
    "start_time": "2025-02-07T00:20:27.206Z"
   },
   {
    "duration": 22,
    "start_time": "2025-02-07T00:20:27.702Z"
   },
   {
    "duration": 16,
    "start_time": "2025-02-07T00:20:27.726Z"
   },
   {
    "duration": 38,
    "start_time": "2025-02-07T00:20:27.745Z"
   },
   {
    "duration": 8,
    "start_time": "2025-02-07T00:20:27.784Z"
   },
   {
    "duration": 43,
    "start_time": "2025-02-07T00:20:27.793Z"
   },
   {
    "duration": 12,
    "start_time": "2025-02-07T00:20:27.837Z"
   },
   {
    "duration": 13,
    "start_time": "2025-02-07T00:20:27.850Z"
   },
   {
    "duration": 16,
    "start_time": "2025-02-07T00:20:27.864Z"
   },
   {
    "duration": 10,
    "start_time": "2025-02-07T00:20:53.967Z"
   },
   {
    "duration": 13,
    "start_time": "2025-02-07T00:20:54.462Z"
   },
   {
    "duration": 30,
    "start_time": "2025-02-07T00:22:39.027Z"
   },
   {
    "duration": 11,
    "start_time": "2025-02-07T00:23:16.790Z"
   },
   {
    "duration": 11,
    "start_time": "2025-02-07T00:24:51.809Z"
   },
   {
    "duration": 300,
    "start_time": "2025-02-07T00:25:27.469Z"
   },
   {
    "duration": 9,
    "start_time": "2025-02-07T00:25:45.036Z"
   },
   {
    "duration": 224,
    "start_time": "2025-02-07T00:25:45.573Z"
   },
   {
    "duration": 497,
    "start_time": "2025-02-07T00:25:58.688Z"
   },
   {
    "duration": 20,
    "start_time": "2025-02-07T00:25:59.187Z"
   },
   {
    "duration": 40,
    "start_time": "2025-02-07T00:25:59.210Z"
   },
   {
    "duration": 8,
    "start_time": "2025-02-07T00:25:59.252Z"
   },
   {
    "duration": 5,
    "start_time": "2025-02-07T00:25:59.261Z"
   },
   {
    "duration": 39,
    "start_time": "2025-02-07T00:25:59.268Z"
   },
   {
    "duration": 9,
    "start_time": "2025-02-07T00:25:59.308Z"
   },
   {
    "duration": 10,
    "start_time": "2025-02-07T00:25:59.318Z"
   },
   {
    "duration": 18,
    "start_time": "2025-02-07T00:25:59.330Z"
   },
   {
    "duration": 22,
    "start_time": "2025-02-07T00:25:59.349Z"
   },
   {
    "duration": 15,
    "start_time": "2025-02-07T00:25:59.373Z"
   },
   {
    "duration": 3,
    "start_time": "2025-02-07T00:26:14.938Z"
   },
   {
    "duration": 15,
    "start_time": "2025-02-07T00:26:29.808Z"
   },
   {
    "duration": 15,
    "start_time": "2025-02-07T00:26:30.272Z"
   },
   {
    "duration": 488,
    "start_time": "2025-02-07T00:26:45.708Z"
   },
   {
    "duration": 22,
    "start_time": "2025-02-07T00:26:46.198Z"
   },
   {
    "duration": 16,
    "start_time": "2025-02-07T00:26:46.224Z"
   },
   {
    "duration": 9,
    "start_time": "2025-02-07T00:26:46.241Z"
   },
   {
    "duration": 4,
    "start_time": "2025-02-07T00:26:46.252Z"
   },
   {
    "duration": 48,
    "start_time": "2025-02-07T00:26:46.258Z"
   },
   {
    "duration": 7,
    "start_time": "2025-02-07T00:26:46.307Z"
   },
   {
    "duration": 20,
    "start_time": "2025-02-07T00:26:46.316Z"
   },
   {
    "duration": 12,
    "start_time": "2025-02-07T00:26:46.339Z"
   },
   {
    "duration": 15,
    "start_time": "2025-02-07T00:26:46.353Z"
   },
   {
    "duration": 10,
    "start_time": "2025-02-07T00:27:09.113Z"
   },
   {
    "duration": 424,
    "start_time": "2025-02-07T00:28:11.365Z"
   },
   {
    "duration": 20,
    "start_time": "2025-02-07T00:28:11.790Z"
   },
   {
    "duration": 29,
    "start_time": "2025-02-07T00:28:11.812Z"
   },
   {
    "duration": 23,
    "start_time": "2025-02-07T00:28:11.842Z"
   },
   {
    "duration": 19,
    "start_time": "2025-02-07T00:28:11.867Z"
   },
   {
    "duration": 38,
    "start_time": "2025-02-07T00:28:11.888Z"
   },
   {
    "duration": 7,
    "start_time": "2025-02-07T00:28:11.928Z"
   },
   {
    "duration": 9,
    "start_time": "2025-02-07T00:28:11.936Z"
   },
   {
    "duration": 9,
    "start_time": "2025-02-07T00:28:11.946Z"
   },
   {
    "duration": 11,
    "start_time": "2025-02-07T00:28:11.956Z"
   },
   {
    "duration": 15,
    "start_time": "2025-02-07T00:28:11.969Z"
   },
   {
    "duration": 18,
    "start_time": "2025-02-07T00:28:26.937Z"
   },
   {
    "duration": 7,
    "start_time": "2025-02-07T00:33:41.950Z"
   },
   {
    "duration": 15,
    "start_time": "2025-02-07T00:34:16.318Z"
   },
   {
    "duration": 7,
    "start_time": "2025-02-07T00:35:19.471Z"
   },
   {
    "duration": 28,
    "start_time": "2025-02-07T00:35:42.946Z"
   },
   {
    "duration": 19,
    "start_time": "2025-02-07T00:35:51.545Z"
   },
   {
    "duration": 18,
    "start_time": "2025-02-07T00:36:05.201Z"
   },
   {
    "duration": 627,
    "start_time": "2025-02-07T00:48:11.784Z"
   },
   {
    "duration": 670,
    "start_time": "2025-02-07T00:48:23.925Z"
   },
   {
    "duration": 8,
    "start_time": "2025-02-07T00:51:04.300Z"
   },
   {
    "duration": 16,
    "start_time": "2025-02-07T00:51:10.564Z"
   },
   {
    "duration": 14,
    "start_time": "2025-02-07T00:52:43.830Z"
   },
   {
    "duration": 4,
    "start_time": "2025-02-07T00:53:07.291Z"
   },
   {
    "duration": 540,
    "start_time": "2025-02-07T13:26:05.488Z"
   },
   {
    "duration": 39,
    "start_time": "2025-02-07T13:26:06.030Z"
   },
   {
    "duration": 20,
    "start_time": "2025-02-07T13:26:06.071Z"
   },
   {
    "duration": 70,
    "start_time": "2025-02-07T13:26:06.093Z"
   },
   {
    "duration": 9,
    "start_time": "2025-02-07T13:26:06.165Z"
   },
   {
    "duration": 12,
    "start_time": "2025-02-07T13:26:06.175Z"
   },
   {
    "duration": 21,
    "start_time": "2025-02-07T13:26:06.189Z"
   },
   {
    "duration": 19,
    "start_time": "2025-02-07T13:26:06.212Z"
   },
   {
    "duration": 48,
    "start_time": "2025-02-07T13:26:06.235Z"
   },
   {
    "duration": 32,
    "start_time": "2025-02-07T13:26:06.285Z"
   },
   {
    "duration": 46,
    "start_time": "2025-02-07T13:26:06.319Z"
   },
   {
    "duration": 21,
    "start_time": "2025-02-07T13:26:06.367Z"
   },
   {
    "duration": 36,
    "start_time": "2025-02-07T13:26:06.390Z"
   },
   {
    "duration": 44,
    "start_time": "2025-02-07T13:26:06.430Z"
   },
   {
    "duration": 13,
    "start_time": "2025-02-07T13:26:06.476Z"
   },
   {
    "duration": 121,
    "start_time": "2025-02-07T13:26:06.491Z"
   },
   {
    "duration": 87,
    "start_time": "2025-02-07T13:26:31.504Z"
   },
   {
    "duration": 46,
    "start_time": "2025-02-07T13:27:34.808Z"
   },
   {
    "duration": 53,
    "start_time": "2025-02-07T13:28:25.832Z"
   },
   {
    "duration": 36,
    "start_time": "2025-02-07T13:28:34.587Z"
   },
   {
    "duration": 34,
    "start_time": "2025-02-07T13:28:47.886Z"
   },
   {
    "duration": 4,
    "start_time": "2025-02-07T13:30:57.904Z"
   },
   {
    "duration": 42,
    "start_time": "2025-02-07T13:31:02.208Z"
   },
   {
    "duration": 12,
    "start_time": "2025-02-07T13:45:42.659Z"
   },
   {
    "duration": 35,
    "start_time": "2025-02-07T13:46:02.404Z"
   },
   {
    "duration": 153,
    "start_time": "2025-02-07T13:56:14.729Z"
   },
   {
    "duration": 55,
    "start_time": "2025-02-07T13:56:23.197Z"
   },
   {
    "duration": 50,
    "start_time": "2025-02-07T13:56:52.938Z"
   },
   {
    "duration": 436,
    "start_time": "2025-02-07T13:57:39.158Z"
   },
   {
    "duration": 57,
    "start_time": "2025-02-07T13:57:44.285Z"
   },
   {
    "duration": 46,
    "start_time": "2025-02-07T13:58:21.289Z"
   },
   {
    "duration": 10,
    "start_time": "2025-02-07T13:59:30.397Z"
   },
   {
    "duration": 42,
    "start_time": "2025-02-07T14:00:16.630Z"
   },
   {
    "duration": 930,
    "start_time": "2025-02-07T14:01:16.091Z"
   },
   {
    "duration": 107,
    "start_time": "2025-02-07T14:01:22.377Z"
   },
   {
    "duration": 15,
    "start_time": "2025-02-07T14:01:52.470Z"
   },
   {
    "duration": 77,
    "start_time": "2025-02-07T14:02:45.560Z"
   },
   {
    "duration": 79,
    "start_time": "2025-02-07T14:04:07.790Z"
   },
   {
    "duration": 7,
    "start_time": "2025-02-07T14:04:37.977Z"
   },
   {
    "duration": 6,
    "start_time": "2025-02-07T14:04:48.037Z"
   },
   {
    "duration": 510,
    "start_time": "2025-02-07T14:06:11.468Z"
   },
   {
    "duration": 25,
    "start_time": "2025-02-07T14:06:11.980Z"
   },
   {
    "duration": 36,
    "start_time": "2025-02-07T14:06:12.007Z"
   },
   {
    "duration": 44,
    "start_time": "2025-02-07T14:06:12.045Z"
   },
   {
    "duration": 8,
    "start_time": "2025-02-07T14:06:12.092Z"
   },
   {
    "duration": 18,
    "start_time": "2025-02-07T14:06:12.102Z"
   },
   {
    "duration": 12,
    "start_time": "2025-02-07T14:06:12.122Z"
   },
   {
    "duration": 9,
    "start_time": "2025-02-07T14:06:12.136Z"
   },
   {
    "duration": 11,
    "start_time": "2025-02-07T14:06:12.147Z"
   },
   {
    "duration": 20,
    "start_time": "2025-02-07T14:06:12.160Z"
   },
   {
    "duration": 18,
    "start_time": "2025-02-07T14:06:12.182Z"
   },
   {
    "duration": 40,
    "start_time": "2025-02-07T14:06:12.201Z"
   },
   {
    "duration": 20,
    "start_time": "2025-02-07T14:06:12.242Z"
   },
   {
    "duration": 8,
    "start_time": "2025-02-07T14:06:12.265Z"
   },
   {
    "duration": 7,
    "start_time": "2025-02-07T14:06:12.274Z"
   },
   {
    "duration": 106,
    "start_time": "2025-02-07T14:06:12.283Z"
   },
   {
    "duration": 7,
    "start_time": "2025-02-07T14:06:12.391Z"
   },
   {
    "duration": 7,
    "start_time": "2025-02-07T14:06:12.399Z"
   },
   {
    "duration": 120,
    "start_time": "2025-02-07T14:06:32.487Z"
   },
   {
    "duration": 4,
    "start_time": "2025-02-07T14:06:33.723Z"
   },
   {
    "duration": 5,
    "start_time": "2025-02-07T14:06:34.448Z"
   },
   {
    "duration": 77,
    "start_time": "2025-02-07T14:07:30.955Z"
   },
   {
    "duration": 4,
    "start_time": "2025-02-07T14:07:31.547Z"
   },
   {
    "duration": 6,
    "start_time": "2025-02-07T14:07:32.208Z"
   },
   {
    "duration": 25,
    "start_time": "2025-02-07T14:11:24.728Z"
   },
   {
    "duration": 13,
    "start_time": "2025-02-07T14:11:31.434Z"
   },
   {
    "duration": 96,
    "start_time": "2025-02-13T23:10:59.634Z"
   },
   {
    "duration": 41,
    "start_time": "2025-02-13T23:11:14.806Z"
   },
   {
    "duration": 489,
    "start_time": "2025-02-13T23:11:18.556Z"
   },
   {
    "duration": 20,
    "start_time": "2025-02-13T23:11:19.047Z"
   },
   {
    "duration": 13,
    "start_time": "2025-02-13T23:11:19.068Z"
   },
   {
    "duration": 39,
    "start_time": "2025-02-13T23:11:19.083Z"
   },
   {
    "duration": 6,
    "start_time": "2025-02-13T23:11:19.123Z"
   },
   {
    "duration": 8,
    "start_time": "2025-02-13T23:11:19.131Z"
   },
   {
    "duration": 8,
    "start_time": "2025-02-13T23:11:19.141Z"
   },
   {
    "duration": 9,
    "start_time": "2025-02-13T23:11:19.150Z"
   },
   {
    "duration": 11,
    "start_time": "2025-02-13T23:11:19.160Z"
   },
   {
    "duration": 10,
    "start_time": "2025-02-13T23:11:19.172Z"
   },
   {
    "duration": 13,
    "start_time": "2025-02-13T23:11:19.184Z"
   },
   {
    "duration": 14,
    "start_time": "2025-02-13T23:11:19.198Z"
   },
   {
    "duration": 13,
    "start_time": "2025-02-13T23:11:19.213Z"
   },
   {
    "duration": 6,
    "start_time": "2025-02-13T23:11:19.228Z"
   },
   {
    "duration": 5,
    "start_time": "2025-02-13T23:11:19.261Z"
   },
   {
    "duration": 72,
    "start_time": "2025-02-13T23:11:19.267Z"
   },
   {
    "duration": 21,
    "start_time": "2025-02-13T23:11:19.340Z"
   },
   {
    "duration": 6,
    "start_time": "2025-02-13T23:11:19.363Z"
   },
   {
    "duration": 10,
    "start_time": "2025-02-13T23:11:19.371Z"
   },
   {
    "duration": 131,
    "start_time": "2025-02-13T23:11:19.383Z"
   },
   {
    "duration": 28,
    "start_time": "2025-02-13T23:12:17.089Z"
   },
   {
    "duration": 18,
    "start_time": "2025-02-13T23:13:38.246Z"
   },
   {
    "duration": 18,
    "start_time": "2025-02-13T23:15:04.234Z"
   },
   {
    "duration": 17,
    "start_time": "2025-02-13T23:29:41.359Z"
   },
   {
    "duration": 16,
    "start_time": "2025-02-13T23:29:47.238Z"
   },
   {
    "duration": 14,
    "start_time": "2025-02-13T23:29:51.339Z"
   },
   {
    "duration": 6,
    "start_time": "2025-02-13T23:30:15.864Z"
   },
   {
    "duration": 50,
    "start_time": "2025-03-20T13:49:07.548Z"
   },
   {
    "duration": 496,
    "start_time": "2025-03-20T13:49:11.888Z"
   },
   {
    "duration": 19,
    "start_time": "2025-03-20T13:49:12.386Z"
   },
   {
    "duration": 16,
    "start_time": "2025-03-20T13:49:12.407Z"
   },
   {
    "duration": 39,
    "start_time": "2025-03-20T13:49:12.425Z"
   },
   {
    "duration": 7,
    "start_time": "2025-03-20T13:49:12.465Z"
   },
   {
    "duration": 11,
    "start_time": "2025-03-20T13:49:12.473Z"
   },
   {
    "duration": 8,
    "start_time": "2025-03-20T13:49:12.485Z"
   },
   {
    "duration": 9,
    "start_time": "2025-03-20T13:49:12.495Z"
   },
   {
    "duration": 21,
    "start_time": "2025-03-20T13:49:12.505Z"
   },
   {
    "duration": 11,
    "start_time": "2025-03-20T13:49:12.528Z"
   },
   {
    "duration": 15,
    "start_time": "2025-03-20T13:49:12.540Z"
   },
   {
    "duration": 18,
    "start_time": "2025-03-20T13:49:12.557Z"
   },
   {
    "duration": 31,
    "start_time": "2025-03-20T13:49:12.577Z"
   },
   {
    "duration": 7,
    "start_time": "2025-03-20T13:49:12.610Z"
   },
   {
    "duration": 7,
    "start_time": "2025-03-20T13:49:12.618Z"
   },
   {
    "duration": 89,
    "start_time": "2025-03-20T13:49:12.627Z"
   },
   {
    "duration": 5,
    "start_time": "2025-03-20T13:49:12.718Z"
   },
   {
    "duration": 17,
    "start_time": "2025-03-20T13:49:12.724Z"
   },
   {
    "duration": 23,
    "start_time": "2025-03-20T13:49:12.743Z"
   },
   {
    "duration": 15,
    "start_time": "2025-03-20T13:49:12.768Z"
   },
   {
    "duration": 4,
    "start_time": "2025-03-20T13:49:12.785Z"
   },
   {
    "duration": 8,
    "start_time": "2025-03-20T13:49:12.790Z"
   },
   {
    "duration": 63,
    "start_time": "2025-03-20T13:52:11.253Z"
   },
   {
    "duration": 9,
    "start_time": "2025-03-20T13:52:28.863Z"
   },
   {
    "duration": 9,
    "start_time": "2025-03-20T13:52:39.182Z"
   },
   {
    "duration": 9,
    "start_time": "2025-03-20T18:25:33.467Z"
   },
   {
    "duration": 14,
    "start_time": "2025-03-20T18:26:21.284Z"
   },
   {
    "duration": 65,
    "start_time": "2025-03-20T18:26:26.522Z"
   },
   {
    "duration": 5,
    "start_time": "2025-03-20T18:26:55.361Z"
   },
   {
    "duration": 5,
    "start_time": "2025-03-20T18:27:23.815Z"
   },
   {
    "duration": 7,
    "start_time": "2025-03-20T18:27:32.334Z"
   },
   {
    "duration": 29,
    "start_time": "2025-03-20T18:28:13.729Z"
   },
   {
    "duration": 7,
    "start_time": "2025-03-20T18:28:18.801Z"
   },
   {
    "duration": 10,
    "start_time": "2025-03-20T18:28:30.225Z"
   },
   {
    "duration": 6,
    "start_time": "2025-03-20T18:28:30.773Z"
   },
   {
    "duration": 6,
    "start_time": "2025-03-20T18:56:22.112Z"
   },
   {
    "duration": 10,
    "start_time": "2025-03-20T19:44:22.820Z"
   },
   {
    "duration": 16,
    "start_time": "2025-03-20T19:45:06.612Z"
   },
   {
    "duration": 112,
    "start_time": "2025-03-20T20:16:56.168Z"
   },
   {
    "duration": 905,
    "start_time": "2025-03-20T20:17:17.494Z"
   },
   {
    "duration": 588,
    "start_time": "2025-03-20T20:19:25.026Z"
   },
   {
    "duration": 807,
    "start_time": "2025-03-20T20:20:09.506Z"
   },
   {
    "duration": 599,
    "start_time": "2025-03-20T20:23:08.598Z"
   },
   {
    "duration": 528,
    "start_time": "2025-03-20T20:23:21.097Z"
   },
   {
    "duration": 778,
    "start_time": "2025-03-20T20:24:18.662Z"
   },
   {
    "duration": 1899,
    "start_time": "2025-03-20T20:25:29.316Z"
   },
   {
    "duration": 701,
    "start_time": "2025-03-20T20:25:49.398Z"
   },
   {
    "duration": 12,
    "start_time": "2025-03-20T20:26:30.170Z"
   },
   {
    "duration": 540,
    "start_time": "2025-03-20T20:27:27.603Z"
   },
   {
    "duration": 10,
    "start_time": "2025-03-20T20:27:53.176Z"
   },
   {
    "duration": 523,
    "start_time": "2025-03-20T20:28:52.042Z"
   },
   {
    "duration": 10,
    "start_time": "2025-03-20T20:44:04.597Z"
   },
   {
    "duration": 588,
    "start_time": "2025-03-20T20:47:28.583Z"
   },
   {
    "duration": 4,
    "start_time": "2025-03-20T21:08:42.619Z"
   },
   {
    "duration": 833,
    "start_time": "2025-03-20T21:08:44.075Z"
   },
   {
    "duration": 476,
    "start_time": "2025-03-20T21:08:54.720Z"
   },
   {
    "duration": 21,
    "start_time": "2025-03-20T21:08:55.198Z"
   },
   {
    "duration": 61,
    "start_time": "2025-03-20T21:08:55.220Z"
   },
   {
    "duration": 40,
    "start_time": "2025-03-20T21:08:55.283Z"
   },
   {
    "duration": 25,
    "start_time": "2025-03-20T21:08:55.324Z"
   },
   {
    "duration": 26,
    "start_time": "2025-03-20T21:08:55.351Z"
   },
   {
    "duration": 14,
    "start_time": "2025-03-20T21:08:55.379Z"
   },
   {
    "duration": 6,
    "start_time": "2025-03-20T21:08:55.395Z"
   },
   {
    "duration": 21,
    "start_time": "2025-03-20T21:08:55.403Z"
   },
   {
    "duration": 12,
    "start_time": "2025-03-20T21:08:55.426Z"
   },
   {
    "duration": 18,
    "start_time": "2025-03-20T21:08:55.439Z"
   },
   {
    "duration": 27,
    "start_time": "2025-03-20T21:08:55.458Z"
   },
   {
    "duration": 23,
    "start_time": "2025-03-20T21:08:55.487Z"
   },
   {
    "duration": 21,
    "start_time": "2025-03-20T21:08:55.511Z"
   },
   {
    "duration": 10,
    "start_time": "2025-03-20T21:08:55.533Z"
   },
   {
    "duration": 0,
    "start_time": "2025-03-20T21:08:55.545Z"
   },
   {
    "duration": 0,
    "start_time": "2025-03-20T21:08:55.546Z"
   },
   {
    "duration": 0,
    "start_time": "2025-03-20T21:08:55.547Z"
   },
   {
    "duration": 0,
    "start_time": "2025-03-20T21:08:55.548Z"
   },
   {
    "duration": 0,
    "start_time": "2025-03-20T21:08:55.549Z"
   },
   {
    "duration": 0,
    "start_time": "2025-03-20T21:08:55.551Z"
   },
   {
    "duration": 0,
    "start_time": "2025-03-20T21:08:55.551Z"
   },
   {
    "duration": 0,
    "start_time": "2025-03-20T21:08:55.553Z"
   },
   {
    "duration": 0,
    "start_time": "2025-03-20T21:08:55.553Z"
   },
   {
    "duration": 0,
    "start_time": "2025-03-20T21:08:55.554Z"
   },
   {
    "duration": 0,
    "start_time": "2025-03-20T21:08:55.555Z"
   },
   {
    "duration": 0,
    "start_time": "2025-03-20T21:08:55.557Z"
   },
   {
    "duration": 0,
    "start_time": "2025-03-20T21:08:55.558Z"
   },
   {
    "duration": 0,
    "start_time": "2025-03-20T21:08:55.559Z"
   },
   {
    "duration": 0,
    "start_time": "2025-03-20T21:08:55.560Z"
   },
   {
    "duration": 4,
    "start_time": "2025-03-20T21:09:08.131Z"
   },
   {
    "duration": 4,
    "start_time": "2025-03-20T21:09:17.883Z"
   },
   {
    "duration": 93,
    "start_time": "2025-03-20T21:09:21.899Z"
   },
   {
    "duration": 12,
    "start_time": "2025-03-20T21:09:34.813Z"
   },
   {
    "duration": 686,
    "start_time": "2025-03-20T21:09:37.546Z"
   },
   {
    "duration": 420,
    "start_time": "2025-03-20T21:10:36.966Z"
   },
   {
    "duration": 19,
    "start_time": "2025-03-20T21:10:37.388Z"
   },
   {
    "duration": 15,
    "start_time": "2025-03-20T21:10:37.409Z"
   },
   {
    "duration": 42,
    "start_time": "2025-03-20T21:10:37.426Z"
   },
   {
    "duration": 6,
    "start_time": "2025-03-20T21:10:37.470Z"
   },
   {
    "duration": 16,
    "start_time": "2025-03-20T21:10:37.478Z"
   },
   {
    "duration": 11,
    "start_time": "2025-03-20T21:10:37.495Z"
   },
   {
    "duration": 6,
    "start_time": "2025-03-20T21:10:37.507Z"
   },
   {
    "duration": 8,
    "start_time": "2025-03-20T21:10:37.514Z"
   },
   {
    "duration": 10,
    "start_time": "2025-03-20T21:10:37.524Z"
   },
   {
    "duration": 15,
    "start_time": "2025-03-20T21:10:37.536Z"
   },
   {
    "duration": 14,
    "start_time": "2025-03-20T21:10:37.553Z"
   },
   {
    "duration": 12,
    "start_time": "2025-03-20T21:10:37.569Z"
   },
   {
    "duration": 8,
    "start_time": "2025-03-20T21:10:37.607Z"
   },
   {
    "duration": 76,
    "start_time": "2025-03-20T21:10:37.616Z"
   },
   {
    "duration": 596,
    "start_time": "2025-03-20T21:10:37.693Z"
   },
   {
    "duration": 0,
    "start_time": "2025-03-20T21:10:38.291Z"
   },
   {
    "duration": 0,
    "start_time": "2025-03-20T21:10:38.292Z"
   },
   {
    "duration": 0,
    "start_time": "2025-03-20T21:10:38.293Z"
   },
   {
    "duration": 0,
    "start_time": "2025-03-20T21:10:38.294Z"
   },
   {
    "duration": 0,
    "start_time": "2025-03-20T21:10:38.295Z"
   },
   {
    "duration": 0,
    "start_time": "2025-03-20T21:10:38.296Z"
   },
   {
    "duration": 0,
    "start_time": "2025-03-20T21:10:38.297Z"
   },
   {
    "duration": 0,
    "start_time": "2025-03-20T21:10:38.298Z"
   },
   {
    "duration": 0,
    "start_time": "2025-03-20T21:10:38.299Z"
   },
   {
    "duration": 0,
    "start_time": "2025-03-20T21:10:38.300Z"
   },
   {
    "duration": 0,
    "start_time": "2025-03-20T21:10:38.301Z"
   },
   {
    "duration": 0,
    "start_time": "2025-03-20T21:10:38.302Z"
   },
   {
    "duration": 0,
    "start_time": "2025-03-20T21:10:38.303Z"
   },
   {
    "duration": 0,
    "start_time": "2025-03-20T21:10:38.304Z"
   },
   {
    "duration": 5,
    "start_time": "2025-03-20T21:13:03.745Z"
   },
   {
    "duration": 53,
    "start_time": "2025-03-20T21:13:04.359Z"
   },
   {
    "duration": 7,
    "start_time": "2025-03-20T21:14:08.330Z"
   },
   {
    "duration": 47,
    "start_time": "2025-03-20T21:15:15.446Z"
   },
   {
    "duration": 15,
    "start_time": "2025-03-20T21:15:20.155Z"
   },
   {
    "duration": 9,
    "start_time": "2025-03-20T21:15:35.931Z"
   },
   {
    "duration": 15,
    "start_time": "2025-03-20T21:15:36.616Z"
   },
   {
    "duration": 464,
    "start_time": "2025-03-20T21:15:39.359Z"
   },
   {
    "duration": 21,
    "start_time": "2025-03-20T21:15:39.825Z"
   },
   {
    "duration": 25,
    "start_time": "2025-03-20T21:15:39.847Z"
   },
   {
    "duration": 38,
    "start_time": "2025-03-20T21:15:39.874Z"
   },
   {
    "duration": 7,
    "start_time": "2025-03-20T21:15:39.914Z"
   },
   {
    "duration": 13,
    "start_time": "2025-03-20T21:15:39.923Z"
   },
   {
    "duration": 33,
    "start_time": "2025-03-20T21:15:39.938Z"
   },
   {
    "duration": 8,
    "start_time": "2025-03-20T21:15:39.972Z"
   },
   {
    "duration": 12,
    "start_time": "2025-03-20T21:15:39.981Z"
   },
   {
    "duration": 30,
    "start_time": "2025-03-20T21:15:39.995Z"
   },
   {
    "duration": 34,
    "start_time": "2025-03-20T21:15:40.026Z"
   },
   {
    "duration": 14,
    "start_time": "2025-03-20T21:15:40.062Z"
   },
   {
    "duration": 25,
    "start_time": "2025-03-20T21:15:40.077Z"
   },
   {
    "duration": 9,
    "start_time": "2025-03-20T21:15:40.104Z"
   },
   {
    "duration": 8,
    "start_time": "2025-03-20T21:15:40.114Z"
   },
   {
    "duration": 16,
    "start_time": "2025-03-20T21:15:40.123Z"
   },
   {
    "duration": 11,
    "start_time": "2025-03-20T21:15:40.140Z"
   },
   {
    "duration": 133,
    "start_time": "2025-03-20T21:15:40.153Z"
   },
   {
    "duration": 4,
    "start_time": "2025-03-20T21:15:40.288Z"
   },
   {
    "duration": 13,
    "start_time": "2025-03-20T21:15:40.294Z"
   },
   {
    "duration": 18,
    "start_time": "2025-03-20T21:15:40.309Z"
   },
   {
    "duration": 17,
    "start_time": "2025-03-20T21:15:40.328Z"
   },
   {
    "duration": 47,
    "start_time": "2025-03-20T21:15:40.347Z"
   },
   {
    "duration": 6,
    "start_time": "2025-03-20T21:15:40.395Z"
   },
   {
    "duration": 10,
    "start_time": "2025-03-20T21:15:40.402Z"
   },
   {
    "duration": 8,
    "start_time": "2025-03-20T21:15:40.413Z"
   },
   {
    "duration": 58,
    "start_time": "2025-03-20T21:15:40.423Z"
   },
   {
    "duration": 6,
    "start_time": "2025-03-20T21:15:40.484Z"
   },
   {
    "duration": 8,
    "start_time": "2025-03-20T21:15:40.491Z"
   },
   {
    "duration": 75,
    "start_time": "2025-03-20T21:15:40.500Z"
   },
   {
    "duration": 9,
    "start_time": "2025-03-20T21:17:07.218Z"
   },
   {
    "duration": 17,
    "start_time": "2025-03-20T21:18:13.384Z"
   },
   {
    "duration": 9,
    "start_time": "2025-03-20T21:19:28.846Z"
   },
   {
    "duration": 15,
    "start_time": "2025-03-20T21:19:36.041Z"
   },
   {
    "duration": 440,
    "start_time": "2025-03-20T21:19:50.435Z"
   },
   {
    "duration": 29,
    "start_time": "2025-03-20T21:19:50.878Z"
   },
   {
    "duration": 17,
    "start_time": "2025-03-20T21:19:50.909Z"
   },
   {
    "duration": 115,
    "start_time": "2025-03-20T21:19:50.929Z"
   },
   {
    "duration": 38,
    "start_time": "2025-03-20T21:19:51.045Z"
   },
   {
    "duration": 26,
    "start_time": "2025-03-20T21:19:51.085Z"
   },
   {
    "duration": 9,
    "start_time": "2025-03-20T21:19:51.113Z"
   },
   {
    "duration": 26,
    "start_time": "2025-03-20T21:19:51.123Z"
   },
   {
    "duration": 15,
    "start_time": "2025-03-20T21:19:51.151Z"
   },
   {
    "duration": 16,
    "start_time": "2025-03-20T21:19:51.169Z"
   },
   {
    "duration": 16,
    "start_time": "2025-03-20T21:19:51.186Z"
   },
   {
    "duration": 35,
    "start_time": "2025-03-20T21:19:51.204Z"
   },
   {
    "duration": 21,
    "start_time": "2025-03-20T21:19:51.241Z"
   },
   {
    "duration": 142,
    "start_time": "2025-03-20T21:19:51.264Z"
   },
   {
    "duration": 17,
    "start_time": "2025-03-20T21:19:51.408Z"
   },
   {
    "duration": 28,
    "start_time": "2025-03-20T21:19:51.427Z"
   },
   {
    "duration": 12,
    "start_time": "2025-03-20T21:19:51.456Z"
   },
   {
    "duration": 102,
    "start_time": "2025-03-20T21:19:51.469Z"
   },
   {
    "duration": 4,
    "start_time": "2025-03-20T21:19:51.573Z"
   },
   {
    "duration": 8,
    "start_time": "2025-03-20T21:19:51.579Z"
   },
   {
    "duration": 15,
    "start_time": "2025-03-20T21:19:51.588Z"
   },
   {
    "duration": 81,
    "start_time": "2025-03-20T21:19:51.606Z"
   },
   {
    "duration": 35,
    "start_time": "2025-03-20T21:19:51.688Z"
   },
   {
    "duration": 13,
    "start_time": "2025-03-20T21:19:51.724Z"
   },
   {
    "duration": 37,
    "start_time": "2025-03-20T21:19:51.739Z"
   },
   {
    "duration": 5,
    "start_time": "2025-03-20T21:19:51.777Z"
   },
   {
    "duration": 31,
    "start_time": "2025-03-20T21:19:51.784Z"
   },
   {
    "duration": 7,
    "start_time": "2025-03-20T21:19:51.818Z"
   },
   {
    "duration": 11,
    "start_time": "2025-03-20T21:19:51.827Z"
   },
   {
    "duration": 18,
    "start_time": "2025-03-20T21:19:51.840Z"
   },
   {
    "duration": 16,
    "start_time": "2025-03-20T21:20:15.544Z"
   },
   {
    "duration": 16,
    "start_time": "2025-03-20T21:20:26.125Z"
   },
   {
    "duration": 1627,
    "start_time": "2025-03-20T21:20:32.724Z"
   },
   {
    "duration": 0,
    "start_time": "2025-03-20T21:20:34.353Z"
   },
   {
    "duration": 10,
    "start_time": "2025-03-20T21:21:39.283Z"
   },
   {
    "duration": 11,
    "start_time": "2025-03-20T21:21:39.887Z"
   },
   {
    "duration": 14,
    "start_time": "2025-03-20T21:21:43.989Z"
   },
   {
    "duration": 5,
    "start_time": "2025-03-20T21:21:48.291Z"
   },
   {
    "duration": 69,
    "start_time": "2025-03-20T21:21:48.846Z"
   },
   {
    "duration": 13,
    "start_time": "2025-03-20T21:21:49.362Z"
   },
   {
    "duration": 5,
    "start_time": "2025-03-20T21:21:49.800Z"
   },
   {
    "duration": 488,
    "start_time": "2025-03-20T21:22:01.085Z"
   },
   {
    "duration": 20,
    "start_time": "2025-03-20T21:22:01.575Z"
   },
   {
    "duration": 16,
    "start_time": "2025-03-20T21:22:01.596Z"
   },
   {
    "duration": 39,
    "start_time": "2025-03-20T21:22:01.614Z"
   },
   {
    "duration": 69,
    "start_time": "2025-03-20T21:22:01.655Z"
   },
   {
    "duration": 27,
    "start_time": "2025-03-20T21:22:01.726Z"
   },
   {
    "duration": 9,
    "start_time": "2025-03-20T21:22:01.755Z"
   },
   {
    "duration": 23,
    "start_time": "2025-03-20T21:22:01.766Z"
   },
   {
    "duration": 31,
    "start_time": "2025-03-20T21:22:01.791Z"
   },
   {
    "duration": 33,
    "start_time": "2025-03-20T21:22:01.825Z"
   },
   {
    "duration": 34,
    "start_time": "2025-03-20T21:22:01.860Z"
   },
   {
    "duration": 34,
    "start_time": "2025-03-20T21:22:01.896Z"
   },
   {
    "duration": 41,
    "start_time": "2025-03-20T21:22:01.932Z"
   },
   {
    "duration": 13,
    "start_time": "2025-03-20T21:22:01.975Z"
   },
   {
    "duration": 31,
    "start_time": "2025-03-20T21:22:01.989Z"
   },
   {
    "duration": 22,
    "start_time": "2025-03-20T21:22:02.022Z"
   },
   {
    "duration": 27,
    "start_time": "2025-03-20T21:22:02.046Z"
   },
   {
    "duration": 33,
    "start_time": "2025-03-20T21:22:02.075Z"
   },
   {
    "duration": 112,
    "start_time": "2025-03-20T21:22:02.110Z"
   },
   {
    "duration": 5,
    "start_time": "2025-03-20T21:22:02.224Z"
   },
   {
    "duration": 28,
    "start_time": "2025-03-20T21:22:02.230Z"
   },
   {
    "duration": 26,
    "start_time": "2025-03-20T21:22:02.260Z"
   },
   {
    "duration": 62,
    "start_time": "2025-03-20T21:22:02.288Z"
   },
   {
    "duration": 21,
    "start_time": "2025-03-20T21:22:02.352Z"
   },
   {
    "duration": 52,
    "start_time": "2025-03-20T21:22:02.374Z"
   },
   {
    "duration": 24,
    "start_time": "2025-03-20T21:22:02.428Z"
   },
   {
    "duration": 18,
    "start_time": "2025-03-20T21:22:02.453Z"
   },
   {
    "duration": 51,
    "start_time": "2025-03-20T21:22:02.474Z"
   },
   {
    "duration": 6,
    "start_time": "2025-03-20T21:22:02.527Z"
   },
   {
    "duration": 27,
    "start_time": "2025-03-20T21:22:02.535Z"
   },
   {
    "duration": 57,
    "start_time": "2025-03-20T21:22:02.563Z"
   },
   {
    "duration": 466,
    "start_time": "2025-03-24T11:42:09.650Z"
   },
   {
    "duration": 20,
    "start_time": "2025-03-24T11:42:10.118Z"
   },
   {
    "duration": 18,
    "start_time": "2025-03-24T11:42:10.139Z"
   },
   {
    "duration": 39,
    "start_time": "2025-03-24T11:42:10.159Z"
   },
   {
    "duration": 8,
    "start_time": "2025-03-24T11:42:10.200Z"
   },
   {
    "duration": 16,
    "start_time": "2025-03-24T11:42:10.210Z"
   },
   {
    "duration": 8,
    "start_time": "2025-03-24T11:42:10.228Z"
   },
   {
    "duration": 11,
    "start_time": "2025-03-24T11:42:10.238Z"
   },
   {
    "duration": 17,
    "start_time": "2025-03-24T11:42:10.250Z"
   },
   {
    "duration": 11,
    "start_time": "2025-03-24T11:42:10.268Z"
   },
   {
    "duration": 15,
    "start_time": "2025-03-24T11:42:10.281Z"
   },
   {
    "duration": 15,
    "start_time": "2025-03-24T11:42:10.297Z"
   },
   {
    "duration": 15,
    "start_time": "2025-03-24T11:42:10.329Z"
   },
   {
    "duration": 7,
    "start_time": "2025-03-24T11:42:10.346Z"
   },
   {
    "duration": 89,
    "start_time": "2025-03-24T11:42:10.355Z"
   },
   {
    "duration": 0,
    "start_time": "2025-03-24T11:42:10.446Z"
   },
   {
    "duration": 0,
    "start_time": "2025-03-24T11:42:10.448Z"
   },
   {
    "duration": 0,
    "start_time": "2025-03-24T11:42:10.449Z"
   },
   {
    "duration": 0,
    "start_time": "2025-03-24T11:42:10.450Z"
   },
   {
    "duration": 0,
    "start_time": "2025-03-24T11:42:10.452Z"
   },
   {
    "duration": 0,
    "start_time": "2025-03-24T11:42:10.453Z"
   },
   {
    "duration": 0,
    "start_time": "2025-03-24T11:42:10.454Z"
   },
   {
    "duration": 0,
    "start_time": "2025-03-24T11:42:10.455Z"
   },
   {
    "duration": 0,
    "start_time": "2025-03-24T11:42:10.456Z"
   },
   {
    "duration": 0,
    "start_time": "2025-03-24T11:42:10.457Z"
   },
   {
    "duration": 0,
    "start_time": "2025-03-24T11:42:10.458Z"
   },
   {
    "duration": 0,
    "start_time": "2025-03-24T11:42:10.459Z"
   },
   {
    "duration": 0,
    "start_time": "2025-03-24T11:42:10.461Z"
   },
   {
    "duration": 0,
    "start_time": "2025-03-24T11:42:10.462Z"
   },
   {
    "duration": 0,
    "start_time": "2025-03-24T11:42:10.463Z"
   },
   {
    "duration": 0,
    "start_time": "2025-03-24T11:42:10.464Z"
   },
   {
    "duration": 4,
    "start_time": "2025-03-24T11:42:26.560Z"
   },
   {
    "duration": 7,
    "start_time": "2025-03-24T11:42:30.093Z"
   },
   {
    "duration": 15,
    "start_time": "2025-03-24T11:42:30.941Z"
   },
   {
    "duration": 5,
    "start_time": "2025-03-24T11:42:37.649Z"
   },
   {
    "duration": 103,
    "start_time": "2025-03-24T11:42:39.140Z"
   },
   {
    "duration": 5,
    "start_time": "2025-03-24T11:42:42.049Z"
   },
   {
    "duration": 65,
    "start_time": "2025-03-24T11:42:42.810Z"
   },
   {
    "duration": 5,
    "start_time": "2025-03-24T11:42:43.722Z"
   },
   {
    "duration": 5,
    "start_time": "2025-03-24T11:42:44.756Z"
   },
   {
    "duration": 482,
    "start_time": "2025-03-24T11:43:16.720Z"
   },
   {
    "duration": 20,
    "start_time": "2025-03-24T11:43:17.203Z"
   },
   {
    "duration": 14,
    "start_time": "2025-03-24T11:43:17.225Z"
   },
   {
    "duration": 36,
    "start_time": "2025-03-24T11:43:17.240Z"
   },
   {
    "duration": 6,
    "start_time": "2025-03-24T11:43:17.278Z"
   },
   {
    "duration": 15,
    "start_time": "2025-03-24T11:43:17.285Z"
   },
   {
    "duration": 60,
    "start_time": "2025-03-24T11:43:17.301Z"
   },
   {
    "duration": 8,
    "start_time": "2025-03-24T11:43:17.363Z"
   },
   {
    "duration": 10,
    "start_time": "2025-03-24T11:43:17.372Z"
   },
   {
    "duration": 12,
    "start_time": "2025-03-24T11:43:17.383Z"
   },
   {
    "duration": 14,
    "start_time": "2025-03-24T11:43:17.397Z"
   },
   {
    "duration": 19,
    "start_time": "2025-03-24T11:43:17.413Z"
   },
   {
    "duration": 23,
    "start_time": "2025-03-24T11:43:17.434Z"
   },
   {
    "duration": 7,
    "start_time": "2025-03-24T11:43:17.460Z"
   },
   {
    "duration": 6,
    "start_time": "2025-03-24T11:43:17.469Z"
   },
   {
    "duration": 8,
    "start_time": "2025-03-24T11:43:17.477Z"
   },
   {
    "duration": 22,
    "start_time": "2025-03-24T11:43:17.486Z"
   },
   {
    "duration": 4,
    "start_time": "2025-03-24T11:43:17.509Z"
   },
   {
    "duration": 116,
    "start_time": "2025-03-24T11:43:17.514Z"
   },
   {
    "duration": 5,
    "start_time": "2025-03-24T11:43:17.631Z"
   },
   {
    "duration": 10,
    "start_time": "2025-03-24T11:43:17.637Z"
   },
   {
    "duration": 23,
    "start_time": "2025-03-24T11:43:17.648Z"
   },
   {
    "duration": 29,
    "start_time": "2025-03-24T11:43:17.672Z"
   },
   {
    "duration": 5,
    "start_time": "2025-03-24T11:43:17.703Z"
   },
   {
    "duration": 10,
    "start_time": "2025-03-24T11:43:17.709Z"
   },
   {
    "duration": 5,
    "start_time": "2025-03-24T11:43:17.721Z"
   },
   {
    "duration": 6,
    "start_time": "2025-03-24T11:43:17.727Z"
   },
   {
    "duration": 32,
    "start_time": "2025-03-24T11:43:17.734Z"
   },
   {
    "duration": 6,
    "start_time": "2025-03-24T11:43:17.768Z"
   },
   {
    "duration": 15,
    "start_time": "2025-03-24T11:43:17.775Z"
   },
   {
    "duration": 35,
    "start_time": "2025-03-24T11:43:17.791Z"
   },
   {
    "duration": 66,
    "start_time": "2025-03-24T11:46:38.182Z"
   },
   {
    "duration": 18,
    "start_time": "2025-03-24T11:46:52.202Z"
   },
   {
    "duration": 15,
    "start_time": "2025-03-24T11:47:12.034Z"
   },
   {
    "duration": 7,
    "start_time": "2025-03-24T11:47:12.707Z"
   },
   {
    "duration": 4,
    "start_time": "2025-03-24T11:47:21.843Z"
   },
   {
    "duration": 491,
    "start_time": "2025-03-24T11:47:25.421Z"
   },
   {
    "duration": 20,
    "start_time": "2025-03-24T11:47:25.914Z"
   },
   {
    "duration": 22,
    "start_time": "2025-03-24T11:47:25.936Z"
   },
   {
    "duration": 84,
    "start_time": "2025-03-24T11:47:25.959Z"
   },
   {
    "duration": 10,
    "start_time": "2025-03-24T11:47:26.045Z"
   },
   {
    "duration": 34,
    "start_time": "2025-03-24T11:47:26.057Z"
   },
   {
    "duration": 26,
    "start_time": "2025-03-24T11:47:26.092Z"
   },
   {
    "duration": 13,
    "start_time": "2025-03-24T11:47:26.119Z"
   },
   {
    "duration": 10,
    "start_time": "2025-03-24T11:47:26.133Z"
   },
   {
    "duration": 11,
    "start_time": "2025-03-24T11:47:26.144Z"
   },
   {
    "duration": 13,
    "start_time": "2025-03-24T11:47:26.157Z"
   },
   {
    "duration": 27,
    "start_time": "2025-03-24T11:47:26.171Z"
   },
   {
    "duration": 16,
    "start_time": "2025-03-24T11:47:26.199Z"
   },
   {
    "duration": 8,
    "start_time": "2025-03-24T11:47:26.229Z"
   },
   {
    "duration": 11,
    "start_time": "2025-03-24T11:47:26.239Z"
   },
   {
    "duration": 12,
    "start_time": "2025-03-24T11:47:26.251Z"
   },
   {
    "duration": 53,
    "start_time": "2025-03-24T11:47:26.264Z"
   },
   {
    "duration": 5,
    "start_time": "2025-03-24T11:47:26.318Z"
   },
   {
    "duration": 108,
    "start_time": "2025-03-24T11:47:26.324Z"
   },
   {
    "duration": 6,
    "start_time": "2025-03-24T11:47:26.434Z"
   },
   {
    "duration": 5,
    "start_time": "2025-03-24T11:47:26.442Z"
   },
   {
    "duration": 9,
    "start_time": "2025-03-24T11:47:26.448Z"
   },
   {
    "duration": 16,
    "start_time": "2025-03-24T11:47:26.459Z"
   },
   {
    "duration": 15,
    "start_time": "2025-03-24T11:47:26.477Z"
   },
   {
    "duration": 6,
    "start_time": "2025-03-24T11:47:26.494Z"
   },
   {
    "duration": 31,
    "start_time": "2025-03-24T11:47:26.501Z"
   },
   {
    "duration": 6,
    "start_time": "2025-03-24T11:47:26.534Z"
   },
   {
    "duration": 5,
    "start_time": "2025-03-24T11:47:26.542Z"
   },
   {
    "duration": 9,
    "start_time": "2025-03-24T11:47:26.548Z"
   },
   {
    "duration": 9,
    "start_time": "2025-03-24T11:47:26.559Z"
   },
   {
    "duration": 18,
    "start_time": "2025-03-24T11:47:26.570Z"
   },
   {
    "duration": 4,
    "start_time": "2025-03-24T11:47:26.590Z"
   },
   {
    "duration": 24,
    "start_time": "2025-03-24T11:55:23.757Z"
   },
   {
    "duration": 17,
    "start_time": "2025-03-24T11:55:40.754Z"
   },
   {
    "duration": 107,
    "start_time": "2025-03-24T12:14:57.378Z"
   },
   {
    "duration": 46,
    "start_time": "2025-03-24T12:15:43.906Z"
   },
   {
    "duration": 50,
    "start_time": "2025-03-24T12:20:49.856Z"
   },
   {
    "duration": 87,
    "start_time": "2025-03-24T12:20:59.841Z"
   },
   {
    "duration": 24,
    "start_time": "2025-03-24T12:21:10.568Z"
   },
   {
    "duration": 29,
    "start_time": "2025-03-24T12:21:33.559Z"
   },
   {
    "duration": 46,
    "start_time": "2025-03-24T12:21:58.396Z"
   },
   {
    "duration": 87,
    "start_time": "2025-03-24T12:24:29.402Z"
   },
   {
    "duration": 36,
    "start_time": "2025-03-24T12:24:42.602Z"
   },
   {
    "duration": 5,
    "start_time": "2025-03-24T12:26:53.489Z"
   },
   {
    "duration": 5,
    "start_time": "2025-03-24T12:32:03.556Z"
   },
   {
    "duration": 9,
    "start_time": "2025-03-24T12:32:21.335Z"
   },
   {
    "duration": 4,
    "start_time": "2025-03-24T12:33:06.956Z"
   },
   {
    "duration": 6,
    "start_time": "2025-03-24T12:33:08.008Z"
   },
   {
    "duration": 5,
    "start_time": "2025-03-24T12:33:34.669Z"
   },
   {
    "duration": 7,
    "start_time": "2025-03-24T12:33:35.053Z"
   },
   {
    "duration": 533,
    "start_time": "2025-03-28T20:52:57.054Z"
   },
   {
    "duration": 28,
    "start_time": "2025-03-28T20:52:57.589Z"
   },
   {
    "duration": 23,
    "start_time": "2025-03-28T20:52:57.619Z"
   },
   {
    "duration": 42,
    "start_time": "2025-03-28T20:52:57.645Z"
   },
   {
    "duration": 10,
    "start_time": "2025-03-28T20:52:57.689Z"
   },
   {
    "duration": 16,
    "start_time": "2025-03-28T20:52:57.701Z"
   },
   {
    "duration": 21,
    "start_time": "2025-03-28T20:52:57.719Z"
   },
   {
    "duration": 6,
    "start_time": "2025-03-28T20:52:57.742Z"
   },
   {
    "duration": 14,
    "start_time": "2025-03-28T20:52:57.750Z"
   },
   {
    "duration": 17,
    "start_time": "2025-03-28T20:52:57.772Z"
   },
   {
    "duration": 21,
    "start_time": "2025-03-28T20:52:57.791Z"
   },
   {
    "duration": 15,
    "start_time": "2025-03-28T20:52:57.814Z"
   },
   {
    "duration": 14,
    "start_time": "2025-03-28T20:52:57.830Z"
   },
   {
    "duration": 31,
    "start_time": "2025-03-28T20:52:57.846Z"
   },
   {
    "duration": 4,
    "start_time": "2025-03-28T20:52:57.879Z"
   },
   {
    "duration": 6,
    "start_time": "2025-03-28T20:52:57.885Z"
   },
   {
    "duration": 19,
    "start_time": "2025-03-28T20:52:57.893Z"
   },
   {
    "duration": 4,
    "start_time": "2025-03-28T20:52:57.914Z"
   },
   {
    "duration": 136,
    "start_time": "2025-03-28T20:52:57.919Z"
   },
   {
    "duration": 5,
    "start_time": "2025-03-28T20:52:58.057Z"
   },
   {
    "duration": 46,
    "start_time": "2025-03-28T20:52:58.063Z"
   },
   {
    "duration": 15,
    "start_time": "2025-03-28T20:52:58.111Z"
   },
   {
    "duration": 24,
    "start_time": "2025-03-28T20:52:58.128Z"
   },
   {
    "duration": 6,
    "start_time": "2025-03-28T20:52:58.154Z"
   },
   {
    "duration": 13,
    "start_time": "2025-03-28T20:52:58.162Z"
   },
   {
    "duration": 5,
    "start_time": "2025-03-28T20:52:58.177Z"
   },
   {
    "duration": 4,
    "start_time": "2025-03-28T20:52:58.185Z"
   },
   {
    "duration": 5,
    "start_time": "2025-03-28T20:52:58.194Z"
   },
   {
    "duration": 21,
    "start_time": "2025-03-28T20:52:58.201Z"
   },
   {
    "duration": 6,
    "start_time": "2025-03-28T20:52:58.223Z"
   },
   {
    "duration": 47,
    "start_time": "2025-03-28T20:52:58.230Z"
   },
   {
    "duration": 5,
    "start_time": "2025-03-28T20:52:58.279Z"
   },
   {
    "duration": 110,
    "start_time": "2025-03-28T20:52:58.286Z"
   },
   {
    "duration": 98,
    "start_time": "2025-03-28T20:52:58.397Z"
   },
   {
    "duration": 74,
    "start_time": "2025-03-28T20:52:58.496Z"
   },
   {
    "duration": 6,
    "start_time": "2025-03-28T20:52:58.572Z"
   },
   {
    "duration": 7,
    "start_time": "2025-03-28T20:52:58.580Z"
   },
   {
    "duration": 686,
    "start_time": "2025-03-28T20:52:58.589Z"
   },
   {
    "duration": 126,
    "start_time": "2025-03-28T20:53:19.796Z"
   },
   {
    "duration": 490,
    "start_time": "2025-03-28T22:53:38.282Z"
   },
   {
    "duration": 21,
    "start_time": "2025-03-28T22:53:38.774Z"
   },
   {
    "duration": 35,
    "start_time": "2025-03-28T22:53:38.796Z"
   },
   {
    "duration": 39,
    "start_time": "2025-03-28T22:53:38.833Z"
   },
   {
    "duration": 6,
    "start_time": "2025-03-28T22:53:38.874Z"
   },
   {
    "duration": 28,
    "start_time": "2025-03-28T22:53:38.882Z"
   },
   {
    "duration": 9,
    "start_time": "2025-03-28T22:53:38.912Z"
   },
   {
    "duration": 5,
    "start_time": "2025-03-28T22:53:38.923Z"
   },
   {
    "duration": 12,
    "start_time": "2025-03-28T22:53:38.929Z"
   },
   {
    "duration": 11,
    "start_time": "2025-03-28T22:53:38.943Z"
   },
   {
    "duration": 19,
    "start_time": "2025-03-28T22:53:38.955Z"
   },
   {
    "duration": 15,
    "start_time": "2025-03-28T22:53:38.975Z"
   },
   {
    "duration": 32,
    "start_time": "2025-03-28T22:53:38.992Z"
   },
   {
    "duration": 7,
    "start_time": "2025-03-28T22:53:39.025Z"
   },
   {
    "duration": 11,
    "start_time": "2025-03-28T22:53:39.034Z"
   },
   {
    "duration": 19,
    "start_time": "2025-03-28T22:53:39.046Z"
   },
   {
    "duration": 15,
    "start_time": "2025-03-28T22:53:39.066Z"
   },
   {
    "duration": 5,
    "start_time": "2025-03-28T22:53:39.082Z"
   },
   {
    "duration": 119,
    "start_time": "2025-03-28T22:53:39.088Z"
   },
   {
    "duration": 4,
    "start_time": "2025-03-28T22:53:39.209Z"
   },
   {
    "duration": 7,
    "start_time": "2025-03-28T22:53:39.215Z"
   },
   {
    "duration": 9,
    "start_time": "2025-03-28T22:53:39.223Z"
   },
   {
    "duration": 15,
    "start_time": "2025-03-28T22:53:39.233Z"
   },
   {
    "duration": 26,
    "start_time": "2025-03-28T22:53:39.250Z"
   },
   {
    "duration": 6,
    "start_time": "2025-03-28T22:53:39.277Z"
   },
   {
    "duration": 12,
    "start_time": "2025-03-28T22:53:39.285Z"
   },
   {
    "duration": 16,
    "start_time": "2025-03-28T22:53:39.298Z"
   },
   {
    "duration": 16,
    "start_time": "2025-03-28T22:53:39.317Z"
   },
   {
    "duration": 6,
    "start_time": "2025-03-28T22:53:39.334Z"
   },
   {
    "duration": 7,
    "start_time": "2025-03-28T22:53:39.341Z"
   },
   {
    "duration": 13,
    "start_time": "2025-03-28T22:53:39.350Z"
   },
   {
    "duration": 9,
    "start_time": "2025-03-28T22:53:39.364Z"
   },
   {
    "duration": 99,
    "start_time": "2025-03-28T22:53:39.374Z"
   },
   {
    "duration": 84,
    "start_time": "2025-03-28T22:53:39.475Z"
   },
   {
    "duration": 66,
    "start_time": "2025-03-28T22:53:39.560Z"
   },
   {
    "duration": 4,
    "start_time": "2025-03-28T22:53:39.627Z"
   },
   {
    "duration": 8,
    "start_time": "2025-03-28T22:53:39.632Z"
   },
   {
    "duration": 648,
    "start_time": "2025-03-28T22:53:39.641Z"
   },
   {
    "duration": 4,
    "start_time": "2025-03-28T22:54:23.814Z"
   },
   {
    "duration": 137,
    "start_time": "2025-03-28T22:54:40.695Z"
   },
   {
    "duration": 159,
    "start_time": "2025-03-28T22:54:47.572Z"
   },
   {
    "duration": 147,
    "start_time": "2025-03-28T22:54:53.607Z"
   },
   {
    "duration": 684,
    "start_time": "2025-03-31T11:42:16.102Z"
   },
   {
    "duration": 26,
    "start_time": "2025-03-31T11:42:16.788Z"
   },
   {
    "duration": 23,
    "start_time": "2025-03-31T11:42:16.815Z"
   },
   {
    "duration": 74,
    "start_time": "2025-03-31T11:42:16.841Z"
   },
   {
    "duration": 14,
    "start_time": "2025-03-31T11:42:16.916Z"
   },
   {
    "duration": 20,
    "start_time": "2025-03-31T11:42:16.932Z"
   },
   {
    "duration": 98,
    "start_time": "2025-03-31T11:42:16.954Z"
   },
   {
    "duration": 6,
    "start_time": "2025-03-31T11:42:17.059Z"
   },
   {
    "duration": 12,
    "start_time": "2025-03-31T11:42:17.067Z"
   },
   {
    "duration": 12,
    "start_time": "2025-03-31T11:42:17.083Z"
   },
   {
    "duration": 28,
    "start_time": "2025-03-31T11:42:17.096Z"
   },
   {
    "duration": 37,
    "start_time": "2025-03-31T11:42:17.126Z"
   },
   {
    "duration": 19,
    "start_time": "2025-03-31T11:42:17.165Z"
   },
   {
    "duration": 7,
    "start_time": "2025-03-31T11:42:17.186Z"
   },
   {
    "duration": 5,
    "start_time": "2025-03-31T11:42:17.195Z"
   },
   {
    "duration": 14,
    "start_time": "2025-03-31T11:42:17.201Z"
   },
   {
    "duration": 33,
    "start_time": "2025-03-31T11:42:17.217Z"
   },
   {
    "duration": 8,
    "start_time": "2025-03-31T11:42:17.253Z"
   },
   {
    "duration": 136,
    "start_time": "2025-03-31T11:42:17.263Z"
   },
   {
    "duration": 5,
    "start_time": "2025-03-31T11:42:17.400Z"
   },
   {
    "duration": 38,
    "start_time": "2025-03-31T11:42:17.407Z"
   },
   {
    "duration": 17,
    "start_time": "2025-03-31T11:42:17.449Z"
   },
   {
    "duration": 21,
    "start_time": "2025-03-31T11:42:17.468Z"
   },
   {
    "duration": 5,
    "start_time": "2025-03-31T11:42:17.491Z"
   },
   {
    "duration": 6,
    "start_time": "2025-03-31T11:42:17.497Z"
   },
   {
    "duration": 6,
    "start_time": "2025-03-31T11:42:17.505Z"
   },
   {
    "duration": 6,
    "start_time": "2025-03-31T11:42:17.513Z"
   },
   {
    "duration": 6,
    "start_time": "2025-03-31T11:42:17.527Z"
   },
   {
    "duration": 30,
    "start_time": "2025-03-31T11:42:17.538Z"
   },
   {
    "duration": 7,
    "start_time": "2025-03-31T11:42:17.570Z"
   },
   {
    "duration": 15,
    "start_time": "2025-03-31T11:42:17.580Z"
   },
   {
    "duration": 10,
    "start_time": "2025-03-31T11:42:17.597Z"
   },
   {
    "duration": 185,
    "start_time": "2025-03-31T11:42:17.608Z"
   },
   {
    "duration": 173,
    "start_time": "2025-03-31T11:42:17.798Z"
   },
   {
    "duration": 91,
    "start_time": "2025-03-31T11:42:17.972Z"
   },
   {
    "duration": 55,
    "start_time": "2025-03-31T11:42:18.065Z"
   },
   {
    "duration": 15,
    "start_time": "2025-03-31T11:42:18.122Z"
   },
   {
    "duration": 1134,
    "start_time": "2025-03-31T11:42:18.139Z"
   },
   {
    "duration": 14,
    "start_time": "2025-03-31T11:54:55.710Z"
   },
   {
    "duration": 11,
    "start_time": "2025-03-31T11:55:47.170Z"
   },
   {
    "duration": 38,
    "start_time": "2025-03-31T11:56:08.658Z"
   },
   {
    "duration": 47,
    "start_time": "2025-03-31T11:56:59.784Z"
   },
   {
    "duration": 35,
    "start_time": "2025-03-31T11:58:47.639Z"
   },
   {
    "duration": 202,
    "start_time": "2025-03-31T12:00:32.270Z"
   },
   {
    "duration": 4,
    "start_time": "2025-03-31T12:03:07.446Z"
   },
   {
    "duration": 10,
    "start_time": "2025-03-31T12:03:22.493Z"
   },
   {
    "duration": 3,
    "start_time": "2025-03-31T12:03:28.559Z"
   },
   {
    "duration": 10,
    "start_time": "2025-03-31T12:03:29.445Z"
   },
   {
    "duration": 219,
    "start_time": "2025-03-31T12:05:25.013Z"
   },
   {
    "duration": 6,
    "start_time": "2025-03-31T12:07:39.486Z"
   },
   {
    "duration": 13,
    "start_time": "2025-03-31T12:07:45.222Z"
   },
   {
    "duration": 279,
    "start_time": "2025-03-31T12:09:19.589Z"
   },
   {
    "duration": 6,
    "start_time": "2025-03-31T12:13:15.849Z"
   },
   {
    "duration": 17,
    "start_time": "2025-03-31T12:13:28.313Z"
   },
   {
    "duration": 7,
    "start_time": "2025-03-31T12:17:40.497Z"
   },
   {
    "duration": 264,
    "start_time": "2025-03-31T12:17:53.518Z"
   },
   {
    "duration": 74,
    "start_time": "2025-03-31T12:19:36.820Z"
   },
   {
    "duration": 9,
    "start_time": "2025-03-31T12:19:46.453Z"
   },
   {
    "duration": 7,
    "start_time": "2025-03-31T12:20:05.861Z"
   },
   {
    "duration": 66,
    "start_time": "2025-03-31T12:22:18.080Z"
   },
   {
    "duration": 10,
    "start_time": "2025-03-31T12:22:22.348Z"
   },
   {
    "duration": 24,
    "start_time": "2025-03-31T12:23:03.923Z"
   },
   {
    "duration": 13,
    "start_time": "2025-03-31T12:23:23.665Z"
   },
   {
    "duration": 5,
    "start_time": "2025-03-31T12:25:09.954Z"
   },
   {
    "duration": 297,
    "start_time": "2025-03-31T12:25:19.324Z"
   },
   {
    "duration": 240,
    "start_time": "2025-03-31T12:27:02.502Z"
   },
   {
    "duration": 76,
    "start_time": "2025-03-31T12:28:04.302Z"
   },
   {
    "duration": 131,
    "start_time": "2025-03-31T12:28:13.113Z"
   },
   {
    "duration": 64,
    "start_time": "2025-03-31T12:28:20.390Z"
   },
   {
    "duration": 204,
    "start_time": "2025-03-31T12:28:34.141Z"
   },
   {
    "duration": 227,
    "start_time": "2025-03-31T12:29:16.428Z"
   },
   {
    "duration": 11,
    "start_time": "2025-03-31T12:30:36.851Z"
   },
   {
    "duration": 13,
    "start_time": "2025-03-31T12:31:02.413Z"
   },
   {
    "duration": 188,
    "start_time": "2025-03-31T12:39:46.760Z"
   },
   {
    "duration": 748,
    "start_time": "2025-03-31T12:40:28.950Z"
   },
   {
    "duration": 221,
    "start_time": "2025-03-31T12:40:47.119Z"
   },
   {
    "duration": 174,
    "start_time": "2025-03-31T12:41:42.472Z"
   },
   {
    "duration": 93,
    "start_time": "2025-03-31T12:41:49.330Z"
   },
   {
    "duration": 183,
    "start_time": "2025-03-31T12:41:53.569Z"
   },
   {
    "duration": 168,
    "start_time": "2025-03-31T12:44:41.258Z"
   },
   {
    "duration": 164,
    "start_time": "2025-03-31T12:44:50.023Z"
   },
   {
    "duration": 221,
    "start_time": "2025-03-31T12:45:55.422Z"
   },
   {
    "duration": 27,
    "start_time": "2025-03-31T12:46:00.317Z"
   },
   {
    "duration": 6,
    "start_time": "2025-03-31T12:46:14.751Z"
   },
   {
    "duration": 7,
    "start_time": "2025-03-31T12:46:32.588Z"
   },
   {
    "duration": 6,
    "start_time": "2025-03-31T12:46:53.159Z"
   },
   {
    "duration": 6,
    "start_time": "2025-03-31T12:48:02.652Z"
   },
   {
    "duration": 9,
    "start_time": "2025-03-31T12:48:24.687Z"
   },
   {
    "duration": 22,
    "start_time": "2025-03-31T12:49:27.606Z"
   },
   {
    "duration": 11,
    "start_time": "2025-03-31T12:49:34.026Z"
   },
   {
    "duration": 8,
    "start_time": "2025-03-31T12:50:52.487Z"
   },
   {
    "duration": 176,
    "start_time": "2025-03-31T12:51:51.665Z"
   },
   {
    "duration": 237,
    "start_time": "2025-03-31T12:52:28.404Z"
   },
   {
    "duration": 293,
    "start_time": "2025-03-31T12:52:50.284Z"
   },
   {
    "duration": 229,
    "start_time": "2025-03-31T12:52:55.173Z"
   },
   {
    "duration": 236,
    "start_time": "2025-03-31T12:53:04.029Z"
   },
   {
    "duration": 173,
    "start_time": "2025-03-31T12:53:30.831Z"
   },
   {
    "duration": 494,
    "start_time": "2025-04-02T21:44:59.522Z"
   },
   {
    "duration": 23,
    "start_time": "2025-04-02T21:45:00.018Z"
   },
   {
    "duration": 38,
    "start_time": "2025-04-02T21:45:00.043Z"
   },
   {
    "duration": 39,
    "start_time": "2025-04-02T21:45:00.083Z"
   },
   {
    "duration": 9,
    "start_time": "2025-04-02T21:45:00.123Z"
   },
   {
    "duration": 31,
    "start_time": "2025-04-02T21:45:00.133Z"
   },
   {
    "duration": 18,
    "start_time": "2025-04-02T21:45:00.166Z"
   },
   {
    "duration": 33,
    "start_time": "2025-04-02T21:45:00.185Z"
   },
   {
    "duration": 104,
    "start_time": "2025-04-02T21:45:00.220Z"
   },
   {
    "duration": 29,
    "start_time": "2025-04-02T21:45:00.327Z"
   },
   {
    "duration": 18,
    "start_time": "2025-04-02T21:45:00.358Z"
   },
   {
    "duration": 16,
    "start_time": "2025-04-02T21:45:00.377Z"
   },
   {
    "duration": 26,
    "start_time": "2025-04-02T21:45:00.394Z"
   },
   {
    "duration": 45,
    "start_time": "2025-04-02T21:45:00.422Z"
   },
   {
    "duration": 9,
    "start_time": "2025-04-02T21:45:00.469Z"
   },
   {
    "duration": 30,
    "start_time": "2025-04-02T21:45:00.480Z"
   },
   {
    "duration": 45,
    "start_time": "2025-04-02T21:45:00.512Z"
   },
   {
    "duration": 33,
    "start_time": "2025-04-02T21:45:00.558Z"
   },
   {
    "duration": 113,
    "start_time": "2025-04-02T21:45:00.592Z"
   },
   {
    "duration": 5,
    "start_time": "2025-04-02T21:45:00.707Z"
   },
   {
    "duration": 179,
    "start_time": "2025-04-02T21:45:00.714Z"
   },
   {
    "duration": 11,
    "start_time": "2025-04-02T21:45:00.895Z"
   },
   {
    "duration": 16,
    "start_time": "2025-04-02T21:45:00.908Z"
   },
   {
    "duration": 30,
    "start_time": "2025-04-02T21:45:00.926Z"
   },
   {
    "duration": 33,
    "start_time": "2025-04-02T21:45:00.958Z"
   },
   {
    "duration": 7,
    "start_time": "2025-04-02T21:45:00.993Z"
   },
   {
    "duration": 20,
    "start_time": "2025-04-02T21:45:01.002Z"
   },
   {
    "duration": 15,
    "start_time": "2025-04-02T21:45:01.025Z"
   },
   {
    "duration": 23,
    "start_time": "2025-04-02T21:45:01.042Z"
   },
   {
    "duration": 20,
    "start_time": "2025-04-02T21:45:01.066Z"
   },
   {
    "duration": 49,
    "start_time": "2025-04-02T21:45:01.087Z"
   },
   {
    "duration": 25,
    "start_time": "2025-04-02T21:45:01.137Z"
   },
   {
    "duration": 100,
    "start_time": "2025-04-02T21:45:01.163Z"
   },
   {
    "duration": 94,
    "start_time": "2025-04-02T21:45:01.265Z"
   },
   {
    "duration": 68,
    "start_time": "2025-04-02T21:45:01.360Z"
   },
   {
    "duration": 6,
    "start_time": "2025-04-02T21:45:01.431Z"
   },
   {
    "duration": 46,
    "start_time": "2025-04-02T21:45:01.438Z"
   },
   {
    "duration": 214,
    "start_time": "2025-04-02T21:45:01.486Z"
   },
   {
    "duration": 726,
    "start_time": "2025-04-02T21:45:01.702Z"
   },
   {
    "duration": 7,
    "start_time": "2025-04-02T21:45:02.430Z"
   },
   {
    "duration": 100,
    "start_time": "2025-04-02T21:45:02.439Z"
   },
   {
    "duration": 11,
    "start_time": "2025-04-02T21:48:07.257Z"
   },
   {
    "duration": 13,
    "start_time": "2025-04-02T21:48:13.237Z"
   },
   {
    "duration": 14,
    "start_time": "2025-04-02T21:48:32.979Z"
   },
   {
    "duration": 13,
    "start_time": "2025-04-02T21:48:40.945Z"
   },
   {
    "duration": 13,
    "start_time": "2025-04-02T21:48:46.745Z"
   },
   {
    "duration": 15,
    "start_time": "2025-04-02T21:48:52.091Z"
   },
   {
    "duration": 13,
    "start_time": "2025-04-02T21:48:57.461Z"
   },
   {
    "duration": 14,
    "start_time": "2025-04-02T21:51:53.222Z"
   },
   {
    "duration": 14,
    "start_time": "2025-04-02T21:52:23.456Z"
   },
   {
    "duration": 59,
    "start_time": "2025-04-02T21:52:46.825Z"
   },
   {
    "duration": 149,
    "start_time": "2025-04-02T21:52:52.249Z"
   },
   {
    "duration": 157,
    "start_time": "2025-04-02T21:53:09.422Z"
   },
   {
    "duration": 179,
    "start_time": "2025-04-02T21:53:38.170Z"
   },
   {
    "duration": 136,
    "start_time": "2025-04-02T21:53:59.010Z"
   },
   {
    "duration": 68,
    "start_time": "2025-04-02T21:54:07.716Z"
   },
   {
    "duration": 83,
    "start_time": "2025-04-02T21:54:15.191Z"
   },
   {
    "duration": 133,
    "start_time": "2025-04-02T21:54:20.015Z"
   },
   {
    "duration": 134,
    "start_time": "2025-04-02T21:58:10.522Z"
   },
   {
    "duration": 164,
    "start_time": "2025-04-02T21:58:25.175Z"
   },
   {
    "duration": 160,
    "start_time": "2025-04-02T22:00:34.839Z"
   },
   {
    "duration": 164,
    "start_time": "2025-04-02T22:00:39.976Z"
   },
   {
    "duration": 16,
    "start_time": "2025-04-02T22:00:55.346Z"
   },
   {
    "duration": 213,
    "start_time": "2025-04-02T22:46:53.992Z"
   },
   {
    "duration": 3,
    "start_time": "2025-04-02T22:47:20.182Z"
   },
   {
    "duration": 468,
    "start_time": "2025-04-02T22:47:24.839Z"
   },
   {
    "duration": 21,
    "start_time": "2025-04-02T22:47:25.309Z"
   },
   {
    "duration": 15,
    "start_time": "2025-04-02T22:47:25.332Z"
   },
   {
    "duration": 36,
    "start_time": "2025-04-02T22:47:25.349Z"
   },
   {
    "duration": 7,
    "start_time": "2025-04-02T22:47:25.386Z"
   },
   {
    "duration": 11,
    "start_time": "2025-04-02T22:47:25.395Z"
   },
   {
    "duration": 9,
    "start_time": "2025-04-02T22:47:25.407Z"
   },
   {
    "duration": 6,
    "start_time": "2025-04-02T22:47:25.417Z"
   },
   {
    "duration": 10,
    "start_time": "2025-04-02T22:47:25.424Z"
   },
   {
    "duration": 12,
    "start_time": "2025-04-02T22:47:25.436Z"
   },
   {
    "duration": 20,
    "start_time": "2025-04-02T22:47:25.450Z"
   },
   {
    "duration": 36,
    "start_time": "2025-04-02T22:47:25.471Z"
   },
   {
    "duration": 17,
    "start_time": "2025-04-02T22:47:25.509Z"
   },
   {
    "duration": 7,
    "start_time": "2025-04-02T22:47:25.528Z"
   },
   {
    "duration": 4,
    "start_time": "2025-04-02T22:47:25.536Z"
   },
   {
    "duration": 9,
    "start_time": "2025-04-02T22:47:25.541Z"
   },
   {
    "duration": 14,
    "start_time": "2025-04-02T22:47:25.552Z"
   },
   {
    "duration": 38,
    "start_time": "2025-04-02T22:47:25.568Z"
   },
   {
    "duration": 121,
    "start_time": "2025-04-02T22:47:25.608Z"
   },
   {
    "duration": 7,
    "start_time": "2025-04-02T22:47:25.730Z"
   },
   {
    "duration": 6,
    "start_time": "2025-04-02T22:47:25.738Z"
   },
   {
    "duration": 18,
    "start_time": "2025-04-02T22:47:25.746Z"
   },
   {
    "duration": 21,
    "start_time": "2025-04-02T22:47:25.765Z"
   },
   {
    "duration": 22,
    "start_time": "2025-04-02T22:47:25.787Z"
   },
   {
    "duration": 83,
    "start_time": "2025-04-02T22:47:25.810Z"
   },
   {
    "duration": 11,
    "start_time": "2025-04-02T22:47:25.895Z"
   },
   {
    "duration": 5,
    "start_time": "2025-04-02T22:47:25.907Z"
   },
   {
    "duration": 3,
    "start_time": "2025-04-02T22:47:25.915Z"
   },
   {
    "duration": 15,
    "start_time": "2025-04-02T22:47:25.920Z"
   },
   {
    "duration": 6,
    "start_time": "2025-04-02T22:47:25.937Z"
   },
   {
    "duration": 24,
    "start_time": "2025-04-02T22:47:25.944Z"
   },
   {
    "duration": 4,
    "start_time": "2025-04-02T22:47:25.970Z"
   },
   {
    "duration": 96,
    "start_time": "2025-04-02T22:47:25.975Z"
   },
   {
    "duration": 98,
    "start_time": "2025-04-02T22:47:26.073Z"
   },
   {
    "duration": 61,
    "start_time": "2025-04-02T22:47:26.172Z"
   },
   {
    "duration": 6,
    "start_time": "2025-04-02T22:47:26.235Z"
   },
   {
    "duration": 7,
    "start_time": "2025-04-02T22:47:26.242Z"
   },
   {
    "duration": 196,
    "start_time": "2025-04-02T22:47:26.251Z"
   },
   {
    "duration": 35,
    "start_time": "2025-04-02T22:47:26.448Z"
   },
   {
    "duration": 355,
    "start_time": "2025-04-02T22:47:26.485Z"
   },
   {
    "duration": 7,
    "start_time": "2025-04-02T22:47:26.841Z"
   },
   {
    "duration": 14,
    "start_time": "2025-04-02T22:47:26.849Z"
   },
   {
    "duration": 185,
    "start_time": "2025-04-02T22:47:26.864Z"
   },
   {
    "duration": 164,
    "start_time": "2025-04-02T22:47:27.050Z"
   },
   {
    "duration": 164,
    "start_time": "2025-04-02T23:17:48.964Z"
   },
   {
    "duration": 163,
    "start_time": "2025-04-02T23:17:56.788Z"
   },
   {
    "duration": 153,
    "start_time": "2025-04-02T23:18:30.489Z"
   },
   {
    "duration": 165,
    "start_time": "2025-04-02T23:19:10.646Z"
   },
   {
    "duration": 160,
    "start_time": "2025-04-02T23:19:16.633Z"
   },
   {
    "duration": 148,
    "start_time": "2025-04-02T23:19:53.233Z"
   },
   {
    "duration": 153,
    "start_time": "2025-04-02T23:20:00.190Z"
   },
   {
    "duration": 148,
    "start_time": "2025-04-02T23:20:15.877Z"
   },
   {
    "duration": 224,
    "start_time": "2025-04-02T23:20:38.545Z"
   },
   {
    "duration": 32,
    "start_time": "2025-04-02T23:23:08.013Z"
   },
   {
    "duration": 19,
    "start_time": "2025-04-02T23:23:59.038Z"
   },
   {
    "duration": 85,
    "start_time": "2025-04-02T23:25:05.999Z"
   },
   {
    "duration": 63,
    "start_time": "2025-04-02T23:25:22.333Z"
   },
   {
    "duration": 10,
    "start_time": "2025-04-02T23:25:30.461Z"
   },
   {
    "duration": 9,
    "start_time": "2025-04-02T23:26:02.033Z"
   },
   {
    "duration": 9,
    "start_time": "2025-04-02T23:27:14.165Z"
   },
   {
    "duration": 4,
    "start_time": "2025-04-02T23:27:39.303Z"
   },
   {
    "duration": 4,
    "start_time": "2025-04-02T23:29:47.652Z"
   },
   {
    "duration": 3,
    "start_time": "2025-04-02T23:29:54.687Z"
   },
   {
    "duration": 500,
    "start_time": "2025-04-02T23:30:03.502Z"
   },
   {
    "duration": 20,
    "start_time": "2025-04-02T23:30:04.004Z"
   },
   {
    "duration": 65,
    "start_time": "2025-04-02T23:30:04.026Z"
   },
   {
    "duration": 38,
    "start_time": "2025-04-02T23:30:04.093Z"
   },
   {
    "duration": 8,
    "start_time": "2025-04-02T23:30:04.133Z"
   },
   {
    "duration": 26,
    "start_time": "2025-04-02T23:30:04.143Z"
   },
   {
    "duration": 40,
    "start_time": "2025-04-02T23:30:04.171Z"
   },
   {
    "duration": 5,
    "start_time": "2025-04-02T23:30:04.213Z"
   },
   {
    "duration": 13,
    "start_time": "2025-04-02T23:30:04.220Z"
   },
   {
    "duration": 15,
    "start_time": "2025-04-02T23:30:04.236Z"
   },
   {
    "duration": 23,
    "start_time": "2025-04-02T23:30:04.252Z"
   },
   {
    "duration": 18,
    "start_time": "2025-04-02T23:30:04.277Z"
   },
   {
    "duration": 21,
    "start_time": "2025-04-02T23:30:04.297Z"
   },
   {
    "duration": 7,
    "start_time": "2025-04-02T23:30:04.319Z"
   },
   {
    "duration": 4,
    "start_time": "2025-04-02T23:30:04.327Z"
   },
   {
    "duration": 25,
    "start_time": "2025-04-02T23:30:04.333Z"
   },
   {
    "duration": 40,
    "start_time": "2025-04-02T23:30:04.359Z"
   },
   {
    "duration": 4,
    "start_time": "2025-04-02T23:30:04.401Z"
   },
   {
    "duration": 118,
    "start_time": "2025-04-02T23:30:04.406Z"
   },
   {
    "duration": 5,
    "start_time": "2025-04-02T23:30:04.525Z"
   },
   {
    "duration": 99,
    "start_time": "2025-04-02T23:30:04.532Z"
   },
   {
    "duration": 39,
    "start_time": "2025-04-02T23:30:04.632Z"
   },
   {
    "duration": 33,
    "start_time": "2025-04-02T23:30:04.673Z"
   },
   {
    "duration": 8,
    "start_time": "2025-04-02T23:30:04.708Z"
   },
   {
    "duration": 6,
    "start_time": "2025-04-02T23:30:04.718Z"
   },
   {
    "duration": 27,
    "start_time": "2025-04-02T23:30:04.725Z"
   },
   {
    "duration": 50,
    "start_time": "2025-04-02T23:30:04.754Z"
   },
   {
    "duration": 10,
    "start_time": "2025-04-02T23:30:04.807Z"
   },
   {
    "duration": 8,
    "start_time": "2025-04-02T23:30:04.818Z"
   },
   {
    "duration": 9,
    "start_time": "2025-04-02T23:30:04.827Z"
   },
   {
    "duration": 36,
    "start_time": "2025-04-02T23:30:04.838Z"
   },
   {
    "duration": 9,
    "start_time": "2025-04-02T23:30:04.876Z"
   },
   {
    "duration": 91,
    "start_time": "2025-04-02T23:30:04.886Z"
   },
   {
    "duration": 90,
    "start_time": "2025-04-02T23:30:04.979Z"
   },
   {
    "duration": 55,
    "start_time": "2025-04-02T23:30:05.070Z"
   },
   {
    "duration": 9,
    "start_time": "2025-04-02T23:30:05.126Z"
   },
   {
    "duration": 25,
    "start_time": "2025-04-02T23:30:05.136Z"
   },
   {
    "duration": 225,
    "start_time": "2025-04-02T23:30:05.162Z"
   },
   {
    "duration": 35,
    "start_time": "2025-04-02T23:30:05.388Z"
   },
   {
    "duration": 357,
    "start_time": "2025-04-02T23:30:05.424Z"
   },
   {
    "duration": 6,
    "start_time": "2025-04-02T23:30:05.782Z"
   },
   {
    "duration": 82,
    "start_time": "2025-04-02T23:30:05.790Z"
   },
   {
    "duration": 181,
    "start_time": "2025-04-02T23:30:05.873Z"
   },
   {
    "duration": 165,
    "start_time": "2025-04-02T23:30:06.056Z"
   },
   {
    "duration": 157,
    "start_time": "2025-04-02T23:30:06.223Z"
   },
   {
    "duration": 159,
    "start_time": "2025-04-02T23:30:06.381Z"
   },
   {
    "duration": 69,
    "start_time": "2025-04-02T23:30:06.542Z"
   },
   {
    "duration": 0,
    "start_time": "2025-04-02T23:30:06.612Z"
   },
   {
    "duration": 0,
    "start_time": "2025-04-02T23:30:06.613Z"
   },
   {
    "duration": 87,
    "start_time": "2025-04-02T23:30:16.675Z"
   },
   {
    "duration": 4,
    "start_time": "2025-04-02T23:30:20.703Z"
   },
   {
    "duration": 6,
    "start_time": "2025-04-02T23:30:33.099Z"
   },
   {
    "duration": 74,
    "start_time": "2025-04-02T23:33:30.908Z"
   },
   {
    "duration": 7,
    "start_time": "2025-04-02T23:33:54.531Z"
   },
   {
    "duration": 13,
    "start_time": "2025-04-02T23:38:23.520Z"
   },
   {
    "duration": 12,
    "start_time": "2025-04-02T23:38:26.933Z"
   },
   {
    "duration": 13,
    "start_time": "2025-04-02T23:38:37.509Z"
   },
   {
    "duration": 12,
    "start_time": "2025-04-02T23:38:41.573Z"
   },
   {
    "duration": 12,
    "start_time": "2025-04-02T23:38:48.905Z"
   },
   {
    "duration": 11,
    "start_time": "2025-04-02T23:38:52.864Z"
   },
   {
    "duration": 12,
    "start_time": "2025-04-02T23:39:08.845Z"
   },
   {
    "duration": 497,
    "start_time": "2025-04-02T23:39:24.706Z"
   },
   {
    "duration": 22,
    "start_time": "2025-04-02T23:39:25.205Z"
   },
   {
    "duration": 15,
    "start_time": "2025-04-02T23:39:25.229Z"
   },
   {
    "duration": 109,
    "start_time": "2025-04-02T23:39:25.246Z"
   },
   {
    "duration": 8,
    "start_time": "2025-04-02T23:39:25.356Z"
   },
   {
    "duration": 10,
    "start_time": "2025-04-02T23:39:25.365Z"
   },
   {
    "duration": 12,
    "start_time": "2025-04-02T23:39:25.377Z"
   },
   {
    "duration": 5,
    "start_time": "2025-04-02T23:39:25.390Z"
   },
   {
    "duration": 23,
    "start_time": "2025-04-02T23:39:25.397Z"
   },
   {
    "duration": 14,
    "start_time": "2025-04-02T23:39:25.423Z"
   },
   {
    "duration": 16,
    "start_time": "2025-04-02T23:39:25.439Z"
   },
   {
    "duration": 18,
    "start_time": "2025-04-02T23:39:25.457Z"
   },
   {
    "duration": 27,
    "start_time": "2025-04-02T23:39:25.477Z"
   },
   {
    "duration": 7,
    "start_time": "2025-04-02T23:39:25.505Z"
   },
   {
    "duration": 4,
    "start_time": "2025-04-02T23:39:25.514Z"
   },
   {
    "duration": 16,
    "start_time": "2025-04-02T23:39:25.519Z"
   },
   {
    "duration": 16,
    "start_time": "2025-04-02T23:39:25.537Z"
   },
   {
    "duration": 4,
    "start_time": "2025-04-02T23:39:25.555Z"
   },
   {
    "duration": 133,
    "start_time": "2025-04-02T23:39:25.560Z"
   },
   {
    "duration": 9,
    "start_time": "2025-04-02T23:39:25.695Z"
   },
   {
    "duration": 6,
    "start_time": "2025-04-02T23:39:25.705Z"
   },
   {
    "duration": 10,
    "start_time": "2025-04-02T23:39:25.712Z"
   },
   {
    "duration": 14,
    "start_time": "2025-04-02T23:39:25.724Z"
   },
   {
    "duration": 8,
    "start_time": "2025-04-02T23:39:25.739Z"
   },
   {
    "duration": 7,
    "start_time": "2025-04-02T23:39:25.748Z"
   },
   {
    "duration": 6,
    "start_time": "2025-04-02T23:39:25.757Z"
   },
   {
    "duration": 39,
    "start_time": "2025-04-02T23:39:25.765Z"
   },
   {
    "duration": 82,
    "start_time": "2025-04-02T23:39:25.807Z"
   },
   {
    "duration": 8,
    "start_time": "2025-04-02T23:39:25.891Z"
   },
   {
    "duration": 9,
    "start_time": "2025-04-02T23:39:25.900Z"
   },
   {
    "duration": 14,
    "start_time": "2025-04-02T23:39:25.911Z"
   },
   {
    "duration": 4,
    "start_time": "2025-04-02T23:39:25.926Z"
   },
   {
    "duration": 99,
    "start_time": "2025-04-02T23:39:25.931Z"
   },
   {
    "duration": 95,
    "start_time": "2025-04-02T23:39:26.031Z"
   },
   {
    "duration": 61,
    "start_time": "2025-04-02T23:39:26.128Z"
   },
   {
    "duration": 5,
    "start_time": "2025-04-02T23:39:26.190Z"
   },
   {
    "duration": 17,
    "start_time": "2025-04-02T23:39:26.196Z"
   },
   {
    "duration": 194,
    "start_time": "2025-04-02T23:39:26.215Z"
   },
   {
    "duration": 35,
    "start_time": "2025-04-02T23:39:26.410Z"
   },
   {
    "duration": 349,
    "start_time": "2025-04-02T23:39:26.446Z"
   },
   {
    "duration": 10,
    "start_time": "2025-04-02T23:39:26.796Z"
   },
   {
    "duration": 35,
    "start_time": "2025-04-02T23:39:26.807Z"
   },
   {
    "duration": 147,
    "start_time": "2025-04-02T23:39:26.844Z"
   },
   {
    "duration": 167,
    "start_time": "2025-04-02T23:39:26.993Z"
   },
   {
    "duration": 156,
    "start_time": "2025-04-02T23:39:27.162Z"
   },
   {
    "duration": 160,
    "start_time": "2025-04-02T23:39:27.320Z"
   },
   {
    "duration": 23,
    "start_time": "2025-04-02T23:39:27.482Z"
   },
   {
    "duration": 78,
    "start_time": "2025-04-02T23:42:01.460Z"
   },
   {
    "duration": 21,
    "start_time": "2025-04-02T23:42:09.350Z"
   },
   {
    "duration": 27,
    "start_time": "2025-04-02T23:42:39.708Z"
   },
   {
    "duration": 26,
    "start_time": "2025-04-02T23:42:44.469Z"
   },
   {
    "duration": 24,
    "start_time": "2025-04-02T23:43:28.052Z"
   },
   {
    "duration": 23,
    "start_time": "2025-04-02T23:44:32.133Z"
   },
   {
    "duration": 73,
    "start_time": "2025-04-02T23:46:36.554Z"
   },
   {
    "duration": 235,
    "start_time": "2025-04-02T23:46:42.001Z"
   },
   {
    "duration": 239,
    "start_time": "2025-04-02T23:47:03.013Z"
   },
   {
    "duration": 5,
    "start_time": "2025-04-02T23:50:45.008Z"
   },
   {
    "duration": 18,
    "start_time": "2025-04-02T23:53:52.647Z"
   },
   {
    "duration": 5966,
    "start_time": "2025-04-02T23:55:07.087Z"
   },
   {
    "duration": 5707,
    "start_time": "2025-04-02T23:56:47.759Z"
   },
   {
    "duration": 4566,
    "start_time": "2025-04-02T23:58:15.585Z"
   },
   {
    "duration": 2027,
    "start_time": "2025-04-03T00:06:27.311Z"
   },
   {
    "duration": 4247,
    "start_time": "2025-04-03T00:06:58.299Z"
   },
   {
    "duration": 456,
    "start_time": "2025-04-03T00:11:47.076Z"
   },
   {
    "duration": 185,
    "start_time": "2025-04-03T00:12:02.617Z"
   },
   {
    "duration": 186,
    "start_time": "2025-04-03T00:13:16.089Z"
   },
   {
    "duration": 203,
    "start_time": "2025-04-03T00:13:42.401Z"
   },
   {
    "duration": 11,
    "start_time": "2025-04-03T00:14:45.551Z"
   },
   {
    "duration": 12,
    "start_time": "2025-04-03T00:14:52.923Z"
   },
   {
    "duration": 155,
    "start_time": "2025-04-03T00:15:13.074Z"
   },
   {
    "duration": 164,
    "start_time": "2025-04-03T00:15:32.056Z"
   },
   {
    "duration": 195,
    "start_time": "2025-04-03T00:17:49.214Z"
   },
   {
    "duration": 473,
    "start_time": "2025-04-03T04:48:33.915Z"
   },
   {
    "duration": 21,
    "start_time": "2025-04-03T04:48:34.390Z"
   },
   {
    "duration": 41,
    "start_time": "2025-04-03T04:48:34.413Z"
   },
   {
    "duration": 44,
    "start_time": "2025-04-03T04:48:34.456Z"
   },
   {
    "duration": 7,
    "start_time": "2025-04-03T04:48:34.501Z"
   },
   {
    "duration": 50,
    "start_time": "2025-04-03T04:48:34.510Z"
   },
   {
    "duration": 64,
    "start_time": "2025-04-03T04:48:34.561Z"
   },
   {
    "duration": 17,
    "start_time": "2025-04-03T04:48:34.627Z"
   },
   {
    "duration": 35,
    "start_time": "2025-04-03T04:48:34.646Z"
   },
   {
    "duration": 13,
    "start_time": "2025-04-03T04:48:34.684Z"
   },
   {
    "duration": 37,
    "start_time": "2025-04-03T04:48:34.698Z"
   },
   {
    "duration": 18,
    "start_time": "2025-04-03T04:48:34.737Z"
   },
   {
    "duration": 28,
    "start_time": "2025-04-03T04:48:34.756Z"
   },
   {
    "duration": 28,
    "start_time": "2025-04-03T04:48:34.785Z"
   },
   {
    "duration": 78,
    "start_time": "2025-04-03T04:48:34.814Z"
   },
   {
    "duration": 24,
    "start_time": "2025-04-03T04:48:34.893Z"
   },
   {
    "duration": 28,
    "start_time": "2025-04-03T04:48:34.919Z"
   },
   {
    "duration": 4,
    "start_time": "2025-04-03T04:48:34.949Z"
   },
   {
    "duration": 123,
    "start_time": "2025-04-03T04:48:34.955Z"
   },
   {
    "duration": 5,
    "start_time": "2025-04-03T04:48:35.080Z"
   },
   {
    "duration": 30,
    "start_time": "2025-04-03T04:48:35.086Z"
   },
   {
    "duration": 18,
    "start_time": "2025-04-03T04:48:35.118Z"
   },
   {
    "duration": 16,
    "start_time": "2025-04-03T04:48:35.137Z"
   },
   {
    "duration": 5,
    "start_time": "2025-04-03T04:48:35.155Z"
   },
   {
    "duration": 11,
    "start_time": "2025-04-03T04:48:35.162Z"
   },
   {
    "duration": 29,
    "start_time": "2025-04-03T04:48:35.175Z"
   },
   {
    "duration": 86,
    "start_time": "2025-04-03T04:48:35.206Z"
   },
   {
    "duration": 27,
    "start_time": "2025-04-03T04:48:35.295Z"
   },
   {
    "duration": 6,
    "start_time": "2025-04-03T04:48:35.324Z"
   },
   {
    "duration": 11,
    "start_time": "2025-04-03T04:48:35.331Z"
   },
   {
    "duration": 37,
    "start_time": "2025-04-03T04:48:35.343Z"
   },
   {
    "duration": 22,
    "start_time": "2025-04-03T04:48:35.381Z"
   },
   {
    "duration": 105,
    "start_time": "2025-04-03T04:48:35.404Z"
   },
   {
    "duration": 96,
    "start_time": "2025-04-03T04:48:35.510Z"
   },
   {
    "duration": 73,
    "start_time": "2025-04-03T04:48:35.608Z"
   },
   {
    "duration": 9,
    "start_time": "2025-04-03T04:48:35.682Z"
   },
   {
    "duration": 30,
    "start_time": "2025-04-03T04:48:35.692Z"
   },
   {
    "duration": 215,
    "start_time": "2025-04-03T04:48:35.724Z"
   },
   {
    "duration": 37,
    "start_time": "2025-04-03T04:48:35.940Z"
   },
   {
    "duration": 350,
    "start_time": "2025-04-03T04:48:35.979Z"
   },
   {
    "duration": 5,
    "start_time": "2025-04-03T04:48:36.332Z"
   },
   {
    "duration": 92,
    "start_time": "2025-04-03T04:48:36.339Z"
   },
   {
    "duration": 168,
    "start_time": "2025-04-03T04:48:36.433Z"
   },
   {
    "duration": 161,
    "start_time": "2025-04-03T04:48:36.603Z"
   },
   {
    "duration": 158,
    "start_time": "2025-04-03T04:48:36.766Z"
   },
   {
    "duration": 159,
    "start_time": "2025-04-03T04:48:36.925Z"
   },
   {
    "duration": 252,
    "start_time": "2025-04-03T04:48:37.085Z"
   },
   {
    "duration": 218,
    "start_time": "2025-04-03T04:48:37.338Z"
   },
   {
    "duration": 207,
    "start_time": "2025-04-03T04:48:37.559Z"
   },
   {
    "duration": 197,
    "start_time": "2025-04-03T04:48:37.767Z"
   },
   {
    "duration": 173,
    "start_time": "2025-04-03T04:48:37.966Z"
   },
   {
    "duration": 47,
    "start_time": "2025-04-03T11:36:53.518Z"
   },
   {
    "duration": 461,
    "start_time": "2025-04-03T11:37:02.422Z"
   },
   {
    "duration": 20,
    "start_time": "2025-04-03T11:37:02.885Z"
   },
   {
    "duration": 60,
    "start_time": "2025-04-03T11:37:02.907Z"
   },
   {
    "duration": 91,
    "start_time": "2025-04-03T11:37:02.969Z"
   },
   {
    "duration": 35,
    "start_time": "2025-04-03T11:37:03.062Z"
   },
   {
    "duration": 53,
    "start_time": "2025-04-03T11:37:03.099Z"
   },
   {
    "duration": 8,
    "start_time": "2025-04-03T11:37:03.153Z"
   },
   {
    "duration": 5,
    "start_time": "2025-04-03T11:37:03.163Z"
   },
   {
    "duration": 15,
    "start_time": "2025-04-03T11:37:03.169Z"
   },
   {
    "duration": 12,
    "start_time": "2025-04-03T11:37:03.186Z"
   },
   {
    "duration": 15,
    "start_time": "2025-04-03T11:37:03.199Z"
   },
   {
    "duration": 14,
    "start_time": "2025-04-03T11:37:03.216Z"
   },
   {
    "duration": 136,
    "start_time": "2025-04-03T11:37:03.231Z"
   },
   {
    "duration": 11,
    "start_time": "2025-04-03T11:37:03.369Z"
   },
   {
    "duration": 8,
    "start_time": "2025-04-03T11:37:03.381Z"
   },
   {
    "duration": 23,
    "start_time": "2025-04-03T11:37:03.390Z"
   },
   {
    "duration": 27,
    "start_time": "2025-04-03T11:37:03.415Z"
   },
   {
    "duration": 11,
    "start_time": "2025-04-03T11:37:03.444Z"
   },
   {
    "duration": 131,
    "start_time": "2025-04-03T11:37:03.456Z"
   },
   {
    "duration": 5,
    "start_time": "2025-04-03T11:37:03.588Z"
   },
   {
    "duration": 20,
    "start_time": "2025-04-03T11:37:03.595Z"
   },
   {
    "duration": 21,
    "start_time": "2025-04-03T11:37:03.617Z"
   },
   {
    "duration": 138,
    "start_time": "2025-04-03T11:37:03.640Z"
   },
   {
    "duration": 13,
    "start_time": "2025-04-03T11:37:03.780Z"
   },
   {
    "duration": 11,
    "start_time": "2025-04-03T11:37:03.795Z"
   },
   {
    "duration": 24,
    "start_time": "2025-04-03T11:37:03.807Z"
   },
   {
    "duration": 17,
    "start_time": "2025-04-03T11:37:03.832Z"
   },
   {
    "duration": 86,
    "start_time": "2025-04-03T11:37:03.853Z"
   },
   {
    "duration": 27,
    "start_time": "2025-04-03T11:37:03.941Z"
   },
   {
    "duration": 32,
    "start_time": "2025-04-03T11:37:03.969Z"
   },
   {
    "duration": 36,
    "start_time": "2025-04-03T11:37:04.003Z"
   },
   {
    "duration": 32,
    "start_time": "2025-04-03T11:37:04.041Z"
   },
   {
    "duration": 32,
    "start_time": "2025-04-03T11:37:04.075Z"
   },
   {
    "duration": 92,
    "start_time": "2025-04-03T11:37:04.109Z"
   },
   {
    "duration": 88,
    "start_time": "2025-04-03T11:37:04.202Z"
   },
   {
    "duration": 66,
    "start_time": "2025-04-03T11:37:04.291Z"
   },
   {
    "duration": 5,
    "start_time": "2025-04-03T11:37:04.359Z"
   },
   {
    "duration": 26,
    "start_time": "2025-04-03T11:37:04.365Z"
   },
   {
    "duration": 387,
    "start_time": "2025-04-03T11:37:04.392Z"
   },
   {
    "duration": 40,
    "start_time": "2025-04-03T11:37:04.780Z"
   },
   {
    "duration": 388,
    "start_time": "2025-04-03T11:37:04.822Z"
   },
   {
    "duration": 6,
    "start_time": "2025-04-03T11:37:05.212Z"
   },
   {
    "duration": 25,
    "start_time": "2025-04-03T11:37:05.219Z"
   },
   {
    "duration": 249,
    "start_time": "2025-04-03T11:37:05.245Z"
   },
   {
    "duration": 171,
    "start_time": "2025-04-03T11:37:05.496Z"
   },
   {
    "duration": 164,
    "start_time": "2025-04-03T11:37:05.668Z"
   },
   {
    "duration": 179,
    "start_time": "2025-04-03T11:37:05.834Z"
   },
   {
    "duration": 259,
    "start_time": "2025-04-03T11:37:06.014Z"
   },
   {
    "duration": 207,
    "start_time": "2025-04-03T11:37:06.274Z"
   },
   {
    "duration": 197,
    "start_time": "2025-04-03T11:37:06.483Z"
   },
   {
    "duration": 199,
    "start_time": "2025-04-03T11:37:06.682Z"
   },
   {
    "duration": 180,
    "start_time": "2025-04-03T11:37:06.883Z"
   },
   {
    "duration": 8,
    "start_time": "2025-04-03T11:39:44.325Z"
   },
   {
    "duration": 10,
    "start_time": "2025-04-03T11:41:06.523Z"
   },
   {
    "duration": 6,
    "start_time": "2025-04-03T11:41:19.358Z"
   },
   {
    "duration": 18,
    "start_time": "2025-04-03T11:42:27.696Z"
   },
   {
    "duration": 5,
    "start_time": "2025-04-03T11:42:28.920Z"
   },
   {
    "duration": 5,
    "start_time": "2025-04-03T11:42:30.913Z"
   },
   {
    "duration": 7,
    "start_time": "2025-04-03T11:42:49.258Z"
   },
   {
    "duration": 8,
    "start_time": "2025-04-03T11:46:02.347Z"
   },
   {
    "duration": 8,
    "start_time": "2025-04-03T12:00:29.297Z"
   },
   {
    "duration": 80,
    "start_time": "2025-04-03T12:00:30.228Z"
   },
   {
    "duration": 307,
    "start_time": "2025-04-03T12:00:41.627Z"
   },
   {
    "duration": 20,
    "start_time": "2025-04-03T12:01:59.742Z"
   },
   {
    "duration": 19,
    "start_time": "2025-04-03T12:05:26.794Z"
   },
   {
    "duration": 8,
    "start_time": "2025-04-03T12:06:57.195Z"
   },
   {
    "duration": 34,
    "start_time": "2025-04-03T12:07:00.988Z"
   },
   {
    "duration": 10,
    "start_time": "2025-04-03T12:07:50.477Z"
   },
   {
    "duration": 78,
    "start_time": "2025-04-03T12:08:02.347Z"
   },
   {
    "duration": 8,
    "start_time": "2025-04-03T12:09:32.968Z"
   },
   {
    "duration": 9,
    "start_time": "2025-04-03T12:09:45.457Z"
   },
   {
    "duration": 17,
    "start_time": "2025-04-03T12:10:22.168Z"
   },
   {
    "duration": 16,
    "start_time": "2025-04-03T12:10:30.267Z"
   },
   {
    "duration": 22,
    "start_time": "2025-04-03T12:10:44.550Z"
   },
   {
    "duration": 6,
    "start_time": "2025-04-03T12:28:34.268Z"
   },
   {
    "duration": 7,
    "start_time": "2025-04-03T12:28:41.244Z"
   },
   {
    "duration": 494,
    "start_time": "2025-04-03T12:28:51.696Z"
   },
   {
    "duration": 20,
    "start_time": "2025-04-03T12:28:52.192Z"
   },
   {
    "duration": 35,
    "start_time": "2025-04-03T12:28:52.213Z"
   },
   {
    "duration": 74,
    "start_time": "2025-04-03T12:28:52.250Z"
   },
   {
    "duration": 7,
    "start_time": "2025-04-03T12:28:52.326Z"
   },
   {
    "duration": 13,
    "start_time": "2025-04-03T12:28:52.335Z"
   },
   {
    "duration": 28,
    "start_time": "2025-04-03T12:28:52.350Z"
   },
   {
    "duration": 9,
    "start_time": "2025-04-03T12:28:52.380Z"
   },
   {
    "duration": 19,
    "start_time": "2025-04-03T12:28:52.391Z"
   },
   {
    "duration": 40,
    "start_time": "2025-04-03T12:28:52.412Z"
   },
   {
    "duration": 20,
    "start_time": "2025-04-03T12:28:52.453Z"
   },
   {
    "duration": 16,
    "start_time": "2025-04-03T12:28:52.475Z"
   },
   {
    "duration": 23,
    "start_time": "2025-04-03T12:28:52.493Z"
   },
   {
    "duration": 8,
    "start_time": "2025-04-03T12:28:52.517Z"
   },
   {
    "duration": 4,
    "start_time": "2025-04-03T12:28:52.526Z"
   },
   {
    "duration": 8,
    "start_time": "2025-04-03T12:28:52.532Z"
   },
   {
    "duration": 38,
    "start_time": "2025-04-03T12:28:52.541Z"
   },
   {
    "duration": 5,
    "start_time": "2025-04-03T12:28:52.581Z"
   },
   {
    "duration": 129,
    "start_time": "2025-04-03T12:28:52.588Z"
   },
   {
    "duration": 6,
    "start_time": "2025-04-03T12:28:52.719Z"
   },
   {
    "duration": 8,
    "start_time": "2025-04-03T12:28:52.727Z"
   },
   {
    "duration": 12,
    "start_time": "2025-04-03T12:28:52.737Z"
   },
   {
    "duration": 35,
    "start_time": "2025-04-03T12:28:52.750Z"
   },
   {
    "duration": 19,
    "start_time": "2025-04-03T12:28:52.786Z"
   },
   {
    "duration": 8,
    "start_time": "2025-04-03T12:28:52.806Z"
   },
   {
    "duration": 26,
    "start_time": "2025-04-03T12:28:52.815Z"
   },
   {
    "duration": 34,
    "start_time": "2025-04-03T12:28:52.843Z"
   },
   {
    "duration": 8,
    "start_time": "2025-04-03T12:28:52.880Z"
   },
   {
    "duration": 7,
    "start_time": "2025-04-03T12:28:52.889Z"
   },
   {
    "duration": 6,
    "start_time": "2025-04-03T12:28:52.897Z"
   },
   {
    "duration": 8,
    "start_time": "2025-04-03T12:28:52.905Z"
   },
   {
    "duration": 4,
    "start_time": "2025-04-03T12:28:52.915Z"
   },
   {
    "duration": 7,
    "start_time": "2025-04-03T12:28:52.921Z"
   },
   {
    "duration": 6,
    "start_time": "2025-04-03T12:28:52.929Z"
   },
   {
    "duration": 16,
    "start_time": "2025-04-03T12:28:52.977Z"
   },
   {
    "duration": 10,
    "start_time": "2025-04-03T12:28:52.994Z"
   },
   {
    "duration": 96,
    "start_time": "2025-04-03T12:28:53.006Z"
   },
   {
    "duration": 91,
    "start_time": "2025-04-03T12:28:53.104Z"
   },
   {
    "duration": 64,
    "start_time": "2025-04-03T12:28:53.197Z"
   },
   {
    "duration": 5,
    "start_time": "2025-04-03T12:28:53.263Z"
   },
   {
    "duration": 47,
    "start_time": "2025-04-03T12:28:53.269Z"
   },
   {
    "duration": 262,
    "start_time": "2025-04-03T12:28:53.317Z"
   },
   {
    "duration": 46,
    "start_time": "2025-04-03T12:28:53.581Z"
   },
   {
    "duration": 366,
    "start_time": "2025-04-03T12:28:53.628Z"
   },
   {
    "duration": 5,
    "start_time": "2025-04-03T12:28:53.996Z"
   },
   {
    "duration": 25,
    "start_time": "2025-04-03T12:28:54.002Z"
   },
   {
    "duration": 160,
    "start_time": "2025-04-03T12:28:54.028Z"
   },
   {
    "duration": 171,
    "start_time": "2025-04-03T12:28:54.190Z"
   },
   {
    "duration": 157,
    "start_time": "2025-04-03T12:28:54.363Z"
   },
   {
    "duration": 166,
    "start_time": "2025-04-03T12:28:54.522Z"
   },
   {
    "duration": 274,
    "start_time": "2025-04-03T12:28:54.690Z"
   },
   {
    "duration": 213,
    "start_time": "2025-04-03T12:28:54.965Z"
   },
   {
    "duration": 200,
    "start_time": "2025-04-03T12:28:55.180Z"
   },
   {
    "duration": 186,
    "start_time": "2025-04-03T12:28:55.381Z"
   },
   {
    "duration": 180,
    "start_time": "2025-04-03T12:28:55.569Z"
   },
   {
    "duration": 6,
    "start_time": "2025-04-03T12:30:30.584Z"
   },
   {
    "duration": 7,
    "start_time": "2025-04-03T12:30:41.998Z"
   },
   {
    "duration": 7,
    "start_time": "2025-04-03T12:31:10.589Z"
   },
   {
    "duration": 8,
    "start_time": "2025-04-03T12:47:55.683Z"
   },
   {
    "duration": 7,
    "start_time": "2025-04-03T12:48:16.073Z"
   },
   {
    "duration": 7,
    "start_time": "2025-04-03T12:48:40.896Z"
   },
   {
    "duration": 33,
    "start_time": "2025-04-03T12:50:41.665Z"
   },
   {
    "duration": 7,
    "start_time": "2025-04-03T12:52:17.421Z"
   },
   {
    "duration": 90,
    "start_time": "2025-04-03T12:53:54.133Z"
   },
   {
    "duration": 6,
    "start_time": "2025-04-03T12:54:21.206Z"
   },
   {
    "duration": 17,
    "start_time": "2025-04-03T12:54:30.146Z"
   },
   {
    "duration": 15,
    "start_time": "2025-04-03T12:54:34.109Z"
   },
   {
    "duration": 475,
    "start_time": "2025-04-03T12:54:37.539Z"
   },
   {
    "duration": 20,
    "start_time": "2025-04-03T12:54:38.016Z"
   },
   {
    "duration": 37,
    "start_time": "2025-04-03T12:54:38.037Z"
   },
   {
    "duration": 53,
    "start_time": "2025-04-03T12:54:38.076Z"
   },
   {
    "duration": 7,
    "start_time": "2025-04-03T12:54:38.130Z"
   },
   {
    "duration": 19,
    "start_time": "2025-04-03T12:54:38.138Z"
   },
   {
    "duration": 12,
    "start_time": "2025-04-03T12:54:38.158Z"
   },
   {
    "duration": 6,
    "start_time": "2025-04-03T12:54:38.172Z"
   },
   {
    "duration": 11,
    "start_time": "2025-04-03T12:54:38.179Z"
   },
   {
    "duration": 14,
    "start_time": "2025-04-03T12:54:38.193Z"
   },
   {
    "duration": 15,
    "start_time": "2025-04-03T12:54:38.208Z"
   },
   {
    "duration": 15,
    "start_time": "2025-04-03T12:54:38.225Z"
   },
   {
    "duration": 48,
    "start_time": "2025-04-03T12:54:38.241Z"
   },
   {
    "duration": 69,
    "start_time": "2025-04-03T12:54:38.291Z"
   },
   {
    "duration": 19,
    "start_time": "2025-04-03T12:54:38.361Z"
   },
   {
    "duration": 13,
    "start_time": "2025-04-03T12:54:38.382Z"
   },
   {
    "duration": 15,
    "start_time": "2025-04-03T12:54:38.398Z"
   },
   {
    "duration": 16,
    "start_time": "2025-04-03T12:54:38.414Z"
   },
   {
    "duration": 141,
    "start_time": "2025-04-03T12:54:38.432Z"
   },
   {
    "duration": 8,
    "start_time": "2025-04-03T12:54:38.577Z"
   },
   {
    "duration": 27,
    "start_time": "2025-04-03T12:54:38.587Z"
   },
   {
    "duration": 11,
    "start_time": "2025-04-03T12:54:38.617Z"
   },
   {
    "duration": 17,
    "start_time": "2025-04-03T12:54:38.630Z"
   },
   {
    "duration": 16,
    "start_time": "2025-04-03T12:54:38.649Z"
   },
   {
    "duration": 7,
    "start_time": "2025-04-03T12:54:38.677Z"
   },
   {
    "duration": 30,
    "start_time": "2025-04-03T12:54:38.686Z"
   },
   {
    "duration": 10,
    "start_time": "2025-04-03T12:54:38.718Z"
   },
   {
    "duration": 7,
    "start_time": "2025-04-03T12:54:38.733Z"
   },
   {
    "duration": 37,
    "start_time": "2025-04-03T12:54:38.741Z"
   },
   {
    "duration": 9,
    "start_time": "2025-04-03T12:54:38.779Z"
   },
   {
    "duration": 63,
    "start_time": "2025-04-03T12:54:38.790Z"
   },
   {
    "duration": 0,
    "start_time": "2025-04-03T12:54:38.854Z"
   },
   {
    "duration": 0,
    "start_time": "2025-04-03T12:54:38.855Z"
   },
   {
    "duration": 0,
    "start_time": "2025-04-03T12:54:38.857Z"
   },
   {
    "duration": 0,
    "start_time": "2025-04-03T12:54:38.858Z"
   },
   {
    "duration": 0,
    "start_time": "2025-04-03T12:54:38.859Z"
   },
   {
    "duration": 0,
    "start_time": "2025-04-03T12:54:38.860Z"
   },
   {
    "duration": 0,
    "start_time": "2025-04-03T12:54:38.861Z"
   },
   {
    "duration": 0,
    "start_time": "2025-04-03T12:54:38.862Z"
   },
   {
    "duration": 0,
    "start_time": "2025-04-03T12:54:38.863Z"
   },
   {
    "duration": 0,
    "start_time": "2025-04-03T12:54:38.864Z"
   },
   {
    "duration": 0,
    "start_time": "2025-04-03T12:54:38.865Z"
   },
   {
    "duration": 0,
    "start_time": "2025-04-03T12:54:38.866Z"
   },
   {
    "duration": 0,
    "start_time": "2025-04-03T12:54:38.867Z"
   },
   {
    "duration": 0,
    "start_time": "2025-04-03T12:54:38.868Z"
   },
   {
    "duration": 0,
    "start_time": "2025-04-03T12:54:38.869Z"
   },
   {
    "duration": 0,
    "start_time": "2025-04-03T12:54:38.871Z"
   },
   {
    "duration": 0,
    "start_time": "2025-04-03T12:54:38.871Z"
   },
   {
    "duration": 0,
    "start_time": "2025-04-03T12:54:38.873Z"
   },
   {
    "duration": 0,
    "start_time": "2025-04-03T12:54:38.874Z"
   },
   {
    "duration": 0,
    "start_time": "2025-04-03T12:54:38.875Z"
   },
   {
    "duration": 0,
    "start_time": "2025-04-03T12:54:38.876Z"
   },
   {
    "duration": 0,
    "start_time": "2025-04-03T12:54:38.877Z"
   },
   {
    "duration": 0,
    "start_time": "2025-04-03T12:54:38.878Z"
   },
   {
    "duration": 0,
    "start_time": "2025-04-03T12:54:38.881Z"
   },
   {
    "duration": 0,
    "start_time": "2025-04-03T12:54:38.882Z"
   },
   {
    "duration": 0,
    "start_time": "2025-04-03T12:54:38.883Z"
   },
   {
    "duration": 0,
    "start_time": "2025-04-03T12:54:38.884Z"
   },
   {
    "duration": 5,
    "start_time": "2025-04-03T12:54:59.119Z"
   },
   {
    "duration": 6,
    "start_time": "2025-04-03T12:54:59.799Z"
   },
   {
    "duration": 8,
    "start_time": "2025-04-03T12:55:02.905Z"
   },
   {
    "duration": 81,
    "start_time": "2025-04-03T12:55:03.293Z"
   },
   {
    "duration": 6,
    "start_time": "2025-04-03T12:55:04.243Z"
   },
   {
    "duration": 29,
    "start_time": "2025-04-03T12:55:05.360Z"
   },
   {
    "duration": 6,
    "start_time": "2025-04-03T12:55:12.173Z"
   },
   {
    "duration": 14,
    "start_time": "2025-04-03T12:55:19.993Z"
   },
   {
    "duration": 517,
    "start_time": "2025-04-03T12:55:25.733Z"
   },
   {
    "duration": 26,
    "start_time": "2025-04-03T12:55:26.252Z"
   },
   {
    "duration": 69,
    "start_time": "2025-04-03T12:55:26.279Z"
   },
   {
    "duration": 38,
    "start_time": "2025-04-03T12:55:26.350Z"
   },
   {
    "duration": 9,
    "start_time": "2025-04-03T12:55:26.390Z"
   },
   {
    "duration": 12,
    "start_time": "2025-04-03T12:55:26.401Z"
   },
   {
    "duration": 11,
    "start_time": "2025-04-03T12:55:26.415Z"
   },
   {
    "duration": 5,
    "start_time": "2025-04-03T12:55:26.427Z"
   },
   {
    "duration": 8,
    "start_time": "2025-04-03T12:55:26.434Z"
   },
   {
    "duration": 10,
    "start_time": "2025-04-03T12:55:26.445Z"
   },
   {
    "duration": 28,
    "start_time": "2025-04-03T12:55:26.476Z"
   },
   {
    "duration": 22,
    "start_time": "2025-04-03T12:55:26.506Z"
   },
   {
    "duration": 18,
    "start_time": "2025-04-03T12:55:26.530Z"
   },
   {
    "duration": 35,
    "start_time": "2025-04-03T12:55:26.550Z"
   },
   {
    "duration": 7,
    "start_time": "2025-04-03T12:55:26.586Z"
   },
   {
    "duration": 11,
    "start_time": "2025-04-03T12:55:26.595Z"
   },
   {
    "duration": 15,
    "start_time": "2025-04-03T12:55:26.607Z"
   },
   {
    "duration": 4,
    "start_time": "2025-04-03T12:55:26.624Z"
   },
   {
    "duration": 147,
    "start_time": "2025-04-03T12:55:26.629Z"
   },
   {
    "duration": 6,
    "start_time": "2025-04-03T12:55:26.778Z"
   },
   {
    "duration": 6,
    "start_time": "2025-04-03T12:55:26.787Z"
   },
   {
    "duration": 12,
    "start_time": "2025-04-03T12:55:26.795Z"
   },
   {
    "duration": 17,
    "start_time": "2025-04-03T12:55:26.809Z"
   },
   {
    "duration": 58,
    "start_time": "2025-04-03T12:55:26.828Z"
   },
   {
    "duration": 13,
    "start_time": "2025-04-03T12:55:26.888Z"
   },
   {
    "duration": 38,
    "start_time": "2025-04-03T12:55:26.902Z"
   },
   {
    "duration": 9,
    "start_time": "2025-04-03T12:55:26.942Z"
   },
   {
    "duration": 26,
    "start_time": "2025-04-03T12:55:26.954Z"
   },
   {
    "duration": 10,
    "start_time": "2025-04-03T12:55:26.981Z"
   },
   {
    "duration": 7,
    "start_time": "2025-04-03T12:55:26.993Z"
   },
   {
    "duration": 5,
    "start_time": "2025-04-03T12:55:27.002Z"
   },
   {
    "duration": 17,
    "start_time": "2025-04-03T12:55:27.008Z"
   },
   {
    "duration": 7,
    "start_time": "2025-04-03T12:55:27.027Z"
   },
   {
    "duration": 66,
    "start_time": "2025-04-03T12:55:27.035Z"
   },
   {
    "duration": 0,
    "start_time": "2025-04-03T12:55:27.103Z"
   },
   {
    "duration": 0,
    "start_time": "2025-04-03T12:55:27.104Z"
   },
   {
    "duration": 0,
    "start_time": "2025-04-03T12:55:27.105Z"
   },
   {
    "duration": 0,
    "start_time": "2025-04-03T12:55:27.107Z"
   },
   {
    "duration": 0,
    "start_time": "2025-04-03T12:55:27.108Z"
   },
   {
    "duration": 0,
    "start_time": "2025-04-03T12:55:27.108Z"
   },
   {
    "duration": 0,
    "start_time": "2025-04-03T12:55:27.109Z"
   },
   {
    "duration": 0,
    "start_time": "2025-04-03T12:55:27.110Z"
   },
   {
    "duration": 0,
    "start_time": "2025-04-03T12:55:27.111Z"
   },
   {
    "duration": 1,
    "start_time": "2025-04-03T12:55:27.112Z"
   },
   {
    "duration": 0,
    "start_time": "2025-04-03T12:55:27.113Z"
   },
   {
    "duration": 0,
    "start_time": "2025-04-03T12:55:27.114Z"
   },
   {
    "duration": 1,
    "start_time": "2025-04-03T12:55:27.115Z"
   },
   {
    "duration": 0,
    "start_time": "2025-04-03T12:55:27.116Z"
   },
   {
    "duration": 0,
    "start_time": "2025-04-03T12:55:27.117Z"
   },
   {
    "duration": 0,
    "start_time": "2025-04-03T12:55:27.118Z"
   },
   {
    "duration": 0,
    "start_time": "2025-04-03T12:55:27.120Z"
   },
   {
    "duration": 0,
    "start_time": "2025-04-03T12:55:27.121Z"
   },
   {
    "duration": 0,
    "start_time": "2025-04-03T12:55:27.122Z"
   },
   {
    "duration": 0,
    "start_time": "2025-04-03T12:55:27.122Z"
   },
   {
    "duration": 0,
    "start_time": "2025-04-03T12:55:27.124Z"
   },
   {
    "duration": 0,
    "start_time": "2025-04-03T12:55:27.125Z"
   },
   {
    "duration": 0,
    "start_time": "2025-04-03T12:55:27.126Z"
   },
   {
    "duration": 0,
    "start_time": "2025-04-03T12:55:27.127Z"
   },
   {
    "duration": 0,
    "start_time": "2025-04-03T12:55:27.128Z"
   },
   {
    "duration": 507,
    "start_time": "2025-04-03T12:55:43.150Z"
   },
   {
    "duration": 22,
    "start_time": "2025-04-03T12:55:43.659Z"
   },
   {
    "duration": 23,
    "start_time": "2025-04-03T12:55:43.683Z"
   },
   {
    "duration": 37,
    "start_time": "2025-04-03T12:55:43.708Z"
   },
   {
    "duration": 8,
    "start_time": "2025-04-03T12:55:43.746Z"
   },
   {
    "duration": 13,
    "start_time": "2025-04-03T12:55:43.755Z"
   },
   {
    "duration": 15,
    "start_time": "2025-04-03T12:55:43.769Z"
   },
   {
    "duration": 11,
    "start_time": "2025-04-03T12:55:43.785Z"
   },
   {
    "duration": 24,
    "start_time": "2025-04-03T12:55:43.797Z"
   },
   {
    "duration": 26,
    "start_time": "2025-04-03T12:55:43.823Z"
   },
   {
    "duration": 31,
    "start_time": "2025-04-03T12:55:43.851Z"
   },
   {
    "duration": 20,
    "start_time": "2025-04-03T12:55:43.884Z"
   },
   {
    "duration": 23,
    "start_time": "2025-04-03T12:55:43.905Z"
   },
   {
    "duration": 11,
    "start_time": "2025-04-03T12:55:43.930Z"
   },
   {
    "duration": 19,
    "start_time": "2025-04-03T12:55:43.943Z"
   },
   {
    "duration": 99,
    "start_time": "2025-04-03T12:55:43.964Z"
   },
   {
    "duration": 17,
    "start_time": "2025-04-03T12:55:44.065Z"
   },
   {
    "duration": 5,
    "start_time": "2025-04-03T12:55:44.084Z"
   },
   {
    "duration": 147,
    "start_time": "2025-04-03T12:55:44.091Z"
   },
   {
    "duration": 5,
    "start_time": "2025-04-03T12:55:44.240Z"
   },
   {
    "duration": 7,
    "start_time": "2025-04-03T12:55:44.246Z"
   },
   {
    "duration": 94,
    "start_time": "2025-04-03T12:55:44.254Z"
   },
   {
    "duration": 53,
    "start_time": "2025-04-03T12:55:44.350Z"
   },
   {
    "duration": 30,
    "start_time": "2025-04-03T12:55:44.406Z"
   },
   {
    "duration": 13,
    "start_time": "2025-04-03T12:55:44.438Z"
   },
   {
    "duration": 46,
    "start_time": "2025-04-03T12:55:44.453Z"
   },
   {
    "duration": 10,
    "start_time": "2025-04-03T12:55:44.500Z"
   },
   {
    "duration": 6,
    "start_time": "2025-04-03T12:55:44.514Z"
   },
   {
    "duration": 9,
    "start_time": "2025-04-03T12:55:44.522Z"
   },
   {
    "duration": 14,
    "start_time": "2025-04-03T12:55:44.532Z"
   },
   {
    "duration": 9,
    "start_time": "2025-04-03T12:55:44.547Z"
   },
   {
    "duration": 20,
    "start_time": "2025-04-03T12:55:44.557Z"
   },
   {
    "duration": 11,
    "start_time": "2025-04-03T12:55:44.580Z"
   },
   {
    "duration": 19,
    "start_time": "2025-04-03T12:55:44.595Z"
   },
   {
    "duration": 32,
    "start_time": "2025-04-03T12:55:44.616Z"
   },
   {
    "duration": 9,
    "start_time": "2025-04-03T12:55:44.650Z"
   },
   {
    "duration": 39,
    "start_time": "2025-04-03T12:55:44.661Z"
   },
   {
    "duration": 12,
    "start_time": "2025-04-03T12:55:44.702Z"
   },
   {
    "duration": 3,
    "start_time": "2025-04-03T12:55:44.715Z"
   },
   {
    "duration": 98,
    "start_time": "2025-04-03T12:55:44.720Z"
   },
   {
    "duration": 86,
    "start_time": "2025-04-03T12:55:44.820Z"
   },
   {
    "duration": 57,
    "start_time": "2025-04-03T12:55:44.908Z"
   },
   {
    "duration": 4,
    "start_time": "2025-04-03T12:55:44.967Z"
   },
   {
    "duration": 7,
    "start_time": "2025-04-03T12:55:44.973Z"
   },
   {
    "duration": 233,
    "start_time": "2025-04-03T12:55:44.981Z"
   },
   {
    "duration": 48,
    "start_time": "2025-04-03T12:55:45.215Z"
   },
   {
    "duration": 364,
    "start_time": "2025-04-03T12:55:45.265Z"
   },
   {
    "duration": 6,
    "start_time": "2025-04-03T12:55:45.631Z"
   },
   {
    "duration": 87,
    "start_time": "2025-04-03T12:55:45.639Z"
   },
   {
    "duration": 175,
    "start_time": "2025-04-03T12:55:45.728Z"
   },
   {
    "duration": 172,
    "start_time": "2025-04-03T12:55:45.905Z"
   },
   {
    "duration": 162,
    "start_time": "2025-04-03T12:55:46.079Z"
   },
   {
    "duration": 175,
    "start_time": "2025-04-03T12:55:46.242Z"
   },
   {
    "duration": 264,
    "start_time": "2025-04-03T12:55:46.419Z"
   },
   {
    "duration": 209,
    "start_time": "2025-04-03T12:55:46.685Z"
   },
   {
    "duration": 207,
    "start_time": "2025-04-03T12:55:46.896Z"
   },
   {
    "duration": 200,
    "start_time": "2025-04-03T12:55:47.104Z"
   },
   {
    "duration": 187,
    "start_time": "2025-04-03T12:55:47.305Z"
   },
   {
    "duration": 4,
    "start_time": "2025-04-03T13:52:07.661Z"
   },
   {
    "duration": 70,
    "start_time": "2025-04-03T14:07:38.209Z"
   },
   {
    "duration": 4,
    "start_time": "2025-04-03T14:20:52.095Z"
   },
   {
    "duration": 9,
    "start_time": "2025-04-03T14:21:57.737Z"
   },
   {
    "duration": 12,
    "start_time": "2025-04-03T14:22:25.844Z"
   },
   {
    "duration": 14,
    "start_time": "2025-04-03T14:23:49.764Z"
   },
   {
    "duration": 7,
    "start_time": "2025-04-03T14:24:05.597Z"
   },
   {
    "duration": 12,
    "start_time": "2025-04-03T14:24:11.578Z"
   },
   {
    "duration": 13,
    "start_time": "2025-04-03T14:24:15.021Z"
   },
   {
    "duration": 12,
    "start_time": "2025-04-03T14:24:16.873Z"
   },
   {
    "duration": 191,
    "start_time": "2025-04-03T14:25:11.536Z"
   },
   {
    "duration": 254,
    "start_time": "2025-04-03T14:25:59.260Z"
   },
   {
    "duration": 12,
    "start_time": "2025-04-03T14:26:16.228Z"
   },
   {
    "duration": 177,
    "start_time": "2025-04-03T14:26:27.273Z"
   },
   {
    "duration": 11,
    "start_time": "2025-04-03T14:27:33.778Z"
   },
   {
    "duration": 179,
    "start_time": "2025-04-03T14:27:34.220Z"
   },
   {
    "duration": 152,
    "start_time": "2025-04-03T14:29:27.766Z"
   },
   {
    "duration": 162,
    "start_time": "2025-04-03T14:29:45.259Z"
   },
   {
    "duration": 158,
    "start_time": "2025-04-03T14:31:14.003Z"
   },
   {
    "duration": 156,
    "start_time": "2025-04-03T14:31:33.861Z"
   },
   {
    "duration": 147,
    "start_time": "2025-04-03T14:31:37.907Z"
   },
   {
    "duration": 156,
    "start_time": "2025-04-03T14:31:43.091Z"
   },
   {
    "duration": 166,
    "start_time": "2025-04-03T14:32:09.664Z"
   }
  ],
  "colab": {
   "name": "DA+. Сборный проект 1. Шаблон (1).ipynb",
   "provenance": []
  },
  "kernelspec": {
   "display_name": "Python 3 (ipykernel)",
   "language": "python",
   "name": "python3"
  },
  "language_info": {
   "codemirror_mode": {
    "name": "ipython",
    "version": 3
   },
   "file_extension": ".py",
   "mimetype": "text/x-python",
   "name": "python",
   "nbconvert_exporter": "python",
   "pygments_lexer": "ipython3",
   "version": "3.9.5"
  },
  "toc": {
   "base_numbering": 1,
   "nav_menu": {},
   "number_sections": true,
   "sideBar": true,
   "skip_h1_title": true,
   "title_cell": "Table of Contents",
   "title_sidebar": "Contents",
   "toc_cell": false,
   "toc_position": {
    "height": "calc(100% - 180px)",
    "left": "10px",
    "top": "150px",
    "width": "375.391px"
   },
   "toc_section_display": true,
   "toc_window_display": false
  }
 },
 "nbformat": 4,
 "nbformat_minor": 1
}
