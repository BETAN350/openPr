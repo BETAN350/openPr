{
 "cells": [
  {
   "cell_type": "markdown",
   "id": "815f8852",
   "metadata": {},
   "source": [
    "\n",
    "    \n",
    "**Заголовок:** аналитиз популярного сервиса аренды самокатов\n",
    "\n",
    "**Описание проекта**. Есть данные о некоторых пользователях из нескольких городов, а также об их поездках. Проанализировав данные и проверив некоторые гипотезы, можем понять как помочь вырасти бизнессу.\n",
    "\n",
    "\n",
    "**Цель исследования**: Определить средний возраст, количество поездок для различных групп и посмотреть на их распределения и зависимости, обработка аномалий\n",
    "\n",
    "**Ход исследования**:\n",
    "\n",
    "1. Загрузка данных\n",
    "2. Предобработка данных( Выявление дубликатов, приведение типов)\n",
    "3. Исследовательский анализ ( Визуализация информации )\n",
    "4. Объединение всех таблиц\n",
    "5. Подсчет выручки\n",
    "6. Проверка гипотез\n"
   ]
  },
  {
   "cell_type": "code",
   "execution_count": 1,
   "id": "72576667",
   "metadata": {},
   "outputs": [],
   "source": [
    "import pandas as pd\n",
    "import matplotlib.pyplot as plt\n",
    "import numpy as np"
   ]
  },
  {
   "cell_type": "markdown",
   "id": "c42cbe00",
   "metadata": {},
   "source": [
    "#### Шаг 1. Загрузка данных"
   ]
  },
  {
   "cell_type": "code",
   "execution_count": 2,
   "id": "c4eb85cd",
   "metadata": {},
   "outputs": [],
   "source": [
    "users= pd.read_csv('/datasets/users_go.csv') # df данных пользователя"
   ]
  },
  {
   "cell_type": "code",
   "execution_count": 3,
   "id": "804a66b3",
   "metadata": {},
   "outputs": [
    {
     "data": {
      "text/html": [
       "<div>\n",
       "<style scoped>\n",
       "    .dataframe tbody tr th:only-of-type {\n",
       "        vertical-align: middle;\n",
       "    }\n",
       "\n",
       "    .dataframe tbody tr th {\n",
       "        vertical-align: top;\n",
       "    }\n",
       "\n",
       "    .dataframe thead th {\n",
       "        text-align: right;\n",
       "    }\n",
       "</style>\n",
       "<table border=\"1\" class=\"dataframe\">\n",
       "  <thead>\n",
       "    <tr style=\"text-align: right;\">\n",
       "      <th></th>\n",
       "      <th>user_id</th>\n",
       "      <th>name</th>\n",
       "      <th>age</th>\n",
       "      <th>city</th>\n",
       "      <th>subscription_type</th>\n",
       "    </tr>\n",
       "  </thead>\n",
       "  <tbody>\n",
       "    <tr>\n",
       "      <th>0</th>\n",
       "      <td>1</td>\n",
       "      <td>Кира</td>\n",
       "      <td>22</td>\n",
       "      <td>Тюмень</td>\n",
       "      <td>ultra</td>\n",
       "    </tr>\n",
       "    <tr>\n",
       "      <th>1</th>\n",
       "      <td>2</td>\n",
       "      <td>Станислав</td>\n",
       "      <td>31</td>\n",
       "      <td>Омск</td>\n",
       "      <td>ultra</td>\n",
       "    </tr>\n",
       "    <tr>\n",
       "      <th>2</th>\n",
       "      <td>3</td>\n",
       "      <td>Алексей</td>\n",
       "      <td>20</td>\n",
       "      <td>Москва</td>\n",
       "      <td>ultra</td>\n",
       "    </tr>\n",
       "    <tr>\n",
       "      <th>3</th>\n",
       "      <td>4</td>\n",
       "      <td>Константин</td>\n",
       "      <td>26</td>\n",
       "      <td>Ростов-на-Дону</td>\n",
       "      <td>ultra</td>\n",
       "    </tr>\n",
       "    <tr>\n",
       "      <th>4</th>\n",
       "      <td>5</td>\n",
       "      <td>Адель</td>\n",
       "      <td>28</td>\n",
       "      <td>Омск</td>\n",
       "      <td>ultra</td>\n",
       "    </tr>\n",
       "  </tbody>\n",
       "</table>\n",
       "</div>"
      ],
      "text/plain": [
       "   user_id        name  age            city subscription_type\n",
       "0        1        Кира   22          Тюмень             ultra\n",
       "1        2   Станислав   31            Омск             ultra\n",
       "2        3     Алексей   20          Москва             ultra\n",
       "3        4  Константин   26  Ростов-на-Дону             ultra\n",
       "4        5       Адель   28            Омск             ultra"
      ]
     },
     "execution_count": 3,
     "metadata": {},
     "output_type": "execute_result"
    }
   ],
   "source": [
    "users.head()"
   ]
  },
  {
   "cell_type": "code",
   "execution_count": 4,
   "id": "80d3ce19",
   "metadata": {},
   "outputs": [],
   "source": [
    "rides= pd.read_csv('/datasets/rides_go.csv') # df с логами поездок"
   ]
  },
  {
   "cell_type": "code",
   "execution_count": 5,
   "id": "f189120a",
   "metadata": {},
   "outputs": [
    {
     "data": {
      "text/html": [
       "<div>\n",
       "<style scoped>\n",
       "    .dataframe tbody tr th:only-of-type {\n",
       "        vertical-align: middle;\n",
       "    }\n",
       "\n",
       "    .dataframe tbody tr th {\n",
       "        vertical-align: top;\n",
       "    }\n",
       "\n",
       "    .dataframe thead th {\n",
       "        text-align: right;\n",
       "    }\n",
       "</style>\n",
       "<table border=\"1\" class=\"dataframe\">\n",
       "  <thead>\n",
       "    <tr style=\"text-align: right;\">\n",
       "      <th></th>\n",
       "      <th>user_id</th>\n",
       "      <th>distance</th>\n",
       "      <th>duration</th>\n",
       "      <th>date</th>\n",
       "    </tr>\n",
       "  </thead>\n",
       "  <tbody>\n",
       "    <tr>\n",
       "      <th>0</th>\n",
       "      <td>1</td>\n",
       "      <td>4409.919140</td>\n",
       "      <td>25.599769</td>\n",
       "      <td>2021-01-01</td>\n",
       "    </tr>\n",
       "    <tr>\n",
       "      <th>1</th>\n",
       "      <td>1</td>\n",
       "      <td>2617.592153</td>\n",
       "      <td>15.816871</td>\n",
       "      <td>2021-01-18</td>\n",
       "    </tr>\n",
       "    <tr>\n",
       "      <th>2</th>\n",
       "      <td>1</td>\n",
       "      <td>754.159807</td>\n",
       "      <td>6.232113</td>\n",
       "      <td>2021-04-20</td>\n",
       "    </tr>\n",
       "    <tr>\n",
       "      <th>3</th>\n",
       "      <td>1</td>\n",
       "      <td>2694.783254</td>\n",
       "      <td>18.511000</td>\n",
       "      <td>2021-08-11</td>\n",
       "    </tr>\n",
       "    <tr>\n",
       "      <th>4</th>\n",
       "      <td>1</td>\n",
       "      <td>4028.687306</td>\n",
       "      <td>26.265803</td>\n",
       "      <td>2021-08-28</td>\n",
       "    </tr>\n",
       "  </tbody>\n",
       "</table>\n",
       "</div>"
      ],
      "text/plain": [
       "   user_id     distance   duration        date\n",
       "0        1  4409.919140  25.599769  2021-01-01\n",
       "1        1  2617.592153  15.816871  2021-01-18\n",
       "2        1   754.159807   6.232113  2021-04-20\n",
       "3        1  2694.783254  18.511000  2021-08-11\n",
       "4        1  4028.687306  26.265803  2021-08-28"
      ]
     },
     "execution_count": 5,
     "metadata": {},
     "output_type": "execute_result"
    }
   ],
   "source": [
    "rides.head()"
   ]
  },
  {
   "cell_type": "code",
   "execution_count": 6,
   "id": "7f9b6573",
   "metadata": {},
   "outputs": [],
   "source": [
    "subs= pd.read_csv('/datasets/subscriptions_go.csv')# условия подписки"
   ]
  },
  {
   "cell_type": "code",
   "execution_count": 7,
   "id": "8747961f",
   "metadata": {},
   "outputs": [
    {
     "name": "stdout",
     "output_type": "stream",
     "text": [
      "<class 'pandas.core.frame.DataFrame'>\n",
      "RangeIndex: 18068 entries, 0 to 18067\n",
      "Data columns (total 4 columns):\n",
      " #   Column    Non-Null Count  Dtype  \n",
      "---  ------    --------------  -----  \n",
      " 0   user_id   18068 non-null  int64  \n",
      " 1   distance  18068 non-null  float64\n",
      " 2   duration  18068 non-null  float64\n",
      " 3   date      18068 non-null  object \n",
      "dtypes: float64(2), int64(1), object(1)\n",
      "memory usage: 564.8+ KB\n"
     ]
    }
   ],
   "source": [
    "rides.info()"
   ]
  },
  {
   "cell_type": "code",
   "execution_count": 8,
   "id": "40a54d37",
   "metadata": {},
   "outputs": [
    {
     "name": "stdout",
     "output_type": "stream",
     "text": [
      "<class 'pandas.core.frame.DataFrame'>\n",
      "RangeIndex: 1565 entries, 0 to 1564\n",
      "Data columns (total 5 columns):\n",
      " #   Column             Non-Null Count  Dtype \n",
      "---  ------             --------------  ----- \n",
      " 0   user_id            1565 non-null   int64 \n",
      " 1   name               1565 non-null   object\n",
      " 2   age                1565 non-null   int64 \n",
      " 3   city               1565 non-null   object\n",
      " 4   subscription_type  1565 non-null   object\n",
      "dtypes: int64(2), object(3)\n",
      "memory usage: 61.3+ KB\n"
     ]
    }
   ],
   "source": [
    "users.info()"
   ]
  },
  {
   "cell_type": "markdown",
   "id": "77367ca5",
   "metadata": {},
   "source": [
    "Вывод: Изучив все три таблицы можно увидеть, что среди 18068 строк в rides и 1565 строк в users нет ни одного пропуска, однако нужно поменять тип данных в столбце date таблицы rides"
   ]
  },
  {
   "cell_type": "markdown",
   "id": "e95ebca7",
   "metadata": {},
   "source": [
    "#### Шаг 2. Предобработка данных"
   ]
  },
  {
   "cell_type": "markdown",
   "id": "45399aed",
   "metadata": {},
   "source": [
    "*Приведем столбец date к типу datetime64*:"
   ]
  },
  {
   "cell_type": "code",
   "execution_count": 9,
   "id": "af6d202c",
   "metadata": {},
   "outputs": [],
   "source": [
    "rides['date'] = pd.to_datetime(rides['date'], format = '%Y-%m-%d')"
   ]
  },
  {
   "cell_type": "code",
   "execution_count": 10,
   "id": "c71dffbc",
   "metadata": {},
   "outputs": [
    {
     "name": "stdout",
     "output_type": "stream",
     "text": [
      "<class 'pandas.core.frame.DataFrame'>\n",
      "RangeIndex: 18068 entries, 0 to 18067\n",
      "Data columns (total 4 columns):\n",
      " #   Column    Non-Null Count  Dtype         \n",
      "---  ------    --------------  -----         \n",
      " 0   user_id   18068 non-null  int64         \n",
      " 1   distance  18068 non-null  float64       \n",
      " 2   duration  18068 non-null  float64       \n",
      " 3   date      18068 non-null  datetime64[ns]\n",
      "dtypes: datetime64[ns](1), float64(2), int64(1)\n",
      "memory usage: 564.8 KB\n"
     ]
    }
   ],
   "source": [
    "rides.info()"
   ]
  },
  {
   "cell_type": "code",
   "execution_count": 11,
   "id": "506e340a",
   "metadata": {},
   "outputs": [
    {
     "data": {
      "text/html": [
       "<div>\n",
       "<style scoped>\n",
       "    .dataframe tbody tr th:only-of-type {\n",
       "        vertical-align: middle;\n",
       "    }\n",
       "\n",
       "    .dataframe tbody tr th {\n",
       "        vertical-align: top;\n",
       "    }\n",
       "\n",
       "    .dataframe thead th {\n",
       "        text-align: right;\n",
       "    }\n",
       "</style>\n",
       "<table border=\"1\" class=\"dataframe\">\n",
       "  <thead>\n",
       "    <tr style=\"text-align: right;\">\n",
       "      <th></th>\n",
       "      <th>user_id</th>\n",
       "      <th>distance</th>\n",
       "      <th>duration</th>\n",
       "      <th>date</th>\n",
       "    </tr>\n",
       "  </thead>\n",
       "  <tbody>\n",
       "    <tr>\n",
       "      <th>0</th>\n",
       "      <td>1</td>\n",
       "      <td>4409.919140</td>\n",
       "      <td>25.599769</td>\n",
       "      <td>2021-01-01</td>\n",
       "    </tr>\n",
       "    <tr>\n",
       "      <th>1</th>\n",
       "      <td>1</td>\n",
       "      <td>2617.592153</td>\n",
       "      <td>15.816871</td>\n",
       "      <td>2021-01-18</td>\n",
       "    </tr>\n",
       "    <tr>\n",
       "      <th>2</th>\n",
       "      <td>1</td>\n",
       "      <td>754.159807</td>\n",
       "      <td>6.232113</td>\n",
       "      <td>2021-04-20</td>\n",
       "    </tr>\n",
       "    <tr>\n",
       "      <th>3</th>\n",
       "      <td>1</td>\n",
       "      <td>2694.783254</td>\n",
       "      <td>18.511000</td>\n",
       "      <td>2021-08-11</td>\n",
       "    </tr>\n",
       "    <tr>\n",
       "      <th>4</th>\n",
       "      <td>1</td>\n",
       "      <td>4028.687306</td>\n",
       "      <td>26.265803</td>\n",
       "      <td>2021-08-28</td>\n",
       "    </tr>\n",
       "  </tbody>\n",
       "</table>\n",
       "</div>"
      ],
      "text/plain": [
       "   user_id     distance   duration       date\n",
       "0        1  4409.919140  25.599769 2021-01-01\n",
       "1        1  2617.592153  15.816871 2021-01-18\n",
       "2        1   754.159807   6.232113 2021-04-20\n",
       "3        1  2694.783254  18.511000 2021-08-11\n",
       "4        1  4028.687306  26.265803 2021-08-28"
      ]
     },
     "execution_count": 11,
     "metadata": {},
     "output_type": "execute_result"
    }
   ],
   "source": [
    "rides.head()"
   ]
  },
  {
   "cell_type": "markdown",
   "id": "19a57950",
   "metadata": {},
   "source": [
    "*Добавим столбец date_month с номером месяца из date*"
   ]
  },
  {
   "cell_type": "code",
   "execution_count": 12,
   "id": "4a78205a",
   "metadata": {},
   "outputs": [],
   "source": [
    "rides['date_month'] =  pd.DatetimeIndex(rides['date']).month"
   ]
  },
  {
   "cell_type": "markdown",
   "id": "45d9ebae",
   "metadata": {},
   "source": [
    "*Проверим наши датафреймы rides и users на пропуски:*"
   ]
  },
  {
   "cell_type": "code",
   "execution_count": 13,
   "id": "36979eb1",
   "metadata": {},
   "outputs": [
    {
     "data": {
      "text/plain": [
       "user_id       0\n",
       "distance      0\n",
       "duration      0\n",
       "date          0\n",
       "date_month    0\n",
       "dtype: int64"
      ]
     },
     "execution_count": 13,
     "metadata": {},
     "output_type": "execute_result"
    }
   ],
   "source": [
    "rides.isna().sum()"
   ]
  },
  {
   "cell_type": "code",
   "execution_count": 14,
   "id": "9667f027",
   "metadata": {
    "scrolled": true
   },
   "outputs": [
    {
     "data": {
      "text/plain": [
       "user_id              0\n",
       "name                 0\n",
       "age                  0\n",
       "city                 0\n",
       "subscription_type    0\n",
       "dtype: int64"
      ]
     },
     "execution_count": 14,
     "metadata": {},
     "output_type": "execute_result"
    }
   ],
   "source": [
    "users.isna().sum()"
   ]
  },
  {
   "cell_type": "markdown",
   "id": "fac073f7",
   "metadata": {},
   "source": [
    "в датафрейме нет пропущенных значений"
   ]
  },
  {
   "cell_type": "code",
   "execution_count": 15,
   "id": "a37836cb",
   "metadata": {},
   "outputs": [
    {
     "data": {
      "text/plain": [
       "0"
      ]
     },
     "execution_count": 15,
     "metadata": {},
     "output_type": "execute_result"
    }
   ],
   "source": [
    "rides.duplicated().sum()"
   ]
  },
  {
   "cell_type": "code",
   "execution_count": 16,
   "id": "39200053",
   "metadata": {},
   "outputs": [
    {
     "data": {
      "text/plain": [
       "31"
      ]
     },
     "execution_count": 16,
     "metadata": {},
     "output_type": "execute_result"
    }
   ],
   "source": [
    "users.duplicated().sum()"
   ]
  },
  {
   "cell_type": "code",
   "execution_count": 17,
   "id": "89afc2b7",
   "metadata": {},
   "outputs": [
    {
     "data": {
      "text/html": [
       "<div>\n",
       "<style scoped>\n",
       "    .dataframe tbody tr th:only-of-type {\n",
       "        vertical-align: middle;\n",
       "    }\n",
       "\n",
       "    .dataframe tbody tr th {\n",
       "        vertical-align: top;\n",
       "    }\n",
       "\n",
       "    .dataframe thead th {\n",
       "        text-align: right;\n",
       "    }\n",
       "</style>\n",
       "<table border=\"1\" class=\"dataframe\">\n",
       "  <thead>\n",
       "    <tr style=\"text-align: right;\">\n",
       "      <th></th>\n",
       "      <th>index</th>\n",
       "      <th>user_id</th>\n",
       "      <th>name</th>\n",
       "      <th>age</th>\n",
       "      <th>city</th>\n",
       "      <th>subscription_type</th>\n",
       "    </tr>\n",
       "  </thead>\n",
       "  <tbody>\n",
       "    <tr>\n",
       "      <th>0</th>\n",
       "      <td>0</td>\n",
       "      <td>1</td>\n",
       "      <td>Кира</td>\n",
       "      <td>22</td>\n",
       "      <td>Тюмень</td>\n",
       "      <td>ultra</td>\n",
       "    </tr>\n",
       "    <tr>\n",
       "      <th>1</th>\n",
       "      <td>1</td>\n",
       "      <td>2</td>\n",
       "      <td>Станислав</td>\n",
       "      <td>31</td>\n",
       "      <td>Омск</td>\n",
       "      <td>ultra</td>\n",
       "    </tr>\n",
       "    <tr>\n",
       "      <th>2</th>\n",
       "      <td>2</td>\n",
       "      <td>3</td>\n",
       "      <td>Алексей</td>\n",
       "      <td>20</td>\n",
       "      <td>Москва</td>\n",
       "      <td>ultra</td>\n",
       "    </tr>\n",
       "    <tr>\n",
       "      <th>3</th>\n",
       "      <td>3</td>\n",
       "      <td>4</td>\n",
       "      <td>Константин</td>\n",
       "      <td>26</td>\n",
       "      <td>Ростов-на-Дону</td>\n",
       "      <td>ultra</td>\n",
       "    </tr>\n",
       "    <tr>\n",
       "      <th>4</th>\n",
       "      <td>4</td>\n",
       "      <td>5</td>\n",
       "      <td>Адель</td>\n",
       "      <td>28</td>\n",
       "      <td>Омск</td>\n",
       "      <td>ultra</td>\n",
       "    </tr>\n",
       "    <tr>\n",
       "      <th>...</th>\n",
       "      <td>...</td>\n",
       "      <td>...</td>\n",
       "      <td>...</td>\n",
       "      <td>...</td>\n",
       "      <td>...</td>\n",
       "      <td>...</td>\n",
       "    </tr>\n",
       "    <tr>\n",
       "      <th>1529</th>\n",
       "      <td>1529</td>\n",
       "      <td>1530</td>\n",
       "      <td>Ростислав</td>\n",
       "      <td>29</td>\n",
       "      <td>Сочи</td>\n",
       "      <td>free</td>\n",
       "    </tr>\n",
       "    <tr>\n",
       "      <th>1530</th>\n",
       "      <td>1530</td>\n",
       "      <td>1531</td>\n",
       "      <td>Никита</td>\n",
       "      <td>25</td>\n",
       "      <td>Пятигорск</td>\n",
       "      <td>free</td>\n",
       "    </tr>\n",
       "    <tr>\n",
       "      <th>1531</th>\n",
       "      <td>1531</td>\n",
       "      <td>1532</td>\n",
       "      <td>Алексей</td>\n",
       "      <td>26</td>\n",
       "      <td>Тюмень</td>\n",
       "      <td>free</td>\n",
       "    </tr>\n",
       "    <tr>\n",
       "      <th>1532</th>\n",
       "      <td>1532</td>\n",
       "      <td>1533</td>\n",
       "      <td>Степан</td>\n",
       "      <td>22</td>\n",
       "      <td>Краснодар</td>\n",
       "      <td>free</td>\n",
       "    </tr>\n",
       "    <tr>\n",
       "      <th>1533</th>\n",
       "      <td>1533</td>\n",
       "      <td>1534</td>\n",
       "      <td>Альберт</td>\n",
       "      <td>25</td>\n",
       "      <td>Краснодар</td>\n",
       "      <td>free</td>\n",
       "    </tr>\n",
       "  </tbody>\n",
       "</table>\n",
       "<p>1534 rows × 6 columns</p>\n",
       "</div>"
      ],
      "text/plain": [
       "      index  user_id        name  age            city subscription_type\n",
       "0         0        1        Кира   22          Тюмень             ultra\n",
       "1         1        2   Станислав   31            Омск             ultra\n",
       "2         2        3     Алексей   20          Москва             ultra\n",
       "3         3        4  Константин   26  Ростов-на-Дону             ultra\n",
       "4         4        5       Адель   28            Омск             ultra\n",
       "...     ...      ...         ...  ...             ...               ...\n",
       "1529   1529     1530   Ростислав   29            Сочи              free\n",
       "1530   1530     1531      Никита   25       Пятигорск              free\n",
       "1531   1531     1532     Алексей   26          Тюмень              free\n",
       "1532   1532     1533      Степан   22       Краснодар              free\n",
       "1533   1533     1534     Альберт   25       Краснодар              free\n",
       "\n",
       "[1534 rows x 6 columns]"
      ]
     },
     "execution_count": 17,
     "metadata": {},
     "output_type": "execute_result"
    }
   ],
   "source": [
    "users.drop_duplicates().reset_index()"
   ]
  },
  {
   "cell_type": "markdown",
   "id": "a4fca601",
   "metadata": {},
   "source": [
    "В таблице users получилось 31 явных дубликата"
   ]
  },
  {
   "cell_type": "code",
   "execution_count": 18,
   "id": "167ae029",
   "metadata": {},
   "outputs": [
    {
     "data": {
      "text/plain": [
       "31"
      ]
     },
     "execution_count": 18,
     "metadata": {},
     "output_type": "execute_result"
    }
   ],
   "source": [
    "\n",
    "users.duplicated().sum()"
   ]
  },
  {
   "cell_type": "code",
   "execution_count": 19,
   "id": "7aa161f6",
   "metadata": {},
   "outputs": [],
   "source": [
    "users = users.drop_duplicates().reset_index()"
   ]
  },
  {
   "cell_type": "code",
   "execution_count": 20,
   "id": "63c859cc",
   "metadata": {},
   "outputs": [
    {
     "data": {
      "text/plain": [
       "0"
      ]
     },
     "execution_count": 20,
     "metadata": {},
     "output_type": "execute_result"
    }
   ],
   "source": [
    "\n",
    "users.duplicated().sum()"
   ]
  },
  {
   "cell_type": "markdown",
   "id": "27f4dc6f",
   "metadata": {},
   "source": [
    "В предобработке данных мы сменили необходимый тип данных date, добавили столбец с месяцем и удалили дубликаты с таблицы  users"
   ]
  },
  {
   "cell_type": "markdown",
   "id": "212593c7",
   "metadata": {},
   "source": [
    "#### Шаг 3. Исследовательский анализ данных"
   ]
  },
  {
   "cell_type": "markdown",
   "id": "059909b1",
   "metadata": {},
   "source": [
    "3.1 \n",
    "\n",
    "*Узнаем о пользователях с разных городов*"
   ]
  },
  {
   "cell_type": "code",
   "execution_count": 21,
   "id": "d5f8e156",
   "metadata": {},
   "outputs": [
    {
     "data": {
      "text/plain": [
       "Пятигорск         219\n",
       "Екатеринбург      204\n",
       "Ростов-на-Дону    198\n",
       "Краснодар         193\n",
       "Сочи              189\n",
       "Омск              183\n",
       "Тюмень            180\n",
       "Москва            168\n",
       "Name: city, dtype: int64"
      ]
     },
     "execution_count": 21,
     "metadata": {},
     "output_type": "execute_result"
    }
   ],
   "source": [
    "users['city'].value_counts()"
   ]
  },
  {
   "cell_type": "code",
   "execution_count": 22,
   "id": "60110ea3",
   "metadata": {},
   "outputs": [
    {
     "data": {
      "text/plain": [
       "Text(0, 0.5, 'Количество пользователей')"
      ]
     },
     "execution_count": 22,
     "metadata": {},
     "output_type": "execute_result"
    },
    {
     "data": {
      "image/png": "[encoded data removed]",
      "text/plain": [
       "<Figure size 720x432 with 1 Axes>"
      ]
     },
     "metadata": {
      "needs_background": "light"
     },
     "output_type": "display_data"
    }
   ],
   "source": [
    "users['city'].hist(figsize=(10,6),bins = 15)\n",
    "plt.title('Количество пользователей по городам')\n",
    "plt.xlabel('Город')\n",
    "plt.ylabel('Количество пользователей')"
   ]
  },
  {
   "cell_type": "code",
   "execution_count": 23,
   "id": "640759a6",
   "metadata": {},
   "outputs": [
    {
     "name": "stdout",
     "output_type": "stream",
     "text": [
      "Медианное кол-во пользователей в городах -  191.0\n",
      "Среднее арифм. кол-во пользователей в городах -  191.75\n"
     ]
    }
   ],
   "source": [
    "print('Медианное кол-во пользователей в городах - ', users['city'].value_counts().median())\n",
    "print('Среднее арифм. кол-во пользователей в городах - ', users['city'].value_counts().mean())"
   ]
  },
  {
   "cell_type": "markdown",
   "id": "0b8ebee7",
   "metadata": {},
   "source": [
    "После изучения значений и визуализации графиков, можно понять, что среднее количество пользователей в городах около 195.\n",
    "\n",
    "Наименьшее кол-во пользователей в Москве - 172, наибольшее в Пятигорске - 226"
   ]
  },
  {
   "cell_type": "markdown",
   "id": "e2f02b48",
   "metadata": {},
   "source": [
    "3.2\n",
    "\n",
    "*Изучим соотношение пользователей с подпиской и без нее*"
   ]
  },
  {
   "cell_type": "code",
   "execution_count": 24,
   "id": "bfa6e282",
   "metadata": {},
   "outputs": [
    {
     "data": {
      "text/plain": [
       "0.4556714471968709"
      ]
     },
     "execution_count": 24,
     "metadata": {},
     "output_type": "execute_result"
    }
   ],
   "source": [
    "users.query('subscription_type == \"ultra\"').count()['age']/users.count()['age'] "
   ]
  },
  {
   "cell_type": "code",
   "execution_count": 25,
   "id": "918d7880",
   "metadata": {},
   "outputs": [
    {
     "data": {
      "text/plain": [
       "Text(0, 0.5, '')"
      ]
     },
     "execution_count": 25,
     "metadata": {},
     "output_type": "execute_result"
    },
    {
     "data": {
      "image/png": "[encoded data removed]",
      "text/plain": [
       "<Figure size 720x432 with 1 Axes>"
      ]
     },
     "metadata": {},
     "output_type": "display_data"
    }
   ],
   "source": [
    "users['subscription_type'].value_counts().plot(kind = 'pie', autopct='%.1f%%', figsize=(10,6))\n",
    "plt.title('Распределение подписок')\n",
    "plt.ylabel('')"
   ]
  },
  {
   "cell_type": "markdown",
   "id": "f6eadc46",
   "metadata": {},
   "source": [
    "Отношение пользователей с подпиской на общее кол-во пользователей ~ 0.46 или 46%\n"
   ]
  },
  {
   "cell_type": "markdown",
   "id": "ccb82b30",
   "metadata": {},
   "source": [
    "3.3\n",
    "\n",
    "*Изучим возраст пользователей*"
   ]
  },
  {
   "cell_type": "code",
   "execution_count": 26,
   "id": "099dd2e9",
   "metadata": {},
   "outputs": [
    {
     "data": {
      "text/plain": [
       "Text(0, 0.5, 'Количество пользователей')"
      ]
     },
     "execution_count": 26,
     "metadata": {},
     "output_type": "execute_result"
    },
    {
     "data": {
      "image/png": "[encoded data removed]",
      "text/plain": [
       "<Figure size 720x432 with 1 Axes>"
      ]
     },
     "metadata": {
      "needs_background": "light"
     },
     "output_type": "display_data"
    }
   ],
   "source": [
    "users['age'].hist(figsize=(10,6),bins=20)\n",
    "plt.title('Количество пользователей по возрасту ')\n",
    "plt.xlabel('Возраст')\n",
    "plt.ylabel('Количество пользователей')"
   ]
  },
  {
   "cell_type": "markdown",
   "id": "e65753d1",
   "metadata": {},
   "source": [
    "На общей гистограмме видно примерное распрделение пользователей, теперь \"приблизим\" ее в диапозон от 20 до 30, являющийся целевой группой"
   ]
  },
  {
   "cell_type": "code",
   "execution_count": 27,
   "id": "8413fd1c",
   "metadata": {},
   "outputs": [
    {
     "data": {
      "text/plain": [
       "Text(0, 0.5, 'Количество пользователей')"
      ]
     },
     "execution_count": 27,
     "metadata": {},
     "output_type": "execute_result"
    },
    {
     "data": {
      "image/png": "[encoded data removed]",
      "text/plain": [
       "<Figure size 720x432 with 1 Axes>"
      ]
     },
     "metadata": {
      "needs_background": "light"
     },
     "output_type": "display_data"
    }
   ],
   "source": [
    "users['age'].hist(figsize=(10,6),bins=21,range=(20,30))\n",
    "plt.title('Количество пользователей по возрасту ')\n",
    "plt.xlabel('Возраст')\n",
    "plt.ylabel('Количество пользователей')"
   ]
  },
  {
   "cell_type": "code",
   "execution_count": 28,
   "id": "1adfddf2",
   "metadata": {},
   "outputs": [
    {
     "data": {
      "text/plain": [
       "Text(0, 0.5, 'Количество пользователей')"
      ]
     },
     "execution_count": 28,
     "metadata": {},
     "output_type": "execute_result"
    },
    {
     "data": {
      "image/png": "[encoded data removed]",
      "text/plain": [
       "<Figure size 432x288 with 1 Axes>"
      ]
     },
     "metadata": {
      "needs_background": "light"
     },
     "output_type": "display_data"
    }
   ],
   "source": [
    "users.boxplot('age')\n",
    "plt.title('Количество пользователей по возрасту ')\n",
    "plt.xlabel('Возраст')\n",
    "plt.ylabel('Количество пользователей')"
   ]
  },
  {
   "cell_type": "code",
   "execution_count": 29,
   "id": "83565f07",
   "metadata": {},
   "outputs": [
    {
     "name": "stdout",
     "output_type": "stream",
     "text": [
      "1 квартиль 22.0\n",
      "1 квартиль 25.0\n",
      "3 квартиль 28.0\n"
     ]
    }
   ],
   "source": [
    "print('1 квартиль',np.quantile(users['age'], 0.25))\n",
    "print('1 квартиль',np.quantile(users['age'], 0.5))\n",
    "print('3 квартиль',np.quantile(users['age'], 0.75))"
   ]
  },
  {
   "cell_type": "markdown",
   "id": "693b7294",
   "metadata": {},
   "source": [
    "по второй гистограмме и боксплоту видно, что основная масса пользователей находится в возрасте от 22 до 28 лет"
   ]
  },
  {
   "cell_type": "markdown",
   "id": "ab1e7c43",
   "metadata": {},
   "source": [
    "3.4\n",
    "\n",
    "*Изучим дистанцию за поездку*"
   ]
  },
  {
   "cell_type": "code",
   "execution_count": 30,
   "id": "1c0fa7fa",
   "metadata": {},
   "outputs": [
    {
     "data": {
      "text/plain": [
       "Text(0, 0.5, 'Количество поездок')"
      ]
     },
     "execution_count": 30,
     "metadata": {},
     "output_type": "execute_result"
    },
    {
     "data": {
      "image/png": "[encoded data removed]",
      "text/plain": [
       "<Figure size 720x432 with 1 Axes>"
      ]
     },
     "metadata": {
      "needs_background": "light"
     },
     "output_type": "display_data"
    }
   ],
   "source": [
    "rides['distance'].hist(figsize=(10,6),bins=20)\n",
    "plt.title('Количество поездок по дистанции ')\n",
    "plt.xlabel('Дистанция')\n",
    "plt.ylabel('Количество поездок')"
   ]
  },
  {
   "cell_type": "code",
   "execution_count": 31,
   "id": "3d29787d",
   "metadata": {},
   "outputs": [
    {
     "data": {
      "text/plain": [
       "Text(0, 0.5, 'Количество поездок')"
      ]
     },
     "execution_count": 31,
     "metadata": {},
     "output_type": "execute_result"
    },
    {
     "data": {
      "image/png": "[encoded data removed]",
      "text/plain": [
       "<Figure size 720x432 with 1 Axes>"
      ]
     },
     "metadata": {
      "needs_background": "light"
     },
     "output_type": "display_data"
    }
   ],
   "source": [
    "rides['distance'].hist(figsize=(10,6),bins=20,range=(2000,5000))\n",
    "\n",
    "plt.title('Количество поездок по дистанции ')\n",
    "plt.xlabel('Дистанция')\n",
    "plt.ylabel('Количество поездок')"
   ]
  },
  {
   "cell_type": "markdown",
   "id": "e657effe",
   "metadata": {},
   "source": [
    "По гистрограмме видно, что основная часть пользователей едет от 2500 до 4000 метров за поездку, но существует подгруппа поездок до 1000 метров, когда самокат берут на пару минут"
   ]
  },
  {
   "cell_type": "markdown",
   "id": "c525e392",
   "metadata": {},
   "source": [
    "3.5\n",
    "\n",
    "*Изучим длительность поездки*"
   ]
  },
  {
   "cell_type": "code",
   "execution_count": 32,
   "id": "bd137504",
   "metadata": {},
   "outputs": [
    {
     "data": {
      "text/plain": [
       "Text(0, 0.5, 'Количество поездок')"
      ]
     },
     "execution_count": 32,
     "metadata": {},
     "output_type": "execute_result"
    },
    {
     "data": {
      "image/png": "[encoded data removed]",
      "text/plain": [
       "<Figure size 720x432 with 1 Axes>"
      ]
     },
     "metadata": {
      "needs_background": "light"
     },
     "output_type": "display_data"
    }
   ],
   "source": [
    "rides['duration'].hist(figsize=(10,6),bins=20)\n",
    "plt.title('Количество поездок по длительности ')\n",
    "plt.xlabel('Длительность')\n",
    "plt.ylabel('Количество поездок')"
   ]
  },
  {
   "cell_type": "markdown",
   "id": "5abb3392",
   "metadata": {},
   "source": [
    "график длительности поездки похож на нормальное распределение с средним значением около 17"
   ]
  },
  {
   "cell_type": "markdown",
   "id": "4ef51331",
   "metadata": {},
   "source": [
    "#### Шаг 4. Объединение данных"
   ]
  },
  {
   "cell_type": "markdown",
   "id": "70302271",
   "metadata": {},
   "source": [
    "4.1*объеденим датафреймы users и rides, subs в rides_detail*"
   ]
  },
  {
   "cell_type": "code",
   "execution_count": 33,
   "id": "6bf288b5",
   "metadata": {},
   "outputs": [],
   "source": [
    "rides_detail = rides.merge(users, on='user_id')"
   ]
  },
  {
   "cell_type": "code",
   "execution_count": 34,
   "id": "58ebdbcb",
   "metadata": {},
   "outputs": [],
   "source": [
    "rides_detail = rides_detail.merge(subs, on ='subscription_type')"
   ]
  },
  {
   "cell_type": "code",
   "execution_count": 35,
   "id": "4c340946",
   "metadata": {},
   "outputs": [
    {
     "data": {
      "text/html": [
       "<div>\n",
       "<style scoped>\n",
       "    .dataframe tbody tr th:only-of-type {\n",
       "        vertical-align: middle;\n",
       "    }\n",
       "\n",
       "    .dataframe tbody tr th {\n",
       "        vertical-align: top;\n",
       "    }\n",
       "\n",
       "    .dataframe thead th {\n",
       "        text-align: right;\n",
       "    }\n",
       "</style>\n",
       "<table border=\"1\" class=\"dataframe\">\n",
       "  <thead>\n",
       "    <tr style=\"text-align: right;\">\n",
       "      <th></th>\n",
       "      <th>user_id</th>\n",
       "      <th>distance</th>\n",
       "      <th>duration</th>\n",
       "      <th>date</th>\n",
       "      <th>date_month</th>\n",
       "      <th>index</th>\n",
       "      <th>name</th>\n",
       "      <th>age</th>\n",
       "      <th>city</th>\n",
       "      <th>subscription_type</th>\n",
       "      <th>minute_price</th>\n",
       "      <th>start_ride_price</th>\n",
       "      <th>subscription_fee</th>\n",
       "    </tr>\n",
       "  </thead>\n",
       "  <tbody>\n",
       "    <tr>\n",
       "      <th>0</th>\n",
       "      <td>1</td>\n",
       "      <td>4409.919140</td>\n",
       "      <td>25.599769</td>\n",
       "      <td>2021-01-01</td>\n",
       "      <td>1</td>\n",
       "      <td>0</td>\n",
       "      <td>Кира</td>\n",
       "      <td>22</td>\n",
       "      <td>Тюмень</td>\n",
       "      <td>ultra</td>\n",
       "      <td>6</td>\n",
       "      <td>0</td>\n",
       "      <td>199</td>\n",
       "    </tr>\n",
       "    <tr>\n",
       "      <th>1</th>\n",
       "      <td>1</td>\n",
       "      <td>2617.592153</td>\n",
       "      <td>15.816871</td>\n",
       "      <td>2021-01-18</td>\n",
       "      <td>1</td>\n",
       "      <td>0</td>\n",
       "      <td>Кира</td>\n",
       "      <td>22</td>\n",
       "      <td>Тюмень</td>\n",
       "      <td>ultra</td>\n",
       "      <td>6</td>\n",
       "      <td>0</td>\n",
       "      <td>199</td>\n",
       "    </tr>\n",
       "    <tr>\n",
       "      <th>2</th>\n",
       "      <td>1</td>\n",
       "      <td>754.159807</td>\n",
       "      <td>6.232113</td>\n",
       "      <td>2021-04-20</td>\n",
       "      <td>4</td>\n",
       "      <td>0</td>\n",
       "      <td>Кира</td>\n",
       "      <td>22</td>\n",
       "      <td>Тюмень</td>\n",
       "      <td>ultra</td>\n",
       "      <td>6</td>\n",
       "      <td>0</td>\n",
       "      <td>199</td>\n",
       "    </tr>\n",
       "    <tr>\n",
       "      <th>3</th>\n",
       "      <td>1</td>\n",
       "      <td>2694.783254</td>\n",
       "      <td>18.511000</td>\n",
       "      <td>2021-08-11</td>\n",
       "      <td>8</td>\n",
       "      <td>0</td>\n",
       "      <td>Кира</td>\n",
       "      <td>22</td>\n",
       "      <td>Тюмень</td>\n",
       "      <td>ultra</td>\n",
       "      <td>6</td>\n",
       "      <td>0</td>\n",
       "      <td>199</td>\n",
       "    </tr>\n",
       "    <tr>\n",
       "      <th>4</th>\n",
       "      <td>1</td>\n",
       "      <td>4028.687306</td>\n",
       "      <td>26.265803</td>\n",
       "      <td>2021-08-28</td>\n",
       "      <td>8</td>\n",
       "      <td>0</td>\n",
       "      <td>Кира</td>\n",
       "      <td>22</td>\n",
       "      <td>Тюмень</td>\n",
       "      <td>ultra</td>\n",
       "      <td>6</td>\n",
       "      <td>0</td>\n",
       "      <td>199</td>\n",
       "    </tr>\n",
       "  </tbody>\n",
       "</table>\n",
       "</div>"
      ],
      "text/plain": [
       "   user_id     distance   duration       date  date_month  index  name  age  \\\n",
       "0        1  4409.919140  25.599769 2021-01-01           1      0  Кира   22   \n",
       "1        1  2617.592153  15.816871 2021-01-18           1      0  Кира   22   \n",
       "2        1   754.159807   6.232113 2021-04-20           4      0  Кира   22   \n",
       "3        1  2694.783254  18.511000 2021-08-11           8      0  Кира   22   \n",
       "4        1  4028.687306  26.265803 2021-08-28           8      0  Кира   22   \n",
       "\n",
       "     city subscription_type  minute_price  start_ride_price  subscription_fee  \n",
       "0  Тюмень             ultra             6                 0               199  \n",
       "1  Тюмень             ultra             6                 0               199  \n",
       "2  Тюмень             ultra             6                 0               199  \n",
       "3  Тюмень             ultra             6                 0               199  \n",
       "4  Тюмень             ultra             6                 0               199  "
      ]
     },
     "execution_count": 35,
     "metadata": {},
     "output_type": "execute_result"
    }
   ],
   "source": [
    "rides_detail.head()"
   ]
  },
  {
   "cell_type": "code",
   "execution_count": 36,
   "id": "fec305ff",
   "metadata": {},
   "outputs": [
    {
     "name": "stdout",
     "output_type": "stream",
     "text": [
      "<class 'pandas.core.frame.DataFrame'>\n",
      "Int64Index: 18068 entries, 0 to 18067\n",
      "Data columns (total 13 columns):\n",
      " #   Column             Non-Null Count  Dtype         \n",
      "---  ------             --------------  -----         \n",
      " 0   user_id            18068 non-null  int64         \n",
      " 1   distance           18068 non-null  float64       \n",
      " 2   duration           18068 non-null  float64       \n",
      " 3   date               18068 non-null  datetime64[ns]\n",
      " 4   date_month         18068 non-null  int64         \n",
      " 5   index              18068 non-null  int64         \n",
      " 6   name               18068 non-null  object        \n",
      " 7   age                18068 non-null  int64         \n",
      " 8   city               18068 non-null  object        \n",
      " 9   subscription_type  18068 non-null  object        \n",
      " 10  minute_price       18068 non-null  int64         \n",
      " 11  start_ride_price   18068 non-null  int64         \n",
      " 12  subscription_fee   18068 non-null  int64         \n",
      "dtypes: datetime64[ns](1), float64(2), int64(7), object(3)\n",
      "memory usage: 1.9+ MB\n"
     ]
    }
   ],
   "source": [
    "rides_detail.info()"
   ]
  },
  {
   "cell_type": "code",
   "execution_count": 37,
   "id": "f9fbdc73",
   "metadata": {},
   "outputs": [
    {
     "name": "stdout",
     "output_type": "stream",
     "text": [
      "<class 'pandas.core.frame.DataFrame'>\n",
      "RangeIndex: 18068 entries, 0 to 18067\n",
      "Data columns (total 5 columns):\n",
      " #   Column      Non-Null Count  Dtype         \n",
      "---  ------      --------------  -----         \n",
      " 0   user_id     18068 non-null  int64         \n",
      " 1   distance    18068 non-null  float64       \n",
      " 2   duration    18068 non-null  float64       \n",
      " 3   date        18068 non-null  datetime64[ns]\n",
      " 4   date_month  18068 non-null  int64         \n",
      "dtypes: datetime64[ns](1), float64(2), int64(2)\n",
      "memory usage: 705.9 KB\n"
     ]
    }
   ],
   "source": [
    "rides.info()"
   ]
  },
  {
   "cell_type": "code",
   "execution_count": 38,
   "id": "b5d79360",
   "metadata": {},
   "outputs": [
    {
     "data": {
      "text/plain": [
       "0"
      ]
     },
     "execution_count": 38,
     "metadata": {},
     "output_type": "execute_result"
    }
   ],
   "source": [
    "rides_detail.duplicated().sum()"
   ]
  },
  {
   "cell_type": "code",
   "execution_count": 39,
   "id": "7cf6cc94",
   "metadata": {},
   "outputs": [],
   "source": [
    "rides_detail = rides_detail.drop_duplicates().reset_index()"
   ]
  },
  {
   "cell_type": "markdown",
   "id": "156b93d5",
   "metadata": {},
   "source": [
    "в объедененной таблице появились дубликаты, удалим их"
   ]
  },
  {
   "cell_type": "code",
   "execution_count": 40,
   "id": "1ffb1842",
   "metadata": {},
   "outputs": [
    {
     "data": {
      "text/plain": [
       "level_0              0\n",
       "user_id              0\n",
       "distance             0\n",
       "duration             0\n",
       "date                 0\n",
       "date_month           0\n",
       "index                0\n",
       "name                 0\n",
       "age                  0\n",
       "city                 0\n",
       "subscription_type    0\n",
       "minute_price         0\n",
       "start_ride_price     0\n",
       "subscription_fee     0\n",
       "dtype: int64"
      ]
     },
     "execution_count": 40,
     "metadata": {},
     "output_type": "execute_result"
    }
   ],
   "source": [
    "rides_detail.isna().sum()"
   ]
  },
  {
   "cell_type": "markdown",
   "id": "80c09b6f",
   "metadata": {},
   "source": [
    "в объедененной таблице отсутствуют пропуски"
   ]
  },
  {
   "cell_type": "markdown",
   "id": "140ee7d9",
   "metadata": {},
   "source": [
    "4.2*создадим датафрейм users_unsub и users_sub для пользователей без подписки и с подпиской соответственно*"
   ]
  },
  {
   "cell_type": "code",
   "execution_count": 41,
   "id": "62079b20",
   "metadata": {},
   "outputs": [],
   "source": [
    "users_unsub = rides_detail.loc[rides_detail['subscription_type'] == 'free']"
   ]
  },
  {
   "cell_type": "code",
   "execution_count": 42,
   "id": "61e11fc2",
   "metadata": {},
   "outputs": [],
   "source": [
    "users_sub = rides_detail.loc[rides_detail['subscription_type'] == 'ultra']"
   ]
  },
  {
   "cell_type": "markdown",
   "id": "b869e49e",
   "metadata": {},
   "source": [
    "4.3*Визуализируем значения расстояния и длительности поездок для users_unsub и users_sub*"
   ]
  },
  {
   "cell_type": "code",
   "execution_count": 43,
   "id": "8e3c97b9",
   "metadata": {},
   "outputs": [
    {
     "data": {
      "text/plain": [
       "Text(0, 0.5, 'Количество поездок')"
      ]
     },
     "execution_count": 43,
     "metadata": {},
     "output_type": "execute_result"
    },
    {
     "data": {
      "image/png": "[encoded data removed]",
      "text/plain": [
       "<Figure size 720x432 with 1 Axes>"
      ]
     },
     "metadata": {
      "needs_background": "light"
     },
     "output_type": "display_data"
    }
   ],
   "source": [
    "users_unsub['distance'].hist(figsize=(10,6),bins=20)\n",
    "plt.title('Количество поездок по дистанции для unsub')\n",
    "plt.xlabel('Дистанция')\n",
    "plt.ylabel('Количество поездок')"
   ]
  },
  {
   "cell_type": "code",
   "execution_count": 44,
   "id": "4ddeb0c0",
   "metadata": {},
   "outputs": [
    {
     "name": "stdout",
     "output_type": "stream",
     "text": [
      "1 квартиль 2366.5626893101276\n",
      "1 квартиль 3114.648464847295\n",
      "3 квартиль 3905.6978940544814\n"
     ]
    }
   ],
   "source": [
    "print('1 квартиль',np.quantile(users_unsub['distance'], 0.25))\n",
    "print('1 квартиль',np.quantile(users_unsub['distance'], 0.5))\n",
    "print('3 квартиль',np.quantile(users_unsub['distance'], 0.75))"
   ]
  },
  {
   "cell_type": "code",
   "execution_count": 45,
   "id": "80a2e549",
   "metadata": {},
   "outputs": [
    {
     "data": {
      "text/plain": [
       "Text(0, 0.5, 'Количество поездок')"
      ]
     },
     "execution_count": 45,
     "metadata": {},
     "output_type": "execute_result"
    },
    {
     "data": {
      "image/png": "[encoded data removed]",
      "text/plain": [
       "<Figure size 720x432 with 1 Axes>"
      ]
     },
     "metadata": {
      "needs_background": "light"
     },
     "output_type": "display_data"
    }
   ],
   "source": [
    "users_sub['distance'].hist(figsize=(10,6),bins=20)\n",
    "plt.title('Количество поездок по дистанции для sub')\n",
    "plt.xlabel('Дистанция') \n",
    "plt.ylabel('Количество поездок')"
   ]
  },
  {
   "cell_type": "code",
   "execution_count": 46,
   "id": "9217ad03",
   "metadata": {},
   "outputs": [
    {
     "name": "stdout",
     "output_type": "stream",
     "text": [
      "1 квартиль 2785.4440169631416\n",
      "1 квартиль 3148.6372291760854\n",
      "3 квартиль 3560.574424951713\n"
     ]
    }
   ],
   "source": [
    "print('1 квартиль',np.quantile(users_sub['distance'], 0.25))\n",
    "print('1 квартиль',np.quantile(users_sub['distance'], 0.5))\n",
    "print('3 квартиль',np.quantile(users_sub['distance'], 0.75))"
   ]
  },
  {
   "cell_type": "markdown",
   "id": "2cbbebec",
   "metadata": {},
   "source": [
    "Несмотря на то, что медианное значение дистанции в обеих группах практически одинаково, стоит отметить, что 1 и 3 квартили в обеих группах существенно отличаются.  \n",
    "\n",
    "1 квартиль больше среди пользователей с подпиской, а 3 квартиль больше у людей без подписок"
   ]
  },
  {
   "cell_type": "code",
   "execution_count": 47,
   "id": "68de0c30",
   "metadata": {},
   "outputs": [
    {
     "data": {
      "text/plain": [
       "Text(0, 0.5, 'Количество поездок')"
      ]
     },
     "execution_count": 47,
     "metadata": {},
     "output_type": "execute_result"
    },
    {
     "data": {
      "image/png": "[encoded data removed]",
      "text/plain": [
       "<Figure size 720x432 with 1 Axes>"
      ]
     },
     "metadata": {
      "needs_background": "light"
     },
     "output_type": "display_data"
    }
   ],
   "source": [
    "users_unsub['duration'].hist(figsize=(10,6),bins=20)\n",
    "plt.title('Количество поездок по длительности для unsub')\n",
    "plt.xlabel('Длительность')\n",
    "plt.ylabel('Количество поездок')"
   ]
  },
  {
   "cell_type": "code",
   "execution_count": 48,
   "id": "00ef3fee",
   "metadata": {},
   "outputs": [
    {
     "name": "stdout",
     "output_type": "stream",
     "text": [
      "1 квартиль 12.958436576931698\n",
      "1 квартиль 17.326890226082043\n",
      "3 квартиль 21.594070634390352\n"
     ]
    }
   ],
   "source": [
    "print('1 квартиль',np.quantile(users_unsub['duration'], 0.25))\n",
    "print('1 квартиль',np.quantile(users_unsub['duration'], 0.5))\n",
    "print('3 квартиль',np.quantile(users_unsub['duration'], 0.75))"
   ]
  },
  {
   "cell_type": "code",
   "execution_count": 49,
   "id": "2046b983",
   "metadata": {},
   "outputs": [
    {
     "data": {
      "text/plain": [
       "Text(0, 0.5, 'Количество поездок')"
      ]
     },
     "execution_count": 49,
     "metadata": {},
     "output_type": "execute_result"
    },
    {
     "data": {
      "image/png": "[encoded data removed]",
      "text/plain": [
       "<Figure size 720x432 with 1 Axes>"
      ]
     },
     "metadata": {
      "needs_background": "light"
     },
     "output_type": "display_data"
    }
   ],
   "source": [
    "users_sub['duration'].hist(figsize=(10,6),bins=20)\n",
    "plt.title('Количество поездок по длительности для unsub')\n",
    "plt.xlabel('Длительность')\n",
    "plt.ylabel('Количество поездок')"
   ]
  },
  {
   "cell_type": "code",
   "execution_count": 50,
   "id": "8c95ebfd",
   "metadata": {},
   "outputs": [
    {
     "name": "stdout",
     "output_type": "stream",
     "text": [
      "1 квартиль 14.524653911131882\n",
      "1 квартиль 18.17815320055055\n",
      "3 квартиль 21.884128697712004\n"
     ]
    }
   ],
   "source": [
    "print('1 квартиль',np.quantile(users_sub['duration'], 0.25))\n",
    "print('1 квартиль',np.quantile(users_sub['duration'], 0.5))\n",
    "print('3 квартиль',np.quantile(users_sub['duration'], 0.75))"
   ]
  },
  {
   "cell_type": "markdown",
   "id": "322caacd",
   "metadata": {},
   "source": [
    "В двух группах значение 3 квартиля примерно равно. Однаков у пользователей с подпиской 1 и 3 квартиль сдвинут в большую сторону"
   ]
  },
  {
   "cell_type": "code",
   "execution_count": 51,
   "id": "d8f54f78",
   "metadata": {},
   "outputs": [
    {
     "data": {
      "text/html": [
       "<div>\n",
       "<style scoped>\n",
       "    .dataframe tbody tr th:only-of-type {\n",
       "        vertical-align: middle;\n",
       "    }\n",
       "\n",
       "    .dataframe tbody tr th {\n",
       "        vertical-align: top;\n",
       "    }\n",
       "\n",
       "    .dataframe thead th {\n",
       "        text-align: right;\n",
       "    }\n",
       "</style>\n",
       "<table border=\"1\" class=\"dataframe\">\n",
       "  <thead>\n",
       "    <tr style=\"text-align: right;\">\n",
       "      <th></th>\n",
       "      <th>level_0</th>\n",
       "      <th>user_id</th>\n",
       "      <th>distance</th>\n",
       "      <th>duration</th>\n",
       "      <th>date</th>\n",
       "      <th>date_month</th>\n",
       "      <th>index</th>\n",
       "      <th>name</th>\n",
       "      <th>age</th>\n",
       "      <th>city</th>\n",
       "      <th>subscription_type</th>\n",
       "      <th>minute_price</th>\n",
       "      <th>start_ride_price</th>\n",
       "      <th>subscription_fee</th>\n",
       "    </tr>\n",
       "  </thead>\n",
       "  <tbody>\n",
       "    <tr>\n",
       "      <th>0</th>\n",
       "      <td>0</td>\n",
       "      <td>1</td>\n",
       "      <td>4409.919140</td>\n",
       "      <td>25.599769</td>\n",
       "      <td>2021-01-01</td>\n",
       "      <td>1</td>\n",
       "      <td>0</td>\n",
       "      <td>Кира</td>\n",
       "      <td>22</td>\n",
       "      <td>Тюмень</td>\n",
       "      <td>ultra</td>\n",
       "      <td>6</td>\n",
       "      <td>0</td>\n",
       "      <td>199</td>\n",
       "    </tr>\n",
       "    <tr>\n",
       "      <th>1</th>\n",
       "      <td>1</td>\n",
       "      <td>1</td>\n",
       "      <td>2617.592153</td>\n",
       "      <td>15.816871</td>\n",
       "      <td>2021-01-18</td>\n",
       "      <td>1</td>\n",
       "      <td>0</td>\n",
       "      <td>Кира</td>\n",
       "      <td>22</td>\n",
       "      <td>Тюмень</td>\n",
       "      <td>ultra</td>\n",
       "      <td>6</td>\n",
       "      <td>0</td>\n",
       "      <td>199</td>\n",
       "    </tr>\n",
       "    <tr>\n",
       "      <th>2</th>\n",
       "      <td>2</td>\n",
       "      <td>1</td>\n",
       "      <td>754.159807</td>\n",
       "      <td>6.232113</td>\n",
       "      <td>2021-04-20</td>\n",
       "      <td>4</td>\n",
       "      <td>0</td>\n",
       "      <td>Кира</td>\n",
       "      <td>22</td>\n",
       "      <td>Тюмень</td>\n",
       "      <td>ultra</td>\n",
       "      <td>6</td>\n",
       "      <td>0</td>\n",
       "      <td>199</td>\n",
       "    </tr>\n",
       "    <tr>\n",
       "      <th>3</th>\n",
       "      <td>3</td>\n",
       "      <td>1</td>\n",
       "      <td>2694.783254</td>\n",
       "      <td>18.511000</td>\n",
       "      <td>2021-08-11</td>\n",
       "      <td>8</td>\n",
       "      <td>0</td>\n",
       "      <td>Кира</td>\n",
       "      <td>22</td>\n",
       "      <td>Тюмень</td>\n",
       "      <td>ultra</td>\n",
       "      <td>6</td>\n",
       "      <td>0</td>\n",
       "      <td>199</td>\n",
       "    </tr>\n",
       "    <tr>\n",
       "      <th>4</th>\n",
       "      <td>4</td>\n",
       "      <td>1</td>\n",
       "      <td>4028.687306</td>\n",
       "      <td>26.265803</td>\n",
       "      <td>2021-08-28</td>\n",
       "      <td>8</td>\n",
       "      <td>0</td>\n",
       "      <td>Кира</td>\n",
       "      <td>22</td>\n",
       "      <td>Тюмень</td>\n",
       "      <td>ultra</td>\n",
       "      <td>6</td>\n",
       "      <td>0</td>\n",
       "      <td>199</td>\n",
       "    </tr>\n",
       "    <tr>\n",
       "      <th>...</th>\n",
       "      <td>...</td>\n",
       "      <td>...</td>\n",
       "      <td>...</td>\n",
       "      <td>...</td>\n",
       "      <td>...</td>\n",
       "      <td>...</td>\n",
       "      <td>...</td>\n",
       "      <td>...</td>\n",
       "      <td>...</td>\n",
       "      <td>...</td>\n",
       "      <td>...</td>\n",
       "      <td>...</td>\n",
       "      <td>...</td>\n",
       "      <td>...</td>\n",
       "    </tr>\n",
       "    <tr>\n",
       "      <th>18063</th>\n",
       "      <td>18063</td>\n",
       "      <td>1534</td>\n",
       "      <td>3781.098080</td>\n",
       "      <td>19.822962</td>\n",
       "      <td>2021-11-04</td>\n",
       "      <td>11</td>\n",
       "      <td>1533</td>\n",
       "      <td>Альберт</td>\n",
       "      <td>25</td>\n",
       "      <td>Краснодар</td>\n",
       "      <td>free</td>\n",
       "      <td>8</td>\n",
       "      <td>50</td>\n",
       "      <td>0</td>\n",
       "    </tr>\n",
       "    <tr>\n",
       "      <th>18064</th>\n",
       "      <td>18064</td>\n",
       "      <td>1534</td>\n",
       "      <td>2840.423057</td>\n",
       "      <td>21.409799</td>\n",
       "      <td>2021-11-16</td>\n",
       "      <td>11</td>\n",
       "      <td>1533</td>\n",
       "      <td>Альберт</td>\n",
       "      <td>25</td>\n",
       "      <td>Краснодар</td>\n",
       "      <td>free</td>\n",
       "      <td>8</td>\n",
       "      <td>50</td>\n",
       "      <td>0</td>\n",
       "    </tr>\n",
       "    <tr>\n",
       "      <th>18065</th>\n",
       "      <td>18065</td>\n",
       "      <td>1534</td>\n",
       "      <td>3826.185507</td>\n",
       "      <td>18.435051</td>\n",
       "      <td>2021-11-18</td>\n",
       "      <td>11</td>\n",
       "      <td>1533</td>\n",
       "      <td>Альберт</td>\n",
       "      <td>25</td>\n",
       "      <td>Краснодар</td>\n",
       "      <td>free</td>\n",
       "      <td>8</td>\n",
       "      <td>50</td>\n",
       "      <td>0</td>\n",
       "    </tr>\n",
       "    <tr>\n",
       "      <th>18066</th>\n",
       "      <td>18066</td>\n",
       "      <td>1534</td>\n",
       "      <td>2902.308661</td>\n",
       "      <td>16.674362</td>\n",
       "      <td>2021-11-27</td>\n",
       "      <td>11</td>\n",
       "      <td>1533</td>\n",
       "      <td>Альберт</td>\n",
       "      <td>25</td>\n",
       "      <td>Краснодар</td>\n",
       "      <td>free</td>\n",
       "      <td>8</td>\n",
       "      <td>50</td>\n",
       "      <td>0</td>\n",
       "    </tr>\n",
       "    <tr>\n",
       "      <th>18067</th>\n",
       "      <td>18067</td>\n",
       "      <td>1534</td>\n",
       "      <td>2371.711192</td>\n",
       "      <td>15.893917</td>\n",
       "      <td>2021-12-29</td>\n",
       "      <td>12</td>\n",
       "      <td>1533</td>\n",
       "      <td>Альберт</td>\n",
       "      <td>25</td>\n",
       "      <td>Краснодар</td>\n",
       "      <td>free</td>\n",
       "      <td>8</td>\n",
       "      <td>50</td>\n",
       "      <td>0</td>\n",
       "    </tr>\n",
       "  </tbody>\n",
       "</table>\n",
       "<p>18068 rows × 14 columns</p>\n",
       "</div>"
      ],
      "text/plain": [
       "       level_0  user_id     distance   duration       date  date_month  index  \\\n",
       "0            0        1  4409.919140  25.599769 2021-01-01           1      0   \n",
       "1            1        1  2617.592153  15.816871 2021-01-18           1      0   \n",
       "2            2        1   754.159807   6.232113 2021-04-20           4      0   \n",
       "3            3        1  2694.783254  18.511000 2021-08-11           8      0   \n",
       "4            4        1  4028.687306  26.265803 2021-08-28           8      0   \n",
       "...        ...      ...          ...        ...        ...         ...    ...   \n",
       "18063    18063     1534  3781.098080  19.822962 2021-11-04          11   1533   \n",
       "18064    18064     1534  2840.423057  21.409799 2021-11-16          11   1533   \n",
       "18065    18065     1534  3826.185507  18.435051 2021-11-18          11   1533   \n",
       "18066    18066     1534  2902.308661  16.674362 2021-11-27          11   1533   \n",
       "18067    18067     1534  2371.711192  15.893917 2021-12-29          12   1533   \n",
       "\n",
       "          name  age       city subscription_type  minute_price  \\\n",
       "0         Кира   22     Тюмень             ultra             6   \n",
       "1         Кира   22     Тюмень             ultra             6   \n",
       "2         Кира   22     Тюмень             ultra             6   \n",
       "3         Кира   22     Тюмень             ultra             6   \n",
       "4         Кира   22     Тюмень             ultra             6   \n",
       "...        ...  ...        ...               ...           ...   \n",
       "18063  Альберт   25  Краснодар              free             8   \n",
       "18064  Альберт   25  Краснодар              free             8   \n",
       "18065  Альберт   25  Краснодар              free             8   \n",
       "18066  Альберт   25  Краснодар              free             8   \n",
       "18067  Альберт   25  Краснодар              free             8   \n",
       "\n",
       "       start_ride_price  subscription_fee  \n",
       "0                     0               199  \n",
       "1                     0               199  \n",
       "2                     0               199  \n",
       "3                     0               199  \n",
       "4                     0               199  \n",
       "...                 ...               ...  \n",
       "18063                50                 0  \n",
       "18064                50                 0  \n",
       "18065                50                 0  \n",
       "18066                50                 0  \n",
       "18067                50                 0  \n",
       "\n",
       "[18068 rows x 14 columns]"
      ]
     },
     "execution_count": 51,
     "metadata": {},
     "output_type": "execute_result"
    }
   ],
   "source": [
    "rides_detail"
   ]
  },
  {
   "cell_type": "markdown",
   "id": "778556bd",
   "metadata": {},
   "source": [
    "сравнивая две категории можно отметить, что у неподписчиков:\n",
    "\n",
    "1)большой диапазон значений дистанции поездок в основном от 2366 до 3903 метров\n",
    "\n",
    "2)большой диапазон значений продолжительности поездок в основном от 12.9 до 21.5 минут\n",
    "\n",
    "\n",
    "у подписчиков:\n",
    "\n",
    "1)диапазон дистанции меньше(основная часть от 2785 до 3559 метров)\n",
    "\n",
    "2)диапазон длительности поездок меньше(основная часть от 14.4  до 21.8 минут)"
   ]
  },
  {
   "cell_type": "markdown",
   "id": "402d620f",
   "metadata": {},
   "source": [
    "#### Шаг 5. Подсчёт выручки"
   ]
  },
  {
   "cell_type": "code",
   "execution_count": 52,
   "id": "e6fdd271",
   "metadata": {},
   "outputs": [],
   "source": [
    "rides_detail['duration'] = np.ceil(rides_detail['duration'])"
   ]
  },
  {
   "cell_type": "code",
   "execution_count": 53,
   "id": "630b598f",
   "metadata": {},
   "outputs": [],
   "source": [
    "ride_counts = rides_detail.groupby(['user_id', 'date_month', 'subscription_type']).size().reset_index(name='ride_count')"
   ]
  },
  {
   "cell_type": "code",
   "execution_count": 54,
   "id": "606cb45f",
   "metadata": {},
   "outputs": [],
   "source": [
    "profit = rides_detail.groupby(['user_id', 'date_month', 'subscription_type','minute_price','start_ride_price','subscription_fee']).agg(\n",
    "    total_distance=('distance', 'sum'),  # сумма дистанций\n",
    "    total_duration=('duration', 'sum')    # сумма длительностей\n",
    ").reset_index()\n"
   ]
  },
  {
   "cell_type": "code",
   "execution_count": 55,
   "id": "0620ebd8",
   "metadata": {},
   "outputs": [],
   "source": [
    "profit = profit.merge( ride_counts, on=['user_id', 'date_month', 'subscription_type'])"
   ]
  },
  {
   "cell_type": "code",
   "execution_count": 56,
   "id": "f2a704fa",
   "metadata": {},
   "outputs": [],
   "source": [
    "def price_total(row):\n",
    "    a=0\n",
    "    sub_price = row['subscription_fee']\n",
    "    start_price = row['start_ride_price']\n",
    "    minute_price = row['minute_price']\n",
    "    minutes = row['total_duration']\n",
    "    sub_type = row['subscription_type']\n",
    "    ride_cnt = row['ride_count']\n",
    "    \n",
    "    a = sub_price + (start_price*ride_cnt)+ (minute_price*minutes)\n",
    "    return a \n"
   ]
  },
  {
   "cell_type": "code",
   "execution_count": 57,
   "id": "8e873387",
   "metadata": {},
   "outputs": [],
   "source": [
    "profit['total'] = profit.apply(price_total, axis = 1)"
   ]
  },
  {
   "cell_type": "code",
   "execution_count": 58,
   "id": "5699beb5",
   "metadata": {},
   "outputs": [
    {
     "data": {
      "text/html": [
       "<div>\n",
       "<style scoped>\n",
       "    .dataframe tbody tr th:only-of-type {\n",
       "        vertical-align: middle;\n",
       "    }\n",
       "\n",
       "    .dataframe tbody tr th {\n",
       "        vertical-align: top;\n",
       "    }\n",
       "\n",
       "    .dataframe thead th {\n",
       "        text-align: right;\n",
       "    }\n",
       "</style>\n",
       "<table border=\"1\" class=\"dataframe\">\n",
       "  <thead>\n",
       "    <tr style=\"text-align: right;\">\n",
       "      <th></th>\n",
       "      <th>user_id</th>\n",
       "      <th>date_month</th>\n",
       "      <th>subscription_type</th>\n",
       "      <th>minute_price</th>\n",
       "      <th>start_ride_price</th>\n",
       "      <th>subscription_fee</th>\n",
       "      <th>total_distance</th>\n",
       "      <th>total_duration</th>\n",
       "      <th>ride_count</th>\n",
       "      <th>total</th>\n",
       "    </tr>\n",
       "  </thead>\n",
       "  <tbody>\n",
       "    <tr>\n",
       "      <th>0</th>\n",
       "      <td>1</td>\n",
       "      <td>1</td>\n",
       "      <td>ultra</td>\n",
       "      <td>6</td>\n",
       "      <td>0</td>\n",
       "      <td>199</td>\n",
       "      <td>7027.511294</td>\n",
       "      <td>42.0</td>\n",
       "      <td>2</td>\n",
       "      <td>451.0</td>\n",
       "    </tr>\n",
       "    <tr>\n",
       "      <th>1</th>\n",
       "      <td>1</td>\n",
       "      <td>4</td>\n",
       "      <td>ultra</td>\n",
       "      <td>6</td>\n",
       "      <td>0</td>\n",
       "      <td>199</td>\n",
       "      <td>754.159807</td>\n",
       "      <td>7.0</td>\n",
       "      <td>1</td>\n",
       "      <td>241.0</td>\n",
       "    </tr>\n",
       "    <tr>\n",
       "      <th>2</th>\n",
       "      <td>1</td>\n",
       "      <td>8</td>\n",
       "      <td>ultra</td>\n",
       "      <td>6</td>\n",
       "      <td>0</td>\n",
       "      <td>199</td>\n",
       "      <td>6723.470560</td>\n",
       "      <td>46.0</td>\n",
       "      <td>2</td>\n",
       "      <td>475.0</td>\n",
       "    </tr>\n",
       "    <tr>\n",
       "      <th>3</th>\n",
       "      <td>1</td>\n",
       "      <td>10</td>\n",
       "      <td>ultra</td>\n",
       "      <td>6</td>\n",
       "      <td>0</td>\n",
       "      <td>199</td>\n",
       "      <td>5809.911100</td>\n",
       "      <td>32.0</td>\n",
       "      <td>2</td>\n",
       "      <td>391.0</td>\n",
       "    </tr>\n",
       "    <tr>\n",
       "      <th>4</th>\n",
       "      <td>1</td>\n",
       "      <td>11</td>\n",
       "      <td>ultra</td>\n",
       "      <td>6</td>\n",
       "      <td>0</td>\n",
       "      <td>199</td>\n",
       "      <td>7003.499363</td>\n",
       "      <td>56.0</td>\n",
       "      <td>3</td>\n",
       "      <td>535.0</td>\n",
       "    </tr>\n",
       "    <tr>\n",
       "      <th>...</th>\n",
       "      <td>...</td>\n",
       "      <td>...</td>\n",
       "      <td>...</td>\n",
       "      <td>...</td>\n",
       "      <td>...</td>\n",
       "      <td>...</td>\n",
       "      <td>...</td>\n",
       "      <td>...</td>\n",
       "      <td>...</td>\n",
       "      <td>...</td>\n",
       "    </tr>\n",
       "    <tr>\n",
       "      <th>11326</th>\n",
       "      <td>1534</td>\n",
       "      <td>6</td>\n",
       "      <td>free</td>\n",
       "      <td>8</td>\n",
       "      <td>50</td>\n",
       "      <td>0</td>\n",
       "      <td>3409.468534</td>\n",
       "      <td>26.0</td>\n",
       "      <td>2</td>\n",
       "      <td>308.0</td>\n",
       "    </tr>\n",
       "    <tr>\n",
       "      <th>11327</th>\n",
       "      <td>1534</td>\n",
       "      <td>8</td>\n",
       "      <td>free</td>\n",
       "      <td>8</td>\n",
       "      <td>50</td>\n",
       "      <td>0</td>\n",
       "      <td>7622.453034</td>\n",
       "      <td>48.0</td>\n",
       "      <td>2</td>\n",
       "      <td>484.0</td>\n",
       "    </tr>\n",
       "    <tr>\n",
       "      <th>11328</th>\n",
       "      <td>1534</td>\n",
       "      <td>9</td>\n",
       "      <td>free</td>\n",
       "      <td>8</td>\n",
       "      <td>50</td>\n",
       "      <td>0</td>\n",
       "      <td>4928.173852</td>\n",
       "      <td>23.0</td>\n",
       "      <td>1</td>\n",
       "      <td>234.0</td>\n",
       "    </tr>\n",
       "    <tr>\n",
       "      <th>11329</th>\n",
       "      <td>1534</td>\n",
       "      <td>11</td>\n",
       "      <td>free</td>\n",
       "      <td>8</td>\n",
       "      <td>50</td>\n",
       "      <td>0</td>\n",
       "      <td>13350.015305</td>\n",
       "      <td>78.0</td>\n",
       "      <td>4</td>\n",
       "      <td>824.0</td>\n",
       "    </tr>\n",
       "    <tr>\n",
       "      <th>11330</th>\n",
       "      <td>1534</td>\n",
       "      <td>12</td>\n",
       "      <td>free</td>\n",
       "      <td>8</td>\n",
       "      <td>50</td>\n",
       "      <td>0</td>\n",
       "      <td>2371.711192</td>\n",
       "      <td>16.0</td>\n",
       "      <td>1</td>\n",
       "      <td>178.0</td>\n",
       "    </tr>\n",
       "  </tbody>\n",
       "</table>\n",
       "<p>11331 rows × 10 columns</p>\n",
       "</div>"
      ],
      "text/plain": [
       "       user_id  date_month subscription_type  minute_price  start_ride_price  \\\n",
       "0            1           1             ultra             6                 0   \n",
       "1            1           4             ultra             6                 0   \n",
       "2            1           8             ultra             6                 0   \n",
       "3            1          10             ultra             6                 0   \n",
       "4            1          11             ultra             6                 0   \n",
       "...        ...         ...               ...           ...               ...   \n",
       "11326     1534           6              free             8                50   \n",
       "11327     1534           8              free             8                50   \n",
       "11328     1534           9              free             8                50   \n",
       "11329     1534          11              free             8                50   \n",
       "11330     1534          12              free             8                50   \n",
       "\n",
       "       subscription_fee  total_distance  total_duration  ride_count  total  \n",
       "0                   199     7027.511294            42.0           2  451.0  \n",
       "1                   199      754.159807             7.0           1  241.0  \n",
       "2                   199     6723.470560            46.0           2  475.0  \n",
       "3                   199     5809.911100            32.0           2  391.0  \n",
       "4                   199     7003.499363            56.0           3  535.0  \n",
       "...                 ...             ...             ...         ...    ...  \n",
       "11326                 0     3409.468534            26.0           2  308.0  \n",
       "11327                 0     7622.453034            48.0           2  484.0  \n",
       "11328                 0     4928.173852            23.0           1  234.0  \n",
       "11329                 0    13350.015305            78.0           4  824.0  \n",
       "11330                 0     2371.711192            16.0           1  178.0  \n",
       "\n",
       "[11331 rows x 10 columns]"
      ]
     },
     "execution_count": 58,
     "metadata": {},
     "output_type": "execute_result"
    }
   ],
   "source": [
    "profit"
   ]
  },
  {
   "cell_type": "markdown",
   "id": "41545ac0",
   "metadata": {},
   "source": [
    "#### Шаг 6. Проверка гипотез"
   ]
  },
  {
   "cell_type": "code",
   "execution_count": 59,
   "id": "5792cfde",
   "metadata": {},
   "outputs": [],
   "source": [
    "from scipy import stats as st"
   ]
  },
  {
   "cell_type": "markdown",
   "id": "ffe488f4",
   "metadata": {},
   "source": [
    "6.1*Проверим гипотезу о \"выгодности\" пользователей с подпиской*"
   ]
  },
  {
   "cell_type": "markdown",
   "id": "e7a2dd75",
   "metadata": {},
   "source": [
    "Сформулируем гипотезы о \"выгодности\" пользователей с подпиской.\n",
    "\n",
    "Нулевая гипотеза (H₀): среднее время поездки у подписчиков не больше, чем у пользователей без подписки.\n",
    "\n",
    "Альтернативная гипотеза (H₁): среднее время поездки у подписчиков больше."
   ]
  },
  {
   "cell_type": "code",
   "execution_count": 60,
   "id": "83d4088e",
   "metadata": {},
   "outputs": [],
   "source": [
    "users_sub_duration = users_sub['duration']"
   ]
  },
  {
   "cell_type": "code",
   "execution_count": 61,
   "id": "a3041f8a",
   "metadata": {},
   "outputs": [],
   "source": [
    "users_unsub_duration = users_unsub['duration']"
   ]
  },
  {
   "cell_type": "code",
   "execution_count": 62,
   "id": "23ea867b",
   "metadata": {},
   "outputs": [
    {
     "name": "stdout",
     "output_type": "stream",
     "text": [
      "среднее значение продолжительности с подпиской 18.54198516280583\n",
      "среднее значение продолжительности без подписки 17.39090929866399\n"
     ]
    }
   ],
   "source": [
    "print(f'среднее значение продолжительности с подпиской {np.mean(users_sub_duration)}')\n",
    "print(f'среднее значение продолжительности без подписки {np.mean(users_unsub_duration)}')"
   ]
  },
  {
   "cell_type": "code",
   "execution_count": 63,
   "id": "fee58851",
   "metadata": {},
   "outputs": [
    {
     "name": "stdout",
     "output_type": "stream",
     "text": [
      "значение p-value 5.6757813771289775e-37 \n",
      "\n",
      "отвергаем нулевую гипотезу\n"
     ]
    }
   ],
   "source": [
    "res_duration = st.ttest_ind(\n",
    "users_sub_duration,\n",
    "users_unsub_duration,\n",
    "alternative = 'greater',\n",
    "equal_var = False\n",
    ")\n",
    "print('значение p-value', res_duration.pvalue,'\\n')\n",
    "\n",
    "p =0.05\n",
    "\n",
    "if res_duration.pvalue< p:\n",
    "    print('отвергаем нулевую гипотезу')\n",
    "else:\n",
    "    print('не отвергаем нулевую гипотезу')\n",
    "\n"
   ]
  },
  {
   "cell_type": "markdown",
   "id": "6a43ed10",
   "metadata": {},
   "source": [
    "Действительно, можно утверждать о том, что пользователи с подпиской имеют более долгие поездки"
   ]
  },
  {
   "cell_type": "markdown",
   "id": "aaf14a53",
   "metadata": {},
   "source": [
    "6.2*Проверим гипотезу о не превышении 3130 метров за поездку у пользователей с подпиской*  "
   ]
  },
  {
   "cell_type": "markdown",
   "id": "fc153266",
   "metadata": {},
   "source": [
    "Нулевая гипотеза - пользователи проезжают около 3130 метров за поездку с подпиской\n",
    "\n",
    "Альтернативная гипотеза - дистанция превышает 3130 метров"
   ]
  },
  {
   "cell_type": "code",
   "execution_count": 64,
   "id": "a828fe23",
   "metadata": {},
   "outputs": [],
   "source": [
    "users_sub_distance = users_sub['distance']"
   ]
  },
  {
   "cell_type": "code",
   "execution_count": 65,
   "id": "8075866d",
   "metadata": {},
   "outputs": [
    {
     "name": "stdout",
     "output_type": "stream",
     "text": [
      "среднее значение дистанции с подпиской 3115.4453880370247\n"
     ]
    }
   ],
   "source": [
    "print(f'среднее значение дистанции с подпиской {np.mean(users_sub_distance)}')"
   ]
  },
  {
   "cell_type": "code",
   "execution_count": 66,
   "id": "20b0cdc6",
   "metadata": {},
   "outputs": [],
   "source": [
    "value = 3130 "
   ]
  },
  {
   "cell_type": "code",
   "execution_count": 67,
   "id": "4da8d2f3",
   "metadata": {},
   "outputs": [
    {
     "name": "stdout",
     "output_type": "stream",
     "text": [
      "значение p-value 0.9195368847849785 \n",
      "\n",
      "не отвергаем нулевую гипотезу\n"
     ]
    }
   ],
   "source": [
    "res_distance = st.ttest_1samp(\n",
    "users_sub_distance, value, alternative='greater'\n",
    "    \n",
    ")\n",
    "print('значение p-value', res_distance.pvalue,'\\n')\n",
    "\n",
    "p=0.05\n",
    "\n",
    "if res_distance.pvalue< p:\n",
    "    print('отвергаем нулевую гипотезу')\n",
    "else:\n",
    "    print('не отвергаем нулевую гипотезу')\n"
   ]
  },
  {
   "cell_type": "markdown",
   "id": "6842c13a",
   "metadata": {},
   "source": [
    "Можно утверждать, что в среднем поездки у пользователей с подпиской около 3130 метров"
   ]
  },
  {
   "cell_type": "markdown",
   "id": "1c2b7369",
   "metadata": {},
   "source": [
    "6.3*Проверим гипотезу о том будет ли помесячная выручка от пользователей с подпиской по месяцам выше, чем выручка от пользователей без подписки*  "
   ]
  },
  {
   "cell_type": "markdown",
   "id": "44b93f1f",
   "metadata": {},
   "source": [
    "Нулевая гипотеза - выручки с подписчиков и неподписчиков равны\n",
    "\n",
    "Альтернативная гипотеза - выручка с пользователей с подпиской выше "
   ]
  },
  {
   "cell_type": "markdown",
   "id": "4f0f251b",
   "metadata": {},
   "source": [
    "добавим в датафрейм df_profit стобец с помесячной выручкой"
   ]
  },
  {
   "cell_type": "code",
   "execution_count": 68,
   "id": "0272d60e",
   "metadata": {},
   "outputs": [],
   "source": [
    "users_sub_permonth = profit.loc[profit['subscription_type'] == 'ultra','total']"
   ]
  },
  {
   "cell_type": "code",
   "execution_count": 69,
   "id": "e12d9196",
   "metadata": {},
   "outputs": [],
   "source": [
    "users_unsub_permonth = profit.loc[profit['subscription_type'] == 'free','total']"
   ]
  },
  {
   "cell_type": "code",
   "execution_count": 70,
   "id": "9ea5a112",
   "metadata": {},
   "outputs": [
    {
     "name": "stdout",
     "output_type": "stream",
     "text": [
      "среднее значение выручки в месяц с подпиской 362.7921906022502\n",
      "среднее значение выручки в месяц без подписки 328.6413651073845\n"
     ]
    }
   ],
   "source": [
    "print(f'среднее значение выручки в месяц с подпиской {np.mean(users_sub_permonth)}')\n",
    "print(f'среднее значение выручки в месяц без подписки {np.mean(users_unsub_permonth)}')"
   ]
  },
  {
   "cell_type": "code",
   "execution_count": 71,
   "id": "c3aee312",
   "metadata": {},
   "outputs": [
    {
     "name": "stdout",
     "output_type": "stream",
     "text": [
      "значение p-value 8.874140893976874e-40 \n",
      "\n",
      "отвергаем нулевую гипотезу\n"
     ]
    }
   ],
   "source": [
    "res_duration = st.ttest_ind(\n",
    "users_sub_permonth,\n",
    "users_unsub_permonth,\n",
    "alternative = 'greater',\n",
    "equal_var = False\n",
    ")\n",
    "print('значение p-value', res_duration.pvalue,'\\n')\n",
    "\n",
    "p =0.05\n",
    "\n",
    "if res_duration.pvalue < p :\n",
    "    print('отвергаем нулевую гипотезу')\n",
    "else:\n",
    "    print('не отвергаем нулевую гипотезу')\n",
    "\n"
   ]
  },
  {
   "cell_type": "markdown",
   "id": "65a62005",
   "metadata": {},
   "source": [
    "Можно утверждать, что выручка от пользователей с подпиской по месяцам выше, чем выручка от пользователей без подписки"
   ]
  },
  {
   "cell_type": "markdown",
   "id": "a83b138e",
   "metadata": {},
   "source": [
    "6.4"
   ]
  },
  {
   "cell_type": "markdown",
   "id": "c785cc0c",
   "metadata": {},
   "source": [
    "Нам понадобиться использовать st.ttest_rel(), т.к выборки зависимые и состоят из тех же пользователей до и после внедрения новых серверов"
   ]
  },
  {
   "cell_type": "markdown",
   "id": "d4c578fe",
   "metadata": {},
   "source": [
    "Общий вывод:\n",
    "\n",
    "На основе исследования сервиса аренды самокатов GoFast можно обозначить ключевые шаги:\n",
    "\n",
    "1) в таблице с пользователями хранились дубликаты в количестве **31**(значения полученные по ошибке)\n",
    "\n",
    "2) по итогам исследовательского анализа узнали процент пользователей с подпиской - **46%**, средний возраст пользователей - **25**, город с наибольшим количеством пользователей - Пятигорск(**226**), наименьшим - Москва(**172**). Из этого следует сделать вывод о том, что нужно выделять больше денег на продвижение сервиса в столице и увеличивать свою долю рынка там  \n",
    "\n",
    "3)  Распределения расстояний и времени поездок показали, что пользователи без подписки совершают более разнородные поездки: у них больше коротких и экстремально длинных поездок**(в основном от 2366 до 3905 метров для дистанции и и от 12.9 до 21.5 минут для длительности поездки)**. У подписчиков поведение более стабильное и предсказуемое, что может упростить планирование ресурсов и персонализированных предложений**(для дистанции 2785 и 3560 метров и  14.5 до 21.8 минут времени поездки)**. \n",
    "\n",
    "4) Была создана таблица, группирующая клиентов по месяцам и функция которая считает в этой таблице месячную выручку. С помощью этой таблицы стало намного удобнее видеть динамику и сравнивать доходы, группируя данные по месяцам.\n",
    "\n",
    "5) На основне выдвинутых гипотез и работы с распределением можно сделать выводы о том:\n",
    "\n",
    "    5.1) Выдвинув нулевую гипотезу о том, что среднее время поездки у подписчиков не больше, чем у пользователей без подписки мы не смогли опровергнуть ее, что дает нам полагать то, что время поездки у подписчиков больше\n",
    "    \n",
    "    5.2)Выдвинув гипотезу о том, что в среднем поездки у пользователей с подпиской не более 3130 метров был проведен t-тест на основне которого можно утверждать о том, что пользователи проезжать около 3130 метров \n",
    "    \n",
    "    5.3) выручка от пользователей с подпиской по месяцам выше, чем выручка от пользователей без подписки\n",
    "    \n",
    "6) На основне различных исследований можно сделать вывод о том, что пользователи с подпиской ultra более стабильны и предсказуемы, а также приносят больше прибыли, чем пользователи без подписки. \n",
    "\n",
    "7) Сейчас уровень подписчиков равен 46 процентам, следует предложить пользователям без подписки пробную версию для привлечения потенциальных подписчиков"
   ]
  }
 ],
 "metadata": {
  "ExecuteTimeLog": [
   {
    "duration": 52,
    "start_time": "2025-05-22T09:42:45.084Z"
   },
   {
    "duration": 371,
    "start_time": "2025-05-22T09:42:48.217Z"
   },
   {
    "duration": 31,
    "start_time": "2025-05-22T09:42:49.947Z"
   },
   {
    "duration": 30,
    "start_time": "2025-05-22T09:43:13.280Z"
   },
   {
    "duration": 16,
    "start_time": "2025-05-22T09:43:34.827Z"
   },
   {
    "duration": 20,
    "start_time": "2025-05-22T09:44:01.047Z"
   },
   {
    "duration": 12,
    "start_time": "2025-05-22T09:44:38.151Z"
   },
   {
    "duration": 9,
    "start_time": "2025-05-22T09:45:34.057Z"
   },
   {
    "duration": 8,
    "start_time": "2025-05-22T09:45:41.298Z"
   },
   {
    "duration": 9,
    "start_time": "2025-05-22T09:45:47.097Z"
   },
   {
    "duration": 8,
    "start_time": "2025-05-22T11:17:52.111Z"
   },
   {
    "duration": 10,
    "start_time": "2025-05-22T11:17:58.784Z"
   },
   {
    "duration": 9,
    "start_time": "2025-05-22T11:18:14.024Z"
   },
   {
    "duration": 52,
    "start_time": "2025-05-22T11:19:26.208Z"
   },
   {
    "duration": 11,
    "start_time": "2025-05-22T11:19:26.796Z"
   },
   {
    "duration": 9,
    "start_time": "2025-05-22T11:19:27.340Z"
   },
   {
    "duration": 420,
    "start_time": "2025-05-22T11:19:34.678Z"
   },
   {
    "duration": 31,
    "start_time": "2025-05-22T11:19:35.100Z"
   },
   {
    "duration": 17,
    "start_time": "2025-05-22T11:19:35.132Z"
   },
   {
    "duration": 284,
    "start_time": "2025-05-22T11:19:35.150Z"
   },
   {
    "duration": 30,
    "start_time": "2025-05-22T11:19:35.436Z"
   },
   {
    "duration": 26,
    "start_time": "2025-05-22T11:19:35.467Z"
   },
   {
    "duration": 8,
    "start_time": "2025-05-22T11:19:35.494Z"
   },
   {
    "duration": 34,
    "start_time": "2025-05-22T11:19:35.503Z"
   },
   {
    "duration": 31,
    "start_time": "2025-05-22T11:19:35.539Z"
   },
   {
    "duration": 27,
    "start_time": "2025-05-22T11:19:35.572Z"
   },
   {
    "duration": 64,
    "start_time": "2025-05-22T23:04:21.395Z"
   },
   {
    "duration": 9,
    "start_time": "2025-05-22T23:04:25.260Z"
   },
   {
    "duration": 8,
    "start_time": "2025-05-22T23:05:56.148Z"
   },
   {
    "duration": 5,
    "start_time": "2025-05-22T23:07:13.641Z"
   },
   {
    "duration": 9,
    "start_time": "2025-05-22T23:07:18.297Z"
   },
   {
    "duration": 10,
    "start_time": "2025-05-22T23:07:42.460Z"
   },
   {
    "duration": 10,
    "start_time": "2025-05-22T23:07:47.241Z"
   },
   {
    "duration": 9,
    "start_time": "2025-05-22T23:08:03.434Z"
   },
   {
    "duration": 28,
    "start_time": "2025-05-22T23:08:05.787Z"
   },
   {
    "duration": 12,
    "start_time": "2025-05-22T23:08:18.200Z"
   },
   {
    "duration": 5,
    "start_time": "2025-05-22T23:08:38.390Z"
   },
   {
    "duration": 11,
    "start_time": "2025-05-22T23:08:52.081Z"
   },
   {
    "duration": 11,
    "start_time": "2025-05-22T23:09:08.618Z"
   },
   {
    "duration": 11,
    "start_time": "2025-05-22T23:10:14.288Z"
   },
   {
    "duration": 7,
    "start_time": "2025-05-22T23:10:23.011Z"
   },
   {
    "duration": 7,
    "start_time": "2025-05-22T23:10:37.799Z"
   },
   {
    "duration": 73,
    "start_time": "2025-05-22T23:12:34.566Z"
   },
   {
    "duration": 49,
    "start_time": "2025-05-23T11:40:37.282Z"
   },
   {
    "duration": 368,
    "start_time": "2025-05-23T11:40:42.587Z"
   },
   {
    "duration": 29,
    "start_time": "2025-05-23T11:40:42.957Z"
   },
   {
    "duration": 14,
    "start_time": "2025-05-23T11:40:42.988Z"
   },
   {
    "duration": 31,
    "start_time": "2025-05-23T11:40:43.003Z"
   },
   {
    "duration": 9,
    "start_time": "2025-05-23T11:40:43.036Z"
   },
   {
    "duration": 19,
    "start_time": "2025-05-23T11:40:43.046Z"
   },
   {
    "duration": 7,
    "start_time": "2025-05-23T11:40:43.067Z"
   },
   {
    "duration": 12,
    "start_time": "2025-05-23T11:40:43.075Z"
   },
   {
    "duration": 11,
    "start_time": "2025-05-23T11:40:43.089Z"
   },
   {
    "duration": 9,
    "start_time": "2025-05-23T11:40:43.101Z"
   },
   {
    "duration": 25,
    "start_time": "2025-05-23T11:40:43.111Z"
   },
   {
    "duration": 7,
    "start_time": "2025-05-23T11:40:43.138Z"
   },
   {
    "duration": 10,
    "start_time": "2025-05-23T11:40:43.146Z"
   },
   {
    "duration": 549,
    "start_time": "2025-05-23T11:40:43.158Z"
   },
   {
    "duration": 184,
    "start_time": "2025-05-23T11:41:43.842Z"
   },
   {
    "duration": 6,
    "start_time": "2025-05-23T11:41:56.626Z"
   },
   {
    "duration": 135,
    "start_time": "2025-05-23T11:42:36.090Z"
   },
   {
    "duration": 127,
    "start_time": "2025-05-23T11:42:52.023Z"
   },
   {
    "duration": 214,
    "start_time": "2025-05-23T11:43:00.227Z"
   },
   {
    "duration": 144,
    "start_time": "2025-05-23T11:43:07.569Z"
   },
   {
    "duration": 122,
    "start_time": "2025-05-23T11:43:13.314Z"
   },
   {
    "duration": 135,
    "start_time": "2025-05-23T11:43:19.674Z"
   },
   {
    "duration": 151,
    "start_time": "2025-05-23T11:43:24.354Z"
   },
   {
    "duration": 130,
    "start_time": "2025-05-23T11:43:28.236Z"
   },
   {
    "duration": 135,
    "start_time": "2025-05-23T11:43:32.722Z"
   },
   {
    "duration": 127,
    "start_time": "2025-05-23T11:43:36.850Z"
   },
   {
    "duration": 128,
    "start_time": "2025-05-23T11:43:42.034Z"
   },
   {
    "duration": 134,
    "start_time": "2025-05-23T11:43:47.266Z"
   },
   {
    "duration": 145,
    "start_time": "2025-05-23T11:44:15.786Z"
   },
   {
    "duration": 202,
    "start_time": "2025-05-23T11:44:20.700Z"
   },
   {
    "duration": 128,
    "start_time": "2025-05-23T11:44:26.123Z"
   },
   {
    "duration": 147,
    "start_time": "2025-05-23T11:45:14.226Z"
   },
   {
    "duration": 146,
    "start_time": "2025-05-23T11:45:27.066Z"
   },
   {
    "duration": 73,
    "start_time": "2025-05-23T11:46:10.738Z"
   },
   {
    "duration": 14,
    "start_time": "2025-05-23T11:46:22.474Z"
   },
   {
    "duration": 269,
    "start_time": "2025-05-23T11:47:10.546Z"
   },
   {
    "duration": 150,
    "start_time": "2025-05-23T11:47:23.914Z"
   },
   {
    "duration": 148,
    "start_time": "2025-05-23T11:47:48.666Z"
   },
   {
    "duration": 149,
    "start_time": "2025-05-23T11:50:04.414Z"
   },
   {
    "duration": 274,
    "start_time": "2025-05-23T11:52:06.238Z"
   },
   {
    "duration": 234,
    "start_time": "2025-05-23T11:52:15.662Z"
   },
   {
    "duration": 0,
    "start_time": "2025-05-23T11:54:56.075Z"
   },
   {
    "duration": 676,
    "start_time": "2025-05-23T11:55:01.214Z"
   },
   {
    "duration": 19,
    "start_time": "2025-05-23T11:55:01.892Z"
   },
   {
    "duration": 63,
    "start_time": "2025-05-23T11:55:01.913Z"
   },
   {
    "duration": 169,
    "start_time": "2025-05-23T11:55:01.978Z"
   },
   {
    "duration": 9,
    "start_time": "2025-05-23T11:55:02.149Z"
   },
   {
    "duration": 73,
    "start_time": "2025-05-23T11:55:02.159Z"
   },
   {
    "duration": 15,
    "start_time": "2025-05-23T11:55:02.234Z"
   },
   {
    "duration": 49,
    "start_time": "2025-05-23T11:55:02.251Z"
   },
   {
    "duration": 144,
    "start_time": "2025-05-23T11:55:02.302Z"
   },
   {
    "duration": 61,
    "start_time": "2025-05-23T11:55:02.449Z"
   },
   {
    "duration": 67,
    "start_time": "2025-05-23T11:55:02.512Z"
   },
   {
    "duration": 82,
    "start_time": "2025-05-23T11:55:02.580Z"
   },
   {
    "duration": 53,
    "start_time": "2025-05-23T11:55:02.663Z"
   },
   {
    "duration": 58,
    "start_time": "2025-05-23T11:55:02.718Z"
   },
   {
    "duration": 36032,
    "start_time": "2025-05-23T11:55:02.778Z"
   },
   {
    "duration": 135,
    "start_time": "2025-05-23T12:02:36.654Z"
   },
   {
    "duration": 138,
    "start_time": "2025-05-23T12:02:44.950Z"
   },
   {
    "duration": 144,
    "start_time": "2025-05-23T12:02:49.175Z"
   },
   {
    "duration": 168,
    "start_time": "2025-05-23T12:02:58.822Z"
   },
   {
    "duration": 144,
    "start_time": "2025-05-23T12:03:38.407Z"
   },
   {
    "duration": 146,
    "start_time": "2025-05-23T12:03:46.414Z"
   },
   {
    "duration": 142,
    "start_time": "2025-05-23T12:04:09.494Z"
   },
   {
    "duration": 146,
    "start_time": "2025-05-23T12:04:17.103Z"
   },
   {
    "duration": 415,
    "start_time": "2025-05-23T12:04:53.647Z"
   },
   {
    "duration": 113,
    "start_time": "2025-05-23T12:06:03.079Z"
   },
   {
    "duration": 10,
    "start_time": "2025-05-23T12:06:20.198Z"
   },
   {
    "duration": 107,
    "start_time": "2025-05-23T12:06:48.263Z"
   },
   {
    "duration": 5,
    "start_time": "2025-05-23T12:08:23.475Z"
   },
   {
    "duration": 15,
    "start_time": "2025-05-23T12:08:40.090Z"
   },
   {
    "duration": 6,
    "start_time": "2025-05-23T12:08:58.727Z"
   },
   {
    "duration": 5,
    "start_time": "2025-05-23T12:09:05.522Z"
   },
   {
    "duration": 6,
    "start_time": "2025-05-23T12:09:15.666Z"
   },
   {
    "duration": 6,
    "start_time": "2025-05-23T12:09:30.026Z"
   },
   {
    "duration": 5,
    "start_time": "2025-05-23T12:09:35.186Z"
   },
   {
    "duration": 5,
    "start_time": "2025-05-23T12:10:19.171Z"
   },
   {
    "duration": 5,
    "start_time": "2025-05-23T12:10:34.059Z"
   },
   {
    "duration": 7,
    "start_time": "2025-05-23T12:11:00.366Z"
   },
   {
    "duration": 22,
    "start_time": "2025-05-23T12:17:13.014Z"
   },
   {
    "duration": 15,
    "start_time": "2025-05-23T12:17:34.695Z"
   },
   {
    "duration": 10,
    "start_time": "2025-05-23T12:17:44.047Z"
   },
   {
    "duration": 9,
    "start_time": "2025-05-23T12:17:51.854Z"
   },
   {
    "duration": 9,
    "start_time": "2025-05-23T12:18:01.919Z"
   },
   {
    "duration": 12,
    "start_time": "2025-05-23T12:18:18.806Z"
   },
   {
    "duration": 11,
    "start_time": "2025-05-23T12:18:44.807Z"
   },
   {
    "duration": 20,
    "start_time": "2025-05-23T12:20:07.127Z"
   },
   {
    "duration": 20,
    "start_time": "2025-05-23T12:20:25.830Z"
   },
   {
    "duration": 15,
    "start_time": "2025-05-23T12:20:53.343Z"
   },
   {
    "duration": 16,
    "start_time": "2025-05-23T12:21:13.142Z"
   },
   {
    "duration": 10,
    "start_time": "2025-05-23T12:21:24.590Z"
   },
   {
    "duration": 10,
    "start_time": "2025-05-23T12:21:34.942Z"
   },
   {
    "duration": 12,
    "start_time": "2025-05-23T12:21:52.414Z"
   },
   {
    "duration": 72,
    "start_time": "2025-05-23T12:23:29.254Z"
   },
   {
    "duration": 278,
    "start_time": "2025-05-23T12:26:32.480Z"
   },
   {
    "duration": 938,
    "start_time": "2025-05-23T12:27:24.510Z"
   },
   {
    "duration": 650,
    "start_time": "2025-05-23T12:28:04.361Z"
   },
   {
    "duration": 19,
    "start_time": "2025-05-23T12:28:05.013Z"
   },
   {
    "duration": 77,
    "start_time": "2025-05-23T12:28:05.034Z"
   },
   {
    "duration": 33,
    "start_time": "2025-05-23T12:28:05.113Z"
   },
   {
    "duration": 9,
    "start_time": "2025-05-23T12:28:05.148Z"
   },
   {
    "duration": 31,
    "start_time": "2025-05-23T12:28:05.159Z"
   },
   {
    "duration": 12,
    "start_time": "2025-05-23T12:28:05.192Z"
   },
   {
    "duration": 24,
    "start_time": "2025-05-23T12:28:05.206Z"
   },
   {
    "duration": 40,
    "start_time": "2025-05-23T12:28:05.232Z"
   },
   {
    "duration": 24,
    "start_time": "2025-05-23T12:28:05.273Z"
   },
   {
    "duration": 23,
    "start_time": "2025-05-23T12:28:05.298Z"
   },
   {
    "duration": 20,
    "start_time": "2025-05-23T12:28:05.322Z"
   },
   {
    "duration": 14,
    "start_time": "2025-05-23T12:28:05.344Z"
   },
   {
    "duration": 40,
    "start_time": "2025-05-23T12:28:05.361Z"
   },
   {
    "duration": 226,
    "start_time": "2025-05-23T12:28:05.403Z"
   },
   {
    "duration": 11,
    "start_time": "2025-05-23T12:28:05.631Z"
   },
   {
    "duration": 49,
    "start_time": "2025-05-23T12:28:05.643Z"
   },
   {
    "duration": 92,
    "start_time": "2025-05-23T12:28:05.693Z"
   },
   {
    "duration": 265,
    "start_time": "2025-05-23T12:28:25.126Z"
   },
   {
    "duration": 72,
    "start_time": "2025-05-23T12:30:15.766Z"
   },
   {
    "duration": 63,
    "start_time": "2025-05-23T12:30:50.158Z"
   },
   {
    "duration": 65,
    "start_time": "2025-05-23T12:30:56.278Z"
   },
   {
    "duration": 119,
    "start_time": "2025-05-23T12:31:02.615Z"
   },
   {
    "duration": 66,
    "start_time": "2025-05-23T12:31:04.726Z"
   },
   {
    "duration": 68,
    "start_time": "2025-05-23T12:31:23.430Z"
   },
   {
    "duration": 79,
    "start_time": "2025-05-23T12:31:45.239Z"
   },
   {
    "duration": 83,
    "start_time": "2025-05-23T12:32:02.670Z"
   },
   {
    "duration": 71,
    "start_time": "2025-05-24T20:11:14.715Z"
   },
   {
    "duration": 824,
    "start_time": "2025-05-24T20:11:19.100Z"
   },
   {
    "duration": 20,
    "start_time": "2025-05-24T20:11:19.926Z"
   },
   {
    "duration": 37,
    "start_time": "2025-05-24T20:11:19.947Z"
   },
   {
    "duration": 33,
    "start_time": "2025-05-24T20:11:19.986Z"
   },
   {
    "duration": 9,
    "start_time": "2025-05-24T20:11:20.021Z"
   },
   {
    "duration": 61,
    "start_time": "2025-05-24T20:11:20.031Z"
   },
   {
    "duration": 230,
    "start_time": "2025-05-24T20:11:20.093Z"
   },
   {
    "duration": 11,
    "start_time": "2025-05-24T20:11:20.324Z"
   },
   {
    "duration": 22,
    "start_time": "2025-05-24T20:11:20.336Z"
   },
   {
    "duration": 16,
    "start_time": "2025-05-24T20:11:20.360Z"
   },
   {
    "duration": 19,
    "start_time": "2025-05-24T20:11:20.378Z"
   },
   {
    "duration": 33,
    "start_time": "2025-05-24T20:11:20.398Z"
   },
   {
    "duration": 117,
    "start_time": "2025-05-24T20:11:20.433Z"
   },
   {
    "duration": 65,
    "start_time": "2025-05-24T20:11:20.553Z"
   },
   {
    "duration": 203,
    "start_time": "2025-05-24T20:11:20.619Z"
   },
   {
    "duration": 7,
    "start_time": "2025-05-24T20:11:20.823Z"
   },
   {
    "duration": 20,
    "start_time": "2025-05-24T20:11:20.831Z"
   },
   {
    "duration": 241,
    "start_time": "2025-05-24T20:11:20.852Z"
   },
   {
    "duration": 146,
    "start_time": "2025-05-24T20:11:21.094Z"
   },
   {
    "duration": 223,
    "start_time": "2025-05-24T20:11:49.062Z"
   },
   {
    "duration": 64,
    "start_time": "2025-05-24T20:12:21.594Z"
   },
   {
    "duration": 141,
    "start_time": "2025-05-24T20:12:24.800Z"
   },
   {
    "duration": 143,
    "start_time": "2025-05-24T20:12:37.706Z"
   },
   {
    "duration": 134,
    "start_time": "2025-05-24T20:13:37.311Z"
   },
   {
    "duration": 142,
    "start_time": "2025-05-24T20:14:11.340Z"
   },
   {
    "duration": 178,
    "start_time": "2025-05-24T20:14:20.984Z"
   },
   {
    "duration": 155,
    "start_time": "2025-05-24T20:14:39.652Z"
   },
   {
    "duration": 97,
    "start_time": "2025-05-24T20:15:21.136Z"
   },
   {
    "duration": 159,
    "start_time": "2025-05-24T20:16:20.812Z"
   },
   {
    "duration": 148,
    "start_time": "2025-05-24T20:16:42.159Z"
   },
   {
    "duration": 150,
    "start_time": "2025-05-24T20:17:06.822Z"
   },
   {
    "duration": 3,
    "start_time": "2025-05-24T20:20:37.249Z"
   },
   {
    "duration": 3,
    "start_time": "2025-05-24T20:20:47.881Z"
   },
   {
    "duration": 5,
    "start_time": "2025-05-24T20:21:01.343Z"
   },
   {
    "duration": 5,
    "start_time": "2025-05-24T20:21:21.488Z"
   },
   {
    "duration": 5,
    "start_time": "2025-05-24T20:21:37.526Z"
   },
   {
    "duration": 7,
    "start_time": "2025-05-24T20:21:43.563Z"
   },
   {
    "duration": 204,
    "start_time": "2025-05-24T21:22:27.424Z"
   },
   {
    "duration": 153,
    "start_time": "2025-05-24T21:23:40.481Z"
   },
   {
    "duration": 72,
    "start_time": "2025-05-24T21:26:34.929Z"
   },
   {
    "duration": 4,
    "start_time": "2025-05-24T21:27:18.010Z"
   },
   {
    "duration": 23,
    "start_time": "2025-05-24T22:01:36.913Z"
   },
   {
    "duration": 71,
    "start_time": "2025-05-24T22:03:43.310Z"
   },
   {
    "duration": 4,
    "start_time": "2025-05-24T22:03:49.889Z"
   },
   {
    "duration": 14,
    "start_time": "2025-05-24T22:03:59.574Z"
   },
   {
    "duration": 6,
    "start_time": "2025-05-24T22:04:20.711Z"
   },
   {
    "duration": 5,
    "start_time": "2025-05-24T22:04:55.479Z"
   },
   {
    "duration": 13,
    "start_time": "2025-05-24T22:05:40.164Z"
   },
   {
    "duration": 841,
    "start_time": "2025-05-24T22:05:56.934Z"
   },
   {
    "duration": 14,
    "start_time": "2025-05-24T22:06:11.316Z"
   },
   {
    "duration": 10,
    "start_time": "2025-05-24T22:06:54.710Z"
   },
   {
    "duration": 19,
    "start_time": "2025-05-24T22:06:55.943Z"
   },
   {
    "duration": 12,
    "start_time": "2025-05-24T22:07:01.083Z"
   },
   {
    "duration": 8,
    "start_time": "2025-05-24T22:07:12.241Z"
   },
   {
    "duration": 7,
    "start_time": "2025-05-24T22:07:19.091Z"
   },
   {
    "duration": 185,
    "start_time": "2025-05-24T22:08:28.041Z"
   },
   {
    "duration": 170,
    "start_time": "2025-05-24T22:09:01.122Z"
   },
   {
    "duration": 181,
    "start_time": "2025-05-24T22:09:12.102Z"
   },
   {
    "duration": 115,
    "start_time": "2025-05-24T22:09:16.913Z"
   },
   {
    "duration": 177,
    "start_time": "2025-05-24T22:10:00.422Z"
   },
   {
    "duration": 214,
    "start_time": "2025-05-24T22:10:06.856Z"
   },
   {
    "duration": 179,
    "start_time": "2025-05-24T22:10:15.001Z"
   },
   {
    "duration": 188,
    "start_time": "2025-05-24T22:10:54.607Z"
   },
   {
    "duration": 928,
    "start_time": "2025-05-24T22:11:45.562Z"
   },
   {
    "duration": 168,
    "start_time": "2025-05-24T22:11:55.260Z"
   },
   {
    "duration": 231,
    "start_time": "2025-05-24T22:12:18.104Z"
   },
   {
    "duration": 170,
    "start_time": "2025-05-24T22:12:35.630Z"
   },
   {
    "duration": 178,
    "start_time": "2025-05-24T22:12:37.681Z"
   },
   {
    "duration": 114,
    "start_time": "2025-05-24T22:13:13.209Z"
   },
   {
    "duration": 103,
    "start_time": "2025-05-24T22:13:47.317Z"
   },
   {
    "duration": 187,
    "start_time": "2025-05-24T22:15:07.869Z"
   },
   {
    "duration": 173,
    "start_time": "2025-05-24T22:15:08.236Z"
   },
   {
    "duration": 759,
    "start_time": "2025-05-24T22:15:59.982Z"
   },
   {
    "duration": 7,
    "start_time": "2025-05-24T22:16:13.092Z"
   },
   {
    "duration": 5,
    "start_time": "2025-05-24T22:16:27.893Z"
   },
   {
    "duration": 183,
    "start_time": "2025-05-24T22:20:26.973Z"
   },
   {
    "duration": 166,
    "start_time": "2025-05-24T22:20:36.409Z"
   },
   {
    "duration": 178,
    "start_time": "2025-05-24T22:21:03.103Z"
   },
   {
    "duration": 6,
    "start_time": "2025-05-24T22:21:34.026Z"
   },
   {
    "duration": 6,
    "start_time": "2025-05-24T22:21:48.245Z"
   },
   {
    "duration": 56,
    "start_time": "2025-05-28T09:02:31.192Z"
   },
   {
    "duration": 907,
    "start_time": "2025-05-28T09:02:36.793Z"
   },
   {
    "duration": 22,
    "start_time": "2025-05-28T09:02:37.702Z"
   },
   {
    "duration": 46,
    "start_time": "2025-05-28T09:02:37.725Z"
   },
   {
    "duration": 33,
    "start_time": "2025-05-28T09:02:37.773Z"
   },
   {
    "duration": 9,
    "start_time": "2025-05-28T09:02:37.808Z"
   },
   {
    "duration": 25,
    "start_time": "2025-05-28T09:02:37.819Z"
   },
   {
    "duration": 7,
    "start_time": "2025-05-28T09:02:37.846Z"
   },
   {
    "duration": 22,
    "start_time": "2025-05-28T09:02:37.855Z"
   },
   {
    "duration": 12,
    "start_time": "2025-05-28T09:02:37.879Z"
   },
   {
    "duration": 9,
    "start_time": "2025-05-28T09:02:37.894Z"
   },
   {
    "duration": 13,
    "start_time": "2025-05-28T09:02:37.904Z"
   },
   {
    "duration": 8,
    "start_time": "2025-05-28T09:02:37.918Z"
   },
   {
    "duration": 8,
    "start_time": "2025-05-28T09:02:37.928Z"
   },
   {
    "duration": 8,
    "start_time": "2025-05-28T09:02:37.938Z"
   },
   {
    "duration": 222,
    "start_time": "2025-05-28T09:02:37.947Z"
   },
   {
    "duration": 7,
    "start_time": "2025-05-28T09:02:38.171Z"
   },
   {
    "duration": 29,
    "start_time": "2025-05-28T09:02:38.180Z"
   },
   {
    "duration": 105,
    "start_time": "2025-05-28T09:02:38.211Z"
   },
   {
    "duration": 200,
    "start_time": "2025-05-28T09:02:38.318Z"
   },
   {
    "duration": 206,
    "start_time": "2025-05-28T09:02:38.519Z"
   },
   {
    "duration": 198,
    "start_time": "2025-05-28T09:02:38.728Z"
   },
   {
    "duration": 7,
    "start_time": "2025-05-28T09:02:38.928Z"
   },
   {
    "duration": 216,
    "start_time": "2025-05-28T09:02:38.936Z"
   },
   {
    "duration": 199,
    "start_time": "2025-05-28T09:02:39.154Z"
   },
   {
    "duration": 224,
    "start_time": "2025-05-28T09:02:39.355Z"
   },
   {
    "duration": 10,
    "start_time": "2025-05-28T09:02:39.581Z"
   },
   {
    "duration": 20,
    "start_time": "2025-05-28T09:02:39.593Z"
   },
   {
    "duration": 93,
    "start_time": "2025-05-28T09:02:39.617Z"
   },
   {
    "duration": 8,
    "start_time": "2025-05-28T09:02:39.713Z"
   },
   {
    "duration": 206,
    "start_time": "2025-05-28T09:02:39.723Z"
   },
   {
    "duration": 7,
    "start_time": "2025-05-28T09:02:39.931Z"
   },
   {
    "duration": 203,
    "start_time": "2025-05-28T09:02:39.940Z"
   },
   {
    "duration": 6,
    "start_time": "2025-05-28T09:02:40.145Z"
   },
   {
    "duration": 231,
    "start_time": "2025-05-28T09:02:40.152Z"
   },
   {
    "duration": 6,
    "start_time": "2025-05-28T09:02:40.385Z"
   },
   {
    "duration": 208,
    "start_time": "2025-05-28T09:02:40.393Z"
   },
   {
    "duration": 14,
    "start_time": "2025-05-28T09:02:40.605Z"
   },
   {
    "duration": 21,
    "start_time": "2025-05-28T09:02:40.621Z"
   },
   {
    "duration": 71,
    "start_time": "2025-05-28T09:02:40.644Z"
   },
   {
    "duration": 84,
    "start_time": "2025-05-28T09:03:29.705Z"
   },
   {
    "duration": 66,
    "start_time": "2025-05-28T09:03:42.446Z"
   },
   {
    "duration": 76,
    "start_time": "2025-05-28T09:03:57.235Z"
   },
   {
    "duration": 8,
    "start_time": "2025-05-28T09:04:09.332Z"
   },
   {
    "duration": 9,
    "start_time": "2025-05-28T09:04:46.362Z"
   },
   {
    "duration": 10,
    "start_time": "2025-05-28T09:04:57.082Z"
   },
   {
    "duration": 10,
    "start_time": "2025-05-28T09:05:24.311Z"
   },
   {
    "duration": 9,
    "start_time": "2025-05-28T09:05:25.826Z"
   },
   {
    "duration": 10,
    "start_time": "2025-05-28T09:10:01.257Z"
   },
   {
    "duration": 10,
    "start_time": "2025-05-28T09:10:03.317Z"
   },
   {
    "duration": 11,
    "start_time": "2025-05-28T09:10:06.213Z"
   },
   {
    "duration": 10,
    "start_time": "2025-05-28T09:10:06.752Z"
   },
   {
    "duration": 113,
    "start_time": "2025-05-28T09:10:20.646Z"
   },
   {
    "duration": 10,
    "start_time": "2025-05-28T09:10:21.337Z"
   },
   {
    "duration": 16,
    "start_time": "2025-05-28T09:10:27.520Z"
   },
   {
    "duration": 13,
    "start_time": "2025-05-28T09:10:28.274Z"
   },
   {
    "duration": 10,
    "start_time": "2025-05-28T09:29:06.384Z"
   },
   {
    "duration": 10,
    "start_time": "2025-05-28T09:29:10.386Z"
   },
   {
    "duration": 4,
    "start_time": "2025-05-28T09:31:27.448Z"
   },
   {
    "duration": 3,
    "start_time": "2025-05-28T09:31:48.041Z"
   },
   {
    "duration": 10,
    "start_time": "2025-05-28T09:32:00.625Z"
   },
   {
    "duration": 74,
    "start_time": "2025-05-28T09:32:55.960Z"
   },
   {
    "duration": 16,
    "start_time": "2025-05-28T09:37:15.336Z"
   },
   {
    "duration": 5,
    "start_time": "2025-05-28T09:37:16.361Z"
   },
   {
    "duration": 19,
    "start_time": "2025-05-28T09:37:20.201Z"
   },
   {
    "duration": 109,
    "start_time": "2025-05-28T09:42:34.487Z"
   },
   {
    "duration": 8,
    "start_time": "2025-05-28T09:42:45.616Z"
   },
   {
    "duration": 8,
    "start_time": "2025-05-28T09:42:56.143Z"
   },
   {
    "duration": 10,
    "start_time": "2025-05-28T09:42:57.681Z"
   },
   {
    "duration": 14,
    "start_time": "2025-05-28T09:44:38.167Z"
   },
   {
    "duration": 12,
    "start_time": "2025-05-28T09:44:39.614Z"
   },
   {
    "duration": 4,
    "start_time": "2025-05-28T09:44:40.257Z"
   },
   {
    "duration": 860,
    "start_time": "2025-05-28T09:44:44.146Z"
   },
   {
    "duration": 13,
    "start_time": "2025-05-28T09:44:51.279Z"
   },
   {
    "duration": 22,
    "start_time": "2025-05-28T09:46:36.576Z"
   },
   {
    "duration": 11,
    "start_time": "2025-05-28T09:46:42.847Z"
   },
   {
    "duration": 4,
    "start_time": "2025-05-28T09:46:43.545Z"
   },
   {
    "duration": 13,
    "start_time": "2025-05-28T09:46:45.767Z"
   },
   {
    "duration": 13,
    "start_time": "2025-05-28T09:47:20.127Z"
   },
   {
    "duration": 11,
    "start_time": "2025-05-28T09:47:24.345Z"
   },
   {
    "duration": 12,
    "start_time": "2025-05-28T09:47:24.893Z"
   },
   {
    "duration": 4,
    "start_time": "2025-05-28T09:47:25.599Z"
   },
   {
    "duration": 15,
    "start_time": "2025-05-28T09:47:26.487Z"
   },
   {
    "duration": 3,
    "start_time": "2025-05-28T09:50:07.198Z"
   },
   {
    "duration": 171,
    "start_time": "2025-05-28T09:50:27.054Z"
   },
   {
    "duration": 62,
    "start_time": "2025-05-28T09:52:59.023Z"
   },
   {
    "duration": 14,
    "start_time": "2025-05-28T09:54:53.263Z"
   },
   {
    "duration": 48,
    "start_time": "2025-05-29T10:13:51.598Z"
   },
   {
    "duration": 797,
    "start_time": "2025-05-29T10:13:55.724Z"
   },
   {
    "duration": 20,
    "start_time": "2025-05-29T10:13:56.523Z"
   },
   {
    "duration": 12,
    "start_time": "2025-05-29T10:13:56.544Z"
   },
   {
    "duration": 30,
    "start_time": "2025-05-29T10:13:56.562Z"
   },
   {
    "duration": 8,
    "start_time": "2025-05-29T10:13:56.594Z"
   },
   {
    "duration": 18,
    "start_time": "2025-05-29T10:13:56.604Z"
   },
   {
    "duration": 7,
    "start_time": "2025-05-29T10:13:56.623Z"
   },
   {
    "duration": 9,
    "start_time": "2025-05-29T10:13:56.632Z"
   },
   {
    "duration": 20,
    "start_time": "2025-05-29T10:13:56.642Z"
   },
   {
    "duration": 8,
    "start_time": "2025-05-29T10:13:56.664Z"
   },
   {
    "duration": 6,
    "start_time": "2025-05-29T10:13:56.674Z"
   },
   {
    "duration": 9,
    "start_time": "2025-05-29T10:13:56.681Z"
   },
   {
    "duration": 11,
    "start_time": "2025-05-29T10:13:56.691Z"
   },
   {
    "duration": 9,
    "start_time": "2025-05-29T10:13:56.705Z"
   },
   {
    "duration": 195,
    "start_time": "2025-05-29T10:13:56.715Z"
   },
   {
    "duration": 6,
    "start_time": "2025-05-29T10:13:56.912Z"
   },
   {
    "duration": 13,
    "start_time": "2025-05-29T10:13:56.920Z"
   },
   {
    "duration": 103,
    "start_time": "2025-05-29T10:13:56.935Z"
   },
   {
    "duration": 180,
    "start_time": "2025-05-29T10:13:57.040Z"
   },
   {
    "duration": 180,
    "start_time": "2025-05-29T10:13:57.222Z"
   },
   {
    "duration": 182,
    "start_time": "2025-05-29T10:13:57.404Z"
   },
   {
    "duration": 6,
    "start_time": "2025-05-29T10:13:57.587Z"
   },
   {
    "duration": 194,
    "start_time": "2025-05-29T10:13:57.594Z"
   },
   {
    "duration": 215,
    "start_time": "2025-05-29T10:13:57.790Z"
   },
   {
    "duration": 187,
    "start_time": "2025-05-29T10:13:58.007Z"
   },
   {
    "duration": 9,
    "start_time": "2025-05-29T10:13:58.195Z"
   },
   {
    "duration": 76,
    "start_time": "2025-05-29T10:13:58.206Z"
   },
   {
    "duration": 29,
    "start_time": "2025-05-29T10:13:58.284Z"
   },
   {
    "duration": 8,
    "start_time": "2025-05-29T10:13:58.315Z"
   },
   {
    "duration": 192,
    "start_time": "2025-05-29T10:13:58.325Z"
   },
   {
    "duration": 5,
    "start_time": "2025-05-29T10:13:58.519Z"
   },
   {
    "duration": 192,
    "start_time": "2025-05-29T10:13:58.526Z"
   },
   {
    "duration": 5,
    "start_time": "2025-05-29T10:13:58.720Z"
   },
   {
    "duration": 187,
    "start_time": "2025-05-29T10:13:58.726Z"
   },
   {
    "duration": 6,
    "start_time": "2025-05-29T10:13:58.915Z"
   },
   {
    "duration": 184,
    "start_time": "2025-05-29T10:13:58.923Z"
   },
   {
    "duration": 5,
    "start_time": "2025-05-29T10:13:59.109Z"
   },
   {
    "duration": 22,
    "start_time": "2025-05-29T10:13:59.115Z"
   },
   {
    "duration": 24,
    "start_time": "2025-05-29T10:13:59.138Z"
   },
   {
    "duration": 11,
    "start_time": "2025-05-29T10:13:59.164Z"
   },
   {
    "duration": 4,
    "start_time": "2025-05-29T10:13:59.178Z"
   },
   {
    "duration": 5,
    "start_time": "2025-05-29T10:13:59.183Z"
   },
   {
    "duration": 9,
    "start_time": "2025-05-29T10:13:59.190Z"
   },
   {
    "duration": 14,
    "start_time": "2025-05-29T10:15:30.451Z"
   },
   {
    "duration": 3,
    "start_time": "2025-05-29T10:16:36.148Z"
   },
   {
    "duration": 95,
    "start_time": "2025-05-29T10:18:50.603Z"
   },
   {
    "duration": 86,
    "start_time": "2025-05-29T10:18:55.642Z"
   },
   {
    "duration": 3,
    "start_time": "2025-05-29T10:19:05.209Z"
   },
   {
    "duration": 997,
    "start_time": "2025-05-29T10:22:57.387Z"
   },
   {
    "duration": 20,
    "start_time": "2025-05-29T10:23:04.059Z"
   },
   {
    "duration": 4,
    "start_time": "2025-05-29T10:23:33.002Z"
   },
   {
    "duration": 15,
    "start_time": "2025-05-29T10:23:33.493Z"
   },
   {
    "duration": 4,
    "start_time": "2025-05-29T10:23:52.440Z"
   },
   {
    "duration": 3542,
    "start_time": "2025-05-29T10:23:52.820Z"
   },
   {
    "duration": 1020,
    "start_time": "2025-05-29T10:24:05.816Z"
   },
   {
    "duration": 3452,
    "start_time": "2025-05-29T10:24:50.915Z"
   },
   {
    "duration": 107,
    "start_time": "2025-05-29T10:28:53.365Z"
   },
   {
    "duration": 93,
    "start_time": "2025-05-29T10:29:01.672Z"
   },
   {
    "duration": 105,
    "start_time": "2025-05-29T10:29:07.099Z"
   },
   {
    "duration": 5,
    "start_time": "2025-05-29T10:29:22.864Z"
   },
   {
    "duration": 12,
    "start_time": "2025-05-29T10:29:23.823Z"
   },
   {
    "duration": 4,
    "start_time": "2025-05-29T10:29:39.141Z"
   },
   {
    "duration": 11,
    "start_time": "2025-05-29T10:29:39.577Z"
   },
   {
    "duration": 7,
    "start_time": "2025-05-29T10:29:40.908Z"
   },
   {
    "duration": 6,
    "start_time": "2025-05-29T10:31:17.030Z"
   },
   {
    "duration": 6,
    "start_time": "2025-05-29T10:31:28.580Z"
   },
   {
    "duration": 7,
    "start_time": "2025-05-29T10:31:38.358Z"
   },
   {
    "duration": 5,
    "start_time": "2025-05-29T10:31:52.736Z"
   },
   {
    "duration": 6,
    "start_time": "2025-05-29T10:31:59.890Z"
   },
   {
    "duration": 5,
    "start_time": "2025-05-29T10:32:21.588Z"
   },
   {
    "duration": 1191,
    "start_time": "2025-05-29T10:32:22.057Z"
   },
   {
    "duration": 16,
    "start_time": "2025-05-29T10:32:33.243Z"
   },
   {
    "duration": 47,
    "start_time": "2025-05-30T15:17:32.428Z"
   },
   {
    "duration": 6,
    "start_time": "2025-05-30T15:17:35.463Z"
   },
   {
    "duration": 768,
    "start_time": "2025-05-30T15:19:35.899Z"
   },
   {
    "duration": 19,
    "start_time": "2025-05-30T15:19:36.670Z"
   },
   {
    "duration": 14,
    "start_time": "2025-05-30T15:19:36.691Z"
   },
   {
    "duration": 148,
    "start_time": "2025-05-30T15:19:36.706Z"
   },
   {
    "duration": 9,
    "start_time": "2025-05-30T15:19:36.855Z"
   },
   {
    "duration": 165,
    "start_time": "2025-05-30T15:19:36.865Z"
   },
   {
    "duration": 33,
    "start_time": "2025-05-30T15:19:37.031Z"
   },
   {
    "duration": 61,
    "start_time": "2025-05-30T15:19:37.066Z"
   },
   {
    "duration": 77,
    "start_time": "2025-05-30T15:19:37.128Z"
   },
   {
    "duration": 16,
    "start_time": "2025-05-30T15:19:37.208Z"
   },
   {
    "duration": 11,
    "start_time": "2025-05-30T15:19:37.226Z"
   },
   {
    "duration": 11,
    "start_time": "2025-05-30T15:19:37.239Z"
   },
   {
    "duration": 16,
    "start_time": "2025-05-30T15:19:37.251Z"
   },
   {
    "duration": 24,
    "start_time": "2025-05-30T15:19:37.269Z"
   },
   {
    "duration": 179,
    "start_time": "2025-05-30T15:19:37.294Z"
   },
   {
    "duration": 6,
    "start_time": "2025-05-30T15:19:37.475Z"
   },
   {
    "duration": 20,
    "start_time": "2025-05-30T15:19:37.483Z"
   },
   {
    "duration": 119,
    "start_time": "2025-05-30T15:19:37.504Z"
   },
   {
    "duration": 171,
    "start_time": "2025-05-30T15:19:37.625Z"
   },
   {
    "duration": 171,
    "start_time": "2025-05-30T15:19:37.797Z"
   },
   {
    "duration": 190,
    "start_time": "2025-05-30T15:19:37.969Z"
   },
   {
    "duration": 6,
    "start_time": "2025-05-30T15:19:38.160Z"
   },
   {
    "duration": 179,
    "start_time": "2025-05-30T15:19:38.167Z"
   },
   {
    "duration": 173,
    "start_time": "2025-05-30T15:19:38.348Z"
   },
   {
    "duration": 170,
    "start_time": "2025-05-30T15:19:38.523Z"
   },
   {
    "duration": 10,
    "start_time": "2025-05-30T15:19:38.695Z"
   },
   {
    "duration": 14,
    "start_time": "2025-05-30T15:19:38.706Z"
   },
   {
    "duration": 77,
    "start_time": "2025-05-30T15:19:38.738Z"
   },
   {
    "duration": 26,
    "start_time": "2025-05-30T15:19:38.817Z"
   },
   {
    "duration": 178,
    "start_time": "2025-05-30T15:19:38.844Z"
   },
   {
    "duration": 15,
    "start_time": "2025-05-30T15:19:39.024Z"
   },
   {
    "duration": 173,
    "start_time": "2025-05-30T15:19:39.041Z"
   },
   {
    "duration": 6,
    "start_time": "2025-05-30T15:19:39.216Z"
   },
   {
    "duration": 180,
    "start_time": "2025-05-30T15:19:39.224Z"
   },
   {
    "duration": 7,
    "start_time": "2025-05-30T15:19:39.405Z"
   },
   {
    "duration": 185,
    "start_time": "2025-05-30T15:19:39.413Z"
   },
   {
    "duration": 6,
    "start_time": "2025-05-30T15:19:39.600Z"
   },
   {
    "duration": 20,
    "start_time": "2025-05-30T15:19:39.607Z"
   },
   {
    "duration": 13,
    "start_time": "2025-05-30T15:19:39.638Z"
   },
   {
    "duration": 9,
    "start_time": "2025-05-30T15:19:39.652Z"
   },
   {
    "duration": 3,
    "start_time": "2025-05-30T15:19:39.663Z"
   },
   {
    "duration": 13,
    "start_time": "2025-05-30T15:19:39.667Z"
   },
   {
    "duration": 5,
    "start_time": "2025-05-30T15:19:39.681Z"
   },
   {
    "duration": 1129,
    "start_time": "2025-05-30T15:19:39.687Z"
   },
   {
    "duration": 23,
    "start_time": "2025-05-30T15:19:40.818Z"
   },
   {
    "duration": 62,
    "start_time": "2025-05-30T15:19:40.842Z"
   },
   {
    "duration": 23,
    "start_time": "2025-05-30T15:19:59.156Z"
   },
   {
    "duration": 2,
    "start_time": "2025-05-30T15:20:46.762Z"
   },
   {
    "duration": 3,
    "start_time": "2025-05-30T15:20:54.206Z"
   },
   {
    "duration": 69,
    "start_time": "2025-05-30T15:21:33.609Z"
   },
   {
    "duration": 3,
    "start_time": "2025-05-30T15:21:36.450Z"
   },
   {
    "duration": 4,
    "start_time": "2025-05-30T15:21:36.780Z"
   },
   {
    "duration": 7,
    "start_time": "2025-05-30T15:31:28.143Z"
   },
   {
    "duration": 490,
    "start_time": "2025-05-30T15:32:06.418Z"
   },
   {
    "duration": 5,
    "start_time": "2025-05-30T15:32:09.649Z"
   },
   {
    "duration": 5,
    "start_time": "2025-05-30T15:32:26.852Z"
   },
   {
    "duration": 5,
    "start_time": "2025-05-30T15:32:37.651Z"
   },
   {
    "duration": 63,
    "start_time": "2025-05-30T15:36:41.145Z"
   },
   {
    "duration": 5,
    "start_time": "2025-05-30T15:36:45.665Z"
   },
   {
    "duration": 5,
    "start_time": "2025-05-30T15:36:51.452Z"
   },
   {
    "duration": 33,
    "start_time": "2025-05-30T16:11:32.946Z"
   },
   {
    "duration": 6,
    "start_time": "2025-05-30T16:11:39.072Z"
   },
   {
    "duration": 5,
    "start_time": "2025-05-30T16:11:51.130Z"
   },
   {
    "duration": 3,
    "start_time": "2025-05-30T17:07:19.700Z"
   },
   {
    "duration": 3,
    "start_time": "2025-05-30T17:07:32.100Z"
   },
   {
    "duration": 4,
    "start_time": "2025-05-30T17:09:06.807Z"
   },
   {
    "duration": 2,
    "start_time": "2025-05-30T17:09:49.700Z"
   },
   {
    "duration": 4,
    "start_time": "2025-05-30T17:10:56.286Z"
   },
   {
    "duration": 4,
    "start_time": "2025-05-30T17:11:15.581Z"
   },
   {
    "duration": 5,
    "start_time": "2025-05-30T17:11:35.338Z"
   },
   {
    "duration": 5,
    "start_time": "2025-05-30T17:12:04.147Z"
   },
   {
    "duration": 45,
    "start_time": "2025-06-02T12:41:55.033Z"
   },
   {
    "duration": 759,
    "start_time": "2025-06-02T12:41:59.052Z"
   },
   {
    "duration": 33,
    "start_time": "2025-06-02T12:41:59.813Z"
   },
   {
    "duration": 138,
    "start_time": "2025-06-02T12:41:59.848Z"
   },
   {
    "duration": 204,
    "start_time": "2025-06-02T12:41:59.989Z"
   },
   {
    "duration": 97,
    "start_time": "2025-06-02T12:42:00.195Z"
   },
   {
    "duration": 247,
    "start_time": "2025-06-02T12:42:00.294Z"
   },
   {
    "duration": 102,
    "start_time": "2025-06-02T12:42:00.542Z"
   },
   {
    "duration": 229,
    "start_time": "2025-06-02T12:42:00.646Z"
   },
   {
    "duration": 280,
    "start_time": "2025-06-02T12:42:00.877Z"
   },
   {
    "duration": 181,
    "start_time": "2025-06-02T12:42:01.160Z"
   },
   {
    "duration": 121,
    "start_time": "2025-06-02T12:42:01.343Z"
   },
   {
    "duration": 83,
    "start_time": "2025-06-02T12:42:01.466Z"
   },
   {
    "duration": 22,
    "start_time": "2025-06-02T12:42:01.551Z"
   },
   {
    "duration": 32,
    "start_time": "2025-06-02T12:42:01.575Z"
   },
   {
    "duration": 224,
    "start_time": "2025-06-02T12:42:01.608Z"
   },
   {
    "duration": 6,
    "start_time": "2025-06-02T12:42:01.833Z"
   },
   {
    "duration": 29,
    "start_time": "2025-06-02T12:42:01.841Z"
   },
   {
    "duration": 92,
    "start_time": "2025-06-02T12:42:01.871Z"
   },
   {
    "duration": 156,
    "start_time": "2025-06-02T12:42:01.964Z"
   },
   {
    "duration": 166,
    "start_time": "2025-06-02T12:42:02.121Z"
   },
   {
    "duration": 164,
    "start_time": "2025-06-02T12:42:02.289Z"
   },
   {
    "duration": 5,
    "start_time": "2025-06-02T12:42:02.455Z"
   },
   {
    "duration": 221,
    "start_time": "2025-06-02T12:42:02.461Z"
   },
   {
    "duration": 168,
    "start_time": "2025-06-02T12:42:02.684Z"
   },
   {
    "duration": 173,
    "start_time": "2025-06-02T12:42:02.853Z"
   },
   {
    "duration": 13,
    "start_time": "2025-06-02T12:42:03.027Z"
   },
   {
    "duration": 149,
    "start_time": "2025-06-02T12:42:03.042Z"
   },
   {
    "duration": 116,
    "start_time": "2025-06-02T12:42:03.195Z"
   },
   {
    "duration": 58,
    "start_time": "2025-06-02T12:42:03.313Z"
   },
   {
    "duration": 243,
    "start_time": "2025-06-02T12:42:03.373Z"
   },
   {
    "duration": 6,
    "start_time": "2025-06-02T12:42:03.618Z"
   },
   {
    "duration": 196,
    "start_time": "2025-06-02T12:42:03.626Z"
   },
   {
    "duration": 6,
    "start_time": "2025-06-02T12:42:03.824Z"
   },
   {
    "duration": 170,
    "start_time": "2025-06-02T12:42:03.838Z"
   },
   {
    "duration": 6,
    "start_time": "2025-06-02T12:42:04.011Z"
   },
   {
    "duration": 177,
    "start_time": "2025-06-02T12:42:04.018Z"
   },
   {
    "duration": 6,
    "start_time": "2025-06-02T12:42:04.197Z"
   },
   {
    "duration": 93,
    "start_time": "2025-06-02T12:42:04.204Z"
   },
   {
    "duration": 34,
    "start_time": "2025-06-02T12:42:04.299Z"
   },
   {
    "duration": 10,
    "start_time": "2025-06-02T12:42:04.335Z"
   },
   {
    "duration": 8,
    "start_time": "2025-06-02T12:42:04.347Z"
   },
   {
    "duration": 13,
    "start_time": "2025-06-02T12:42:04.357Z"
   },
   {
    "duration": 23,
    "start_time": "2025-06-02T12:42:04.372Z"
   },
   {
    "duration": 8,
    "start_time": "2025-06-02T12:42:04.396Z"
   },
   {
    "duration": 1514,
    "start_time": "2025-06-02T12:42:04.406Z"
   },
   {
    "duration": 0,
    "start_time": "2025-06-02T12:42:05.921Z"
   },
   {
    "duration": 0,
    "start_time": "2025-06-02T12:42:05.923Z"
   },
   {
    "duration": 0,
    "start_time": "2025-06-02T12:42:05.924Z"
   },
   {
    "duration": 0,
    "start_time": "2025-06-02T12:42:05.925Z"
   },
   {
    "duration": 0,
    "start_time": "2025-06-02T12:42:05.926Z"
   },
   {
    "duration": 0,
    "start_time": "2025-06-02T12:42:05.927Z"
   },
   {
    "duration": 0,
    "start_time": "2025-06-02T12:42:05.928Z"
   },
   {
    "duration": 0,
    "start_time": "2025-06-02T12:42:05.929Z"
   },
   {
    "duration": 0,
    "start_time": "2025-06-02T12:42:05.930Z"
   },
   {
    "duration": 0,
    "start_time": "2025-06-02T12:42:05.931Z"
   },
   {
    "duration": 13,
    "start_time": "2025-06-02T12:42:09.830Z"
   },
   {
    "duration": 14,
    "start_time": "2025-06-02T12:42:32.334Z"
   },
   {
    "duration": 608,
    "start_time": "2025-06-02T12:42:38.771Z"
   },
   {
    "duration": 18,
    "start_time": "2025-06-02T12:42:39.381Z"
   },
   {
    "duration": 214,
    "start_time": "2025-06-02T12:42:39.401Z"
   },
   {
    "duration": 213,
    "start_time": "2025-06-02T12:42:39.617Z"
   },
   {
    "duration": 154,
    "start_time": "2025-06-02T12:42:39.832Z"
   },
   {
    "duration": 221,
    "start_time": "2025-06-02T12:42:39.988Z"
   },
   {
    "duration": 188,
    "start_time": "2025-06-02T12:42:40.211Z"
   },
   {
    "duration": 231,
    "start_time": "2025-06-02T12:42:40.401Z"
   },
   {
    "duration": 266,
    "start_time": "2025-06-02T12:42:40.633Z"
   },
   {
    "duration": 287,
    "start_time": "2025-06-02T12:42:40.902Z"
   },
   {
    "duration": 145,
    "start_time": "2025-06-02T12:42:41.190Z"
   },
   {
    "duration": 254,
    "start_time": "2025-06-02T12:42:41.337Z"
   },
   {
    "duration": 39,
    "start_time": "2025-06-02T12:42:41.592Z"
   },
   {
    "duration": 49,
    "start_time": "2025-06-02T12:42:41.633Z"
   },
   {
    "duration": 204,
    "start_time": "2025-06-02T12:42:41.684Z"
   },
   {
    "duration": 6,
    "start_time": "2025-06-02T12:42:41.889Z"
   },
   {
    "duration": 33,
    "start_time": "2025-06-02T12:42:41.897Z"
   },
   {
    "duration": 93,
    "start_time": "2025-06-02T12:42:41.932Z"
   },
   {
    "duration": 146,
    "start_time": "2025-06-02T12:42:42.027Z"
   },
   {
    "duration": 166,
    "start_time": "2025-06-02T12:42:42.175Z"
   },
   {
    "duration": 166,
    "start_time": "2025-06-02T12:42:42.342Z"
   },
   {
    "duration": 5,
    "start_time": "2025-06-02T12:42:42.509Z"
   },
   {
    "duration": 183,
    "start_time": "2025-06-02T12:42:42.516Z"
   },
   {
    "duration": 166,
    "start_time": "2025-06-02T12:42:42.701Z"
   },
   {
    "duration": 174,
    "start_time": "2025-06-02T12:42:42.869Z"
   },
   {
    "duration": 10,
    "start_time": "2025-06-02T12:42:43.044Z"
   },
   {
    "duration": 53,
    "start_time": "2025-06-02T12:42:43.056Z"
   },
   {
    "duration": 208,
    "start_time": "2025-06-02T12:42:43.113Z"
   },
   {
    "duration": 12,
    "start_time": "2025-06-02T12:42:43.322Z"
   },
   {
    "duration": 188,
    "start_time": "2025-06-02T12:42:43.335Z"
   },
   {
    "duration": 18,
    "start_time": "2025-06-02T12:42:43.525Z"
   },
   {
    "duration": 177,
    "start_time": "2025-06-02T12:42:43.544Z"
   },
   {
    "duration": 7,
    "start_time": "2025-06-02T12:42:43.723Z"
   },
   {
    "duration": 181,
    "start_time": "2025-06-02T12:42:43.739Z"
   },
   {
    "duration": 6,
    "start_time": "2025-06-02T12:42:43.922Z"
   },
   {
    "duration": 193,
    "start_time": "2025-06-02T12:42:43.929Z"
   },
   {
    "duration": 5,
    "start_time": "2025-06-02T12:42:44.124Z"
   },
   {
    "duration": 20,
    "start_time": "2025-06-02T12:42:44.131Z"
   },
   {
    "duration": 34,
    "start_time": "2025-06-02T12:42:44.153Z"
   },
   {
    "duration": 25,
    "start_time": "2025-06-02T12:42:44.188Z"
   },
   {
    "duration": 25,
    "start_time": "2025-06-02T12:42:44.215Z"
   },
   {
    "duration": 14,
    "start_time": "2025-06-02T12:42:44.242Z"
   },
   {
    "duration": 27,
    "start_time": "2025-06-02T12:42:44.258Z"
   },
   {
    "duration": 26,
    "start_time": "2025-06-02T12:42:44.287Z"
   },
   {
    "duration": 20,
    "start_time": "2025-06-02T12:42:44.315Z"
   },
   {
    "duration": 24,
    "start_time": "2025-06-02T12:42:44.336Z"
   },
   {
    "duration": 1658,
    "start_time": "2025-06-02T12:42:44.362Z"
   },
   {
    "duration": 0,
    "start_time": "2025-06-02T12:42:46.023Z"
   },
   {
    "duration": 0,
    "start_time": "2025-06-02T12:42:46.024Z"
   },
   {
    "duration": 0,
    "start_time": "2025-06-02T12:42:46.025Z"
   },
   {
    "duration": 0,
    "start_time": "2025-06-02T12:42:46.027Z"
   },
   {
    "duration": 0,
    "start_time": "2025-06-02T12:42:46.028Z"
   },
   {
    "duration": 0,
    "start_time": "2025-06-02T12:42:46.029Z"
   },
   {
    "duration": 0,
    "start_time": "2025-06-02T12:42:46.031Z"
   },
   {
    "duration": 0,
    "start_time": "2025-06-02T12:42:46.032Z"
   },
   {
    "duration": 0,
    "start_time": "2025-06-02T12:42:46.033Z"
   },
   {
    "duration": 0,
    "start_time": "2025-06-02T12:42:46.035Z"
   },
   {
    "duration": 597,
    "start_time": "2025-06-02T12:43:03.787Z"
   },
   {
    "duration": 18,
    "start_time": "2025-06-02T12:43:04.386Z"
   },
   {
    "duration": 111,
    "start_time": "2025-06-02T12:43:04.406Z"
   },
   {
    "duration": 145,
    "start_time": "2025-06-02T12:43:04.519Z"
   },
   {
    "duration": 46,
    "start_time": "2025-06-02T12:43:04.665Z"
   },
   {
    "duration": 70,
    "start_time": "2025-06-02T12:43:04.712Z"
   },
   {
    "duration": 195,
    "start_time": "2025-06-02T12:43:04.784Z"
   },
   {
    "duration": 88,
    "start_time": "2025-06-02T12:43:04.981Z"
   },
   {
    "duration": 269,
    "start_time": "2025-06-02T12:43:05.071Z"
   },
   {
    "duration": 49,
    "start_time": "2025-06-02T12:43:05.343Z"
   },
   {
    "duration": 75,
    "start_time": "2025-06-02T12:43:05.394Z"
   },
   {
    "duration": 147,
    "start_time": "2025-06-02T12:43:05.471Z"
   },
   {
    "duration": 126,
    "start_time": "2025-06-02T12:43:05.619Z"
   },
   {
    "duration": 116,
    "start_time": "2025-06-02T12:43:05.746Z"
   },
   {
    "duration": 310,
    "start_time": "2025-06-02T12:43:05.863Z"
   },
   {
    "duration": 91,
    "start_time": "2025-06-02T12:43:06.174Z"
   },
   {
    "duration": 33,
    "start_time": "2025-06-02T12:43:06.267Z"
   },
   {
    "duration": 178,
    "start_time": "2025-06-02T12:43:06.301Z"
   },
   {
    "duration": 185,
    "start_time": "2025-06-02T12:43:06.480Z"
   },
   {
    "duration": 161,
    "start_time": "2025-06-02T12:43:06.667Z"
   },
   {
    "duration": 154,
    "start_time": "2025-06-02T12:43:06.830Z"
   },
   {
    "duration": 58,
    "start_time": "2025-06-02T12:43:06.986Z"
   },
   {
    "duration": 288,
    "start_time": "2025-06-02T12:43:07.045Z"
   },
   {
    "duration": 165,
    "start_time": "2025-06-02T12:43:07.335Z"
   },
   {
    "duration": 194,
    "start_time": "2025-06-02T12:43:07.502Z"
   },
   {
    "duration": 9,
    "start_time": "2025-06-02T12:43:07.698Z"
   },
   {
    "duration": 117,
    "start_time": "2025-06-02T12:43:07.709Z"
   },
   {
    "duration": 32,
    "start_time": "2025-06-02T12:43:07.830Z"
   },
   {
    "duration": 15,
    "start_time": "2025-06-02T12:43:07.864Z"
   },
   {
    "duration": 172,
    "start_time": "2025-06-02T12:43:07.881Z"
   },
   {
    "duration": 6,
    "start_time": "2025-06-02T12:43:08.055Z"
   },
   {
    "duration": 270,
    "start_time": "2025-06-02T12:43:08.063Z"
   },
   {
    "duration": 8,
    "start_time": "2025-06-02T12:43:08.335Z"
   },
   {
    "duration": 298,
    "start_time": "2025-06-02T12:43:08.345Z"
   },
   {
    "duration": 6,
    "start_time": "2025-06-02T12:43:08.644Z"
   },
   {
    "duration": 261,
    "start_time": "2025-06-02T12:43:08.652Z"
   },
   {
    "duration": 34,
    "start_time": "2025-06-02T12:43:08.915Z"
   },
   {
    "duration": 216,
    "start_time": "2025-06-02T12:43:08.951Z"
   },
   {
    "duration": 166,
    "start_time": "2025-06-02T12:43:09.169Z"
   },
   {
    "duration": 58,
    "start_time": "2025-06-02T12:43:09.336Z"
   },
   {
    "duration": 110,
    "start_time": "2025-06-02T12:43:09.395Z"
   },
   {
    "duration": 110,
    "start_time": "2025-06-02T12:43:09.507Z"
   },
   {
    "duration": 104,
    "start_time": "2025-06-02T12:43:09.619Z"
   },
   {
    "duration": 102,
    "start_time": "2025-06-02T12:43:09.724Z"
   },
   {
    "duration": 64,
    "start_time": "2025-06-02T12:43:09.828Z"
   },
   {
    "duration": 99,
    "start_time": "2025-06-02T12:43:09.893Z"
   },
   {
    "duration": 1185,
    "start_time": "2025-06-02T12:43:09.994Z"
   },
   {
    "duration": 15,
    "start_time": "2025-06-02T12:43:11.181Z"
   },
   {
    "duration": 639,
    "start_time": "2025-06-02T12:43:11.197Z"
   },
   {
    "duration": 2,
    "start_time": "2025-06-02T12:43:11.839Z"
   },
   {
    "duration": 13,
    "start_time": "2025-06-02T12:43:11.842Z"
   },
   {
    "duration": 8,
    "start_time": "2025-06-02T12:43:11.856Z"
   },
   {
    "duration": 5,
    "start_time": "2025-06-02T12:43:11.866Z"
   },
   {
    "duration": 13,
    "start_time": "2025-06-02T12:43:11.872Z"
   },
   {
    "duration": 25,
    "start_time": "2025-06-02T12:43:11.887Z"
   },
   {
    "duration": 9,
    "start_time": "2025-06-02T12:43:11.914Z"
   },
   {
    "duration": 12,
    "start_time": "2025-06-02T12:43:11.924Z"
   },
   {
    "duration": 6,
    "start_time": "2025-06-02T12:44:35.673Z"
   },
   {
    "duration": 16,
    "start_time": "2025-06-02T12:44:36.512Z"
   },
   {
    "duration": 694,
    "start_time": "2025-06-02T12:44:51.699Z"
   },
   {
    "duration": 19,
    "start_time": "2025-06-02T12:44:52.395Z"
   },
   {
    "duration": 286,
    "start_time": "2025-06-02T12:44:52.416Z"
   },
   {
    "duration": 141,
    "start_time": "2025-06-02T12:44:52.704Z"
   },
   {
    "duration": 129,
    "start_time": "2025-06-02T12:44:52.846Z"
   },
   {
    "duration": 133,
    "start_time": "2025-06-02T12:44:52.977Z"
   },
   {
    "duration": 268,
    "start_time": "2025-06-02T12:44:53.112Z"
   },
   {
    "duration": 189,
    "start_time": "2025-06-02T12:44:53.382Z"
   },
   {
    "duration": 82,
    "start_time": "2025-06-02T12:44:53.574Z"
   },
   {
    "duration": 128,
    "start_time": "2025-06-02T12:44:53.659Z"
   },
   {
    "duration": 166,
    "start_time": "2025-06-02T12:44:53.789Z"
   },
   {
    "duration": 115,
    "start_time": "2025-06-02T12:44:53.957Z"
   },
   {
    "duration": 149,
    "start_time": "2025-06-02T12:44:54.074Z"
   },
   {
    "duration": 88,
    "start_time": "2025-06-02T12:44:54.225Z"
   },
   {
    "duration": 489,
    "start_time": "2025-06-02T12:44:54.315Z"
   },
   {
    "duration": 6,
    "start_time": "2025-06-02T12:44:54.806Z"
   },
   {
    "duration": 166,
    "start_time": "2025-06-02T12:44:54.814Z"
   },
   {
    "duration": 183,
    "start_time": "2025-06-02T12:44:54.982Z"
   },
   {
    "duration": 331,
    "start_time": "2025-06-02T12:44:55.167Z"
   },
   {
    "duration": 167,
    "start_time": "2025-06-02T12:44:55.500Z"
   },
   {
    "duration": 159,
    "start_time": "2025-06-02T12:44:55.669Z"
   },
   {
    "duration": 12,
    "start_time": "2025-06-02T12:44:55.830Z"
   },
   {
    "duration": 285,
    "start_time": "2025-06-02T12:44:55.844Z"
   },
   {
    "duration": 188,
    "start_time": "2025-06-02T12:44:56.130Z"
   },
   {
    "duration": 168,
    "start_time": "2025-06-02T12:44:56.319Z"
   },
   {
    "duration": 8,
    "start_time": "2025-06-02T12:44:56.489Z"
   },
   {
    "duration": 204,
    "start_time": "2025-06-02T12:44:56.498Z"
   },
   {
    "duration": 182,
    "start_time": "2025-06-02T12:44:56.706Z"
   },
   {
    "duration": 122,
    "start_time": "2025-06-02T12:44:56.890Z"
   },
   {
    "duration": 418,
    "start_time": "2025-06-02T12:44:57.014Z"
   },
   {
    "duration": 8,
    "start_time": "2025-06-02T12:44:57.434Z"
   },
   {
    "duration": 277,
    "start_time": "2025-06-02T12:44:57.443Z"
   },
   {
    "duration": 5,
    "start_time": "2025-06-02T12:44:57.722Z"
   },
   {
    "duration": 230,
    "start_time": "2025-06-02T12:44:57.738Z"
   },
   {
    "duration": 5,
    "start_time": "2025-06-02T12:44:57.969Z"
   },
   {
    "duration": 245,
    "start_time": "2025-06-02T12:44:57.976Z"
   },
   {
    "duration": 18,
    "start_time": "2025-06-02T12:44:58.222Z"
   },
   {
    "duration": 86,
    "start_time": "2025-06-02T12:44:58.241Z"
   },
   {
    "duration": 210,
    "start_time": "2025-06-02T12:44:58.329Z"
   },
   {
    "duration": 116,
    "start_time": "2025-06-02T12:44:58.541Z"
   },
   {
    "duration": 88,
    "start_time": "2025-06-02T12:44:58.659Z"
   },
   {
    "duration": 204,
    "start_time": "2025-06-02T12:44:58.749Z"
   },
   {
    "duration": 85,
    "start_time": "2025-06-02T12:44:58.954Z"
   },
   {
    "duration": 61,
    "start_time": "2025-06-02T12:44:59.041Z"
   },
   {
    "duration": 227,
    "start_time": "2025-06-02T12:44:59.104Z"
   },
   {
    "duration": 67,
    "start_time": "2025-06-02T12:44:59.332Z"
   },
   {
    "duration": 1263,
    "start_time": "2025-06-02T12:44:59.400Z"
   },
   {
    "duration": 13,
    "start_time": "2025-06-02T12:45:00.664Z"
   },
   {
    "duration": 830,
    "start_time": "2025-06-02T12:45:00.679Z"
   },
   {
    "duration": 3,
    "start_time": "2025-06-02T12:45:01.510Z"
   },
   {
    "duration": 106,
    "start_time": "2025-06-02T12:45:01.515Z"
   },
   {
    "duration": 68,
    "start_time": "2025-06-02T12:45:01.623Z"
   },
   {
    "duration": 130,
    "start_time": "2025-06-02T12:45:01.693Z"
   },
   {
    "duration": 139,
    "start_time": "2025-06-02T12:45:01.825Z"
   },
   {
    "duration": 72,
    "start_time": "2025-06-02T12:45:01.966Z"
   },
   {
    "duration": 200,
    "start_time": "2025-06-02T12:45:02.039Z"
   },
   {
    "duration": 188,
    "start_time": "2025-06-02T12:45:02.241Z"
   },
   {
    "duration": 15,
    "start_time": "2025-06-02T12:48:58.639Z"
   },
   {
    "duration": 11,
    "start_time": "2025-06-02T12:49:14.378Z"
   },
   {
    "duration": 10,
    "start_time": "2025-06-02T12:49:20.506Z"
   },
   {
    "duration": 106,
    "start_time": "2025-06-02T12:56:52.751Z"
   },
   {
    "duration": 14,
    "start_time": "2025-06-02T12:57:28.584Z"
   },
   {
    "duration": 15,
    "start_time": "2025-06-02T12:57:44.756Z"
   },
   {
    "duration": 6,
    "start_time": "2025-06-02T12:57:55.631Z"
   },
   {
    "duration": 7,
    "start_time": "2025-06-02T12:58:01.729Z"
   },
   {
    "duration": 15,
    "start_time": "2025-06-02T12:58:38.547Z"
   },
   {
    "duration": 15,
    "start_time": "2025-06-02T12:59:05.542Z"
   },
   {
    "duration": 5,
    "start_time": "2025-06-02T12:59:11.325Z"
   },
   {
    "duration": 15,
    "start_time": "2025-06-02T12:59:32.775Z"
   },
   {
    "duration": 6,
    "start_time": "2025-06-02T13:00:04.708Z"
   },
   {
    "duration": 4,
    "start_time": "2025-06-02T13:00:07.366Z"
   },
   {
    "duration": 13,
    "start_time": "2025-06-02T13:00:12.117Z"
   },
   {
    "duration": 6,
    "start_time": "2025-06-02T13:00:37.708Z"
   },
   {
    "duration": 7,
    "start_time": "2025-06-02T13:01:10.711Z"
   },
   {
    "duration": 13,
    "start_time": "2025-06-02T13:01:11.287Z"
   },
   {
    "duration": 109,
    "start_time": "2025-06-02T13:01:27.268Z"
   },
   {
    "duration": 15,
    "start_time": "2025-06-02T13:01:31.068Z"
   },
   {
    "duration": 589,
    "start_time": "2025-06-02T13:02:25.390Z"
   },
   {
    "duration": 29,
    "start_time": "2025-06-02T13:02:25.981Z"
   },
   {
    "duration": 10,
    "start_time": "2025-06-02T13:02:26.012Z"
   },
   {
    "duration": 41,
    "start_time": "2025-06-02T13:02:26.024Z"
   },
   {
    "duration": 9,
    "start_time": "2025-06-02T13:02:26.066Z"
   },
   {
    "duration": 23,
    "start_time": "2025-06-02T13:02:26.076Z"
   },
   {
    "duration": 6,
    "start_time": "2025-06-02T13:02:26.100Z"
   },
   {
    "duration": 15,
    "start_time": "2025-06-02T13:02:26.108Z"
   },
   {
    "duration": 23,
    "start_time": "2025-06-02T13:02:26.124Z"
   },
   {
    "duration": 8,
    "start_time": "2025-06-02T13:02:26.149Z"
   },
   {
    "duration": 4,
    "start_time": "2025-06-02T13:02:26.159Z"
   },
   {
    "duration": 11,
    "start_time": "2025-06-02T13:02:26.165Z"
   },
   {
    "duration": 12,
    "start_time": "2025-06-02T13:02:26.178Z"
   },
   {
    "duration": 8,
    "start_time": "2025-06-02T13:02:26.192Z"
   },
   {
    "duration": 175,
    "start_time": "2025-06-02T13:02:26.202Z"
   },
   {
    "duration": 8,
    "start_time": "2025-06-02T13:02:26.379Z"
   },
   {
    "duration": 47,
    "start_time": "2025-06-02T13:02:26.388Z"
   },
   {
    "duration": 83,
    "start_time": "2025-06-02T13:02:26.437Z"
   },
   {
    "duration": 163,
    "start_time": "2025-06-02T13:02:26.522Z"
   },
   {
    "duration": 174,
    "start_time": "2025-06-02T13:02:26.687Z"
   },
   {
    "duration": 163,
    "start_time": "2025-06-02T13:02:26.863Z"
   },
   {
    "duration": 14,
    "start_time": "2025-06-02T13:02:27.027Z"
   },
   {
    "duration": 169,
    "start_time": "2025-06-02T13:02:27.043Z"
   },
   {
    "duration": 165,
    "start_time": "2025-06-02T13:02:27.214Z"
   },
   {
    "duration": 202,
    "start_time": "2025-06-02T13:02:27.381Z"
   },
   {
    "duration": 12,
    "start_time": "2025-06-02T13:02:27.586Z"
   },
   {
    "duration": 56,
    "start_time": "2025-06-02T13:02:27.601Z"
   },
   {
    "duration": 6,
    "start_time": "2025-06-02T13:02:27.661Z"
   },
   {
    "duration": 8,
    "start_time": "2025-06-02T13:02:27.669Z"
   },
   {
    "duration": 182,
    "start_time": "2025-06-02T13:02:27.678Z"
   },
   {
    "duration": 6,
    "start_time": "2025-06-02T13:02:27.861Z"
   },
   {
    "duration": 183,
    "start_time": "2025-06-02T13:02:27.868Z"
   },
   {
    "duration": 5,
    "start_time": "2025-06-02T13:02:28.053Z"
   },
   {
    "duration": 175,
    "start_time": "2025-06-02T13:02:28.060Z"
   },
   {
    "duration": 5,
    "start_time": "2025-06-02T13:02:28.237Z"
   },
   {
    "duration": 165,
    "start_time": "2025-06-02T13:02:28.243Z"
   },
   {
    "duration": 7,
    "start_time": "2025-06-02T13:02:28.410Z"
   },
   {
    "duration": 25,
    "start_time": "2025-06-02T13:02:28.419Z"
   },
   {
    "duration": 14,
    "start_time": "2025-06-02T13:02:28.445Z"
   },
   {
    "duration": 19,
    "start_time": "2025-06-02T13:02:28.460Z"
   },
   {
    "duration": 7,
    "start_time": "2025-06-02T13:02:28.481Z"
   },
   {
    "duration": 4,
    "start_time": "2025-06-02T13:02:28.489Z"
   },
   {
    "duration": 9,
    "start_time": "2025-06-02T13:02:28.494Z"
   },
   {
    "duration": 15,
    "start_time": "2025-06-02T13:02:28.504Z"
   },
   {
    "duration": 20,
    "start_time": "2025-06-02T13:02:28.521Z"
   },
   {
    "duration": 13,
    "start_time": "2025-06-02T13:02:28.543Z"
   },
   {
    "duration": 5,
    "start_time": "2025-06-02T13:02:28.558Z"
   },
   {
    "duration": 1122,
    "start_time": "2025-06-02T13:02:28.564Z"
   },
   {
    "duration": 16,
    "start_time": "2025-06-02T13:02:29.688Z"
   },
   {
    "duration": 507,
    "start_time": "2025-06-02T13:02:29.705Z"
   },
   {
    "duration": 3,
    "start_time": "2025-06-02T13:02:30.214Z"
   },
   {
    "duration": 448,
    "start_time": "2025-06-02T13:02:30.219Z"
   },
   {
    "duration": 94,
    "start_time": "2025-06-02T13:02:30.669Z"
   },
   {
    "duration": 18,
    "start_time": "2025-06-02T13:02:30.765Z"
   },
   {
    "duration": 26,
    "start_time": "2025-06-02T13:02:30.785Z"
   },
   {
    "duration": 16,
    "start_time": "2025-06-02T13:02:30.813Z"
   },
   {
    "duration": 3,
    "start_time": "2025-06-02T13:02:30.830Z"
   },
   {
    "duration": 70,
    "start_time": "2025-06-02T13:02:30.834Z"
   },
   {
    "duration": 8,
    "start_time": "2025-06-02T13:02:57.535Z"
   },
   {
    "duration": 5,
    "start_time": "2025-06-02T13:02:57.980Z"
   },
   {
    "duration": 10,
    "start_time": "2025-06-02T13:02:58.401Z"
   },
   {
    "duration": 646,
    "start_time": "2025-06-02T13:03:16.462Z"
   },
   {
    "duration": 19,
    "start_time": "2025-06-02T13:03:17.110Z"
   },
   {
    "duration": 115,
    "start_time": "2025-06-02T13:03:17.131Z"
   },
   {
    "duration": 223,
    "start_time": "2025-06-02T13:03:17.249Z"
   },
   {
    "duration": 10,
    "start_time": "2025-06-02T13:03:17.474Z"
   },
   {
    "duration": 34,
    "start_time": "2025-06-02T13:03:17.486Z"
   },
   {
    "duration": 8,
    "start_time": "2025-06-02T13:03:17.522Z"
   },
   {
    "duration": 32,
    "start_time": "2025-06-02T13:03:17.535Z"
   },
   {
    "duration": 22,
    "start_time": "2025-06-02T13:03:17.568Z"
   },
   {
    "duration": 11,
    "start_time": "2025-06-02T13:03:17.594Z"
   },
   {
    "duration": 22,
    "start_time": "2025-06-02T13:03:17.606Z"
   },
   {
    "duration": 7,
    "start_time": "2025-06-02T13:03:17.629Z"
   },
   {
    "duration": 10,
    "start_time": "2025-06-02T13:03:17.637Z"
   },
   {
    "duration": 34,
    "start_time": "2025-06-02T13:03:17.648Z"
   },
   {
    "duration": 228,
    "start_time": "2025-06-02T13:03:17.684Z"
   },
   {
    "duration": 6,
    "start_time": "2025-06-02T13:03:17.913Z"
   },
   {
    "duration": 108,
    "start_time": "2025-06-02T13:03:17.920Z"
   },
   {
    "duration": 78,
    "start_time": "2025-06-02T13:03:18.030Z"
   },
   {
    "duration": 179,
    "start_time": "2025-06-02T13:03:18.110Z"
   },
   {
    "duration": 169,
    "start_time": "2025-06-02T13:03:18.290Z"
   },
   {
    "duration": 162,
    "start_time": "2025-06-02T13:03:18.460Z"
   },
   {
    "duration": 18,
    "start_time": "2025-06-02T13:03:18.623Z"
   },
   {
    "duration": 221,
    "start_time": "2025-06-02T13:03:18.642Z"
   },
   {
    "duration": 164,
    "start_time": "2025-06-02T13:03:18.865Z"
   },
   {
    "duration": 159,
    "start_time": "2025-06-02T13:03:19.031Z"
   },
   {
    "duration": 8,
    "start_time": "2025-06-02T13:03:19.192Z"
   },
   {
    "duration": 259,
    "start_time": "2025-06-02T13:03:19.201Z"
   },
   {
    "duration": 9,
    "start_time": "2025-06-02T13:03:19.464Z"
   },
   {
    "duration": 5,
    "start_time": "2025-06-02T13:03:19.474Z"
   },
   {
    "duration": 176,
    "start_time": "2025-06-02T13:03:19.481Z"
   },
   {
    "duration": 5,
    "start_time": "2025-06-02T13:03:19.659Z"
   },
   {
    "duration": 170,
    "start_time": "2025-06-02T13:03:19.665Z"
   },
   {
    "duration": 6,
    "start_time": "2025-06-02T13:03:19.839Z"
   },
   {
    "duration": 290,
    "start_time": "2025-06-02T13:03:19.846Z"
   },
   {
    "duration": 6,
    "start_time": "2025-06-02T13:03:20.138Z"
   },
   {
    "duration": 171,
    "start_time": "2025-06-02T13:03:20.146Z"
   },
   {
    "duration": 6,
    "start_time": "2025-06-02T13:03:20.319Z"
   },
   {
    "duration": 23,
    "start_time": "2025-06-02T13:03:20.327Z"
   },
   {
    "duration": 11,
    "start_time": "2025-06-02T13:03:20.352Z"
   },
   {
    "duration": 23,
    "start_time": "2025-06-02T13:03:20.365Z"
   },
   {
    "duration": 11,
    "start_time": "2025-06-02T13:03:20.390Z"
   },
   {
    "duration": 27,
    "start_time": "2025-06-02T13:03:20.402Z"
   },
   {
    "duration": 23,
    "start_time": "2025-06-02T13:03:20.431Z"
   },
   {
    "duration": 70,
    "start_time": "2025-06-02T13:03:20.455Z"
   },
   {
    "duration": 21,
    "start_time": "2025-06-02T13:03:20.526Z"
   },
   {
    "duration": 141,
    "start_time": "2025-06-02T13:03:20.548Z"
   },
   {
    "duration": 65,
    "start_time": "2025-06-02T13:03:20.690Z"
   },
   {
    "duration": 1137,
    "start_time": "2025-06-02T13:03:20.757Z"
   },
   {
    "duration": 14,
    "start_time": "2025-06-02T13:03:21.896Z"
   },
   {
    "duration": 515,
    "start_time": "2025-06-02T13:03:21.911Z"
   },
   {
    "duration": 3,
    "start_time": "2025-06-02T13:03:22.427Z"
   },
   {
    "duration": 28,
    "start_time": "2025-06-02T13:03:22.431Z"
   },
   {
    "duration": 6,
    "start_time": "2025-06-02T13:03:22.461Z"
   },
   {
    "duration": 6,
    "start_time": "2025-06-02T13:03:22.469Z"
   },
   {
    "duration": 16,
    "start_time": "2025-06-02T13:03:22.477Z"
   },
   {
    "duration": 21,
    "start_time": "2025-06-02T13:03:22.494Z"
   },
   {
    "duration": 4,
    "start_time": "2025-06-02T13:03:22.516Z"
   },
   {
    "duration": 6,
    "start_time": "2025-06-02T13:03:22.521Z"
   },
   {
    "duration": 4,
    "start_time": "2025-06-02T13:04:40.376Z"
   },
   {
    "duration": 1530,
    "start_time": "2025-06-02T13:04:41.785Z"
   },
   {
    "duration": 16,
    "start_time": "2025-06-02T13:04:44.291Z"
   },
   {
    "duration": 3,
    "start_time": "2025-06-02T13:05:00.990Z"
   },
   {
    "duration": 2,
    "start_time": "2025-06-02T13:05:01.779Z"
   },
   {
    "duration": 3,
    "start_time": "2025-06-02T13:05:02.182Z"
   },
   {
    "duration": 4,
    "start_time": "2025-06-02T13:05:02.635Z"
   },
   {
    "duration": 5,
    "start_time": "2025-06-02T13:05:03.160Z"
   },
   {
    "duration": 2,
    "start_time": "2025-06-02T13:05:13.077Z"
   },
   {
    "duration": 3,
    "start_time": "2025-06-02T13:05:13.368Z"
   },
   {
    "duration": 3,
    "start_time": "2025-06-02T13:05:13.753Z"
   },
   {
    "duration": 6,
    "start_time": "2025-06-02T13:05:14.142Z"
   },
   {
    "duration": 20,
    "start_time": "2025-06-02T13:12:33.769Z"
   },
   {
    "duration": 13,
    "start_time": "2025-06-02T13:12:51.169Z"
   },
   {
    "duration": 1196,
    "start_time": "2025-06-02T13:14:49.868Z"
   },
   {
    "duration": 3,
    "start_time": "2025-06-02T13:14:59.363Z"
   },
   {
    "duration": 18,
    "start_time": "2025-06-02T13:15:05.003Z"
   },
   {
    "duration": 4,
    "start_time": "2025-06-02T13:16:20.407Z"
   },
   {
    "duration": 6,
    "start_time": "2025-06-02T13:16:26.417Z"
   },
   {
    "duration": 17,
    "start_time": "2025-06-02T13:16:37.102Z"
   },
   {
    "duration": 4,
    "start_time": "2025-06-02T13:17:34.595Z"
   },
   {
    "duration": 10,
    "start_time": "2025-06-02T13:17:35.977Z"
   },
   {
    "duration": 4,
    "start_time": "2025-06-02T13:17:58.674Z"
   },
   {
    "duration": 8,
    "start_time": "2025-06-02T13:17:59.108Z"
   },
   {
    "duration": 980,
    "start_time": "2025-06-02T13:18:01.274Z"
   },
   {
    "duration": 3,
    "start_time": "2025-06-02T13:18:05.352Z"
   },
   {
    "duration": 5,
    "start_time": "2025-06-02T13:19:40.585Z"
   },
   {
    "duration": 4,
    "start_time": "2025-06-02T13:19:59.016Z"
   },
   {
    "duration": 5,
    "start_time": "2025-06-02T13:20:31.895Z"
   },
   {
    "duration": 5,
    "start_time": "2025-06-02T13:24:00.889Z"
   },
   {
    "duration": 5,
    "start_time": "2025-06-02T13:24:22.831Z"
   },
   {
    "duration": 6,
    "start_time": "2025-06-02T13:24:59.066Z"
   },
   {
    "duration": 125,
    "start_time": "2025-06-02T13:25:02.893Z"
   },
   {
    "duration": 125,
    "start_time": "2025-06-02T13:25:12.241Z"
   },
   {
    "duration": 5,
    "start_time": "2025-06-02T13:25:59.670Z"
   },
   {
    "duration": 687,
    "start_time": "2025-06-02T13:45:35.744Z"
   },
   {
    "duration": 19,
    "start_time": "2025-06-02T13:45:36.433Z"
   },
   {
    "duration": 34,
    "start_time": "2025-06-02T13:45:36.453Z"
   },
   {
    "duration": 66,
    "start_time": "2025-06-02T13:45:36.490Z"
   },
   {
    "duration": 20,
    "start_time": "2025-06-02T13:45:36.557Z"
   },
   {
    "duration": 57,
    "start_time": "2025-06-02T13:45:36.579Z"
   },
   {
    "duration": 12,
    "start_time": "2025-06-02T13:45:36.638Z"
   },
   {
    "duration": 151,
    "start_time": "2025-06-02T13:45:36.652Z"
   },
   {
    "duration": 47,
    "start_time": "2025-06-02T13:45:36.805Z"
   },
   {
    "duration": 27,
    "start_time": "2025-06-02T13:45:36.856Z"
   },
   {
    "duration": 54,
    "start_time": "2025-06-02T13:45:36.885Z"
   },
   {
    "duration": 45,
    "start_time": "2025-06-02T13:45:36.941Z"
   },
   {
    "duration": 45,
    "start_time": "2025-06-02T13:45:36.988Z"
   },
   {
    "duration": 91,
    "start_time": "2025-06-02T13:45:37.035Z"
   },
   {
    "duration": 219,
    "start_time": "2025-06-02T13:45:37.127Z"
   },
   {
    "duration": 7,
    "start_time": "2025-06-02T13:45:37.347Z"
   },
   {
    "duration": 15,
    "start_time": "2025-06-02T13:45:37.355Z"
   },
   {
    "duration": 106,
    "start_time": "2025-06-02T13:45:37.372Z"
   },
   {
    "duration": 179,
    "start_time": "2025-06-02T13:45:37.480Z"
   },
   {
    "duration": 205,
    "start_time": "2025-06-02T13:45:37.660Z"
   },
   {
    "duration": 195,
    "start_time": "2025-06-02T13:45:37.867Z"
   },
   {
    "duration": 6,
    "start_time": "2025-06-02T13:45:38.064Z"
   },
   {
    "duration": 297,
    "start_time": "2025-06-02T13:45:38.072Z"
   },
   {
    "duration": 195,
    "start_time": "2025-06-02T13:45:38.371Z"
   },
   {
    "duration": 202,
    "start_time": "2025-06-02T13:45:38.568Z"
   },
   {
    "duration": 9,
    "start_time": "2025-06-02T13:45:38.772Z"
   },
   {
    "duration": 19,
    "start_time": "2025-06-02T13:45:38.783Z"
   },
   {
    "duration": 21,
    "start_time": "2025-06-02T13:45:38.807Z"
   },
   {
    "duration": 16,
    "start_time": "2025-06-02T13:45:38.829Z"
   },
   {
    "duration": 229,
    "start_time": "2025-06-02T13:45:38.846Z"
   },
   {
    "duration": 7,
    "start_time": "2025-06-02T13:45:39.076Z"
   },
   {
    "duration": 199,
    "start_time": "2025-06-02T13:45:39.085Z"
   },
   {
    "duration": 6,
    "start_time": "2025-06-02T13:45:39.286Z"
   },
   {
    "duration": 205,
    "start_time": "2025-06-02T13:45:39.294Z"
   },
   {
    "duration": 6,
    "start_time": "2025-06-02T13:45:39.501Z"
   },
   {
    "duration": 195,
    "start_time": "2025-06-02T13:45:39.509Z"
   },
   {
    "duration": 6,
    "start_time": "2025-06-02T13:45:39.705Z"
   },
   {
    "duration": 116,
    "start_time": "2025-06-02T13:45:39.713Z"
   },
   {
    "duration": 12,
    "start_time": "2025-06-02T13:45:39.831Z"
   },
   {
    "duration": 13,
    "start_time": "2025-06-02T13:45:39.845Z"
   },
   {
    "duration": 10,
    "start_time": "2025-06-02T13:45:39.860Z"
   },
   {
    "duration": 7,
    "start_time": "2025-06-02T13:45:39.871Z"
   },
   {
    "duration": 17,
    "start_time": "2025-06-02T13:45:39.879Z"
   },
   {
    "duration": 15,
    "start_time": "2025-06-02T13:45:39.898Z"
   },
   {
    "duration": 7,
    "start_time": "2025-06-02T13:45:39.914Z"
   },
   {
    "duration": 24,
    "start_time": "2025-06-02T13:45:39.922Z"
   },
   {
    "duration": 5,
    "start_time": "2025-06-02T13:45:39.948Z"
   },
   {
    "duration": 2989,
    "start_time": "2025-06-02T13:45:39.954Z"
   },
   {
    "duration": 0,
    "start_time": "2025-06-02T13:45:42.945Z"
   },
   {
    "duration": 0,
    "start_time": "2025-06-02T13:45:42.946Z"
   },
   {
    "duration": 0,
    "start_time": "2025-06-02T13:45:42.947Z"
   },
   {
    "duration": 0,
    "start_time": "2025-06-02T13:45:42.948Z"
   },
   {
    "duration": 0,
    "start_time": "2025-06-02T13:45:42.950Z"
   },
   {
    "duration": 0,
    "start_time": "2025-06-02T13:45:42.951Z"
   },
   {
    "duration": 0,
    "start_time": "2025-06-02T13:45:42.952Z"
   },
   {
    "duration": 0,
    "start_time": "2025-06-02T13:45:42.953Z"
   },
   {
    "duration": 0,
    "start_time": "2025-06-02T13:45:42.955Z"
   },
   {
    "duration": 0,
    "start_time": "2025-06-02T13:45:42.956Z"
   },
   {
    "duration": 0,
    "start_time": "2025-06-02T13:45:42.957Z"
   },
   {
    "duration": 0,
    "start_time": "2025-06-02T13:45:42.958Z"
   },
   {
    "duration": 0,
    "start_time": "2025-06-02T13:45:42.959Z"
   },
   {
    "duration": 0,
    "start_time": "2025-06-02T13:45:42.960Z"
   },
   {
    "duration": 0,
    "start_time": "2025-06-02T13:45:42.961Z"
   },
   {
    "duration": 166,
    "start_time": "2025-06-02T13:48:47.163Z"
   },
   {
    "duration": 63,
    "start_time": "2025-06-03T12:07:32.270Z"
   },
   {
    "duration": 968,
    "start_time": "2025-06-03T12:07:36.924Z"
   },
   {
    "duration": 35,
    "start_time": "2025-06-03T12:07:37.894Z"
   },
   {
    "duration": 132,
    "start_time": "2025-06-03T12:07:37.931Z"
   },
   {
    "duration": 60,
    "start_time": "2025-06-03T12:07:38.066Z"
   },
   {
    "duration": 10,
    "start_time": "2025-06-03T12:07:38.129Z"
   },
   {
    "duration": 27,
    "start_time": "2025-06-03T12:07:38.141Z"
   },
   {
    "duration": 26,
    "start_time": "2025-06-03T12:07:38.170Z"
   },
   {
    "duration": 67,
    "start_time": "2025-06-03T12:07:38.198Z"
   },
   {
    "duration": 33,
    "start_time": "2025-06-03T12:07:38.267Z"
   },
   {
    "duration": 28,
    "start_time": "2025-06-03T12:07:38.303Z"
   },
   {
    "duration": 42,
    "start_time": "2025-06-03T12:07:38.332Z"
   },
   {
    "duration": 28,
    "start_time": "2025-06-03T12:07:38.375Z"
   },
   {
    "duration": 32,
    "start_time": "2025-06-03T12:07:38.405Z"
   },
   {
    "duration": 32,
    "start_time": "2025-06-03T12:07:38.439Z"
   },
   {
    "duration": 261,
    "start_time": "2025-06-03T12:07:38.473Z"
   },
   {
    "duration": 7,
    "start_time": "2025-06-03T12:07:38.735Z"
   },
   {
    "duration": 48,
    "start_time": "2025-06-03T12:07:38.744Z"
   },
   {
    "duration": 104,
    "start_time": "2025-06-03T12:07:38.793Z"
   },
   {
    "duration": 204,
    "start_time": "2025-06-03T12:07:38.898Z"
   },
   {
    "duration": 203,
    "start_time": "2025-06-03T12:07:39.104Z"
   },
   {
    "duration": 211,
    "start_time": "2025-06-03T12:07:39.310Z"
   },
   {
    "duration": 8,
    "start_time": "2025-06-03T12:07:39.523Z"
   },
   {
    "duration": 214,
    "start_time": "2025-06-03T12:07:39.533Z"
   },
   {
    "duration": 208,
    "start_time": "2025-06-03T12:07:39.749Z"
   },
   {
    "duration": 211,
    "start_time": "2025-06-03T12:07:39.960Z"
   },
   {
    "duration": 13,
    "start_time": "2025-06-03T12:07:40.173Z"
   },
   {
    "duration": 118,
    "start_time": "2025-06-03T12:07:40.188Z"
   },
   {
    "duration": 21,
    "start_time": "2025-06-03T12:07:40.312Z"
   },
   {
    "duration": 12,
    "start_time": "2025-06-03T12:07:40.335Z"
   },
   {
    "duration": 222,
    "start_time": "2025-06-03T12:07:40.349Z"
   },
   {
    "duration": 7,
    "start_time": "2025-06-03T12:07:40.573Z"
   },
   {
    "duration": 204,
    "start_time": "2025-06-03T12:07:40.582Z"
   },
   {
    "duration": 16,
    "start_time": "2025-06-03T12:07:40.789Z"
   },
   {
    "duration": 227,
    "start_time": "2025-06-03T12:07:40.807Z"
   },
   {
    "duration": 8,
    "start_time": "2025-06-03T12:07:41.037Z"
   },
   {
    "duration": 224,
    "start_time": "2025-06-03T12:07:41.047Z"
   },
   {
    "duration": 7,
    "start_time": "2025-06-03T12:07:41.273Z"
   },
   {
    "duration": 130,
    "start_time": "2025-06-03T12:07:41.282Z"
   },
   {
    "duration": 29,
    "start_time": "2025-06-03T12:07:41.414Z"
   },
   {
    "duration": 11,
    "start_time": "2025-06-03T12:07:41.445Z"
   },
   {
    "duration": 30,
    "start_time": "2025-06-03T12:07:41.458Z"
   },
   {
    "duration": 11,
    "start_time": "2025-06-03T12:07:41.490Z"
   },
   {
    "duration": 15,
    "start_time": "2025-06-03T12:07:41.503Z"
   },
   {
    "duration": 23,
    "start_time": "2025-06-03T12:07:41.520Z"
   },
   {
    "duration": 9,
    "start_time": "2025-06-03T12:07:41.545Z"
   },
   {
    "duration": 22,
    "start_time": "2025-06-03T12:07:41.555Z"
   },
   {
    "duration": 12,
    "start_time": "2025-06-03T12:07:41.579Z"
   },
   {
    "duration": 3922,
    "start_time": "2025-06-03T12:07:41.593Z"
   },
   {
    "duration": 0,
    "start_time": "2025-06-03T12:07:45.518Z"
   },
   {
    "duration": 0,
    "start_time": "2025-06-03T12:07:45.521Z"
   },
   {
    "duration": 0,
    "start_time": "2025-06-03T12:07:45.523Z"
   },
   {
    "duration": 0,
    "start_time": "2025-06-03T12:07:45.524Z"
   },
   {
    "duration": 0,
    "start_time": "2025-06-03T12:07:45.526Z"
   },
   {
    "duration": 0,
    "start_time": "2025-06-03T12:07:45.527Z"
   },
   {
    "duration": 0,
    "start_time": "2025-06-03T12:07:45.528Z"
   },
   {
    "duration": 0,
    "start_time": "2025-06-03T12:07:45.529Z"
   },
   {
    "duration": 0,
    "start_time": "2025-06-03T12:07:45.530Z"
   },
   {
    "duration": 0,
    "start_time": "2025-06-03T12:07:45.531Z"
   },
   {
    "duration": 0,
    "start_time": "2025-06-03T12:07:45.533Z"
   },
   {
    "duration": 0,
    "start_time": "2025-06-03T12:07:45.534Z"
   },
   {
    "duration": 0,
    "start_time": "2025-06-03T12:07:45.535Z"
   },
   {
    "duration": 0,
    "start_time": "2025-06-03T12:07:45.536Z"
   },
   {
    "duration": 0,
    "start_time": "2025-06-03T12:07:45.537Z"
   },
   {
    "duration": 5,
    "start_time": "2025-06-03T12:08:17.292Z"
   },
   {
    "duration": 1372,
    "start_time": "2025-06-03T12:08:19.184Z"
   },
   {
    "duration": 118,
    "start_time": "2025-06-03T12:08:34.132Z"
   },
   {
    "duration": 233,
    "start_time": "2025-06-03T12:09:44.191Z"
   },
   {
    "duration": 139,
    "start_time": "2025-06-03T12:10:10.304Z"
   },
   {
    "duration": 5,
    "start_time": "2025-06-03T12:10:18.582Z"
   },
   {
    "duration": 1363,
    "start_time": "2025-06-03T12:10:19.947Z"
   },
   {
    "duration": 16,
    "start_time": "2025-06-03T12:10:23.690Z"
   },
   {
    "duration": 5,
    "start_time": "2025-06-03T12:11:09.694Z"
   },
   {
    "duration": 1372,
    "start_time": "2025-06-03T12:11:10.095Z"
   },
   {
    "duration": 16,
    "start_time": "2025-06-03T12:11:11.469Z"
   },
   {
    "duration": 117,
    "start_time": "2025-06-03T12:11:16.918Z"
   },
   {
    "duration": 1366,
    "start_time": "2025-06-03T12:11:17.236Z"
   },
   {
    "duration": 125,
    "start_time": "2025-06-03T12:11:25.503Z"
   },
   {
    "duration": 9,
    "start_time": "2025-06-03T12:11:39.604Z"
   },
   {
    "duration": 5,
    "start_time": "2025-06-03T12:11:44.265Z"
   },
   {
    "duration": 1488,
    "start_time": "2025-06-03T12:11:45.208Z"
   },
   {
    "duration": 27,
    "start_time": "2025-06-03T12:11:46.698Z"
   },
   {
    "duration": 717,
    "start_time": "2025-06-03T12:11:51.827Z"
   },
   {
    "duration": 18,
    "start_time": "2025-06-03T12:11:52.546Z"
   },
   {
    "duration": 25,
    "start_time": "2025-06-03T12:11:52.566Z"
   },
   {
    "duration": 30,
    "start_time": "2025-06-03T12:11:52.594Z"
   },
   {
    "duration": 9,
    "start_time": "2025-06-03T12:11:52.626Z"
   },
   {
    "duration": 51,
    "start_time": "2025-06-03T12:11:52.637Z"
   },
   {
    "duration": 17,
    "start_time": "2025-06-03T12:11:52.690Z"
   },
   {
    "duration": 35,
    "start_time": "2025-06-03T12:11:52.709Z"
   },
   {
    "duration": 26,
    "start_time": "2025-06-03T12:11:52.746Z"
   },
   {
    "duration": 18,
    "start_time": "2025-06-03T12:11:52.776Z"
   },
   {
    "duration": 13,
    "start_time": "2025-06-03T12:11:52.796Z"
   },
   {
    "duration": 22,
    "start_time": "2025-06-03T12:11:52.811Z"
   },
   {
    "duration": 50,
    "start_time": "2025-06-03T12:11:52.835Z"
   },
   {
    "duration": 111,
    "start_time": "2025-06-03T12:11:52.887Z"
   },
   {
    "duration": 222,
    "start_time": "2025-06-03T12:11:52.999Z"
   },
   {
    "duration": 8,
    "start_time": "2025-06-03T12:11:53.224Z"
   },
   {
    "duration": 34,
    "start_time": "2025-06-03T12:11:53.234Z"
   },
   {
    "duration": 182,
    "start_time": "2025-06-03T12:11:53.269Z"
   },
   {
    "duration": 199,
    "start_time": "2025-06-03T12:11:53.453Z"
   },
   {
    "duration": 226,
    "start_time": "2025-06-03T12:11:53.653Z"
   },
   {
    "duration": 214,
    "start_time": "2025-06-03T12:11:53.881Z"
   },
   {
    "duration": 8,
    "start_time": "2025-06-03T12:11:54.105Z"
   },
   {
    "duration": 237,
    "start_time": "2025-06-03T12:11:54.115Z"
   },
   {
    "duration": 213,
    "start_time": "2025-06-03T12:11:54.354Z"
   },
   {
    "duration": 206,
    "start_time": "2025-06-03T12:11:54.568Z"
   },
   {
    "duration": 10,
    "start_time": "2025-06-03T12:11:54.775Z"
   },
   {
    "duration": 45,
    "start_time": "2025-06-03T12:11:54.786Z"
   },
   {
    "duration": 24,
    "start_time": "2025-06-03T12:11:54.835Z"
   },
   {
    "duration": 19,
    "start_time": "2025-06-03T12:11:54.860Z"
   },
   {
    "duration": 332,
    "start_time": "2025-06-03T12:11:54.881Z"
   },
   {
    "duration": 14,
    "start_time": "2025-06-03T12:11:55.216Z"
   },
   {
    "duration": 308,
    "start_time": "2025-06-03T12:11:55.232Z"
   },
   {
    "duration": 7,
    "start_time": "2025-06-03T12:11:55.541Z"
   },
   {
    "duration": 219,
    "start_time": "2025-06-03T12:11:55.549Z"
   },
   {
    "duration": 7,
    "start_time": "2025-06-03T12:11:55.771Z"
   },
   {
    "duration": 213,
    "start_time": "2025-06-03T12:11:55.779Z"
   },
   {
    "duration": 6,
    "start_time": "2025-06-03T12:11:55.993Z"
   },
   {
    "duration": 138,
    "start_time": "2025-06-03T12:11:56.009Z"
   },
   {
    "duration": 25,
    "start_time": "2025-06-03T12:11:56.149Z"
   },
   {
    "duration": 10,
    "start_time": "2025-06-03T12:11:56.176Z"
   },
   {
    "duration": 23,
    "start_time": "2025-06-03T12:11:56.187Z"
   },
   {
    "duration": 27,
    "start_time": "2025-06-03T12:11:56.213Z"
   },
   {
    "duration": 15,
    "start_time": "2025-06-03T12:11:56.241Z"
   },
   {
    "duration": 22,
    "start_time": "2025-06-03T12:11:56.259Z"
   },
   {
    "duration": 6,
    "start_time": "2025-06-03T12:11:56.283Z"
   },
   {
    "duration": 37,
    "start_time": "2025-06-03T12:11:56.292Z"
   },
   {
    "duration": 14,
    "start_time": "2025-06-03T12:11:56.330Z"
   },
   {
    "duration": 1318,
    "start_time": "2025-06-03T12:11:56.346Z"
   },
   {
    "duration": 17,
    "start_time": "2025-06-03T12:11:57.665Z"
   },
   {
    "duration": 548,
    "start_time": "2025-06-03T12:11:57.684Z"
   },
   {
    "duration": 3,
    "start_time": "2025-06-03T12:11:58.234Z"
   },
   {
    "duration": 48,
    "start_time": "2025-06-03T12:11:58.239Z"
   },
   {
    "duration": 11,
    "start_time": "2025-06-03T12:11:58.290Z"
   },
   {
    "duration": 10,
    "start_time": "2025-06-03T12:11:58.303Z"
   },
   {
    "duration": 28,
    "start_time": "2025-06-03T12:11:58.316Z"
   },
   {
    "duration": 7,
    "start_time": "2025-06-03T12:11:58.346Z"
   },
   {
    "duration": 7,
    "start_time": "2025-06-03T12:11:58.355Z"
   },
   {
    "duration": 10,
    "start_time": "2025-06-03T12:11:58.364Z"
   },
   {
    "duration": 10,
    "start_time": "2025-06-03T12:11:58.376Z"
   },
   {
    "duration": 23,
    "start_time": "2025-06-03T12:11:58.388Z"
   },
   {
    "duration": 18,
    "start_time": "2025-06-03T12:11:58.414Z"
   },
   {
    "duration": 15,
    "start_time": "2025-06-03T12:11:58.434Z"
   },
   {
    "duration": 21,
    "start_time": "2025-06-03T12:11:58.451Z"
   },
   {
    "duration": 127,
    "start_time": "2025-06-03T12:12:30.761Z"
   },
   {
    "duration": 228,
    "start_time": "2025-06-03T12:57:54.466Z"
   },
   {
    "duration": 11,
    "start_time": "2025-06-03T13:06:41.063Z"
   },
   {
    "duration": 12,
    "start_time": "2025-06-03T13:06:51.683Z"
   },
   {
    "duration": 8,
    "start_time": "2025-06-03T13:08:03.983Z"
   },
   {
    "duration": 12,
    "start_time": "2025-06-03T13:08:16.315Z"
   },
   {
    "duration": 11,
    "start_time": "2025-06-03T13:08:26.646Z"
   },
   {
    "duration": 104,
    "start_time": "2025-06-03T13:10:19.047Z"
   },
   {
    "duration": 10,
    "start_time": "2025-06-03T13:10:28.139Z"
   },
   {
    "duration": 13,
    "start_time": "2025-06-03T13:10:53.925Z"
   },
   {
    "duration": 9,
    "start_time": "2025-06-03T13:10:59.990Z"
   },
   {
    "duration": 8,
    "start_time": "2025-06-03T13:11:04.809Z"
   },
   {
    "duration": 6,
    "start_time": "2025-06-03T13:11:17.986Z"
   },
   {
    "duration": 10,
    "start_time": "2025-06-03T13:11:37.401Z"
   },
   {
    "duration": 12,
    "start_time": "2025-06-03T13:11:44.048Z"
   },
   {
    "duration": 15,
    "start_time": "2025-06-03T13:12:19.751Z"
   },
   {
    "duration": 8,
    "start_time": "2025-06-03T13:13:03.296Z"
   },
   {
    "duration": 9,
    "start_time": "2025-06-03T13:13:06.947Z"
   },
   {
    "duration": 8,
    "start_time": "2025-06-03T13:13:22.168Z"
   },
   {
    "duration": 6,
    "start_time": "2025-06-03T13:13:39.303Z"
   },
   {
    "duration": 9,
    "start_time": "2025-06-03T13:16:21.290Z"
   },
   {
    "duration": 16,
    "start_time": "2025-06-03T13:16:30.364Z"
   },
   {
    "duration": 10,
    "start_time": "2025-06-03T22:28:30.446Z"
   },
   {
    "duration": 13,
    "start_time": "2025-06-03T22:28:31.388Z"
   },
   {
    "duration": 15,
    "start_time": "2025-06-03T22:29:06.629Z"
   },
   {
    "duration": 11,
    "start_time": "2025-06-03T22:29:17.055Z"
   },
   {
    "duration": 15,
    "start_time": "2025-06-03T22:29:41.195Z"
   },
   {
    "duration": 11,
    "start_time": "2025-06-03T22:29:57.427Z"
   },
   {
    "duration": 9,
    "start_time": "2025-06-03T22:30:19.057Z"
   },
   {
    "duration": 20,
    "start_time": "2025-06-03T22:30:25.436Z"
   },
   {
    "duration": 9,
    "start_time": "2025-06-03T22:30:31.038Z"
   },
   {
    "duration": 17,
    "start_time": "2025-06-03T22:31:00.313Z"
   },
   {
    "duration": 17,
    "start_time": "2025-06-03T22:31:04.868Z"
   },
   {
    "duration": 16,
    "start_time": "2025-06-03T22:31:15.605Z"
   },
   {
    "duration": 24,
    "start_time": "2025-06-03T22:31:32.905Z"
   },
   {
    "duration": 35,
    "start_time": "2025-06-03T22:31:36.425Z"
   },
   {
    "duration": 76,
    "start_time": "2025-06-03T22:32:23.651Z"
   },
   {
    "duration": 5,
    "start_time": "2025-06-03T22:34:14.698Z"
   },
   {
    "duration": 698,
    "start_time": "2025-06-04T05:39:53.440Z"
   },
   {
    "duration": 20,
    "start_time": "2025-06-04T05:39:54.139Z"
   },
   {
    "duration": 20,
    "start_time": "2025-06-04T05:39:54.161Z"
   },
   {
    "duration": 64,
    "start_time": "2025-06-04T05:39:54.182Z"
   },
   {
    "duration": 10,
    "start_time": "2025-06-04T05:39:54.247Z"
   },
   {
    "duration": 39,
    "start_time": "2025-06-04T05:39:54.258Z"
   },
   {
    "duration": 13,
    "start_time": "2025-06-04T05:39:54.299Z"
   },
   {
    "duration": 40,
    "start_time": "2025-06-04T05:39:54.314Z"
   },
   {
    "duration": 40,
    "start_time": "2025-06-04T05:39:54.357Z"
   },
   {
    "duration": 19,
    "start_time": "2025-06-04T05:39:54.401Z"
   },
   {
    "duration": 164,
    "start_time": "2025-06-04T05:39:54.422Z"
   },
   {
    "duration": 22,
    "start_time": "2025-06-04T05:39:54.588Z"
   },
   {
    "duration": 24,
    "start_time": "2025-06-04T05:39:54.612Z"
   },
   {
    "duration": 37,
    "start_time": "2025-06-04T05:39:54.638Z"
   },
   {
    "duration": 86,
    "start_time": "2025-06-04T05:39:54.677Z"
   },
   {
    "duration": 32,
    "start_time": "2025-06-04T05:39:54.765Z"
   },
   {
    "duration": 21,
    "start_time": "2025-06-04T05:39:54.798Z"
   },
   {
    "duration": 18,
    "start_time": "2025-06-04T05:39:54.820Z"
   },
   {
    "duration": 228,
    "start_time": "2025-06-04T05:39:54.840Z"
   },
   {
    "duration": 6,
    "start_time": "2025-06-04T05:39:55.070Z"
   },
   {
    "duration": 27,
    "start_time": "2025-06-04T05:39:55.078Z"
   },
   {
    "duration": 103,
    "start_time": "2025-06-04T05:39:55.106Z"
   },
   {
    "duration": 188,
    "start_time": "2025-06-04T05:39:55.211Z"
   },
   {
    "duration": 201,
    "start_time": "2025-06-04T05:39:55.401Z"
   },
   {
    "duration": 193,
    "start_time": "2025-06-04T05:39:55.604Z"
   },
   {
    "duration": 6,
    "start_time": "2025-06-04T05:39:55.799Z"
   },
   {
    "duration": 221,
    "start_time": "2025-06-04T05:39:55.810Z"
   },
   {
    "duration": 210,
    "start_time": "2025-06-04T05:39:56.033Z"
   },
   {
    "duration": 212,
    "start_time": "2025-06-04T05:39:56.245Z"
   },
   {
    "duration": 11,
    "start_time": "2025-06-04T05:39:56.459Z"
   },
   {
    "duration": 142,
    "start_time": "2025-06-04T05:39:56.471Z"
   },
   {
    "duration": 14,
    "start_time": "2025-06-04T05:39:56.615Z"
   },
   {
    "duration": 21,
    "start_time": "2025-06-04T05:39:56.630Z"
   },
   {
    "duration": 11,
    "start_time": "2025-06-04T05:39:56.653Z"
   },
   {
    "duration": 16,
    "start_time": "2025-06-04T05:39:56.666Z"
   },
   {
    "duration": 59,
    "start_time": "2025-06-04T05:39:56.683Z"
   },
   {
    "duration": 18,
    "start_time": "2025-06-04T05:39:56.744Z"
   },
   {
    "duration": 6,
    "start_time": "2025-06-04T05:39:56.764Z"
   },
   {
    "duration": 20,
    "start_time": "2025-06-04T05:39:56.772Z"
   },
   {
    "duration": 231,
    "start_time": "2025-06-04T05:39:56.793Z"
   },
   {
    "duration": 13,
    "start_time": "2025-06-04T05:39:57.026Z"
   },
   {
    "duration": 203,
    "start_time": "2025-06-04T05:39:57.041Z"
   },
   {
    "duration": 6,
    "start_time": "2025-06-04T05:39:57.246Z"
   },
   {
    "duration": 214,
    "start_time": "2025-06-04T05:39:57.254Z"
   },
   {
    "duration": 8,
    "start_time": "2025-06-04T05:39:57.471Z"
   },
   {
    "duration": 295,
    "start_time": "2025-06-04T05:39:57.480Z"
   },
   {
    "duration": 8,
    "start_time": "2025-06-04T05:39:57.777Z"
   },
   {
    "duration": 51,
    "start_time": "2025-06-04T05:39:57.786Z"
   },
   {
    "duration": 118,
    "start_time": "2025-06-04T05:39:57.839Z"
   },
   {
    "duration": 17,
    "start_time": "2025-06-04T05:39:57.959Z"
   },
   {
    "duration": 48,
    "start_time": "2025-06-04T05:39:57.978Z"
   },
   {
    "duration": 38,
    "start_time": "2025-06-04T05:39:58.028Z"
   },
   {
    "duration": 20,
    "start_time": "2025-06-04T05:39:58.068Z"
   },
   {
    "duration": 29,
    "start_time": "2025-06-04T05:39:58.089Z"
   },
   {
    "duration": 15,
    "start_time": "2025-06-04T05:39:58.120Z"
   },
   {
    "duration": 29,
    "start_time": "2025-06-04T05:39:58.137Z"
   },
   {
    "duration": 24,
    "start_time": "2025-06-04T05:39:58.167Z"
   },
   {
    "duration": 1272,
    "start_time": "2025-06-04T05:39:58.193Z"
   },
   {
    "duration": 17,
    "start_time": "2025-06-04T05:39:59.467Z"
   },
   {
    "duration": 666,
    "start_time": "2025-06-04T05:39:59.485Z"
   },
   {
    "duration": 3,
    "start_time": "2025-06-04T05:40:00.153Z"
   },
   {
    "duration": 41,
    "start_time": "2025-06-04T05:40:00.158Z"
   },
   {
    "duration": 52,
    "start_time": "2025-06-04T05:40:00.200Z"
   },
   {
    "duration": 89,
    "start_time": "2025-06-04T05:40:00.253Z"
   },
   {
    "duration": 267,
    "start_time": "2025-06-04T05:40:00.343Z"
   },
   {
    "duration": 54,
    "start_time": "2025-06-04T05:40:00.612Z"
   },
   {
    "duration": 66,
    "start_time": "2025-06-04T05:40:00.667Z"
   },
   {
    "duration": 107,
    "start_time": "2025-06-04T05:40:00.735Z"
   },
   {
    "duration": 37,
    "start_time": "2025-06-04T05:40:00.844Z"
   },
   {
    "duration": 49,
    "start_time": "2025-06-04T05:40:00.883Z"
   },
   {
    "duration": 49,
    "start_time": "2025-06-04T05:40:00.934Z"
   },
   {
    "duration": 46,
    "start_time": "2025-06-04T05:40:00.984Z"
   },
   {
    "duration": 36,
    "start_time": "2025-06-04T05:40:01.032Z"
   },
   {
    "duration": 6,
    "start_time": "2025-06-04T05:57:46.695Z"
   },
   {
    "duration": 56,
    "start_time": "2025-06-04T23:24:45.330Z"
   },
   {
    "duration": 923,
    "start_time": "2025-06-04T23:24:49.628Z"
   },
   {
    "duration": 22,
    "start_time": "2025-06-04T23:24:50.555Z"
   },
   {
    "duration": 17,
    "start_time": "2025-06-04T23:24:50.578Z"
   },
   {
    "duration": 32,
    "start_time": "2025-06-04T23:24:50.597Z"
   },
   {
    "duration": 17,
    "start_time": "2025-06-04T23:24:50.630Z"
   },
   {
    "duration": 20,
    "start_time": "2025-06-04T23:24:50.651Z"
   },
   {
    "duration": 14,
    "start_time": "2025-06-04T23:24:50.673Z"
   },
   {
    "duration": 23,
    "start_time": "2025-06-04T23:24:50.689Z"
   },
   {
    "duration": 21,
    "start_time": "2025-06-04T23:24:50.714Z"
   },
   {
    "duration": 22,
    "start_time": "2025-06-04T23:24:50.743Z"
   },
   {
    "duration": 16,
    "start_time": "2025-06-04T23:24:50.767Z"
   },
   {
    "duration": 157,
    "start_time": "2025-06-04T23:24:50.785Z"
   },
   {
    "duration": 35,
    "start_time": "2025-06-04T23:24:50.944Z"
   },
   {
    "duration": 9,
    "start_time": "2025-06-04T23:24:50.980Z"
   },
   {
    "duration": 31,
    "start_time": "2025-06-04T23:24:50.991Z"
   },
   {
    "duration": 5,
    "start_time": "2025-06-04T23:24:51.024Z"
   },
   {
    "duration": 35,
    "start_time": "2025-06-04T23:24:51.030Z"
   },
   {
    "duration": 18,
    "start_time": "2025-06-04T23:24:51.066Z"
   },
   {
    "duration": 95,
    "start_time": "2025-06-04T23:24:51.086Z"
   },
   {
    "duration": 0,
    "start_time": "2025-06-04T23:24:51.184Z"
   },
   {
    "duration": 0,
    "start_time": "2025-06-04T23:24:51.186Z"
   },
   {
    "duration": 0,
    "start_time": "2025-06-04T23:24:51.187Z"
   },
   {
    "duration": 0,
    "start_time": "2025-06-04T23:24:51.188Z"
   },
   {
    "duration": 0,
    "start_time": "2025-06-04T23:24:51.189Z"
   },
   {
    "duration": 0,
    "start_time": "2025-06-04T23:24:51.190Z"
   },
   {
    "duration": 0,
    "start_time": "2025-06-04T23:24:51.191Z"
   },
   {
    "duration": 0,
    "start_time": "2025-06-04T23:24:51.192Z"
   },
   {
    "duration": 0,
    "start_time": "2025-06-04T23:24:51.194Z"
   },
   {
    "duration": 0,
    "start_time": "2025-06-04T23:24:51.195Z"
   },
   {
    "duration": 0,
    "start_time": "2025-06-04T23:24:51.196Z"
   },
   {
    "duration": 0,
    "start_time": "2025-06-04T23:24:51.197Z"
   },
   {
    "duration": 0,
    "start_time": "2025-06-04T23:24:51.198Z"
   },
   {
    "duration": 0,
    "start_time": "2025-06-04T23:24:51.199Z"
   },
   {
    "duration": 0,
    "start_time": "2025-06-04T23:24:51.200Z"
   },
   {
    "duration": 0,
    "start_time": "2025-06-04T23:24:51.201Z"
   },
   {
    "duration": 0,
    "start_time": "2025-06-04T23:24:51.202Z"
   },
   {
    "duration": 0,
    "start_time": "2025-06-04T23:24:51.204Z"
   },
   {
    "duration": 0,
    "start_time": "2025-06-04T23:24:51.239Z"
   },
   {
    "duration": 1,
    "start_time": "2025-06-04T23:24:51.240Z"
   },
   {
    "duration": 0,
    "start_time": "2025-06-04T23:24:51.241Z"
   },
   {
    "duration": 0,
    "start_time": "2025-06-04T23:24:51.244Z"
   },
   {
    "duration": 0,
    "start_time": "2025-06-04T23:24:51.245Z"
   },
   {
    "duration": 0,
    "start_time": "2025-06-04T23:24:51.246Z"
   },
   {
    "duration": 0,
    "start_time": "2025-06-04T23:24:51.247Z"
   },
   {
    "duration": 0,
    "start_time": "2025-06-04T23:24:51.247Z"
   },
   {
    "duration": 0,
    "start_time": "2025-06-04T23:24:51.248Z"
   },
   {
    "duration": 0,
    "start_time": "2025-06-04T23:24:51.249Z"
   },
   {
    "duration": 0,
    "start_time": "2025-06-04T23:24:51.250Z"
   },
   {
    "duration": 0,
    "start_time": "2025-06-04T23:24:51.251Z"
   },
   {
    "duration": 0,
    "start_time": "2025-06-04T23:24:51.252Z"
   },
   {
    "duration": 0,
    "start_time": "2025-06-04T23:24:51.253Z"
   },
   {
    "duration": 0,
    "start_time": "2025-06-04T23:24:51.253Z"
   },
   {
    "duration": 0,
    "start_time": "2025-06-04T23:24:51.255Z"
   },
   {
    "duration": 0,
    "start_time": "2025-06-04T23:24:51.256Z"
   },
   {
    "duration": 0,
    "start_time": "2025-06-04T23:24:51.257Z"
   },
   {
    "duration": 0,
    "start_time": "2025-06-04T23:24:51.259Z"
   },
   {
    "duration": 0,
    "start_time": "2025-06-04T23:24:51.260Z"
   },
   {
    "duration": 0,
    "start_time": "2025-06-04T23:24:51.261Z"
   },
   {
    "duration": 0,
    "start_time": "2025-06-04T23:24:51.262Z"
   },
   {
    "duration": 0,
    "start_time": "2025-06-04T23:24:51.263Z"
   },
   {
    "duration": 0,
    "start_time": "2025-06-04T23:24:51.264Z"
   },
   {
    "duration": 0,
    "start_time": "2025-06-04T23:24:51.265Z"
   },
   {
    "duration": 0,
    "start_time": "2025-06-04T23:24:51.266Z"
   },
   {
    "duration": 0,
    "start_time": "2025-06-04T23:24:51.267Z"
   },
   {
    "duration": 0,
    "start_time": "2025-06-04T23:24:51.268Z"
   },
   {
    "duration": 0,
    "start_time": "2025-06-04T23:24:51.269Z"
   },
   {
    "duration": 0,
    "start_time": "2025-06-04T23:24:51.270Z"
   },
   {
    "duration": 0,
    "start_time": "2025-06-04T23:24:51.271Z"
   },
   {
    "duration": 0,
    "start_time": "2025-06-04T23:24:51.272Z"
   },
   {
    "duration": 0,
    "start_time": "2025-06-04T23:24:51.273Z"
   },
   {
    "duration": 0,
    "start_time": "2025-06-04T23:24:51.274Z"
   },
   {
    "duration": 0,
    "start_time": "2025-06-04T23:24:51.276Z"
   },
   {
    "duration": 0,
    "start_time": "2025-06-04T23:24:51.276Z"
   },
   {
    "duration": 0,
    "start_time": "2025-06-04T23:24:51.277Z"
   },
   {
    "duration": 0,
    "start_time": "2025-06-04T23:24:51.278Z"
   },
   {
    "duration": 16,
    "start_time": "2025-06-04T23:25:06.260Z"
   },
   {
    "duration": 705,
    "start_time": "2025-06-04T23:25:09.688Z"
   },
   {
    "duration": 20,
    "start_time": "2025-06-04T23:25:10.395Z"
   },
   {
    "duration": 36,
    "start_time": "2025-06-04T23:25:10.416Z"
   },
   {
    "duration": 30,
    "start_time": "2025-06-04T23:25:10.455Z"
   },
   {
    "duration": 10,
    "start_time": "2025-06-04T23:25:10.486Z"
   },
   {
    "duration": 42,
    "start_time": "2025-06-04T23:25:10.497Z"
   },
   {
    "duration": 19,
    "start_time": "2025-06-04T23:25:10.541Z"
   },
   {
    "duration": 11,
    "start_time": "2025-06-04T23:25:10.561Z"
   },
   {
    "duration": 16,
    "start_time": "2025-06-04T23:25:10.574Z"
   },
   {
    "duration": 13,
    "start_time": "2025-06-04T23:25:10.593Z"
   },
   {
    "duration": 12,
    "start_time": "2025-06-04T23:25:10.608Z"
   },
   {
    "duration": 30,
    "start_time": "2025-06-04T23:25:10.622Z"
   },
   {
    "duration": 7,
    "start_time": "2025-06-04T23:25:10.654Z"
   },
   {
    "duration": 5,
    "start_time": "2025-06-04T23:25:10.663Z"
   },
   {
    "duration": 9,
    "start_time": "2025-06-04T23:25:10.670Z"
   },
   {
    "duration": 6,
    "start_time": "2025-06-04T23:25:10.681Z"
   },
   {
    "duration": 19,
    "start_time": "2025-06-04T23:25:10.689Z"
   },
   {
    "duration": 34,
    "start_time": "2025-06-04T23:25:10.711Z"
   },
   {
    "duration": 16,
    "start_time": "2025-06-04T23:25:10.755Z"
   },
   {
    "duration": 6,
    "start_time": "2025-06-04T23:25:10.773Z"
   },
   {
    "duration": 212,
    "start_time": "2025-06-04T23:25:10.781Z"
   },
   {
    "duration": 6,
    "start_time": "2025-06-04T23:25:10.995Z"
   },
   {
    "duration": 29,
    "start_time": "2025-06-04T23:25:11.003Z"
   },
   {
    "duration": 118,
    "start_time": "2025-06-04T23:25:11.036Z"
   },
   {
    "duration": 195,
    "start_time": "2025-06-04T23:25:11.156Z"
   },
   {
    "duration": 206,
    "start_time": "2025-06-04T23:25:11.355Z"
   },
   {
    "duration": 202,
    "start_time": "2025-06-04T23:25:11.563Z"
   },
   {
    "duration": 7,
    "start_time": "2025-06-04T23:25:11.770Z"
   },
   {
    "duration": 307,
    "start_time": "2025-06-04T23:25:11.779Z"
   },
   {
    "duration": 200,
    "start_time": "2025-06-04T23:25:12.087Z"
   },
   {
    "duration": 199,
    "start_time": "2025-06-04T23:25:12.289Z"
   },
   {
    "duration": 10,
    "start_time": "2025-06-04T23:25:12.490Z"
   },
   {
    "duration": 21,
    "start_time": "2025-06-04T23:25:12.501Z"
   },
   {
    "duration": 30,
    "start_time": "2025-06-04T23:25:12.524Z"
   },
   {
    "duration": 16,
    "start_time": "2025-06-04T23:25:12.556Z"
   },
   {
    "duration": 11,
    "start_time": "2025-06-04T23:25:12.574Z"
   },
   {
    "duration": 17,
    "start_time": "2025-06-04T23:25:12.587Z"
   },
   {
    "duration": 64,
    "start_time": "2025-06-04T23:25:12.605Z"
   },
   {
    "duration": 9,
    "start_time": "2025-06-04T23:25:12.670Z"
   },
   {
    "duration": 20,
    "start_time": "2025-06-04T23:25:12.681Z"
   },
   {
    "duration": 5,
    "start_time": "2025-06-04T23:25:12.702Z"
   },
   {
    "duration": 231,
    "start_time": "2025-06-04T23:25:12.709Z"
   },
   {
    "duration": 12,
    "start_time": "2025-06-04T23:25:12.942Z"
   },
   {
    "duration": 204,
    "start_time": "2025-06-04T23:25:12.956Z"
   },
   {
    "duration": 6,
    "start_time": "2025-06-04T23:25:13.162Z"
   },
   {
    "duration": 221,
    "start_time": "2025-06-04T23:25:13.170Z"
   },
   {
    "duration": 6,
    "start_time": "2025-06-04T23:25:13.393Z"
   },
   {
    "duration": 208,
    "start_time": "2025-06-04T23:25:13.401Z"
   },
   {
    "duration": 6,
    "start_time": "2025-06-04T23:25:13.611Z"
   },
   {
    "duration": 37,
    "start_time": "2025-06-04T23:25:13.619Z"
   },
   {
    "duration": 12,
    "start_time": "2025-06-04T23:25:13.658Z"
   },
   {
    "duration": 11,
    "start_time": "2025-06-04T23:25:13.671Z"
   },
   {
    "duration": 19,
    "start_time": "2025-06-04T23:25:13.684Z"
   },
   {
    "duration": 14,
    "start_time": "2025-06-04T23:25:13.705Z"
   },
   {
    "duration": 20,
    "start_time": "2025-06-04T23:25:13.721Z"
   },
   {
    "duration": 35,
    "start_time": "2025-06-04T23:25:13.743Z"
   },
   {
    "duration": 75,
    "start_time": "2025-06-04T23:25:13.780Z"
   },
   {
    "duration": 27,
    "start_time": "2025-06-04T23:25:13.857Z"
   },
   {
    "duration": 11,
    "start_time": "2025-06-04T23:25:13.885Z"
   },
   {
    "duration": 1312,
    "start_time": "2025-06-04T23:25:13.898Z"
   },
   {
    "duration": 39,
    "start_time": "2025-06-04T23:25:15.212Z"
   },
   {
    "duration": 514,
    "start_time": "2025-06-04T23:25:15.253Z"
   },
   {
    "duration": 2,
    "start_time": "2025-06-04T23:25:15.769Z"
   },
   {
    "duration": 120,
    "start_time": "2025-06-04T23:25:15.773Z"
   },
   {
    "duration": 18,
    "start_time": "2025-06-04T23:25:15.894Z"
   },
   {
    "duration": 15,
    "start_time": "2025-06-04T23:25:15.914Z"
   },
   {
    "duration": 20,
    "start_time": "2025-06-04T23:25:15.931Z"
   },
   {
    "duration": 7,
    "start_time": "2025-06-04T23:25:15.953Z"
   },
   {
    "duration": 7,
    "start_time": "2025-06-04T23:25:15.962Z"
   },
   {
    "duration": 10,
    "start_time": "2025-06-04T23:25:15.970Z"
   },
   {
    "duration": 4,
    "start_time": "2025-06-04T23:25:15.981Z"
   },
   {
    "duration": 10,
    "start_time": "2025-06-04T23:25:15.987Z"
   },
   {
    "duration": 5,
    "start_time": "2025-06-04T23:25:15.999Z"
   },
   {
    "duration": 8,
    "start_time": "2025-06-04T23:25:16.006Z"
   },
   {
    "duration": 7,
    "start_time": "2025-06-04T23:25:16.016Z"
   },
   {
    "duration": 65,
    "start_time": "2025-06-04T23:26:55.823Z"
   },
   {
    "duration": 67,
    "start_time": "2025-06-04T23:30:55.985Z"
   },
   {
    "duration": 114,
    "start_time": "2025-06-04T23:32:05.313Z"
   },
   {
    "duration": 18,
    "start_time": "2025-06-04T23:35:52.705Z"
   },
   {
    "duration": 20,
    "start_time": "2025-06-04T23:36:36.849Z"
   },
   {
    "duration": 27,
    "start_time": "2025-06-04T23:36:42.533Z"
   },
   {
    "duration": 26,
    "start_time": "2025-06-04T23:37:07.027Z"
   },
   {
    "duration": 33,
    "start_time": "2025-06-04T23:37:09.022Z"
   },
   {
    "duration": 11,
    "start_time": "2025-06-04T23:38:43.889Z"
   },
   {
    "duration": 13,
    "start_time": "2025-06-04T23:38:44.354Z"
   },
   {
    "duration": 14,
    "start_time": "2025-06-04T23:39:01.449Z"
   },
   {
    "duration": 13,
    "start_time": "2025-06-04T23:39:01.887Z"
   },
   {
    "duration": 29,
    "start_time": "2025-06-04T23:39:25.623Z"
   },
   {
    "duration": 17,
    "start_time": "2025-06-04T23:39:26.204Z"
   },
   {
    "duration": 6,
    "start_time": "2025-06-04T23:41:17.865Z"
   },
   {
    "duration": 24,
    "start_time": "2025-06-04T23:44:38.034Z"
   },
   {
    "duration": 16,
    "start_time": "2025-06-04T23:44:38.560Z"
   },
   {
    "duration": 14,
    "start_time": "2025-06-04T23:44:47.365Z"
   },
   {
    "duration": 7,
    "start_time": "2025-06-04T23:45:09.503Z"
   },
   {
    "duration": 24,
    "start_time": "2025-06-04T23:45:15.579Z"
   },
   {
    "duration": 7,
    "start_time": "2025-06-04T23:45:16.314Z"
   },
   {
    "duration": 22,
    "start_time": "2025-06-04T23:45:18.741Z"
   },
   {
    "duration": 7,
    "start_time": "2025-06-04T23:45:19.132Z"
   },
   {
    "duration": 17,
    "start_time": "2025-06-04T23:45:28.752Z"
   },
   {
    "duration": 6,
    "start_time": "2025-06-04T23:45:29.124Z"
   },
   {
    "duration": 73,
    "start_time": "2025-06-04T23:46:47.960Z"
   },
   {
    "duration": 18,
    "start_time": "2025-06-04T23:47:08.277Z"
   },
   {
    "duration": 21,
    "start_time": "2025-06-04T23:47:28.137Z"
   },
   {
    "duration": 17,
    "start_time": "2025-06-04T23:47:30.454Z"
   },
   {
    "duration": 23,
    "start_time": "2025-06-04T23:47:35.624Z"
   },
   {
    "duration": 21,
    "start_time": "2025-06-04T23:47:54.621Z"
   },
   {
    "duration": 16,
    "start_time": "2025-06-04T23:48:27.000Z"
   },
   {
    "duration": 7,
    "start_time": "2025-06-04T23:48:28.150Z"
   },
   {
    "duration": 15,
    "start_time": "2025-06-04T23:48:32.024Z"
   },
   {
    "duration": 16,
    "start_time": "2025-06-04T23:48:50.755Z"
   },
   {
    "duration": 15,
    "start_time": "2025-06-04T23:48:51.443Z"
   },
   {
    "duration": 31,
    "start_time": "2025-06-04T23:49:01.049Z"
   },
   {
    "duration": 20,
    "start_time": "2025-06-04T23:49:01.733Z"
   },
   {
    "duration": 15,
    "start_time": "2025-06-04T23:49:13.992Z"
   },
   {
    "duration": 18,
    "start_time": "2025-06-04T23:49:14.528Z"
   },
   {
    "duration": 22,
    "start_time": "2025-06-04T23:49:17.248Z"
   },
   {
    "duration": 18,
    "start_time": "2025-06-04T23:49:18.539Z"
   },
   {
    "duration": 17,
    "start_time": "2025-06-04T23:49:24.616Z"
   },
   {
    "duration": 10,
    "start_time": "2025-06-04T23:49:33.315Z"
   },
   {
    "duration": 16,
    "start_time": "2025-06-04T23:49:39.657Z"
   },
   {
    "duration": 9,
    "start_time": "2025-06-04T23:49:52.404Z"
   },
   {
    "duration": 13,
    "start_time": "2025-06-04T23:49:59.010Z"
   },
   {
    "duration": 17,
    "start_time": "2025-06-04T23:50:07.872Z"
   },
   {
    "duration": 11,
    "start_time": "2025-06-04T23:50:16.316Z"
   },
   {
    "duration": 11,
    "start_time": "2025-06-04T23:50:26.185Z"
   },
   {
    "duration": 13,
    "start_time": "2025-06-04T23:50:36.873Z"
   },
   {
    "duration": 14,
    "start_time": "2025-06-04T23:50:48.171Z"
   },
   {
    "duration": 23,
    "start_time": "2025-06-04T23:50:58.539Z"
   },
   {
    "duration": 15,
    "start_time": "2025-06-04T23:51:12.040Z"
   },
   {
    "duration": 29,
    "start_time": "2025-06-04T23:58:12.527Z"
   },
   {
    "duration": 13,
    "start_time": "2025-06-04T23:58:16.751Z"
   },
   {
    "duration": 3,
    "start_time": "2025-06-05T00:04:23.787Z"
   },
   {
    "duration": 13,
    "start_time": "2025-06-05T00:04:25.390Z"
   },
   {
    "duration": 6,
    "start_time": "2025-06-05T00:04:39.614Z"
   },
   {
    "duration": 700,
    "start_time": "2025-06-05T00:04:48.474Z"
   },
   {
    "duration": 0,
    "start_time": "2025-06-05T00:04:49.176Z"
   },
   {
    "duration": 716,
    "start_time": "2025-06-05T00:04:55.601Z"
   },
   {
    "duration": 25,
    "start_time": "2025-06-05T00:04:56.319Z"
   },
   {
    "duration": 193,
    "start_time": "2025-06-05T00:04:56.348Z"
   },
   {
    "duration": 45,
    "start_time": "2025-06-05T00:04:56.543Z"
   },
   {
    "duration": 10,
    "start_time": "2025-06-05T00:04:56.590Z"
   },
   {
    "duration": 274,
    "start_time": "2025-06-05T00:04:56.601Z"
   },
   {
    "duration": 29,
    "start_time": "2025-06-05T00:04:56.877Z"
   },
   {
    "duration": 11,
    "start_time": "2025-06-05T00:04:56.908Z"
   },
   {
    "duration": 32,
    "start_time": "2025-06-05T00:04:56.921Z"
   },
   {
    "duration": 163,
    "start_time": "2025-06-05T00:04:56.957Z"
   },
   {
    "duration": 12,
    "start_time": "2025-06-05T00:04:57.122Z"
   },
   {
    "duration": 12,
    "start_time": "2025-06-05T00:04:57.139Z"
   },
   {
    "duration": 7,
    "start_time": "2025-06-05T00:04:57.157Z"
   },
   {
    "duration": 6,
    "start_time": "2025-06-05T00:04:57.166Z"
   },
   {
    "duration": 9,
    "start_time": "2025-06-05T00:04:57.174Z"
   },
   {
    "duration": 10,
    "start_time": "2025-06-05T00:04:57.185Z"
   },
   {
    "duration": 18,
    "start_time": "2025-06-05T00:04:57.197Z"
   },
   {
    "duration": 10,
    "start_time": "2025-06-05T00:04:57.217Z"
   },
   {
    "duration": 34,
    "start_time": "2025-06-05T00:04:57.229Z"
   },
   {
    "duration": 20,
    "start_time": "2025-06-05T00:04:57.265Z"
   },
   {
    "duration": 205,
    "start_time": "2025-06-05T00:04:57.287Z"
   },
   {
    "duration": 7,
    "start_time": "2025-06-05T00:04:57.494Z"
   },
   {
    "duration": 20,
    "start_time": "2025-06-05T00:04:57.503Z"
   },
   {
    "duration": 133,
    "start_time": "2025-06-05T00:04:57.525Z"
   },
   {
    "duration": 399,
    "start_time": "2025-06-05T00:04:57.660Z"
   },
   {
    "duration": 295,
    "start_time": "2025-06-05T00:04:58.062Z"
   },
   {
    "duration": 210,
    "start_time": "2025-06-05T00:04:58.359Z"
   },
   {
    "duration": 7,
    "start_time": "2025-06-05T00:04:58.574Z"
   },
   {
    "duration": 217,
    "start_time": "2025-06-05T00:04:58.583Z"
   },
   {
    "duration": 234,
    "start_time": "2025-06-05T00:04:58.802Z"
   },
   {
    "duration": 208,
    "start_time": "2025-06-05T00:04:59.047Z"
   },
   {
    "duration": 9,
    "start_time": "2025-06-05T00:04:59.257Z"
   },
   {
    "duration": 9,
    "start_time": "2025-06-05T00:04:59.268Z"
   },
   {
    "duration": 13,
    "start_time": "2025-06-05T00:04:59.279Z"
   },
   {
    "duration": 55,
    "start_time": "2025-06-05T00:04:59.295Z"
   },
   {
    "duration": 14,
    "start_time": "2025-06-05T00:04:59.352Z"
   },
   {
    "duration": 13,
    "start_time": "2025-06-05T00:04:59.368Z"
   },
   {
    "duration": 46,
    "start_time": "2025-06-05T00:04:59.383Z"
   },
   {
    "duration": 18,
    "start_time": "2025-06-05T00:04:59.431Z"
   },
   {
    "duration": 6,
    "start_time": "2025-06-05T00:04:59.453Z"
   },
   {
    "duration": 6,
    "start_time": "2025-06-05T00:04:59.460Z"
   },
   {
    "duration": 235,
    "start_time": "2025-06-05T00:04:59.468Z"
   },
   {
    "duration": 6,
    "start_time": "2025-06-05T00:04:59.705Z"
   },
   {
    "duration": 222,
    "start_time": "2025-06-05T00:04:59.712Z"
   },
   {
    "duration": 12,
    "start_time": "2025-06-05T00:04:59.936Z"
   },
   {
    "duration": 337,
    "start_time": "2025-06-05T00:04:59.954Z"
   },
   {
    "duration": 7,
    "start_time": "2025-06-05T00:05:00.293Z"
   },
   {
    "duration": 241,
    "start_time": "2025-06-05T00:05:00.302Z"
   },
   {
    "duration": 8,
    "start_time": "2025-06-05T00:05:00.545Z"
   },
   {
    "duration": 21,
    "start_time": "2025-06-05T00:05:00.555Z"
   },
   {
    "duration": 123,
    "start_time": "2025-06-05T00:05:00.578Z"
   },
   {
    "duration": 62,
    "start_time": "2025-06-05T00:05:00.703Z"
   },
   {
    "duration": 28,
    "start_time": "2025-06-05T00:05:00.767Z"
   },
   {
    "duration": 110,
    "start_time": "2025-06-05T00:05:00.798Z"
   },
   {
    "duration": 0,
    "start_time": "2025-06-05T00:05:00.910Z"
   },
   {
    "duration": 0,
    "start_time": "2025-06-05T00:05:00.912Z"
   },
   {
    "duration": 0,
    "start_time": "2025-06-05T00:05:00.913Z"
   },
   {
    "duration": 1,
    "start_time": "2025-06-05T00:05:00.914Z"
   },
   {
    "duration": 0,
    "start_time": "2025-06-05T00:05:00.916Z"
   },
   {
    "duration": 0,
    "start_time": "2025-06-05T00:05:00.940Z"
   },
   {
    "duration": 0,
    "start_time": "2025-06-05T00:05:00.941Z"
   },
   {
    "duration": 0,
    "start_time": "2025-06-05T00:05:00.943Z"
   },
   {
    "duration": 0,
    "start_time": "2025-06-05T00:05:00.945Z"
   },
   {
    "duration": 0,
    "start_time": "2025-06-05T00:05:00.946Z"
   },
   {
    "duration": 0,
    "start_time": "2025-06-05T00:05:00.948Z"
   },
   {
    "duration": 0,
    "start_time": "2025-06-05T00:05:00.949Z"
   },
   {
    "duration": 0,
    "start_time": "2025-06-05T00:05:00.951Z"
   },
   {
    "duration": 0,
    "start_time": "2025-06-05T00:05:00.953Z"
   },
   {
    "duration": 0,
    "start_time": "2025-06-05T00:05:00.955Z"
   },
   {
    "duration": 0,
    "start_time": "2025-06-05T00:05:00.956Z"
   },
   {
    "duration": 0,
    "start_time": "2025-06-05T00:05:00.958Z"
   },
   {
    "duration": 0,
    "start_time": "2025-06-05T00:05:00.959Z"
   },
   {
    "duration": 0,
    "start_time": "2025-06-05T00:05:00.960Z"
   },
   {
    "duration": 0,
    "start_time": "2025-06-05T00:05:00.961Z"
   },
   {
    "duration": 0,
    "start_time": "2025-06-05T00:05:00.962Z"
   },
   {
    "duration": 0,
    "start_time": "2025-06-05T00:05:00.963Z"
   },
   {
    "duration": 0,
    "start_time": "2025-06-05T00:05:00.965Z"
   },
   {
    "duration": 0,
    "start_time": "2025-06-05T00:05:00.965Z"
   },
   {
    "duration": 0,
    "start_time": "2025-06-05T00:05:00.966Z"
   },
   {
    "duration": 20,
    "start_time": "2025-06-05T00:05:10.366Z"
   },
   {
    "duration": 11,
    "start_time": "2025-06-05T00:06:53.546Z"
   },
   {
    "duration": 1428,
    "start_time": "2025-06-05T00:07:06.024Z"
   },
   {
    "duration": 990,
    "start_time": "2025-06-05T00:07:37.374Z"
   },
   {
    "duration": 35,
    "start_time": "2025-06-05T00:09:46.704Z"
   },
   {
    "duration": 21,
    "start_time": "2025-06-05T00:09:53.421Z"
   },
   {
    "duration": 26,
    "start_time": "2025-06-05T00:10:32.170Z"
   },
   {
    "duration": 23,
    "start_time": "2025-06-05T00:10:32.899Z"
   },
   {
    "duration": 11,
    "start_time": "2025-06-05T00:15:15.512Z"
   },
   {
    "duration": 15,
    "start_time": "2025-06-05T00:16:37.496Z"
   },
   {
    "duration": 22,
    "start_time": "2025-06-05T00:16:45.845Z"
   },
   {
    "duration": 3,
    "start_time": "2025-06-05T00:19:34.293Z"
   },
   {
    "duration": 16,
    "start_time": "2025-06-05T00:20:01.276Z"
   },
   {
    "duration": 5,
    "start_time": "2025-06-05T00:20:47.042Z"
   },
   {
    "duration": 245,
    "start_time": "2025-06-05T00:20:47.711Z"
   },
   {
    "duration": 18,
    "start_time": "2025-06-05T00:20:55.168Z"
   },
   {
    "duration": 722,
    "start_time": "2025-06-05T00:21:14.611Z"
   },
   {
    "duration": 25,
    "start_time": "2025-06-05T00:21:15.335Z"
   },
   {
    "duration": 35,
    "start_time": "2025-06-05T00:21:15.362Z"
   },
   {
    "duration": 52,
    "start_time": "2025-06-05T00:21:15.400Z"
   },
   {
    "duration": 9,
    "start_time": "2025-06-05T00:21:15.454Z"
   },
   {
    "duration": 22,
    "start_time": "2025-06-05T00:21:15.465Z"
   },
   {
    "duration": 19,
    "start_time": "2025-06-05T00:21:15.489Z"
   },
   {
    "duration": 42,
    "start_time": "2025-06-05T00:21:15.509Z"
   },
   {
    "duration": 10,
    "start_time": "2025-06-05T00:21:15.554Z"
   },
   {
    "duration": 11,
    "start_time": "2025-06-05T00:21:15.567Z"
   },
   {
    "duration": 9,
    "start_time": "2025-06-05T00:21:15.579Z"
   },
   {
    "duration": 35,
    "start_time": "2025-06-05T00:21:15.590Z"
   },
   {
    "duration": 25,
    "start_time": "2025-06-05T00:21:15.627Z"
   },
   {
    "duration": 13,
    "start_time": "2025-06-05T00:21:15.653Z"
   },
   {
    "duration": 22,
    "start_time": "2025-06-05T00:21:15.668Z"
   },
   {
    "duration": 7,
    "start_time": "2025-06-05T00:21:15.691Z"
   },
   {
    "duration": 28,
    "start_time": "2025-06-05T00:21:15.699Z"
   },
   {
    "duration": 6,
    "start_time": "2025-06-05T00:21:15.729Z"
   },
   {
    "duration": 21,
    "start_time": "2025-06-05T00:21:15.736Z"
   },
   {
    "duration": 7,
    "start_time": "2025-06-05T00:21:15.760Z"
   },
   {
    "duration": 218,
    "start_time": "2025-06-05T00:21:15.769Z"
   },
   {
    "duration": 6,
    "start_time": "2025-06-05T00:21:15.989Z"
   },
   {
    "duration": 17,
    "start_time": "2025-06-05T00:21:15.997Z"
   },
   {
    "duration": 141,
    "start_time": "2025-06-05T00:21:16.016Z"
   },
   {
    "duration": 203,
    "start_time": "2025-06-05T00:21:16.159Z"
   },
   {
    "duration": 209,
    "start_time": "2025-06-05T00:21:16.363Z"
   },
   {
    "duration": 196,
    "start_time": "2025-06-05T00:21:16.574Z"
   },
   {
    "duration": 7,
    "start_time": "2025-06-05T00:21:16.774Z"
   },
   {
    "duration": 223,
    "start_time": "2025-06-05T00:21:16.782Z"
   },
   {
    "duration": 202,
    "start_time": "2025-06-05T00:21:17.007Z"
   },
   {
    "duration": 201,
    "start_time": "2025-06-05T00:21:17.211Z"
   },
   {
    "duration": 9,
    "start_time": "2025-06-05T00:21:17.414Z"
   },
   {
    "duration": 31,
    "start_time": "2025-06-05T00:21:17.424Z"
   },
   {
    "duration": 14,
    "start_time": "2025-06-05T00:21:17.457Z"
   },
   {
    "duration": 18,
    "start_time": "2025-06-05T00:21:17.473Z"
   },
   {
    "duration": 10,
    "start_time": "2025-06-05T00:21:17.493Z"
   },
   {
    "duration": 37,
    "start_time": "2025-06-05T00:21:17.505Z"
   },
   {
    "duration": 47,
    "start_time": "2025-06-05T00:21:17.544Z"
   },
   {
    "duration": 8,
    "start_time": "2025-06-05T00:21:17.593Z"
   },
   {
    "duration": 18,
    "start_time": "2025-06-05T00:21:17.603Z"
   },
   {
    "duration": 20,
    "start_time": "2025-06-05T00:21:17.623Z"
   },
   {
    "duration": 248,
    "start_time": "2025-06-05T00:21:17.650Z"
   },
   {
    "duration": 7,
    "start_time": "2025-06-05T00:21:17.899Z"
   },
   {
    "duration": 225,
    "start_time": "2025-06-05T00:21:17.907Z"
   },
   {
    "duration": 9,
    "start_time": "2025-06-05T00:21:18.134Z"
   },
   {
    "duration": 220,
    "start_time": "2025-06-05T00:21:18.145Z"
   },
   {
    "duration": 7,
    "start_time": "2025-06-05T00:21:18.367Z"
   },
   {
    "duration": 245,
    "start_time": "2025-06-05T00:21:18.375Z"
   },
   {
    "duration": 17,
    "start_time": "2025-06-05T00:21:18.621Z"
   },
   {
    "duration": 20,
    "start_time": "2025-06-05T00:21:18.646Z"
   },
   {
    "duration": 4,
    "start_time": "2025-06-05T00:21:18.667Z"
   },
   {
    "duration": 20,
    "start_time": "2025-06-05T00:21:18.673Z"
   },
   {
    "duration": 114,
    "start_time": "2025-06-05T00:21:18.695Z"
   },
   {
    "duration": 10,
    "start_time": "2025-06-05T00:21:18.811Z"
   },
   {
    "duration": 32,
    "start_time": "2025-06-05T00:21:18.822Z"
   },
   {
    "duration": 265,
    "start_time": "2025-06-05T00:21:18.856Z"
   },
   {
    "duration": 31,
    "start_time": "2025-06-05T00:21:19.123Z"
   },
   {
    "duration": 45,
    "start_time": "2025-06-05T00:21:19.156Z"
   },
   {
    "duration": 17,
    "start_time": "2025-06-05T00:21:19.202Z"
   },
   {
    "duration": 6,
    "start_time": "2025-06-05T00:21:19.221Z"
   },
   {
    "duration": 10,
    "start_time": "2025-06-05T00:21:19.229Z"
   },
   {
    "duration": 17,
    "start_time": "2025-06-05T00:21:19.243Z"
   },
   {
    "duration": 14,
    "start_time": "2025-06-05T00:21:19.262Z"
   },
   {
    "duration": 7,
    "start_time": "2025-06-05T00:21:19.278Z"
   },
   {
    "duration": 18,
    "start_time": "2025-06-05T00:21:19.287Z"
   },
   {
    "duration": 5,
    "start_time": "2025-06-05T00:21:19.307Z"
   },
   {
    "duration": 1286,
    "start_time": "2025-06-05T00:21:19.313Z"
   },
   {
    "duration": 539,
    "start_time": "2025-06-05T00:21:20.600Z"
   },
   {
    "duration": 3,
    "start_time": "2025-06-05T00:21:21.153Z"
   },
   {
    "duration": 58,
    "start_time": "2025-06-05T00:21:21.157Z"
   },
   {
    "duration": 10,
    "start_time": "2025-06-05T00:21:21.217Z"
   },
   {
    "duration": 11,
    "start_time": "2025-06-05T00:21:21.228Z"
   },
   {
    "duration": 21,
    "start_time": "2025-06-05T00:21:21.240Z"
   },
   {
    "duration": 32,
    "start_time": "2025-06-05T00:21:21.263Z"
   },
   {
    "duration": 54,
    "start_time": "2025-06-05T00:21:21.297Z"
   },
   {
    "duration": 48,
    "start_time": "2025-06-05T00:21:21.354Z"
   },
   {
    "duration": 14,
    "start_time": "2025-06-05T00:21:21.404Z"
   },
   {
    "duration": 11,
    "start_time": "2025-06-05T00:21:21.420Z"
   },
   {
    "duration": 26,
    "start_time": "2025-06-05T00:21:21.433Z"
   },
   {
    "duration": 28,
    "start_time": "2025-06-05T00:21:21.461Z"
   },
   {
    "duration": 25,
    "start_time": "2025-06-05T00:21:21.491Z"
   },
   {
    "duration": 19,
    "start_time": "2025-06-05T00:22:11.866Z"
   },
   {
    "duration": 6,
    "start_time": "2025-06-05T00:25:10.967Z"
   },
   {
    "duration": 89,
    "start_time": "2025-06-05T00:25:28.708Z"
   },
   {
    "duration": 181,
    "start_time": "2025-06-05T00:26:11.877Z"
   },
   {
    "duration": 6,
    "start_time": "2025-06-05T00:32:02.284Z"
   },
   {
    "duration": 5,
    "start_time": "2025-06-05T00:32:29.436Z"
   },
   {
    "duration": 80,
    "start_time": "2025-06-05T00:35:53.090Z"
   },
   {
    "duration": 106,
    "start_time": "2025-06-05T00:35:59.519Z"
   },
   {
    "duration": 5,
    "start_time": "2025-06-05T00:37:23.962Z"
   },
   {
    "duration": 4,
    "start_time": "2025-06-05T00:37:43.847Z"
   },
   {
    "duration": 5,
    "start_time": "2025-06-05T00:37:45.051Z"
   },
   {
    "duration": 689,
    "start_time": "2025-06-05T00:37:53.136Z"
   },
   {
    "duration": 20,
    "start_time": "2025-06-05T00:37:53.827Z"
   },
   {
    "duration": 12,
    "start_time": "2025-06-05T00:37:53.848Z"
   },
   {
    "duration": 59,
    "start_time": "2025-06-05T00:37:53.862Z"
   },
   {
    "duration": 10,
    "start_time": "2025-06-05T00:37:53.923Z"
   },
   {
    "duration": 22,
    "start_time": "2025-06-05T00:37:53.935Z"
   },
   {
    "duration": 14,
    "start_time": "2025-06-05T00:37:53.958Z"
   },
   {
    "duration": 19,
    "start_time": "2025-06-05T00:37:53.973Z"
   },
   {
    "duration": 8,
    "start_time": "2025-06-05T00:37:53.995Z"
   },
   {
    "duration": 32,
    "start_time": "2025-06-05T00:37:54.006Z"
   },
   {
    "duration": 9,
    "start_time": "2025-06-05T00:37:54.040Z"
   },
   {
    "duration": 15,
    "start_time": "2025-06-05T00:37:54.051Z"
   },
   {
    "duration": 7,
    "start_time": "2025-06-05T00:37:54.068Z"
   },
   {
    "duration": 8,
    "start_time": "2025-06-05T00:37:54.077Z"
   },
   {
    "duration": 106,
    "start_time": "2025-06-05T00:37:54.087Z"
   },
   {
    "duration": 9,
    "start_time": "2025-06-05T00:37:54.195Z"
   },
   {
    "duration": 15,
    "start_time": "2025-06-05T00:37:54.206Z"
   },
   {
    "duration": 5,
    "start_time": "2025-06-05T00:37:54.223Z"
   },
   {
    "duration": 16,
    "start_time": "2025-06-05T00:37:54.230Z"
   },
   {
    "duration": 6,
    "start_time": "2025-06-05T00:37:54.247Z"
   },
   {
    "duration": 246,
    "start_time": "2025-06-05T00:37:54.255Z"
   },
   {
    "duration": 7,
    "start_time": "2025-06-05T00:37:54.503Z"
   },
   {
    "duration": 26,
    "start_time": "2025-06-05T00:37:54.512Z"
   },
   {
    "duration": 99,
    "start_time": "2025-06-05T00:37:54.539Z"
   },
   {
    "duration": 185,
    "start_time": "2025-06-05T00:37:54.640Z"
   },
   {
    "duration": 213,
    "start_time": "2025-06-05T00:37:54.827Z"
   },
   {
    "duration": 182,
    "start_time": "2025-06-05T00:37:55.042Z"
   },
   {
    "duration": 17,
    "start_time": "2025-06-05T00:37:55.238Z"
   },
   {
    "duration": 189,
    "start_time": "2025-06-05T00:37:55.257Z"
   },
   {
    "duration": 197,
    "start_time": "2025-06-05T00:37:55.448Z"
   },
   {
    "duration": 205,
    "start_time": "2025-06-05T00:37:55.646Z"
   },
   {
    "duration": 10,
    "start_time": "2025-06-05T00:37:55.852Z"
   },
   {
    "duration": 16,
    "start_time": "2025-06-05T00:37:55.864Z"
   },
   {
    "duration": 13,
    "start_time": "2025-06-05T00:37:55.882Z"
   },
   {
    "duration": 46,
    "start_time": "2025-06-05T00:37:55.897Z"
   },
   {
    "duration": 16,
    "start_time": "2025-06-05T00:37:55.945Z"
   },
   {
    "duration": 21,
    "start_time": "2025-06-05T00:37:55.964Z"
   },
   {
    "duration": 58,
    "start_time": "2025-06-05T00:37:55.986Z"
   },
   {
    "duration": 9,
    "start_time": "2025-06-05T00:37:56.046Z"
   },
   {
    "duration": 13,
    "start_time": "2025-06-05T00:37:56.056Z"
   },
   {
    "duration": 7,
    "start_time": "2025-06-05T00:37:56.071Z"
   },
   {
    "duration": 223,
    "start_time": "2025-06-05T00:37:56.080Z"
   },
   {
    "duration": 7,
    "start_time": "2025-06-05T00:37:56.305Z"
   },
   {
    "duration": 197,
    "start_time": "2025-06-05T00:37:56.314Z"
   },
   {
    "duration": 6,
    "start_time": "2025-06-05T00:37:56.513Z"
   },
   {
    "duration": 198,
    "start_time": "2025-06-05T00:37:56.521Z"
   },
   {
    "duration": 16,
    "start_time": "2025-06-05T00:37:56.721Z"
   },
   {
    "duration": 305,
    "start_time": "2025-06-05T00:37:56.738Z"
   },
   {
    "duration": 7,
    "start_time": "2025-06-05T00:37:57.045Z"
   },
   {
    "duration": 21,
    "start_time": "2025-06-05T00:37:57.054Z"
   },
   {
    "duration": 17,
    "start_time": "2025-06-05T00:37:57.077Z"
   },
   {
    "duration": 12,
    "start_time": "2025-06-05T00:37:57.095Z"
   },
   {
    "duration": 42,
    "start_time": "2025-06-05T00:37:57.109Z"
   },
   {
    "duration": 118,
    "start_time": "2025-06-05T00:37:57.153Z"
   },
   {
    "duration": 4,
    "start_time": "2025-06-05T00:37:57.273Z"
   },
   {
    "duration": 230,
    "start_time": "2025-06-05T00:37:57.278Z"
   },
   {
    "duration": 28,
    "start_time": "2025-06-05T00:37:57.509Z"
   },
   {
    "duration": 14,
    "start_time": "2025-06-05T00:37:57.540Z"
   },
   {
    "duration": 11,
    "start_time": "2025-06-05T00:37:57.555Z"
   },
   {
    "duration": 14,
    "start_time": "2025-06-05T00:37:57.567Z"
   },
   {
    "duration": 4,
    "start_time": "2025-06-05T00:37:57.582Z"
   },
   {
    "duration": 10,
    "start_time": "2025-06-05T00:37:57.588Z"
   },
   {
    "duration": 48,
    "start_time": "2025-06-05T00:37:57.599Z"
   },
   {
    "duration": 3,
    "start_time": "2025-06-05T00:37:57.649Z"
   },
   {
    "duration": 86,
    "start_time": "2025-06-05T00:37:57.654Z"
   },
   {
    "duration": 0,
    "start_time": "2025-06-05T00:37:57.742Z"
   },
   {
    "duration": 0,
    "start_time": "2025-06-05T00:37:57.743Z"
   },
   {
    "duration": 0,
    "start_time": "2025-06-05T00:37:57.744Z"
   },
   {
    "duration": 0,
    "start_time": "2025-06-05T00:37:57.745Z"
   },
   {
    "duration": 0,
    "start_time": "2025-06-05T00:37:57.746Z"
   },
   {
    "duration": 0,
    "start_time": "2025-06-05T00:37:57.747Z"
   },
   {
    "duration": 0,
    "start_time": "2025-06-05T00:37:57.749Z"
   },
   {
    "duration": 0,
    "start_time": "2025-06-05T00:37:57.749Z"
   },
   {
    "duration": 0,
    "start_time": "2025-06-05T00:37:57.750Z"
   },
   {
    "duration": 0,
    "start_time": "2025-06-05T00:37:57.751Z"
   },
   {
    "duration": 0,
    "start_time": "2025-06-05T00:37:57.752Z"
   },
   {
    "duration": 0,
    "start_time": "2025-06-05T00:37:57.753Z"
   },
   {
    "duration": 0,
    "start_time": "2025-06-05T00:37:57.754Z"
   },
   {
    "duration": 698,
    "start_time": "2025-06-05T00:38:44.338Z"
   },
   {
    "duration": 22,
    "start_time": "2025-06-05T00:38:45.038Z"
   },
   {
    "duration": 32,
    "start_time": "2025-06-05T00:38:45.064Z"
   },
   {
    "duration": 162,
    "start_time": "2025-06-05T00:38:45.097Z"
   },
   {
    "duration": 58,
    "start_time": "2025-06-05T00:38:45.260Z"
   },
   {
    "duration": 25,
    "start_time": "2025-06-05T00:38:45.320Z"
   },
   {
    "duration": 13,
    "start_time": "2025-06-05T00:38:45.347Z"
   },
   {
    "duration": 55,
    "start_time": "2025-06-05T00:38:45.361Z"
   },
   {
    "duration": 9,
    "start_time": "2025-06-05T00:38:45.419Z"
   },
   {
    "duration": 23,
    "start_time": "2025-06-05T00:38:45.429Z"
   },
   {
    "duration": 9,
    "start_time": "2025-06-05T00:38:45.454Z"
   },
   {
    "duration": 60,
    "start_time": "2025-06-05T00:38:45.464Z"
   },
   {
    "duration": 18,
    "start_time": "2025-06-05T00:38:45.525Z"
   },
   {
    "duration": 7,
    "start_time": "2025-06-05T00:38:45.544Z"
   },
   {
    "duration": 10,
    "start_time": "2025-06-05T00:38:45.552Z"
   },
   {
    "duration": 6,
    "start_time": "2025-06-05T00:38:45.563Z"
   },
   {
    "duration": 16,
    "start_time": "2025-06-05T00:38:45.570Z"
   },
   {
    "duration": 5,
    "start_time": "2025-06-05T00:38:45.588Z"
   },
   {
    "duration": 49,
    "start_time": "2025-06-05T00:38:45.595Z"
   },
   {
    "duration": 7,
    "start_time": "2025-06-05T00:38:45.646Z"
   },
   {
    "duration": 216,
    "start_time": "2025-06-05T00:38:45.654Z"
   },
   {
    "duration": 8,
    "start_time": "2025-06-05T00:38:45.871Z"
   },
   {
    "duration": 16,
    "start_time": "2025-06-05T00:38:45.880Z"
   },
   {
    "duration": 109,
    "start_time": "2025-06-05T00:38:45.898Z"
   },
   {
    "duration": 192,
    "start_time": "2025-06-05T00:38:46.009Z"
   },
   {
    "duration": 194,
    "start_time": "2025-06-05T00:38:46.203Z"
   },
   {
    "duration": 192,
    "start_time": "2025-06-05T00:38:46.401Z"
   },
   {
    "duration": 6,
    "start_time": "2025-06-05T00:38:46.595Z"
   },
   {
    "duration": 200,
    "start_time": "2025-06-05T00:38:46.603Z"
   },
   {
    "duration": 197,
    "start_time": "2025-06-05T00:38:46.804Z"
   },
   {
    "duration": 193,
    "start_time": "2025-06-05T00:38:47.002Z"
   },
   {
    "duration": 11,
    "start_time": "2025-06-05T00:38:47.198Z"
   },
   {
    "duration": 74,
    "start_time": "2025-06-05T00:38:47.210Z"
   },
   {
    "duration": 22,
    "start_time": "2025-06-05T00:38:47.286Z"
   },
   {
    "duration": 17,
    "start_time": "2025-06-05T00:38:47.310Z"
   },
   {
    "duration": 16,
    "start_time": "2025-06-05T00:38:47.329Z"
   },
   {
    "duration": 22,
    "start_time": "2025-06-05T00:38:47.347Z"
   },
   {
    "duration": 34,
    "start_time": "2025-06-05T00:38:47.371Z"
   },
   {
    "duration": 30,
    "start_time": "2025-06-05T00:38:47.407Z"
   },
   {
    "duration": 7,
    "start_time": "2025-06-05T00:38:47.439Z"
   },
   {
    "duration": 8,
    "start_time": "2025-06-05T00:38:47.448Z"
   },
   {
    "duration": 233,
    "start_time": "2025-06-05T00:38:47.458Z"
   },
   {
    "duration": 6,
    "start_time": "2025-06-05T00:38:47.692Z"
   },
   {
    "duration": 197,
    "start_time": "2025-06-05T00:38:47.700Z"
   },
   {
    "duration": 7,
    "start_time": "2025-06-05T00:38:47.899Z"
   },
   {
    "duration": 203,
    "start_time": "2025-06-05T00:38:47.908Z"
   },
   {
    "duration": 8,
    "start_time": "2025-06-05T00:38:48.113Z"
   },
   {
    "duration": 214,
    "start_time": "2025-06-05T00:38:48.137Z"
   },
   {
    "duration": 7,
    "start_time": "2025-06-05T00:38:48.353Z"
   },
   {
    "duration": 22,
    "start_time": "2025-06-05T00:38:48.361Z"
   },
   {
    "duration": 3,
    "start_time": "2025-06-05T00:38:48.385Z"
   },
   {
    "duration": 80,
    "start_time": "2025-06-05T00:38:48.390Z"
   },
   {
    "duration": 44,
    "start_time": "2025-06-05T00:38:48.471Z"
   },
   {
    "duration": 9,
    "start_time": "2025-06-05T00:38:48.517Z"
   },
   {
    "duration": 4,
    "start_time": "2025-06-05T00:38:48.528Z"
   },
   {
    "duration": 218,
    "start_time": "2025-06-05T00:38:48.534Z"
   },
   {
    "duration": 18,
    "start_time": "2025-06-05T00:38:48.754Z"
   },
   {
    "duration": 120,
    "start_time": "2025-06-05T00:38:48.773Z"
   },
   {
    "duration": 33,
    "start_time": "2025-06-05T00:38:48.894Z"
   },
   {
    "duration": 7,
    "start_time": "2025-06-05T00:38:48.929Z"
   },
   {
    "duration": 9,
    "start_time": "2025-06-05T00:38:48.937Z"
   },
   {
    "duration": 19,
    "start_time": "2025-06-05T00:38:48.949Z"
   },
   {
    "duration": 22,
    "start_time": "2025-06-05T00:38:48.970Z"
   },
   {
    "duration": 6,
    "start_time": "2025-06-05T00:38:48.994Z"
   },
   {
    "duration": 3,
    "start_time": "2025-06-05T00:38:49.003Z"
   },
   {
    "duration": 511,
    "start_time": "2025-06-05T00:38:49.009Z"
   },
   {
    "duration": 3,
    "start_time": "2025-06-05T00:38:49.522Z"
   },
   {
    "duration": 11,
    "start_time": "2025-06-05T00:38:49.527Z"
   },
   {
    "duration": 8,
    "start_time": "2025-06-05T00:38:49.540Z"
   },
   {
    "duration": 6,
    "start_time": "2025-06-05T00:38:49.549Z"
   },
   {
    "duration": 6,
    "start_time": "2025-06-05T00:38:49.557Z"
   },
   {
    "duration": 24,
    "start_time": "2025-06-05T00:38:49.565Z"
   },
   {
    "duration": 31,
    "start_time": "2025-06-05T00:38:49.590Z"
   },
   {
    "duration": 6,
    "start_time": "2025-06-05T00:38:49.623Z"
   },
   {
    "duration": 7,
    "start_time": "2025-06-05T00:38:49.630Z"
   },
   {
    "duration": 5,
    "start_time": "2025-06-05T00:38:49.638Z"
   },
   {
    "duration": 7,
    "start_time": "2025-06-05T00:38:49.644Z"
   },
   {
    "duration": 5,
    "start_time": "2025-06-05T00:38:49.653Z"
   },
   {
    "duration": 6,
    "start_time": "2025-06-05T00:39:25.402Z"
   },
   {
    "duration": 73,
    "start_time": "2025-06-05T00:39:46.804Z"
   },
   {
    "duration": 83,
    "start_time": "2025-06-05T00:40:13.686Z"
   },
   {
    "duration": 70,
    "start_time": "2025-06-05T00:41:10.058Z"
   },
   {
    "duration": 86,
    "start_time": "2025-06-05T00:43:21.906Z"
   },
   {
    "duration": 85,
    "start_time": "2025-06-05T00:45:01.578Z"
   },
   {
    "duration": 6,
    "start_time": "2025-06-05T00:46:13.773Z"
   },
   {
    "duration": 7,
    "start_time": "2025-06-05T00:46:19.409Z"
   },
   {
    "duration": 64,
    "start_time": "2025-06-05T00:58:21.139Z"
   },
   {
    "duration": 13,
    "start_time": "2025-06-05T00:58:25.320Z"
   },
   {
    "duration": 14,
    "start_time": "2025-06-05T00:58:36.365Z"
   },
   {
    "duration": 6,
    "start_time": "2025-06-05T00:59:20.033Z"
   },
   {
    "duration": 32,
    "start_time": "2025-06-05T06:41:46.684Z"
   },
   {
    "duration": 17,
    "start_time": "2025-06-05T06:41:46.718Z"
   },
   {
    "duration": 30,
    "start_time": "2025-06-05T06:41:46.736Z"
   },
   {
    "duration": 10,
    "start_time": "2025-06-05T06:41:46.769Z"
   },
   {
    "duration": 19,
    "start_time": "2025-06-05T06:41:46.781Z"
   },
   {
    "duration": 14,
    "start_time": "2025-06-05T06:41:46.802Z"
   },
   {
    "duration": 12,
    "start_time": "2025-06-05T06:41:46.818Z"
   },
   {
    "duration": 17,
    "start_time": "2025-06-05T06:41:46.832Z"
   },
   {
    "duration": 36,
    "start_time": "2025-06-05T06:41:46.851Z"
   },
   {
    "duration": 17,
    "start_time": "2025-06-05T06:41:46.889Z"
   },
   {
    "duration": 15,
    "start_time": "2025-06-05T06:41:46.907Z"
   },
   {
    "duration": 6,
    "start_time": "2025-06-05T06:41:46.924Z"
   },
   {
    "duration": 6,
    "start_time": "2025-06-05T06:41:46.933Z"
   },
   {
    "duration": 8,
    "start_time": "2025-06-05T06:41:46.941Z"
   },
   {
    "duration": 30,
    "start_time": "2025-06-05T06:41:46.951Z"
   },
   {
    "duration": 23,
    "start_time": "2025-06-05T06:41:46.983Z"
   },
   {
    "duration": 6,
    "start_time": "2025-06-05T06:41:47.008Z"
   },
   {
    "duration": 29,
    "start_time": "2025-06-05T06:41:47.016Z"
   },
   {
    "duration": 7,
    "start_time": "2025-06-05T06:41:47.047Z"
   },
   {
    "duration": 200,
    "start_time": "2025-06-05T06:41:47.056Z"
   },
   {
    "duration": 18,
    "start_time": "2025-06-05T06:41:47.258Z"
   },
   {
    "duration": 14,
    "start_time": "2025-06-05T06:41:47.278Z"
   },
   {
    "duration": 102,
    "start_time": "2025-06-05T06:41:47.294Z"
   },
   {
    "duration": 194,
    "start_time": "2025-06-05T06:41:47.398Z"
   },
   {
    "duration": 197,
    "start_time": "2025-06-05T06:41:47.594Z"
   },
   {
    "duration": 195,
    "start_time": "2025-06-05T06:41:47.793Z"
   },
   {
    "duration": 6,
    "start_time": "2025-06-05T06:41:47.990Z"
   },
   {
    "duration": 299,
    "start_time": "2025-06-05T06:41:47.998Z"
   },
   {
    "duration": 198,
    "start_time": "2025-06-05T06:41:48.299Z"
   },
   {
    "duration": 201,
    "start_time": "2025-06-05T06:41:48.499Z"
   },
   {
    "duration": 11,
    "start_time": "2025-06-05T06:41:48.702Z"
   },
   {
    "duration": 41,
    "start_time": "2025-06-05T06:41:48.714Z"
   },
   {
    "duration": 15,
    "start_time": "2025-06-05T06:41:48.757Z"
   },
   {
    "duration": 15,
    "start_time": "2025-06-05T06:41:48.774Z"
   },
   {
    "duration": 12,
    "start_time": "2025-06-05T06:41:48.792Z"
   },
   {
    "duration": 15,
    "start_time": "2025-06-05T06:41:48.806Z"
   },
   {
    "duration": 57,
    "start_time": "2025-06-05T06:41:48.822Z"
   },
   {
    "duration": 9,
    "start_time": "2025-06-05T06:41:48.880Z"
   },
   {
    "duration": 7,
    "start_time": "2025-06-05T06:41:48.891Z"
   },
   {
    "duration": 5,
    "start_time": "2025-06-05T06:41:48.902Z"
   },
   {
    "duration": 215,
    "start_time": "2025-06-05T06:41:48.909Z"
   },
   {
    "duration": 6,
    "start_time": "2025-06-05T06:41:49.126Z"
   },
   {
    "duration": 227,
    "start_time": "2025-06-05T06:41:49.134Z"
   },
   {
    "duration": 14,
    "start_time": "2025-06-05T06:41:49.363Z"
   },
   {
    "duration": 203,
    "start_time": "2025-06-05T06:41:49.378Z"
   },
   {
    "duration": 6,
    "start_time": "2025-06-05T06:41:49.583Z"
   },
   {
    "duration": 188,
    "start_time": "2025-06-05T06:41:49.590Z"
   },
   {
    "duration": 6,
    "start_time": "2025-06-05T06:41:49.780Z"
   },
   {
    "duration": 106,
    "start_time": "2025-06-05T06:41:49.788Z"
   },
   {
    "duration": 16,
    "start_time": "2025-06-05T06:41:49.896Z"
   },
   {
    "duration": 26,
    "start_time": "2025-06-05T06:41:49.913Z"
   },
   {
    "duration": 60,
    "start_time": "2025-06-05T06:41:49.941Z"
   },
   {
    "duration": 125,
    "start_time": "2025-06-05T06:41:50.003Z"
   },
   {
    "duration": 8,
    "start_time": "2025-06-05T06:41:50.130Z"
   },
   {
    "duration": 228,
    "start_time": "2025-06-05T06:41:50.140Z"
   },
   {
    "duration": 20,
    "start_time": "2025-06-05T06:41:50.369Z"
   },
   {
    "duration": 44,
    "start_time": "2025-06-05T06:41:50.390Z"
   },
   {
    "duration": 10,
    "start_time": "2025-06-05T06:41:50.436Z"
   },
   {
    "duration": 22,
    "start_time": "2025-06-05T06:41:50.448Z"
   },
   {
    "duration": 9,
    "start_time": "2025-06-05T06:41:50.471Z"
   },
   {
    "duration": 32,
    "start_time": "2025-06-05T06:41:50.482Z"
   },
   {
    "duration": 34,
    "start_time": "2025-06-05T06:41:50.517Z"
   },
   {
    "duration": 34,
    "start_time": "2025-06-05T06:41:50.553Z"
   },
   {
    "duration": 29,
    "start_time": "2025-06-05T06:41:50.589Z"
   },
   {
    "duration": 568,
    "start_time": "2025-06-05T06:41:50.620Z"
   },
   {
    "duration": 3,
    "start_time": "2025-06-05T06:41:51.190Z"
   },
   {
    "duration": 15,
    "start_time": "2025-06-05T06:41:51.195Z"
   },
   {
    "duration": 24,
    "start_time": "2025-06-05T06:41:51.212Z"
   },
   {
    "duration": 8,
    "start_time": "2025-06-05T06:41:51.238Z"
   },
   {
    "duration": 18,
    "start_time": "2025-06-05T06:41:51.248Z"
   },
   {
    "duration": 10,
    "start_time": "2025-06-05T06:41:51.268Z"
   },
   {
    "duration": 10,
    "start_time": "2025-06-05T06:41:51.280Z"
   },
   {
    "duration": 15,
    "start_time": "2025-06-05T06:41:51.292Z"
   },
   {
    "duration": 7,
    "start_time": "2025-06-05T06:41:51.309Z"
   },
   {
    "duration": 7,
    "start_time": "2025-06-05T06:41:51.318Z"
   },
   {
    "duration": 7,
    "start_time": "2025-06-05T06:41:51.326Z"
   },
   {
    "duration": 10,
    "start_time": "2025-06-05T06:41:51.335Z"
   },
   {
    "duration": 668,
    "start_time": "2025-06-05T06:59:50.896Z"
   },
   {
    "duration": 30,
    "start_time": "2025-06-05T06:59:51.567Z"
   },
   {
    "duration": 13,
    "start_time": "2025-06-05T06:59:51.599Z"
   },
   {
    "duration": 31,
    "start_time": "2025-06-05T06:59:51.614Z"
   },
   {
    "duration": 9,
    "start_time": "2025-06-05T06:59:51.648Z"
   },
   {
    "duration": 48,
    "start_time": "2025-06-05T06:59:51.658Z"
   },
   {
    "duration": 12,
    "start_time": "2025-06-05T06:59:51.707Z"
   },
   {
    "duration": 10,
    "start_time": "2025-06-05T06:59:51.721Z"
   },
   {
    "duration": 22,
    "start_time": "2025-06-05T06:59:51.732Z"
   },
   {
    "duration": 40,
    "start_time": "2025-06-05T06:59:51.756Z"
   },
   {
    "duration": 29,
    "start_time": "2025-06-05T06:59:51.797Z"
   },
   {
    "duration": 64,
    "start_time": "2025-06-05T06:59:51.828Z"
   },
   {
    "duration": 35,
    "start_time": "2025-06-05T06:59:51.893Z"
   },
   {
    "duration": 5,
    "start_time": "2025-06-05T06:59:51.931Z"
   },
   {
    "duration": 36,
    "start_time": "2025-06-05T06:59:51.938Z"
   },
   {
    "duration": 28,
    "start_time": "2025-06-05T06:59:51.976Z"
   },
   {
    "duration": 27,
    "start_time": "2025-06-05T06:59:52.007Z"
   },
   {
    "duration": 12,
    "start_time": "2025-06-05T06:59:52.037Z"
   },
   {
    "duration": 26,
    "start_time": "2025-06-05T06:59:52.051Z"
   },
   {
    "duration": 5,
    "start_time": "2025-06-05T06:59:52.079Z"
   },
   {
    "duration": 204,
    "start_time": "2025-06-05T06:59:52.085Z"
   },
   {
    "duration": 8,
    "start_time": "2025-06-05T06:59:52.291Z"
   },
   {
    "duration": 169,
    "start_time": "2025-06-05T06:59:52.302Z"
   },
   {
    "duration": 90,
    "start_time": "2025-06-05T06:59:52.473Z"
   },
   {
    "duration": 181,
    "start_time": "2025-06-05T06:59:52.564Z"
   },
   {
    "duration": 194,
    "start_time": "2025-06-05T06:59:52.746Z"
   },
   {
    "duration": 187,
    "start_time": "2025-06-05T06:59:52.941Z"
   },
   {
    "duration": 5,
    "start_time": "2025-06-05T06:59:53.130Z"
   },
   {
    "duration": 286,
    "start_time": "2025-06-05T06:59:53.137Z"
   },
   {
    "duration": 189,
    "start_time": "2025-06-05T06:59:53.425Z"
   },
   {
    "duration": 199,
    "start_time": "2025-06-05T06:59:53.615Z"
   },
   {
    "duration": 9,
    "start_time": "2025-06-05T06:59:53.816Z"
   },
   {
    "duration": 80,
    "start_time": "2025-06-05T06:59:53.827Z"
   },
   {
    "duration": 59,
    "start_time": "2025-06-05T06:59:53.909Z"
   },
   {
    "duration": 57,
    "start_time": "2025-06-05T06:59:53.970Z"
   },
   {
    "duration": 11,
    "start_time": "2025-06-05T06:59:54.029Z"
   },
   {
    "duration": 22,
    "start_time": "2025-06-05T06:59:54.042Z"
   },
   {
    "duration": 33,
    "start_time": "2025-06-05T06:59:54.066Z"
   },
   {
    "duration": 11,
    "start_time": "2025-06-05T06:59:54.101Z"
   },
   {
    "duration": 96,
    "start_time": "2025-06-05T06:59:54.114Z"
   },
   {
    "duration": 16,
    "start_time": "2025-06-05T06:59:54.216Z"
   },
   {
    "duration": 199,
    "start_time": "2025-06-05T06:59:54.234Z"
   },
   {
    "duration": 7,
    "start_time": "2025-06-05T06:59:54.435Z"
   },
   {
    "duration": 189,
    "start_time": "2025-06-05T06:59:54.444Z"
   },
   {
    "duration": 7,
    "start_time": "2025-06-05T06:59:54.635Z"
   },
   {
    "duration": 210,
    "start_time": "2025-06-05T06:59:54.644Z"
   },
   {
    "duration": 7,
    "start_time": "2025-06-05T06:59:54.856Z"
   },
   {
    "duration": 182,
    "start_time": "2025-06-05T06:59:54.877Z"
   },
   {
    "duration": 15,
    "start_time": "2025-06-05T06:59:55.061Z"
   },
   {
    "duration": 30,
    "start_time": "2025-06-05T06:59:55.078Z"
   },
   {
    "duration": 6,
    "start_time": "2025-06-05T06:59:55.110Z"
   },
   {
    "duration": 13,
    "start_time": "2025-06-05T06:59:55.117Z"
   },
   {
    "duration": 127,
    "start_time": "2025-06-05T06:59:55.132Z"
   },
   {
    "duration": 31,
    "start_time": "2025-06-05T06:59:55.261Z"
   },
   {
    "duration": 15,
    "start_time": "2025-06-05T06:59:55.293Z"
   },
   {
    "duration": 209,
    "start_time": "2025-06-05T06:59:55.309Z"
   },
   {
    "duration": 17,
    "start_time": "2025-06-05T06:59:55.520Z"
   },
   {
    "duration": 18,
    "start_time": "2025-06-05T06:59:55.538Z"
   },
   {
    "duration": 30,
    "start_time": "2025-06-05T06:59:55.558Z"
   },
   {
    "duration": 19,
    "start_time": "2025-06-05T06:59:55.590Z"
   },
   {
    "duration": 17,
    "start_time": "2025-06-05T06:59:55.610Z"
   },
   {
    "duration": 9,
    "start_time": "2025-06-05T06:59:55.629Z"
   },
   {
    "duration": 15,
    "start_time": "2025-06-05T06:59:55.640Z"
   },
   {
    "duration": 39,
    "start_time": "2025-06-05T06:59:55.656Z"
   },
   {
    "duration": 17,
    "start_time": "2025-06-05T06:59:55.697Z"
   },
   {
    "duration": 550,
    "start_time": "2025-06-05T06:59:55.715Z"
   },
   {
    "duration": 3,
    "start_time": "2025-06-05T06:59:56.267Z"
   },
   {
    "duration": 211,
    "start_time": "2025-06-05T06:59:56.271Z"
   },
   {
    "duration": 9,
    "start_time": "2025-06-05T06:59:56.484Z"
   },
   {
    "duration": 6,
    "start_time": "2025-06-05T06:59:56.494Z"
   },
   {
    "duration": 3,
    "start_time": "2025-06-05T06:59:56.502Z"
   },
   {
    "duration": 4,
    "start_time": "2025-06-05T06:59:56.507Z"
   },
   {
    "duration": 3,
    "start_time": "2025-06-05T06:59:56.516Z"
   },
   {
    "duration": 8,
    "start_time": "2025-06-05T06:59:56.520Z"
   },
   {
    "duration": 10,
    "start_time": "2025-06-05T06:59:56.530Z"
   },
   {
    "duration": 5,
    "start_time": "2025-06-05T06:59:56.542Z"
   },
   {
    "duration": 5,
    "start_time": "2025-06-05T06:59:56.577Z"
   },
   {
    "duration": 9,
    "start_time": "2025-06-05T06:59:56.584Z"
   },
   {
    "duration": 6,
    "start_time": "2025-06-05T07:00:41.521Z"
   },
   {
    "duration": 16,
    "start_time": "2025-06-05T07:03:26.345Z"
   },
   {
    "duration": 44,
    "start_time": "2025-06-05T12:37:13.977Z"
   },
   {
    "duration": 783,
    "start_time": "2025-06-05T12:37:17.991Z"
   },
   {
    "duration": 29,
    "start_time": "2025-06-05T12:37:18.777Z"
   },
   {
    "duration": 11,
    "start_time": "2025-06-05T12:37:18.808Z"
   },
   {
    "duration": 27,
    "start_time": "2025-06-05T12:37:18.821Z"
   },
   {
    "duration": 7,
    "start_time": "2025-06-05T12:37:18.850Z"
   },
   {
    "duration": 23,
    "start_time": "2025-06-05T12:37:18.858Z"
   },
   {
    "duration": 12,
    "start_time": "2025-06-05T12:37:18.882Z"
   },
   {
    "duration": 16,
    "start_time": "2025-06-05T12:37:18.895Z"
   },
   {
    "duration": 15,
    "start_time": "2025-06-05T12:37:18.913Z"
   },
   {
    "duration": 9,
    "start_time": "2025-06-05T12:37:18.931Z"
   },
   {
    "duration": 16,
    "start_time": "2025-06-05T12:37:18.941Z"
   },
   {
    "duration": 13,
    "start_time": "2025-06-05T12:37:18.959Z"
   },
   {
    "duration": 12,
    "start_time": "2025-06-05T12:37:18.974Z"
   },
   {
    "duration": 5,
    "start_time": "2025-06-05T12:37:18.987Z"
   },
   {
    "duration": 25,
    "start_time": "2025-06-05T12:37:18.993Z"
   },
   {
    "duration": 16,
    "start_time": "2025-06-05T12:37:19.019Z"
   },
   {
    "duration": 26,
    "start_time": "2025-06-05T12:37:19.036Z"
   },
   {
    "duration": 5,
    "start_time": "2025-06-05T12:37:19.063Z"
   },
   {
    "duration": 22,
    "start_time": "2025-06-05T12:37:19.069Z"
   },
   {
    "duration": 21,
    "start_time": "2025-06-05T12:37:19.092Z"
   },
   {
    "duration": 4,
    "start_time": "2025-06-05T12:37:19.115Z"
   },
   {
    "duration": 167,
    "start_time": "2025-06-05T12:37:19.121Z"
   },
   {
    "duration": 6,
    "start_time": "2025-06-05T12:37:19.289Z"
   },
   {
    "duration": 16,
    "start_time": "2025-06-05T12:37:19.298Z"
   },
   {
    "duration": 73,
    "start_time": "2025-06-05T12:37:19.316Z"
   },
   {
    "duration": 166,
    "start_time": "2025-06-05T12:37:19.390Z"
   },
   {
    "duration": 165,
    "start_time": "2025-06-05T12:37:19.558Z"
   },
   {
    "duration": 160,
    "start_time": "2025-06-05T12:37:19.726Z"
   },
   {
    "duration": 14,
    "start_time": "2025-06-05T12:37:19.888Z"
   },
   {
    "duration": 166,
    "start_time": "2025-06-05T12:37:19.903Z"
   },
   {
    "duration": 160,
    "start_time": "2025-06-05T12:37:20.071Z"
   },
   {
    "duration": 167,
    "start_time": "2025-06-05T12:37:20.233Z"
   },
   {
    "duration": 9,
    "start_time": "2025-06-05T12:37:20.401Z"
   },
   {
    "duration": 15,
    "start_time": "2025-06-05T12:37:20.412Z"
   },
   {
    "duration": 12,
    "start_time": "2025-06-05T12:37:20.428Z"
   },
   {
    "duration": 17,
    "start_time": "2025-06-05T12:37:20.441Z"
   },
   {
    "duration": 9,
    "start_time": "2025-06-05T12:37:20.459Z"
   },
   {
    "duration": 37,
    "start_time": "2025-06-05T12:37:20.470Z"
   },
   {
    "duration": 29,
    "start_time": "2025-06-05T12:37:20.509Z"
   },
   {
    "duration": 87,
    "start_time": "2025-06-05T12:37:20.539Z"
   },
   {
    "duration": 21,
    "start_time": "2025-06-05T12:37:20.627Z"
   },
   {
    "duration": 27,
    "start_time": "2025-06-05T12:37:20.649Z"
   },
   {
    "duration": 250,
    "start_time": "2025-06-05T12:37:20.677Z"
   },
   {
    "duration": 5,
    "start_time": "2025-06-05T12:37:20.928Z"
   },
   {
    "duration": 175,
    "start_time": "2025-06-05T12:37:20.934Z"
   },
   {
    "duration": 5,
    "start_time": "2025-06-05T12:37:21.111Z"
   },
   {
    "duration": 177,
    "start_time": "2025-06-05T12:37:21.117Z"
   },
   {
    "duration": 6,
    "start_time": "2025-06-05T12:37:21.295Z"
   },
   {
    "duration": 165,
    "start_time": "2025-06-05T12:37:21.302Z"
   },
   {
    "duration": 5,
    "start_time": "2025-06-05T12:37:21.468Z"
   },
   {
    "duration": 38,
    "start_time": "2025-06-05T12:37:21.474Z"
   },
   {
    "duration": 53,
    "start_time": "2025-06-05T12:37:21.513Z"
   },
   {
    "duration": 37,
    "start_time": "2025-06-05T12:37:21.567Z"
   },
   {
    "duration": 39,
    "start_time": "2025-06-05T12:37:21.606Z"
   },
   {
    "duration": 27,
    "start_time": "2025-06-05T12:37:21.646Z"
   },
   {
    "duration": 15,
    "start_time": "2025-06-05T12:37:21.674Z"
   },
   {
    "duration": 205,
    "start_time": "2025-06-05T12:37:21.690Z"
   },
   {
    "duration": 18,
    "start_time": "2025-06-05T12:37:21.898Z"
   },
   {
    "duration": 129,
    "start_time": "2025-06-05T12:37:21.917Z"
   },
   {
    "duration": 103,
    "start_time": "2025-06-05T12:37:22.048Z"
   },
   {
    "duration": 76,
    "start_time": "2025-06-05T12:37:22.153Z"
   },
   {
    "duration": 12,
    "start_time": "2025-06-05T12:37:22.230Z"
   },
   {
    "duration": 21,
    "start_time": "2025-06-05T12:37:22.243Z"
   },
   {
    "duration": 26,
    "start_time": "2025-06-05T12:37:22.265Z"
   },
   {
    "duration": 6,
    "start_time": "2025-06-05T12:37:22.292Z"
   },
   {
    "duration": 4,
    "start_time": "2025-06-05T12:37:22.299Z"
   },
   {
    "duration": 487,
    "start_time": "2025-06-05T12:37:22.304Z"
   },
   {
    "duration": 3,
    "start_time": "2025-06-05T12:37:22.793Z"
   },
   {
    "duration": 21,
    "start_time": "2025-06-05T12:37:22.797Z"
   },
   {
    "duration": 17,
    "start_time": "2025-06-05T12:37:22.820Z"
   },
   {
    "duration": 32,
    "start_time": "2025-06-05T12:37:22.839Z"
   },
   {
    "duration": 11,
    "start_time": "2025-06-05T12:37:22.873Z"
   },
   {
    "duration": 8,
    "start_time": "2025-06-05T12:37:22.885Z"
   },
   {
    "duration": 4,
    "start_time": "2025-06-05T12:37:22.895Z"
   },
   {
    "duration": 6,
    "start_time": "2025-06-05T12:37:22.900Z"
   },
   {
    "duration": 7,
    "start_time": "2025-06-05T12:37:22.907Z"
   },
   {
    "duration": 24,
    "start_time": "2025-06-05T12:37:22.916Z"
   },
   {
    "duration": 37,
    "start_time": "2025-06-05T12:37:22.942Z"
   },
   {
    "duration": 5,
    "start_time": "2025-06-05T12:37:22.980Z"
   },
   {
    "duration": 6,
    "start_time": "2025-06-05T12:38:47.440Z"
   },
   {
    "duration": 772,
    "start_time": "2025-06-05T17:40:23.517Z"
   },
   {
    "duration": 42,
    "start_time": "2025-06-05T17:40:24.291Z"
   },
   {
    "duration": 62,
    "start_time": "2025-06-05T17:40:24.335Z"
   },
   {
    "duration": 17,
    "start_time": "2025-06-05T17:40:24.450Z"
   },
   {
    "duration": 44,
    "start_time": "2025-06-05T17:40:24.469Z"
   },
   {
    "duration": 14,
    "start_time": "2025-06-05T17:40:24.515Z"
   },
   {
    "duration": 7,
    "start_time": "2025-06-05T17:40:24.531Z"
   },
   {
    "duration": 12,
    "start_time": "2025-06-05T17:40:24.539Z"
   },
   {
    "duration": 9,
    "start_time": "2025-06-05T17:40:24.553Z"
   },
   {
    "duration": 42,
    "start_time": "2025-06-05T17:40:24.563Z"
   },
   {
    "duration": 7,
    "start_time": "2025-06-05T17:40:24.607Z"
   },
   {
    "duration": 12,
    "start_time": "2025-06-05T17:40:24.619Z"
   },
   {
    "duration": 29,
    "start_time": "2025-06-05T17:40:24.634Z"
   },
   {
    "duration": 8,
    "start_time": "2025-06-05T17:40:24.665Z"
   },
   {
    "duration": 46,
    "start_time": "2025-06-05T17:40:24.675Z"
   },
   {
    "duration": 7,
    "start_time": "2025-06-05T17:40:24.723Z"
   },
   {
    "duration": 6,
    "start_time": "2025-06-05T17:40:24.732Z"
   },
   {
    "duration": 114,
    "start_time": "2025-06-05T17:40:24.740Z"
   },
   {
    "duration": 20,
    "start_time": "2025-06-05T17:40:24.856Z"
   },
   {
    "duration": 254,
    "start_time": "2025-06-05T17:40:24.878Z"
   },
   {
    "duration": 8,
    "start_time": "2025-06-05T17:40:25.133Z"
   },
   {
    "duration": 25,
    "start_time": "2025-06-05T17:40:25.142Z"
   },
   {
    "duration": 106,
    "start_time": "2025-06-05T17:40:25.169Z"
   },
   {
    "duration": 209,
    "start_time": "2025-06-05T17:40:25.277Z"
   },
   {
    "duration": 209,
    "start_time": "2025-06-05T17:40:25.487Z"
   },
   {
    "duration": 199,
    "start_time": "2025-06-05T17:40:25.698Z"
   },
   {
    "duration": 8,
    "start_time": "2025-06-05T17:40:25.904Z"
   },
   {
    "duration": 278,
    "start_time": "2025-06-05T17:40:25.914Z"
   },
   {
    "duration": 223,
    "start_time": "2025-06-05T17:40:26.194Z"
   },
   {
    "duration": 226,
    "start_time": "2025-06-05T17:40:26.420Z"
   },
   {
    "duration": 13,
    "start_time": "2025-06-05T17:40:26.647Z"
   },
   {
    "duration": 14,
    "start_time": "2025-06-05T17:40:26.662Z"
   },
   {
    "duration": 32,
    "start_time": "2025-06-05T17:40:26.678Z"
   },
   {
    "duration": 26,
    "start_time": "2025-06-05T17:40:26.712Z"
   },
   {
    "duration": 12,
    "start_time": "2025-06-05T17:40:26.740Z"
   },
   {
    "duration": 108,
    "start_time": "2025-06-05T17:40:26.754Z"
   },
   {
    "duration": 66,
    "start_time": "2025-06-05T17:40:26.863Z"
   },
   {
    "duration": 11,
    "start_time": "2025-06-05T17:40:26.931Z"
   },
   {
    "duration": 27,
    "start_time": "2025-06-05T17:40:26.946Z"
   },
   {
    "duration": 11,
    "start_time": "2025-06-05T17:40:26.974Z"
   },
   {
    "duration": 245,
    "start_time": "2025-06-05T17:40:26.987Z"
   },
   {
    "duration": 6,
    "start_time": "2025-06-05T17:40:27.234Z"
   },
   {
    "duration": 212,
    "start_time": "2025-06-05T17:40:27.242Z"
   },
   {
    "duration": 7,
    "start_time": "2025-06-05T17:40:27.456Z"
   },
   {
    "duration": 324,
    "start_time": "2025-06-05T17:40:27.465Z"
   },
   {
    "duration": 7,
    "start_time": "2025-06-05T17:40:27.791Z"
   },
   {
    "duration": 229,
    "start_time": "2025-06-05T17:40:27.800Z"
   },
   {
    "duration": 8,
    "start_time": "2025-06-05T17:40:28.032Z"
   },
   {
    "duration": 42,
    "start_time": "2025-06-05T17:40:28.042Z"
   },
   {
    "duration": 6,
    "start_time": "2025-06-05T17:40:28.086Z"
   },
   {
    "duration": 22,
    "start_time": "2025-06-05T17:40:28.094Z"
   },
   {
    "duration": 49,
    "start_time": "2025-06-05T17:40:28.118Z"
   },
   {
    "duration": 10,
    "start_time": "2025-06-05T17:40:28.169Z"
   },
   {
    "duration": 4,
    "start_time": "2025-06-05T17:40:28.180Z"
   },
   {
    "duration": 280,
    "start_time": "2025-06-05T17:40:28.185Z"
   },
   {
    "duration": 24,
    "start_time": "2025-06-05T17:40:28.467Z"
   },
   {
    "duration": 528,
    "start_time": "2025-06-05T17:40:28.505Z"
   },
   {
    "duration": 3,
    "start_time": "2025-06-05T17:40:29.034Z"
   },
   {
    "duration": 19,
    "start_time": "2025-06-05T17:40:29.039Z"
   },
   {
    "duration": 9,
    "start_time": "2025-06-05T17:40:29.060Z"
   },
   {
    "duration": 16,
    "start_time": "2025-06-05T17:40:29.072Z"
   },
   {
    "duration": 4,
    "start_time": "2025-06-05T17:40:29.091Z"
   },
   {
    "duration": 13,
    "start_time": "2025-06-05T17:40:29.107Z"
   },
   {
    "duration": 7,
    "start_time": "2025-06-05T17:40:29.123Z"
   },
   {
    "duration": 34,
    "start_time": "2025-06-05T17:40:29.133Z"
   },
   {
    "duration": 30,
    "start_time": "2025-06-05T17:40:29.169Z"
   },
   {
    "duration": 10,
    "start_time": "2025-06-05T17:40:29.201Z"
   },
   {
    "duration": 8,
    "start_time": "2025-06-05T17:40:29.213Z"
   },
   {
    "duration": 41,
    "start_time": "2025-06-05T17:40:29.223Z"
   },
   {
    "duration": 6,
    "start_time": "2025-06-05T17:41:57.725Z"
   },
   {
    "duration": 50,
    "start_time": "2025-06-18T21:39:28.819Z"
   },
   {
    "duration": 847,
    "start_time": "2025-06-18T21:39:33.115Z"
   },
   {
    "duration": 66,
    "start_time": "2025-06-18T21:39:33.965Z"
   },
   {
    "duration": 14,
    "start_time": "2025-06-18T21:39:34.033Z"
   },
   {
    "duration": 71,
    "start_time": "2025-06-18T21:39:34.050Z"
   },
   {
    "duration": 11,
    "start_time": "2025-06-18T21:39:34.122Z"
   },
   {
    "duration": 52,
    "start_time": "2025-06-18T21:39:34.135Z"
   },
   {
    "duration": 14,
    "start_time": "2025-06-18T21:39:34.189Z"
   },
   {
    "duration": 12,
    "start_time": "2025-06-18T21:39:34.205Z"
   },
   {
    "duration": 16,
    "start_time": "2025-06-18T21:39:34.219Z"
   },
   {
    "duration": 13,
    "start_time": "2025-06-18T21:39:34.238Z"
   },
   {
    "duration": 9,
    "start_time": "2025-06-18T21:39:34.253Z"
   },
   {
    "duration": 6,
    "start_time": "2025-06-18T21:39:34.264Z"
   },
   {
    "duration": 15,
    "start_time": "2025-06-18T21:39:34.272Z"
   },
   {
    "duration": 8,
    "start_time": "2025-06-18T21:39:34.289Z"
   },
   {
    "duration": 10,
    "start_time": "2025-06-18T21:39:34.299Z"
   },
   {
    "duration": 43,
    "start_time": "2025-06-18T21:39:34.311Z"
   },
   {
    "duration": 102,
    "start_time": "2025-06-18T21:39:34.356Z"
   },
   {
    "duration": 6,
    "start_time": "2025-06-18T21:39:34.460Z"
   },
   {
    "duration": 6,
    "start_time": "2025-06-18T21:39:34.468Z"
   },
   {
    "duration": 6,
    "start_time": "2025-06-18T21:39:34.476Z"
   },
   {
    "duration": 6,
    "start_time": "2025-06-18T21:39:34.483Z"
   },
   {
    "duration": 223,
    "start_time": "2025-06-18T21:39:34.491Z"
   },
   {
    "duration": 7,
    "start_time": "2025-06-18T21:39:34.717Z"
   },
   {
    "duration": 21,
    "start_time": "2025-06-18T21:39:34.726Z"
   },
   {
    "duration": 168,
    "start_time": "2025-06-18T21:39:34.749Z"
   },
   {
    "duration": 191,
    "start_time": "2025-06-18T21:39:34.919Z"
   },
   {
    "duration": 206,
    "start_time": "2025-06-18T21:39:35.112Z"
   },
   {
    "duration": 204,
    "start_time": "2025-06-18T21:39:35.323Z"
   },
   {
    "duration": 6,
    "start_time": "2025-06-18T21:39:35.529Z"
   },
   {
    "duration": 232,
    "start_time": "2025-06-18T21:39:35.537Z"
   },
   {
    "duration": 233,
    "start_time": "2025-06-18T21:39:35.771Z"
   },
   {
    "duration": 207,
    "start_time": "2025-06-18T21:39:36.006Z"
   },
   {
    "duration": 10,
    "start_time": "2025-06-18T21:39:36.215Z"
   },
   {
    "duration": 12,
    "start_time": "2025-06-18T21:39:36.227Z"
   },
   {
    "duration": 32,
    "start_time": "2025-06-18T21:39:36.241Z"
   },
   {
    "duration": 19,
    "start_time": "2025-06-18T21:39:36.274Z"
   },
   {
    "duration": 15,
    "start_time": "2025-06-18T21:39:36.295Z"
   },
   {
    "duration": 140,
    "start_time": "2025-06-18T21:39:36.312Z"
   },
   {
    "duration": 25,
    "start_time": "2025-06-18T21:39:36.454Z"
   },
   {
    "duration": 10,
    "start_time": "2025-06-18T21:39:36.481Z"
   },
   {
    "duration": 9,
    "start_time": "2025-06-18T21:39:36.493Z"
   },
   {
    "duration": 12,
    "start_time": "2025-06-18T21:39:36.504Z"
   },
   {
    "duration": 229,
    "start_time": "2025-06-18T21:39:36.518Z"
   },
   {
    "duration": 16,
    "start_time": "2025-06-18T21:39:36.748Z"
   },
   {
    "duration": 246,
    "start_time": "2025-06-18T21:39:36.766Z"
   },
   {
    "duration": 7,
    "start_time": "2025-06-18T21:39:37.014Z"
   },
   {
    "duration": 223,
    "start_time": "2025-06-18T21:39:37.022Z"
   },
   {
    "duration": 17,
    "start_time": "2025-06-18T21:39:37.246Z"
   },
   {
    "duration": 195,
    "start_time": "2025-06-18T21:39:37.265Z"
   },
   {
    "duration": 6,
    "start_time": "2025-06-18T21:39:37.462Z"
   },
   {
    "duration": 22,
    "start_time": "2025-06-18T21:39:37.470Z"
   },
   {
    "duration": 6,
    "start_time": "2025-06-18T21:39:37.494Z"
   },
   {
    "duration": 11,
    "start_time": "2025-06-18T21:39:37.501Z"
   },
   {
    "duration": 55,
    "start_time": "2025-06-18T21:39:37.513Z"
   },
   {
    "duration": 10,
    "start_time": "2025-06-18T21:39:37.570Z"
   },
   {
    "duration": 4,
    "start_time": "2025-06-18T21:39:37.582Z"
   },
   {
    "duration": 244,
    "start_time": "2025-06-18T21:39:37.588Z"
   },
   {
    "duration": 28,
    "start_time": "2025-06-18T21:39:37.834Z"
   },
   {
    "duration": 516,
    "start_time": "2025-06-18T21:39:37.863Z"
   },
   {
    "duration": 2,
    "start_time": "2025-06-18T21:39:38.381Z"
   },
   {
    "duration": 56,
    "start_time": "2025-06-18T21:39:38.385Z"
   },
   {
    "duration": 24,
    "start_time": "2025-06-18T21:39:38.443Z"
   },
   {
    "duration": 6,
    "start_time": "2025-06-18T21:39:38.469Z"
   },
   {
    "duration": 3,
    "start_time": "2025-06-18T21:39:38.477Z"
   },
   {
    "duration": 4,
    "start_time": "2025-06-18T21:39:38.482Z"
   },
   {
    "duration": 3,
    "start_time": "2025-06-18T21:39:38.488Z"
   },
   {
    "duration": 5,
    "start_time": "2025-06-18T21:39:38.492Z"
   },
   {
    "duration": 5,
    "start_time": "2025-06-18T21:39:38.499Z"
   },
   {
    "duration": 10,
    "start_time": "2025-06-18T21:39:38.508Z"
   },
   {
    "duration": 5,
    "start_time": "2025-06-18T21:39:38.519Z"
   },
   {
    "duration": 7,
    "start_time": "2025-06-18T21:39:38.559Z"
   }
  ],
  "kernelspec": {
   "display_name": "Python 3 (ipykernel)",
   "language": "python",
   "name": "python3"
  },
  "language_info": {
   "codemirror_mode": {
    "name": "ipython",
    "version": 3
   },
   "file_extension": ".py",
   "mimetype": "text/x-python",
   "name": "python",
   "nbconvert_exporter": "python",
   "pygments_lexer": "ipython3",
   "version": "3.9.5"
  },
  "toc": {
   "base_numbering": 1,
   "nav_menu": {},
   "number_sections": true,
   "sideBar": true,
   "skip_h1_title": true,
   "title_cell": "Table of Contents",
   "title_sidebar": "Contents",
   "toc_cell": false,
   "toc_position": {},
   "toc_section_display": true,
   "toc_window_display": false
  }
 },
 "nbformat": 4,
 "nbformat_minor": 5
}
